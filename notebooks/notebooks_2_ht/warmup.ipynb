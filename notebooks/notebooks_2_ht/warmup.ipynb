{
 "cells": [
  {
   "cell_type": "markdown",
   "metadata": {},
   "source": [
    "# Пример, Kanji, критерий 1\n",
    "\n",
    "Линия по производству пудры должна обеспечивать средний вес пудры в\n",
    "упаковке 4 грамма, заявленное стандартное отклонение — 1 грамм.\n",
    "В ходе инспекции выбрано 9 упаковок, средний вес продукта в них составляет\n",
    "4.6 грамма.\n",
    "\n",
    "$H_0$: средний вес пудры в упаковке соответствует норме.\n",
    "\n",
    "$H_1$: средний вес пудры в упаковке не соответствует норме.\n",
    "\n",
    "```p=0.0719```"
   ]
  },
  {
   "cell_type": "code",
   "execution_count": null,
   "metadata": {},
   "outputs": [],
   "source": [
    "import numpy as np\n",
    "import scipy.stats as st\n",
    "import matplotlib.pylab as plt\n",
    "%matplotlib inline"
   ]
  },
  {
   "cell_type": "markdown",
   "metadata": {},
   "source": [
    "Проверим критерий \"вручную\":\n",
    "\n",
    "$Z = \\frac{\\bar{X}-\\mu}{\\sigma/\\sqrt{n}}.$\n",
    "\n",
    "$p(Z) = 2 \\bigl(1-F(|Z|)\\bigr).$"
   ]
  },
  {
   "cell_type": "code",
   "execution_count": null,
   "metadata": {},
   "outputs": [],
   "source": [
    "mu = 4\n",
    "std = 1\n",
    "n = 9\n",
    "mean = 4.6"
   ]
  },
  {
   "cell_type": "code",
   "execution_count": null,
   "metadata": {},
   "outputs": [],
   "source": [
    "Z = # ваш код\n",
    "Z"
   ]
  },
  {
   "cell_type": "code",
   "execution_count": null,
   "metadata": {},
   "outputs": [],
   "source": [
    "def F(Z):\n",
    "    return st.distributions.norm.cdf(Z)\n",
    "p =  # ваш код\n",
    "p"
   ]
  },
  {
   "cell_type": "markdown",
   "metadata": {},
   "source": [
    "Просэмплируем похожую выборку и проверим критерий с использованием библиотеки ```statsmodels```"
   ]
  },
  {
   "cell_type": "code",
   "execution_count": null,
   "metadata": {},
   "outputs": [],
   "source": [
    "rs = np.random.RandomState(5)\n",
    "X = rs.randn(n)*std + 4.3\n",
    "np.mean(X), np.std(X)\n"
   ]
  },
  {
   "cell_type": "code",
   "execution_count": null,
   "metadata": {},
   "outputs": [],
   "source": [
    "from statsmodels.stats.weightstats import ztest\n",
    "ztest(X, value=mu)"
   ]
  },
  {
   "cell_type": "markdown",
   "metadata": {},
   "source": [
    "# Кобзарь, задача 227\n",
    "\n",
    "Нормируемый уровень дефектных изделий в партии $p_0 = 0.05$. Среди 20 изделий\n",
    "партии проверка обнаружила 2 дефектных.\n",
    "\n",
    "$H_0$ : доля дефектных изделий в партии не выше нормы.\n",
    "\n",
    "$H_1$ : доля дефектных изделий в партии выше нормы.\n",
    "\n",
    "Для биномиального критерия ```p=0.2642```."
   ]
  },
  {
   "cell_type": "markdown",
   "metadata": {},
   "source": [
    "Проверим критерий \"вручную\":\n",
    "\n",
    "$T = \\sum X_i$\n",
    "\n",
    "$p(T) = 1 - F(T)$ "
   ]
  },
  {
   "cell_type": "code",
   "execution_count": null,
   "metadata": {},
   "outputs": [],
   "source": [
    "T = 2\n",
    "n = 20\n",
    "p = 0.05"
   ]
  },
  {
   "cell_type": "code",
   "execution_count": null,
   "metadata": {},
   "outputs": [],
   "source": [
    "# ваш код"
   ]
  },
  {
   "cell_type": "markdown",
   "metadata": {},
   "source": [
    "Проверим критерий с использованием библиотеки ```scipy``` и ```statsmodels```."
   ]
  },
  {
   "cell_type": "code",
   "execution_count": null,
   "metadata": {},
   "outputs": [],
   "source": [
    "st.binom_test(T, n, p)"
   ]
  },
  {
   "cell_type": "code",
   "execution_count": null,
   "metadata": {},
   "outputs": [],
   "source": [
    "from statsmodels.stats.proportion import binom_test"
   ]
  },
  {
   "cell_type": "code",
   "execution_count": null,
   "metadata": {},
   "outputs": [],
   "source": [
    "binom_test(T, n, p)"
   ]
  },
  {
   "cell_type": "markdown",
   "metadata": {},
   "source": [
    "# Антиконсервативность интервалов доверия"
   ]
  },
  {
   "cell_type": "markdown",
   "metadata": {},
   "source": [
    "Построим график попадания параметра распределения Бернулли в 95%-доверительный интервал."
   ]
  },
  {
   "cell_type": "code",
   "execution_count": null,
   "metadata": {},
   "outputs": [],
   "source": [
    "from statsmodels.stats.proportion import proportion_confint\n",
    "N_exp = 100\n",
    "n = 40\n",
    "p_array =  np.arange(0.05,0.95,0.01)"
   ]
  },
  {
   "cell_type": "code",
   "execution_count": null,
   "metadata": {},
   "outputs": [],
   "source": [
    "plot_Y = []\n",
    "for p in p_array:\n",
    "    \n",
    "    success = 0\n",
    "    for _ in range(N_exp):\n",
    "        X = np.random.binomial(n, p)\n",
    "        \n",
    "        left, right =  (proportion_confint(X, n))\n",
    "        if left<=p<=right:\n",
    "            success+=1.0\n",
    "    plot_Y.append(success/N_exp)\n",
    "plt.plot(p_array, plot_Y)\n",
    "plt.plot([0,1], [0.95, 0.95], ls='--')"
   ]
  },
  {
   "cell_type": "code",
   "execution_count": null,
   "metadata": {},
   "outputs": [],
   "source": [
    "plot_Y = []\n",
    "for p in p_array:\n",
    "    \n",
    "    success = 0\n",
    "    for _ in range(N_exp):\n",
    "        X = np.random.binomial(n, p)\n",
    "        \n",
    "        left, right =  (proportion_confint(X, n, method='beta'))\n",
    "        if left<=p<=right:\n",
    "            success+=1\n",
    "    plot_Y.append(success/N_exp)\n",
    "plt.plot(p_array, plot_Y)\n",
    "plt.plot([0,1], [0.95, 0.95], ls='--')"
   ]
  },
  {
   "cell_type": "markdown",
   "metadata": {},
   "source": [
    "# Бонд, продолжение\n",
    "\n",
    "Пусть Бонд выбрал взболтанный мартини в 12 случаев из 16.\n",
    "\n",
    "Требуется:\n",
    "1. Проверить гипотезу о равнозначности мартини методами ```binom_test```, ```proportions_chisquare```, \n",
    "```proportions_ztest```.\n",
    "\n",
    "\n",
    "2. Провести симуляцию, построить зависимость pow от истинного значения p для выборок мощностью 5, 10, 20, 100, 1000 для разных методов.\n",
    "\n",
    "3. Провести симуляцию, построить зависимость ошибки первого рода от проверяемого значения $p_0$ при истинном значении p=0.5 для разных методов и мощностей выборки."
   ]
  },
  {
   "cell_type": "code",
   "execution_count": null,
   "metadata": {},
   "outputs": [],
   "source": [
    "# ваш код"
   ]
  }
 ],
 "metadata": {
  "kernelspec": {
   "display_name": "Python 3",
   "language": "python",
   "name": "python3"
  },
  "language_info": {
   "codemirror_mode": {
    "name": "ipython",
    "version": 3
   },
   "file_extension": ".py",
   "mimetype": "text/x-python",
   "name": "python",
   "nbconvert_exporter": "python",
   "pygments_lexer": "ipython3",
   "version": "3.5.2"
  }
 },
 "nbformat": 4,
 "nbformat_minor": 2
}
