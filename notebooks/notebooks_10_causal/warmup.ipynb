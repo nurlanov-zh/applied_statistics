{
 "cells": [
  {
   "cell_type": "markdown",
   "metadata": {},
   "source": [
    "# Связь в линейной регрессии"
   ]
  },
  {
   "cell_type": "code",
   "execution_count": null,
   "metadata": {},
   "outputs": [],
   "source": [
    "import numpy as np\n",
    "import networkx as nx\n",
    "import matplotlib.pylab as plt\n",
    "%matplotlib inline"
   ]
  },
  {
   "cell_type": "markdown",
   "metadata": {},
   "source": [
    "Смоделируем зависимости,соответствующие типу Fork. Заметим, что здесь есть только одна переменная, которая является экзогенной (Z), то есть она не зависит ни от какой другой переменной в системе (не зависит от X, Y, эндогенных переменных).\n",
    "```\n",
    "Z->X, Z->Y, X->Y\n",
    "```"
   ]
  },
  {
   "cell_type": "code",
   "execution_count": null,
   "metadata": {},
   "outputs": [],
   "source": [
    "rs = np.random.RandomState(42)\n",
    "N = 10000\n",
    "Z = rs.randn(10000)\n",
    "X = 0.5*Z + rs.randn(10000) \n",
    "Y = 0.3*Z + 0.4*X + rs.randn(10000) "
   ]
  },
  {
   "cell_type": "markdown",
   "metadata": {},
   "source": [
    "Сделайте две регрессии Y ~ X, Y ~ Z + X. Что можно сказать о 95% доверительном интервале (confint) на коэффициент регрессии перед X в двух этих моделях?"
   ]
  },
  {
   "cell_type": "code",
   "execution_count": null,
   "metadata": {},
   "outputs": [],
   "source": [
    "from statsmodels.regression.linear_model import OLS\n",
    "l1 = OLS(Y,np.vstack([X,Z]).T).fit()\n",
    "l1.summary()"
   ]
  },
  {
   "cell_type": "code",
   "execution_count": null,
   "metadata": {},
   "outputs": [],
   "source": [
    "from statsmodels.regression.linear_model import OLS\n",
    "l1 = OLS(Y,np.vstack([X]).T).fit()\n",
    "l1.summary()"
   ]
  },
  {
   "cell_type": "markdown",
   "metadata": {},
   "source": [
    "Рассмотрим collider:\n",
    "```\n",
    "X -> Z\n",
    "X -> Y\n",
    "Y -> Z\n",
    "```"
   ]
  },
  {
   "cell_type": "code",
   "execution_count": null,
   "metadata": {},
   "outputs": [],
   "source": [
    "X = rs.randn(N)\n",
    "Y = 0.7*X + rs.randn(N)\n",
    "Z = 1.2*X + 0.6*Y+ rs.randn(N)"
   ]
  },
  {
   "cell_type": "code",
   "execution_count": null,
   "metadata": {},
   "outputs": [],
   "source": [
    "from statsmodels.regression.linear_model import OLS\n",
    "l1 = OLS(Y,np.vstack([X,Z]).T).fit()\n",
    "l1.summary()"
   ]
  },
  {
   "cell_type": "code",
   "execution_count": null,
   "metadata": {},
   "outputs": [],
   "source": [
    "from statsmodels.regression.linear_model import OLS\n",
    "l1 = OLS(Y,np.vstack([X]).T).fit()\n",
    "l1.summary()"
   ]
  },
  {
   "cell_type": "code",
   "execution_count": null,
   "metadata": {},
   "outputs": [],
   "source": []
  },
  {
   "cell_type": "markdown",
   "metadata": {},
   "source": [
    "# DAG’s"
   ]
  },
  {
   "cell_type": "code",
   "execution_count": null,
   "metadata": {},
   "outputs": [],
   "source": [
    "from causalgraphicalmodels import CausalGraphicalModel"
   ]
  },
  {
   "cell_type": "code",
   "execution_count": null,
   "metadata": {},
   "outputs": [],
   "source": [
    "G = CausalGraphicalModel(nodes=['X','Y','Z','W','T'], edges=[('X','Y'),\n",
    "('Y','Z'),\n",
    "('Z','T'),\n",
    "('X','W'),\n",
    "('W','Y'),\n",
    "('Y','T'),\n",
    "('W','T')])\n",
    "G.draw()"
   ]
  },
  {
   "cell_type": "markdown",
   "metadata": {},
   "source": [
    "Пути из X в T"
   ]
  },
  {
   "cell_type": "code",
   "execution_count": null,
   "metadata": {},
   "outputs": [],
   "source": [
    "list(nx.all_simple_paths(G.dag, 'X', 'T'))"
   ]
  },
  {
   "cell_type": "code",
   "execution_count": null,
   "metadata": {},
   "outputs": [],
   "source": [
    "list(nx.all_simple_paths(G.dag.to_undirected(), 'X', 'T'))"
   ]
  },
  {
   "cell_type": "code",
   "execution_count": null,
   "metadata": {},
   "outputs": [],
   "source": [
    "G.get_all_independence_relationships()"
   ]
  },
  {
   "cell_type": "code",
   "execution_count": null,
   "metadata": {},
   "outputs": [],
   "source": [
    "G.get_distribution()"
   ]
  },
  {
   "cell_type": "code",
   "execution_count": null,
   "metadata": {},
   "outputs": [],
   "source": [
    "G.do('W').draw()"
   ]
  },
  {
   "cell_type": "code",
   "execution_count": null,
   "metadata": {},
   "outputs": [],
   "source": [
    "G.draw()"
   ]
  },
  {
   "cell_type": "code",
   "execution_count": null,
   "metadata": {},
   "outputs": [],
   "source": [
    "G.get_all_backdoor_adjustment_sets('Y','X')"
   ]
  },
  {
   "cell_type": "code",
   "execution_count": null,
   "metadata": {},
   "outputs": [],
   "source": [
    "G.get_all_frontdoor_adjustment_sets('Y','X')"
   ]
  },
  {
   "cell_type": "markdown",
   "metadata": {},
   "source": [
    "# Inductive search"
   ]
  },
  {
   "cell_type": "markdown",
   "metadata": {},
   "source": [
    "Допустим, у нас есть несколько событий:\n",
    "\n",
    "1. Продажа мороженного (ICE)\n",
    "2. Количество преступлений (CRIMES)\n",
    "3. Количество полицейских на тысячу человек (POLICE)\n",
    "4. Средняя температура (TEMP)\n",
    "5. Количество скачиваний браузера IE (IE)\n",
    "6. Количество зараженных компьютеров (COMP)\n",
    "7. Уровень загрязнения воздуха (AIR)"
   ]
  },
  {
   "cell_type": "code",
   "execution_count": null,
   "metadata": {},
   "outputs": [],
   "source": [
    "G = CausalGraphicalModel(nodes=['ICE','CRIMES','POLICE', 'TEMP','IE','COMP', 'AIR'], \n",
    "edges=[('TEMP','ICE'),  ('TEMP','CRIMES'), ('IE','COMP'), ('POLICE', 'CRIMES')])\n",
    "G.draw()"
   ]
  },
  {
   "cell_type": "code",
   "execution_count": null,
   "metadata": {},
   "outputs": [],
   "source": [
    "from causality.inference.search import IC\n",
    "from causality.inference.independence_tests import MutualInformationTest\n",
    "import pandas as pd\n",
    "import seaborn as sns\n"
   ]
  },
  {
   "cell_type": "code",
   "execution_count": null,
   "metadata": {},
   "outputs": [],
   "source": [
    "police = rs.uniform(low=1, high=100, size=1000)\n",
    "temp = rs.uniform(low=-40, high=40, size=1000)\n",
    "air = rs.uniform(size=1000)\n",
    "crimes = (temp+40)*1.0/police\n",
    "ice = temp+40\n",
    "ie = rs.uniform(size=1000)\n",
    "comp = ie**2\n",
    "dataframe = pd.DataFrame({'police':police, 'temp':temp, 'air':air, 'crimes':crimes, 'ice':ice, 'ie':ie, 'comp':comp})\n",
    "sns.pairplot(dataframe)"
   ]
  },
  {
   "cell_type": "code",
   "execution_count": null,
   "metadata": {},
   "outputs": [],
   "source": [
    "import statsmodels.api as sm\n",
    "class OLS_test():\n",
    "    def __init__(self, y, x, z, data, alpha):\n",
    "        self.regression = sm.OLS.from_formula('{0}~{1}'.format(y[0], u'+'.join(x+z)),dataframe)\n",
    "        self.result = self.regression.fit()\n",
    "        self.x = x\n",
    "        self.y = y\n",
    "        self.z = z\n",
    "        self.alpha = alpha\n",
    "    def independent(self):        \n",
    "        to_fisher = u' '.join([x_+'=0' for x_ in self.x])\n",
    "        return self.result.f_test(to_fisher).pvalue>self.alpha"
   ]
  },
  {
   "cell_type": "code",
   "execution_count": null,
   "metadata": {
    "scrolled": false
   },
   "outputs": [],
   "source": [
    "variable_types = {'police' : 'd', \n",
    "                  'temp' : 'd',\n",
    "                  'air' : 'c',\n",
    "                  'ice' : 'd',\n",
    "                  'crimes' : 'd',\n",
    "                 'ie':'c',\n",
    "                 'comp':'c'}\n",
    "\n",
    "ic_algorithm = IC(OLS_test, alpha=0.05)\n",
    "graph = ic_algorithm.search(dataframe, variable_types, )"
   ]
  },
  {
   "cell_type": "code",
   "execution_count": null,
   "metadata": {},
   "outputs": [],
   "source": [
    "nx.draw_networkx(graph)"
   ]
  },
  {
   "cell_type": "code",
   "execution_count": null,
   "metadata": {},
   "outputs": [],
   "source": [
    "for e in graph.edges(data=True):\n",
    "    print (e)"
   ]
  },
  {
   "cell_type": "markdown",
   "metadata": {},
   "source": [
    "# Задача про курение"
   ]
  },
  {
   "cell_type": "code",
   "execution_count": null,
   "metadata": {},
   "outputs": [],
   "source": [
    "smoke = []\n",
    "cancer = []\n",
    "tar = []\n",
    "\n",
    "smoke+=[1]*323\n",
    "cancer+=[0]*323\n",
    "tar+=[1]*323\n",
    "\n",
    "smoke+=[0]\n",
    "cancer+=[0]\n",
    "tar+=[1]\n",
    "\n",
    "smoke+=[1]*57\n",
    "cancer+=[1]*57\n",
    "tar+=[1]*57\n",
    "\n",
    "smoke+=[0]*19\n",
    "cancer+=[1]*19\n",
    "tar+=[1]*19\n",
    "\n",
    "\n",
    "smoke+=[1]*18\n",
    "cancer+=[0]*18\n",
    "tar+=[0]*18\n",
    "\n",
    "smoke+=[0]*38\n",
    "cancer+=[0]*38\n",
    "tar+=[0]*38\n",
    "\n",
    "smoke+=[1]*2\n",
    "cancer+=[1]*2\n",
    "tar+=[0]*2\n",
    "\n",
    "smoke+=[0]*342\n",
    "cancer+=[1]*342\n",
    "tar+=[0]*342\n",
    "\n",
    "dataframe = pd.DataFrame({'smoke':smoke, 'tar':tar, 'cancer':cancer})\n",
    "dataframe.sample(5)\n",
    "\n",
    "\n",
    "\n",
    "\n"
   ]
  },
  {
   "cell_type": "code",
   "execution_count": null,
   "metadata": {},
   "outputs": [],
   "source": [
    "sns.pairplot(dataframe)"
   ]
  },
  {
   "cell_type": "code",
   "execution_count": null,
   "metadata": {},
   "outputs": [],
   "source": [
    "g = nx.DiGraph()"
   ]
  },
  {
   "cell_type": "code",
   "execution_count": null,
   "metadata": {},
   "outputs": [],
   "source": [
    "g.add_nodes_from(['smoke','cancer','tar'])\n",
    "g.add_edges_from([('tar','cancer'),('smoke','tar')])\n"
   ]
  },
  {
   "cell_type": "code",
   "execution_count": null,
   "metadata": {},
   "outputs": [],
   "source": [
    "nx.draw_networkx(g)"
   ]
  },
  {
   "cell_type": "code",
   "execution_count": null,
   "metadata": {},
   "outputs": [],
   "source": [
    "from causality.estimation.adjustments import AdjustForDirectCauses\n",
    "from causality.estimation.nonparametric import CausalEffect\n",
    "adjustment = AdjustForDirectCauses()\n",
    "admissable_set = adjustment.admissable_set(g,['smoke'], ['cancer'])\n",
    "admissable_set"
   ]
  },
  {
   "cell_type": "code",
   "execution_count": null,
   "metadata": {},
   "outputs": [],
   "source": [
    "effect = CausalEffect(dataframe.sample(299), ['smoke'], ['cancer'], \n",
    "                      variable_types={'smoke':'u', 'cancer':'u', 'tar':'u'}, \n",
    "                      admissable_set=[])"
   ]
  },
  {
   "cell_type": "code",
   "execution_count": null,
   "metadata": {},
   "outputs": [],
   "source": [
    "smoke =  pd.DataFrame({'smoke' : [1],   'cancer':[1]})\n",
    "nsmoke =  pd.DataFrame({'smoke' : [0],  'cancer':[1]})"
   ]
  },
  {
   "cell_type": "code",
   "execution_count": null,
   "metadata": {},
   "outputs": [],
   "source": [
    "effect.pdf(smoke) - effect.pdf(nsmoke)"
   ]
  },
  {
   "cell_type": "code",
   "execution_count": null,
   "metadata": {},
   "outputs": [],
   "source": []
  },
  {
   "cell_type": "code",
   "execution_count": null,
   "metadata": {},
   "outputs": [],
   "source": []
  }
 ],
 "metadata": {
  "kernelspec": {
   "display_name": "Python 3",
   "language": "python",
   "name": "python3"
  },
  "language_info": {
   "codemirror_mode": {
    "name": "ipython",
    "version": 3
   },
   "file_extension": ".py",
   "mimetype": "text/x-python",
   "name": "python",
   "nbconvert_exporter": "python",
   "pygments_lexer": "ipython3",
   "version": "3.5.2"
  }
 },
 "nbformat": 4,
 "nbformat_minor": 2
}
