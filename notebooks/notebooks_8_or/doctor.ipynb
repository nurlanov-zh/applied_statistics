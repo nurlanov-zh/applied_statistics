{
 "cells": [
  {
   "cell_type": "markdown",
   "metadata": {},
   "source": [
    "# Число визитов к доктору\n",
    "\n",
    "Изучается функционирование системы здравоохранения Австралии. Для 1500 одиноких совершеннолетних граждан известны значения следующих показателей:\n",
    "\n",
    "* социоэкономические:\n",
    "    * пол\n",
    "    * возраст, лет;\n",
    "    * годовой доход, 10 тыс. долл.;\n",
    "* индикаторы наличия страховки различных типов: \n",
    "    * частной, государственной для малоимущих, государственной для пожилых, инвалидов и ветеранов;\n",
    "* краткосрочные характеристики здоровья:\n",
    "    * число визитов к доктору за последние две недели;\n",
    "    * число заболеваний за последние две недели;\n",
    "    * число дней сниженной активности в связи с заболеванием или травмой за последние две недели;\n",
    "* долгосрочные характеристики здоровья:\n",
    "    * оценка состояния здоровья по опроснику Голдберга;\n",
    "    * индикаторы наличия хронических заболеваний, ограничивающих и не ограничивающих активность.\n",
    "\n",
    "Требуется построить модель числа визитов к доктору в зависимости от остальных признаков."
   ]
  },
  {
   "cell_type": "code",
   "execution_count": 2,
   "metadata": {},
   "outputs": [],
   "source": [
    "import numpy as np\n",
    "import scipy.stats as st\n",
    "import matplotlib.pylab as plt\n",
    "%matplotlib inline\n",
    "import seaborn as sns\n",
    "import pandas as pd"
   ]
  },
  {
   "cell_type": "code",
   "execution_count": 9,
   "metadata": {},
   "outputs": [
    {
     "data": {
      "text/html": [
       "<div>\n",
       "<style scoped>\n",
       "    .dataframe tbody tr th:only-of-type {\n",
       "        vertical-align: middle;\n",
       "    }\n",
       "\n",
       "    .dataframe tbody tr th {\n",
       "        vertical-align: top;\n",
       "    }\n",
       "\n",
       "    .dataframe thead th {\n",
       "        text-align: right;\n",
       "    }\n",
       "</style>\n",
       "<table border=\"1\" class=\"dataframe\">\n",
       "  <thead>\n",
       "    <tr style=\"text-align: right;\">\n",
       "      <th></th>\n",
       "      <th>SEX</th>\n",
       "      <th>AGE</th>\n",
       "      <th>INCOME</th>\n",
       "      <th>LEVYPLUS</th>\n",
       "      <th>FREEPOOR</th>\n",
       "      <th>FREEREPA</th>\n",
       "      <th>ILLNESS</th>\n",
       "      <th>ACTDAYS</th>\n",
       "      <th>HSCORE</th>\n",
       "      <th>CHCOND1</th>\n",
       "      <th>CHCOND2</th>\n",
       "      <th>DVISITS</th>\n",
       "    </tr>\n",
       "  </thead>\n",
       "  <tbody>\n",
       "    <tr>\n",
       "      <th>0</th>\n",
       "      <td>f</td>\n",
       "      <td>22.000000</td>\n",
       "      <td>0.55</td>\n",
       "      <td>0</td>\n",
       "      <td>1</td>\n",
       "      <td>0</td>\n",
       "      <td>3</td>\n",
       "      <td>14</td>\n",
       "      <td>1</td>\n",
       "      <td>1</td>\n",
       "      <td>0</td>\n",
       "      <td>0</td>\n",
       "    </tr>\n",
       "    <tr>\n",
       "      <th>1</th>\n",
       "      <td>f</td>\n",
       "      <td>56.999999</td>\n",
       "      <td>0.25</td>\n",
       "      <td>1</td>\n",
       "      <td>0</td>\n",
       "      <td>0</td>\n",
       "      <td>0</td>\n",
       "      <td>0</td>\n",
       "      <td>0</td>\n",
       "      <td>0</td>\n",
       "      <td>0</td>\n",
       "      <td>0</td>\n",
       "    </tr>\n",
       "    <tr>\n",
       "      <th>2</th>\n",
       "      <td>f</td>\n",
       "      <td>56.999999</td>\n",
       "      <td>0.45</td>\n",
       "      <td>0</td>\n",
       "      <td>0</td>\n",
       "      <td>1</td>\n",
       "      <td>0</td>\n",
       "      <td>0</td>\n",
       "      <td>0</td>\n",
       "      <td>0</td>\n",
       "      <td>1</td>\n",
       "      <td>0</td>\n",
       "    </tr>\n",
       "    <tr>\n",
       "      <th>3</th>\n",
       "      <td>f</td>\n",
       "      <td>22.000000</td>\n",
       "      <td>0.45</td>\n",
       "      <td>1</td>\n",
       "      <td>0</td>\n",
       "      <td>0</td>\n",
       "      <td>0</td>\n",
       "      <td>0</td>\n",
       "      <td>0</td>\n",
       "      <td>0</td>\n",
       "      <td>0</td>\n",
       "      <td>0</td>\n",
       "    </tr>\n",
       "    <tr>\n",
       "      <th>4</th>\n",
       "      <td>m</td>\n",
       "      <td>41.999999</td>\n",
       "      <td>0.65</td>\n",
       "      <td>0</td>\n",
       "      <td>0</td>\n",
       "      <td>0</td>\n",
       "      <td>1</td>\n",
       "      <td>0</td>\n",
       "      <td>0</td>\n",
       "      <td>1</td>\n",
       "      <td>0</td>\n",
       "      <td>0</td>\n",
       "    </tr>\n",
       "  </tbody>\n",
       "</table>\n",
       "</div>"
      ],
      "text/plain": [
       "  SEX        AGE  INCOME  LEVYPLUS  FREEPOOR  FREEREPA  ILLNESS  ACTDAYS  \\\n",
       "0   f  22.000000    0.55         0         1         0        3       14   \n",
       "1   f  56.999999    0.25         1         0         0        0        0   \n",
       "2   f  56.999999    0.45         0         0         1        0        0   \n",
       "3   f  22.000000    0.45         1         0         0        0        0   \n",
       "4   m  41.999999    0.65         0         0         0        1        0   \n",
       "\n",
       "   HSCORE  CHCOND1  CHCOND2  DVISITS  \n",
       "0       1        1        0        0  \n",
       "1       0        0        0        0  \n",
       "2       0        0        1        0  \n",
       "3       0        0        0        0  \n",
       "4       0        1        0        0  "
      ]
     },
     "execution_count": 9,
     "metadata": {},
     "output_type": "execute_result"
    }
   ],
   "source": [
    "data = pd.read_csv('dvi.txt', delimiter=' ')\n",
    "data.head()"
   ]
  },
  {
   "cell_type": "code",
   "execution_count": 10,
   "metadata": {},
   "outputs": [
    {
     "data": {
      "text/plain": [
       "<seaborn.axisgrid.PairGrid at 0x7f98f642dfd0>"
      ]
     },
     "execution_count": 10,
     "metadata": {},
     "output_type": "execute_result"
    },
    {
     "data": {
      "image/png": "[encoded data removed]",
      "text/plain": [
       "<Figure size 1080x1080 with 42 Axes>"
      ]
     },
     "metadata": {
      "needs_background": "light"
     },
     "output_type": "display_data"
    }
   ],
   "source": [
    "sns.pairplot(data[['DVISITS', 'AGE', 'INCOME', 'ILLNESS', 'ACTDAYS', 'HSCORE']])"
   ]
  },
  {
   "cell_type": "code",
   "execution_count": 12,
   "metadata": {},
   "outputs": [
    {
     "data": {
      "text/plain": [
       "59"
      ]
     },
     "execution_count": 12,
     "metadata": {},
     "output_type": "execute_result"
    }
   ],
   "source": [
    "data['FREEPOOR'].sum()"
   ]
  },
  {
   "cell_type": "markdown",
   "metadata": {},
   "source": [
    "Видим, что в выборке только 59 обладателей государственной страховки для малоимущих, причём только 2 из них когда-либо ходили к врачу. Коэффициент при таком признаке будет определяться неустойчиво. Исключим эти 59 наблюдений и признак."
   ]
  },
  {
   "cell_type": "code",
   "execution_count": 14,
   "metadata": {},
   "outputs": [
    {
     "data": {
      "text/plain": [
       "(1441, 12)"
      ]
     },
     "execution_count": 14,
     "metadata": {},
     "output_type": "execute_result"
    }
   ],
   "source": [
    "data2 = data[data['FREEPOOR']==0]\n",
    "data2.shape"
   ]
  },
  {
   "cell_type": "markdown",
   "metadata": {},
   "source": [
    "Стандартная пуассоновская модель:"
   ]
  },
  {
   "cell_type": "code",
   "execution_count": 17,
   "metadata": {},
   "outputs": [
    {
     "data": {
      "text/html": [
       "<table class=\"simpletable\">\n",
       "<tr>\n",
       "        <td>Model:</td>               <td>GLM</td>            <td>AIC:</td>        <td>1871.1474</td>\n",
       "</tr>\n",
       "<tr>\n",
       "    <td>Link Function:</td>           <td>log</td>            <td>BIC:</td>       <td>-9201.7371</td>\n",
       "</tr>\n",
       "<tr>\n",
       "  <td>Dependent Variable:</td>      <td>DVISITS</td>     <td>Log-Likelihood:</td>   <td>-924.57</td> \n",
       "</tr>\n",
       "<tr>\n",
       "         <td>Date:</td>        <td>2019-03-31 15:04</td>    <td>LL-Null:</td>       <td>-1143.8</td> \n",
       "</tr>\n",
       "<tr>\n",
       "   <td>No. Observations:</td>        <td>1441</td>          <td>Deviance:</td>      <td>1198.8</td>  \n",
       "</tr>\n",
       "<tr>\n",
       "       <td>Df Model:</td>             <td>10</td>         <td>Pearson chi2:</td>   <td>1.84e+03</td> \n",
       "</tr>\n",
       "<tr>\n",
       "     <td>Df Residuals:</td>          <td>1430</td>           <td>Scale:</td>        <td>1.0000</td>  \n",
       "</tr>\n",
       "<tr>\n",
       "        <td>Method:</td>             <td>IRLS</td>              <td></td>              <td></td>     \n",
       "</tr>\n",
       "</table>\n",
       "<table class=\"simpletable\">\n",
       "<tr>\n",
       "      <td></td>       <th>Coef.</th>  <th>Std.Err.</th>    <th>z</th>     <th>P>|z|</th> <th>[0.025</th>  <th>0.975]</th> \n",
       "</tr>\n",
       "<tr>\n",
       "  <th>Intercept</th> <td>-1.7670</td>  <td>0.1815</td>  <td>-9.7366</td> <td>0.0000</td> <td>-2.1226</td> <td>-1.4113</td>\n",
       "</tr>\n",
       "<tr>\n",
       "  <th>SEX[T.m]</th>  <td>-0.3647</td>  <td>0.1044</td>  <td>-3.4944</td> <td>0.0005</td> <td>-0.5692</td> <td>-0.1601</td>\n",
       "</tr>\n",
       "<tr>\n",
       "  <th>AGE</th>       <td>0.0054</td>   <td>0.0031</td>  <td>1.7577</td>  <td>0.0788</td> <td>-0.0006</td> <td>0.0113</td> \n",
       "</tr>\n",
       "<tr>\n",
       "  <th>INCOME</th>    <td>-0.3438</td>  <td>0.1543</td>  <td>-2.2285</td> <td>0.0258</td> <td>-0.6462</td> <td>-0.0414</td>\n",
       "</tr>\n",
       "<tr>\n",
       "  <th>LEVYPLUS</th>  <td>-0.0575</td>  <td>0.1310</td>  <td>-0.4393</td> <td>0.6605</td> <td>-0.3142</td> <td>0.1992</td> \n",
       "</tr>\n",
       "<tr>\n",
       "  <th>FREEREPA</th>  <td>-0.3652</td>  <td>0.1757</td>  <td>-2.0786</td> <td>0.0376</td> <td>-0.7095</td> <td>-0.0209</td>\n",
       "</tr>\n",
       "<tr>\n",
       "  <th>ILLNESS</th>   <td>0.2420</td>   <td>0.0349</td>  <td>6.9311</td>  <td>0.0000</td> <td>0.1736</td>  <td>0.3105</td> \n",
       "</tr>\n",
       "<tr>\n",
       "  <th>ACTDAYS</th>   <td>0.1528</td>   <td>0.0087</td>  <td>17.5926</td> <td>0.0000</td> <td>0.1358</td>  <td>0.1698</td> \n",
       "</tr>\n",
       "<tr>\n",
       "  <th>HSCORE</th>    <td>0.0253</td>   <td>0.0196</td>  <td>1.2912</td>  <td>0.1966</td> <td>-0.0131</td> <td>0.0637</td> \n",
       "</tr>\n",
       "<tr>\n",
       "  <th>CHCOND1</th>   <td>0.0581</td>   <td>0.1203</td>  <td>0.4827</td>  <td>0.6293</td> <td>-0.1777</td> <td>0.2939</td> \n",
       "</tr>\n",
       "<tr>\n",
       "  <th>CHCOND2</th>   <td>0.0843</td>   <td>0.1536</td>  <td>0.5491</td>  <td>0.5829</td> <td>-0.2167</td> <td>0.3853</td> \n",
       "</tr>\n",
       "</table>"
      ],
      "text/plain": [
       "<class 'statsmodels.iolib.summary2.Summary'>\n",
       "\"\"\"\n",
       "               Results: Generalized linear model\n",
       "===============================================================\n",
       "Model:              GLM              AIC:            1871.1474 \n",
       "Link Function:      log              BIC:            -9201.7371\n",
       "Dependent Variable: DVISITS          Log-Likelihood: -924.57   \n",
       "Date:               2019-03-31 15:04 LL-Null:        -1143.8   \n",
       "No. Observations:   1441             Deviance:       1198.8    \n",
       "Df Model:           10               Pearson chi2:   1.84e+03  \n",
       "Df Residuals:       1430             Scale:          1.0000    \n",
       "Method:             IRLS                                       \n",
       "----------------------------------------------------------------\n",
       "             Coef.   Std.Err.     z     P>|z|    [0.025   0.975]\n",
       "----------------------------------------------------------------\n",
       "Intercept   -1.7670    0.1815  -9.7366  0.0000  -2.1226  -1.4113\n",
       "SEX[T.m]    -0.3647    0.1044  -3.4944  0.0005  -0.5692  -0.1601\n",
       "AGE          0.0054    0.0031   1.7577  0.0788  -0.0006   0.0113\n",
       "INCOME      -0.3438    0.1543  -2.2285  0.0258  -0.6462  -0.0414\n",
       "LEVYPLUS    -0.0575    0.1310  -0.4393  0.6605  -0.3142   0.1992\n",
       "FREEREPA    -0.3652    0.1757  -2.0786  0.0376  -0.7095  -0.0209\n",
       "ILLNESS      0.2420    0.0349   6.9311  0.0000   0.1736   0.3105\n",
       "ACTDAYS      0.1528    0.0087  17.5926  0.0000   0.1358   0.1698\n",
       "HSCORE       0.0253    0.0196   1.2912  0.1966  -0.0131   0.0637\n",
       "CHCOND1      0.0581    0.1203   0.4827  0.6293  -0.1777   0.2939\n",
       "CHCOND2      0.0843    0.1536   0.5491  0.5829  -0.2167   0.3853\n",
       "===============================================================\n",
       "\n",
       "\"\"\""
      ]
     },
     "execution_count": 17,
     "metadata": {},
     "output_type": "execute_result"
    }
   ],
   "source": [
    "import statsmodels.api as sm\n",
    "model = sm.GLM.from_formula('DVISITS~SEX+AGE+INCOME+LEVYPLUS+FREEREPA+ILLNESS+ACTDAYS+HSCORE+CHCOND1+CHCOND2',\n",
    "                            data=data2, family=sm.families.Poisson()).fit()\n",
    "model.summary2()"
   ]
  },
  {
   "cell_type": "markdown",
   "metadata": {},
   "source": [
    "Показатель overdispersion/underdispersion:  ```chi2 / Df Residuals```"
   ]
  },
  {
   "cell_type": "markdown",
   "metadata": {},
   "source": [
    "Отрицательная биномиальная модель:"
   ]
  },
  {
   "cell_type": "code",
   "execution_count": 19,
   "metadata": {},
   "outputs": [
    {
     "data": {
      "text/html": [
       "<table class=\"simpletable\">\n",
       "<tr>\n",
       "        <td>Model:</td>               <td>GLM</td>            <td>AIC:</td>        <td>1785.5341</td>\n",
       "</tr>\n",
       "<tr>\n",
       "    <td>Link Function:</td>           <td>log</td>            <td>BIC:</td>       <td>-9564.3663</td>\n",
       "</tr>\n",
       "<tr>\n",
       "  <td>Dependent Variable:</td>      <td>DVISITS</td>     <td>Log-Likelihood:</td>   <td>-881.77</td> \n",
       "</tr>\n",
       "<tr>\n",
       "         <td>Date:</td>        <td>2019-03-31 15:09</td>    <td>LL-Null:</td>       <td>-1037.6</td> \n",
       "</tr>\n",
       "<tr>\n",
       "   <td>No. Observations:</td>        <td>1441</td>          <td>Deviance:</td>      <td>836.16</td>  \n",
       "</tr>\n",
       "<tr>\n",
       "       <td>Df Model:</td>             <td>10</td>         <td>Pearson chi2:</td>   <td>1.40e+03</td> \n",
       "</tr>\n",
       "<tr>\n",
       "     <td>Df Residuals:</td>          <td>1430</td>           <td>Scale:</td>        <td>1.0000</td>  \n",
       "</tr>\n",
       "<tr>\n",
       "        <td>Method:</td>             <td>IRLS</td>              <td></td>              <td></td>     \n",
       "</tr>\n",
       "</table>\n",
       "<table class=\"simpletable\">\n",
       "<tr>\n",
       "      <td></td>       <th>Coef.</th>  <th>Std.Err.</th>    <th>z</th>     <th>P>|z|</th> <th>[0.025</th>  <th>0.975]</th> \n",
       "</tr>\n",
       "<tr>\n",
       "  <th>Intercept</th> <td>-1.9233</td>  <td>0.2244</td>  <td>-8.5722</td> <td>0.0000</td> <td>-2.3630</td> <td>-1.4835</td>\n",
       "</tr>\n",
       "<tr>\n",
       "  <th>SEX[T.m]</th>  <td>-0.3677</td>  <td>0.1297</td>  <td>-2.8362</td> <td>0.0046</td> <td>-0.6218</td> <td>-0.1136</td>\n",
       "</tr>\n",
       "<tr>\n",
       "  <th>AGE</th>       <td>0.0043</td>   <td>0.0039</td>  <td>1.0880</td>  <td>0.2766</td> <td>-0.0034</td> <td>0.0120</td> \n",
       "</tr>\n",
       "<tr>\n",
       "  <th>INCOME</th>    <td>-0.3401</td>  <td>0.1917</td>  <td>-1.7745</td> <td>0.0760</td> <td>-0.7158</td> <td>0.0356</td> \n",
       "</tr>\n",
       "<tr>\n",
       "  <th>LEVYPLUS</th>  <td>-0.0109</td>  <td>0.1595</td>  <td>-0.0682</td> <td>0.9456</td> <td>-0.3236</td> <td>0.3018</td> \n",
       "</tr>\n",
       "<tr>\n",
       "  <th>FREEREPA</th>  <td>-0.1976</td>  <td>0.2220</td>  <td>-0.8901</td> <td>0.3734</td> <td>-0.6327</td> <td>0.2375</td> \n",
       "</tr>\n",
       "<tr>\n",
       "  <th>ILLNESS</th>   <td>0.2903</td>   <td>0.0449</td>  <td>6.4710</td>  <td>0.0000</td> <td>0.2024</td>  <td>0.3782</td> \n",
       "</tr>\n",
       "<tr>\n",
       "  <th>ACTDAYS</th>   <td>0.1709</td>   <td>0.0135</td>  <td>12.6914</td> <td>0.0000</td> <td>0.1445</td>  <td>0.1972</td> \n",
       "</tr>\n",
       "<tr>\n",
       "  <th>HSCORE</th>    <td>0.0354</td>   <td>0.0258</td>  <td>1.3715</td>  <td>0.1702</td> <td>-0.0152</td> <td>0.0861</td> \n",
       "</tr>\n",
       "<tr>\n",
       "  <th>CHCOND1</th>   <td>0.0333</td>   <td>0.1473</td>  <td>0.2261</td>  <td>0.8211</td> <td>-0.2554</td> <td>0.3220</td> \n",
       "</tr>\n",
       "<tr>\n",
       "  <th>CHCOND2</th>   <td>0.1296</td>   <td>0.1961</td>  <td>0.6609</td>  <td>0.5087</td> <td>-0.2547</td> <td>0.5139</td> \n",
       "</tr>\n",
       "</table>"
      ],
      "text/plain": [
       "<class 'statsmodels.iolib.summary2.Summary'>\n",
       "\"\"\"\n",
       "               Results: Generalized linear model\n",
       "===============================================================\n",
       "Model:              GLM              AIC:            1785.5341 \n",
       "Link Function:      log              BIC:            -9564.3663\n",
       "Dependent Variable: DVISITS          Log-Likelihood: -881.77   \n",
       "Date:               2019-03-31 15:09 LL-Null:        -1037.6   \n",
       "No. Observations:   1441             Deviance:       836.16    \n",
       "Df Model:           10               Pearson chi2:   1.40e+03  \n",
       "Df Residuals:       1430             Scale:          1.0000    \n",
       "Method:             IRLS                                       \n",
       "----------------------------------------------------------------\n",
       "             Coef.   Std.Err.     z     P>|z|    [0.025   0.975]\n",
       "----------------------------------------------------------------\n",
       "Intercept   -1.9233    0.2244  -8.5722  0.0000  -2.3630  -1.4835\n",
       "SEX[T.m]    -0.3677    0.1297  -2.8362  0.0046  -0.6218  -0.1136\n",
       "AGE          0.0043    0.0039   1.0880  0.2766  -0.0034   0.0120\n",
       "INCOME      -0.3401    0.1917  -1.7745  0.0760  -0.7158   0.0356\n",
       "LEVYPLUS    -0.0109    0.1595  -0.0682  0.9456  -0.3236   0.3018\n",
       "FREEREPA    -0.1976    0.2220  -0.8901  0.3734  -0.6327   0.2375\n",
       "ILLNESS      0.2903    0.0449   6.4710  0.0000   0.2024   0.3782\n",
       "ACTDAYS      0.1709    0.0135  12.6914  0.0000   0.1445   0.1972\n",
       "HSCORE       0.0354    0.0258   1.3715  0.1702  -0.0152   0.0861\n",
       "CHCOND1      0.0333    0.1473   0.2261  0.8211  -0.2554   0.3220\n",
       "CHCOND2      0.1296    0.1961   0.6609  0.5087  -0.2547   0.5139\n",
       "===============================================================\n",
       "\n",
       "\"\"\""
      ]
     },
     "execution_count": 19,
     "metadata": {},
     "output_type": "execute_result"
    }
   ],
   "source": [
    "import statsmodels.api as sm\n",
    "model = sm.GLM.from_formula('DVISITS~SEX+AGE+INCOME+LEVYPLUS+FREEREPA+ILLNESS+ACTDAYS+HSCORE+CHCOND1+CHCOND2',\n",
    "                            data=data2, family=sm.families.NegativeBinomial()).fit()\n",
    "model.summary2()"
   ]
  },
  {
   "cell_type": "markdown",
   "metadata": {},
   "source": [
    "Удалим незначимые признаки:"
   ]
  },
  {
   "cell_type": "code",
   "execution_count": 22,
   "metadata": {},
   "outputs": [
    {
     "data": {
      "text/html": [
       "<table class=\"simpletable\">\n",
       "<tr>\n",
       "        <td>Model:</td>               <td>GLM</td>            <td>AIC:</td>        <td>1779.3163</td>\n",
       "</tr>\n",
       "<tr>\n",
       "    <td>Link Function:</td>           <td>log</td>            <td>BIC:</td>       <td>-9607.4957</td>\n",
       "</tr>\n",
       "<tr>\n",
       "  <td>Dependent Variable:</td>      <td>DVISITS</td>     <td>Log-Likelihood:</td>   <td>-885.66</td> \n",
       "</tr>\n",
       "<tr>\n",
       "         <td>Date:</td>        <td>2019-03-31 15:11</td>    <td>LL-Null:</td>       <td>-1037.6</td> \n",
       "</tr>\n",
       "<tr>\n",
       "   <td>No. Observations:</td>        <td>1441</td>          <td>Deviance:</td>      <td>843.94</td>  \n",
       "</tr>\n",
       "<tr>\n",
       "       <td>Df Model:</td>              <td>3</td>         <td>Pearson chi2:</td>   <td>1.44e+03</td> \n",
       "</tr>\n",
       "<tr>\n",
       "     <td>Df Residuals:</td>          <td>1437</td>           <td>Scale:</td>        <td>1.0000</td>  \n",
       "</tr>\n",
       "<tr>\n",
       "        <td>Method:</td>             <td>IRLS</td>              <td></td>              <td></td>     \n",
       "</tr>\n",
       "</table>\n",
       "<table class=\"simpletable\">\n",
       "<tr>\n",
       "      <td></td>       <th>Coef.</th>  <th>Std.Err.</th>     <th>z</th>     <th>P>|z|</th> <th>[0.025</th>  <th>0.975]</th> \n",
       "</tr>\n",
       "<tr>\n",
       "  <th>Intercept</th> <td>-1.9482</td>  <td>0.1158</td>  <td>-16.8217</td> <td>0.0000</td> <td>-2.1752</td> <td>-1.7212</td>\n",
       "</tr>\n",
       "<tr>\n",
       "  <th>SEX[T.m]</th>  <td>-0.4275</td>  <td>0.1231</td>   <td>-3.4734</td> <td>0.0005</td> <td>-0.6688</td> <td>-0.1863</td>\n",
       "</tr>\n",
       "<tr>\n",
       "  <th>ILLNESS</th>   <td>0.3293</td>   <td>0.0389</td>   <td>8.4599</td>  <td>0.0000</td> <td>0.2530</td>  <td>0.4056</td> \n",
       "</tr>\n",
       "<tr>\n",
       "  <th>ACTDAYS</th>   <td>0.1770</td>   <td>0.0128</td>   <td>13.8316</td> <td>0.0000</td> <td>0.1519</td>  <td>0.2020</td> \n",
       "</tr>\n",
       "</table>"
      ],
      "text/plain": [
       "<class 'statsmodels.iolib.summary2.Summary'>\n",
       "\"\"\"\n",
       "               Results: Generalized linear model\n",
       "===============================================================\n",
       "Model:              GLM              AIC:            1779.3163 \n",
       "Link Function:      log              BIC:            -9607.4957\n",
       "Dependent Variable: DVISITS          Log-Likelihood: -885.66   \n",
       "Date:               2019-03-31 15:11 LL-Null:        -1037.6   \n",
       "No. Observations:   1441             Deviance:       843.94    \n",
       "Df Model:           3                Pearson chi2:   1.44e+03  \n",
       "Df Residuals:       1437             Scale:          1.0000    \n",
       "Method:             IRLS                                       \n",
       "----------------------------------------------------------------\n",
       "            Coef.   Std.Err.     z      P>|z|    [0.025   0.975]\n",
       "----------------------------------------------------------------\n",
       "Intercept  -1.9482    0.1158  -16.8217  0.0000  -2.1752  -1.7212\n",
       "SEX[T.m]   -0.4275    0.1231   -3.4734  0.0005  -0.6688  -0.1863\n",
       "ILLNESS     0.3293    0.0389    8.4599  0.0000   0.2530   0.4056\n",
       "ACTDAYS     0.1770    0.0128   13.8316  0.0000   0.1519   0.2020\n",
       "===============================================================\n",
       "\n",
       "\"\"\""
      ]
     },
     "execution_count": 22,
     "metadata": {},
     "output_type": "execute_result"
    }
   ],
   "source": [
    "import statsmodels.api as sm\n",
    "model = sm.GLM.from_formula('DVISITS~SEX+ILLNESS+ACTDAYS',\n",
    "                            data=data2, family=sm.families.NegativeBinomial()).fit()\n",
    "model.summary2()"
   ]
  },
  {
   "cell_type": "markdown",
   "metadata": {},
   "source": [
    "Попробуем возвращать по одному удалённые признаки:"
   ]
  },
  {
   "cell_type": "code",
   "execution_count": 26,
   "metadata": {},
   "outputs": [
    {
     "name": "stdout",
     "output_type": "stream",
     "text": [
      "AGE -9601.95798792102\n",
      "INCOME -9604.156703389735\n",
      "LEVYPLUS -9600.22267074508\n",
      "FREEREPA -9600.38972029986\n",
      "HSCORE -9602.253492466225\n",
      "CHCOND1 -9600.22262182329\n",
      "CHCOND2 -9600.881835865213\n"
     ]
    }
   ],
   "source": [
    "import statsmodels.api as sm\n",
    "formula = 'DVISITS~SEX+ILLNESS+ACTDAYS+'\n",
    "for p in ['AGE','INCOME','LEVYPLUS','FREEREPA','HSCORE','CHCOND1','CHCOND2']:\n",
    "    model = sm.GLM.from_formula(formula+p, data=data2, family=sm.families.NegativeBinomial()).fit()\n",
    "    print (p, model.bic)"
   ]
  },
  {
   "cell_type": "markdown",
   "metadata": {},
   "source": [
    "Лучше всего модель, в которую возвращён доход:"
   ]
  },
  {
   "cell_type": "code",
   "execution_count": 28,
   "metadata": {},
   "outputs": [
    {
     "data": {
      "text/html": [
       "<table class=\"simpletable\">\n",
       "<tr>\n",
       "        <td>Model:</td>               <td>GLM</td>            <td>AIC:</td>        <td>1777.3822</td>\n",
       "</tr>\n",
       "<tr>\n",
       "    <td>Link Function:</td>           <td>log</td>            <td>BIC:</td>       <td>-9604.1567</td>\n",
       "</tr>\n",
       "<tr>\n",
       "  <td>Dependent Variable:</td>      <td>DVISITS</td>     <td>Log-Likelihood:</td>   <td>-883.69</td> \n",
       "</tr>\n",
       "<tr>\n",
       "         <td>Date:</td>        <td>2019-03-31 15:14</td>    <td>LL-Null:</td>       <td>-1037.6</td> \n",
       "</tr>\n",
       "<tr>\n",
       "   <td>No. Observations:</td>        <td>1441</td>          <td>Deviance:</td>      <td>840.00</td>  \n",
       "</tr>\n",
       "<tr>\n",
       "       <td>Df Model:</td>              <td>4</td>         <td>Pearson chi2:</td>   <td>1.41e+03</td> \n",
       "</tr>\n",
       "<tr>\n",
       "     <td>Df Residuals:</td>          <td>1436</td>           <td>Scale:</td>        <td>1.0000</td>  \n",
       "</tr>\n",
       "<tr>\n",
       "        <td>Method:</td>             <td>IRLS</td>              <td></td>              <td></td>     \n",
       "</tr>\n",
       "</table>\n",
       "<table class=\"simpletable\">\n",
       "<tr>\n",
       "      <td></td>       <th>Coef.</th>  <th>Std.Err.</th>     <th>z</th>     <th>P>|z|</th> <th>[0.025</th>  <th>0.975]</th> \n",
       "</tr>\n",
       "<tr>\n",
       "  <th>Intercept</th> <td>-1.7671</td>  <td>0.1475</td>  <td>-11.9769</td> <td>0.0000</td> <td>-2.0563</td> <td>-1.4779</td>\n",
       "</tr>\n",
       "<tr>\n",
       "  <th>SEX[T.m]</th>  <td>-0.3679</td>  <td>0.1264</td>   <td>-2.9115</td> <td>0.0036</td> <td>-0.6156</td> <td>-0.1203</td>\n",
       "</tr>\n",
       "<tr>\n",
       "  <th>ILLNESS</th>   <td>0.3206</td>   <td>0.0393</td>   <td>8.1640</td>  <td>0.0000</td> <td>0.2436</td>  <td>0.3976</td> \n",
       "</tr>\n",
       "<tr>\n",
       "  <th>ACTDAYS</th>   <td>0.1770</td>   <td>0.0128</td>   <td>13.8441</td> <td>0.0000</td> <td>0.1520</td>  <td>0.2021</td> \n",
       "</tr>\n",
       "<tr>\n",
       "  <th>INCOME</th>    <td>-0.3426</td>  <td>0.1745</td>   <td>-1.9637</td> <td>0.0496</td> <td>-0.6846</td> <td>-0.0006</td>\n",
       "</tr>\n",
       "</table>"
      ],
      "text/plain": [
       "<class 'statsmodels.iolib.summary2.Summary'>\n",
       "\"\"\"\n",
       "               Results: Generalized linear model\n",
       "===============================================================\n",
       "Model:              GLM              AIC:            1777.3822 \n",
       "Link Function:      log              BIC:            -9604.1567\n",
       "Dependent Variable: DVISITS          Log-Likelihood: -883.69   \n",
       "Date:               2019-03-31 15:14 LL-Null:        -1037.6   \n",
       "No. Observations:   1441             Deviance:       840.00    \n",
       "Df Model:           4                Pearson chi2:   1.41e+03  \n",
       "Df Residuals:       1436             Scale:          1.0000    \n",
       "Method:             IRLS                                       \n",
       "----------------------------------------------------------------\n",
       "            Coef.   Std.Err.     z      P>|z|    [0.025   0.975]\n",
       "----------------------------------------------------------------\n",
       "Intercept  -1.7671    0.1475  -11.9769  0.0000  -2.0563  -1.4779\n",
       "SEX[T.m]   -0.3679    0.1264   -2.9115  0.0036  -0.6156  -0.1203\n",
       "ILLNESS     0.3206    0.0393    8.1640  0.0000   0.2436   0.3976\n",
       "ACTDAYS     0.1770    0.0128   13.8441  0.0000   0.1520   0.2021\n",
       "INCOME     -0.3426    0.1745   -1.9637  0.0496  -0.6846  -0.0006\n",
       "===============================================================\n",
       "\n",
       "\"\"\""
      ]
     },
     "execution_count": 28,
     "metadata": {},
     "output_type": "execute_result"
    }
   ],
   "source": [
    "import statsmodels.api as sm\n",
    "model = sm.GLM.from_formula('DVISITS~SEX+ILLNESS+ACTDAYS+INCOME',\n",
    "                            data=data2, family=sm.families.NegativeBinomial()).fit()\n",
    "model.summary2()"
   ]
  },
  {
   "cell_type": "markdown",
   "metadata": {},
   "source": [
    "Ещё раз попробуем возвращать по одному удалённые признаки:"
   ]
  },
  {
   "cell_type": "code",
   "execution_count": 30,
   "metadata": {},
   "outputs": [
    {
     "name": "stdout",
     "output_type": "stream",
     "text": [
      "AGE -9597.428967802289\n",
      "LEVYPLUS -9597.239497446899\n",
      "FREEREPA -9597.069535608369\n",
      "HSCORE -9598.710746537601\n",
      "CHCOND1 -9596.885074625992\n",
      "CHCOND2 -9597.261132485633\n"
     ]
    }
   ],
   "source": [
    "import statsmodels.api as sm\n",
    "formula = 'DVISITS~SEX+ILLNESS+ACTDAYS+INCOME+'\n",
    "for p in ['AGE','LEVYPLUS','FREEREPA','HSCORE','CHCOND1','CHCOND2']:\n",
    "    model = sm.GLM.from_formula(formula+p, data=data2, family=sm.families.NegativeBinomial()).fit()\n",
    "    print (p, model.bic)"
   ]
  },
  {
   "cell_type": "markdown",
   "metadata": {},
   "source": [
    "Попробуем добавлять значимые межфакторные взаимодействия:"
   ]
  },
  {
   "cell_type": "code",
   "execution_count": 36,
   "metadata": {},
   "outputs": [
    {
     "name": "stdout",
     "output_type": "stream",
     "text": [
      "SEX ILLNESS -9602.825793657119\n",
      "ILLNESS ACTDAYS -9606.313252511018\n",
      "ILLNESS INCOME -9601.963100280722\n"
     ]
    }
   ],
   "source": [
    "import statsmodels.api as sm\n",
    "formula = 'DVISITS~SEX+ILLNESS+ACTDAYS+INCOME+'\n",
    "features = ['SEX', 'ILLNESS', 'ACTDAYS', 'INCOME']\n",
    "for f1 in range(len(features)):\n",
    "    for f2 in range(f1+1, len(features)): \n",
    "        f1_ = features[f1]\n",
    "        f2_ = features[f2]\n",
    "        model = sm.GLM.from_formula(formula+str(f1_)+':'+str(f2_),\n",
    "                                    data=data2, family=sm.families.NegativeBinomial()).fit()               \n",
    "        for name, p in model.pvalues.items():\n",
    "            if p<0.05 and ':' in name:\n",
    "                print (f1_, f2_, model.bic)\n",
    "                \n"
   ]
  },
  {
   "cell_type": "code",
   "execution_count": 39,
   "metadata": {},
   "outputs": [
    {
     "data": {
      "text/html": [
       "<table class=\"simpletable\">\n",
       "<tr>\n",
       "        <td>Model:</td>               <td>GLM</td>            <td>AIC:</td>        <td>1769.9526</td>\n",
       "</tr>\n",
       "<tr>\n",
       "    <td>Link Function:</td>           <td>log</td>            <td>BIC:</td>       <td>-9606.3133</td>\n",
       "</tr>\n",
       "<tr>\n",
       "  <td>Dependent Variable:</td>      <td>DVISITS</td>     <td>Log-Likelihood:</td>   <td>-878.98</td> \n",
       "</tr>\n",
       "<tr>\n",
       "         <td>Date:</td>        <td>2019-03-31 15:20</td>    <td>LL-Null:</td>       <td>-1037.6</td> \n",
       "</tr>\n",
       "<tr>\n",
       "   <td>No. Observations:</td>        <td>1441</td>          <td>Deviance:</td>      <td>830.57</td>  \n",
       "</tr>\n",
       "<tr>\n",
       "       <td>Df Model:</td>              <td>5</td>         <td>Pearson chi2:</td>   <td>1.40e+03</td> \n",
       "</tr>\n",
       "<tr>\n",
       "     <td>Df Residuals:</td>          <td>1435</td>           <td>Scale:</td>        <td>1.0000</td>  \n",
       "</tr>\n",
       "<tr>\n",
       "        <td>Method:</td>             <td>IRLS</td>              <td></td>              <td></td>     \n",
       "</tr>\n",
       "</table>\n",
       "<table class=\"simpletable\">\n",
       "<tr>\n",
       "         <td></td>          <th>Coef.</th>  <th>Std.Err.</th>     <th>z</th>     <th>P>|z|</th> <th>[0.025</th>  <th>0.975]</th> \n",
       "</tr>\n",
       "<tr>\n",
       "  <th>Intercept</th>       <td>-1.8599</td>  <td>0.1533</td>  <td>-12.1294</td> <td>0.0000</td> <td>-2.1605</td> <td>-1.5594</td>\n",
       "</tr>\n",
       "<tr>\n",
       "  <th>SEX[T.m]</th>        <td>-0.3420</td>  <td>0.1268</td>   <td>-2.6973</td> <td>0.0070</td> <td>-0.5905</td> <td>-0.0935</td>\n",
       "</tr>\n",
       "<tr>\n",
       "  <th>ILLNESS</th>         <td>0.3691</td>   <td>0.0425</td>   <td>8.6815</td>  <td>0.0000</td> <td>0.2858</td>  <td>0.4525</td> \n",
       "</tr>\n",
       "<tr>\n",
       "  <th>ACTDAYS</th>         <td>0.2449</td>   <td>0.0239</td>   <td>10.2350</td> <td>0.0000</td> <td>0.1980</td>  <td>0.2918</td> \n",
       "</tr>\n",
       "<tr>\n",
       "  <th>INCOME</th>          <td>-0.3677</td>  <td>0.1753</td>   <td>-2.0975</td> <td>0.0359</td> <td>-0.7113</td> <td>-0.0241</td>\n",
       "</tr>\n",
       "<tr>\n",
       "  <th>ILLNESS:ACTDAYS</th> <td>-0.0323</td>  <td>0.0096</td>   <td>-3.3620</td> <td>0.0008</td> <td>-0.0511</td> <td>-0.0134</td>\n",
       "</tr>\n",
       "</table>"
      ],
      "text/plain": [
       "<class 'statsmodels.iolib.summary2.Summary'>\n",
       "\"\"\"\n",
       "               Results: Generalized linear model\n",
       "================================================================\n",
       "Model:               GLM              AIC:            1769.9526 \n",
       "Link Function:       log              BIC:            -9606.3133\n",
       "Dependent Variable:  DVISITS          Log-Likelihood: -878.98   \n",
       "Date:                2019-03-31 15:20 LL-Null:        -1037.6   \n",
       "No. Observations:    1441             Deviance:       830.57    \n",
       "Df Model:            5                Pearson chi2:   1.40e+03  \n",
       "Df Residuals:        1435             Scale:          1.0000    \n",
       "Method:              IRLS                                       \n",
       "----------------------------------------------------------------\n",
       "                 Coef.  Std.Err.    z     P>|z|   [0.025  0.975]\n",
       "----------------------------------------------------------------\n",
       "Intercept       -1.8599   0.1533 -12.1294 0.0000 -2.1605 -1.5594\n",
       "SEX[T.m]        -0.3420   0.1268  -2.6973 0.0070 -0.5905 -0.0935\n",
       "ILLNESS          0.3691   0.0425   8.6815 0.0000  0.2858  0.4525\n",
       "ACTDAYS          0.2449   0.0239  10.2350 0.0000  0.1980  0.2918\n",
       "INCOME          -0.3677   0.1753  -2.0975 0.0359 -0.7113 -0.0241\n",
       "ILLNESS:ACTDAYS -0.0323   0.0096  -3.3620 0.0008 -0.0511 -0.0134\n",
       "================================================================\n",
       "\n",
       "\"\"\""
      ]
     },
     "execution_count": 39,
     "metadata": {},
     "output_type": "execute_result"
    }
   ],
   "source": [
    "import statsmodels.api as sm\n",
    "model = sm.GLM.from_formula('DVISITS~SEX+ILLNESS+ACTDAYS+INCOME+ILLNESS:ACTDAYS', data=data2, family=sm.families.NegativeBinomial()).fit()\n",
    "model.summary2()"
   ]
  },
  {
   "cell_type": "code",
   "execution_count": 40,
   "metadata": {},
   "outputs": [
    {
     "data": {
      "text/plain": [
       "<class 'statsmodels.stats.contrast.ContrastResults'>\n",
       "<Wald test (chi2): statistic=[[11.30312164]], p-value=0.0007737688810790549, df_denom=1>"
      ]
     },
     "execution_count": 40,
     "metadata": {},
     "output_type": "execute_result"
    }
   ],
   "source": [
    "model.wald_test('ILLNESS:ACTDAYS=0')"
   ]
  },
  {
   "cell_type": "code",
   "execution_count": 61,
   "metadata": {},
   "outputs": [
    {
     "data": {
      "text/html": [
       "<table class=\"simpletable\">\n",
       "<tr>\n",
       "        <td>Model:</td>               <td>GLM</td>            <td>AIC:</td>        <td>1765.9476</td>\n",
       "</tr>\n",
       "<tr>\n",
       "    <td>Link Function:</td>           <td>log</td>            <td>BIC:</td>       <td>-9605.0451</td>\n",
       "</tr>\n",
       "<tr>\n",
       "  <td>Dependent Variable:</td>      <td>DVISITS</td>     <td>Log-Likelihood:</td>   <td>-875.97</td> \n",
       "</tr>\n",
       "<tr>\n",
       "         <td>Date:</td>        <td>2019-03-31 15:29</td>    <td>LL-Null:</td>       <td>-1037.6</td> \n",
       "</tr>\n",
       "<tr>\n",
       "   <td>No. Observations:</td>        <td>1441</td>          <td>Deviance:</td>      <td>824.57</td>  \n",
       "</tr>\n",
       "<tr>\n",
       "       <td>Df Model:</td>              <td>6</td>         <td>Pearson chi2:</td>   <td>1.42e+03</td> \n",
       "</tr>\n",
       "<tr>\n",
       "     <td>Df Residuals:</td>          <td>1434</td>           <td>Scale:</td>        <td>1.0000</td>  \n",
       "</tr>\n",
       "<tr>\n",
       "        <td>Method:</td>             <td>IRLS</td>              <td></td>              <td></td>     \n",
       "</tr>\n",
       "</table>\n",
       "<table class=\"simpletable\">\n",
       "<tr>\n",
       "          <td></td>          <th>Coef.</th>  <th>Std.Err.</th>     <th>z</th>     <th>P>|z|</th> <th>[0.025</th>  <th>0.975]</th> \n",
       "</tr>\n",
       "<tr>\n",
       "  <th>Intercept</th>        <td>-1.6985</td>  <td>0.1619</td>  <td>-10.4909</td> <td>0.0000</td> <td>-2.0158</td> <td>-1.3812</td>\n",
       "</tr>\n",
       "<tr>\n",
       "  <th>SEX[T.m]</th>         <td>-0.7610</td>  <td>0.2148</td>   <td>-3.5431</td> <td>0.0004</td> <td>-1.1820</td> <td>-0.3400</td>\n",
       "</tr>\n",
       "<tr>\n",
       "  <th>ILLNESS</th>          <td>0.2923</td>   <td>0.0514</td>   <td>5.6906</td>  <td>0.0000</td> <td>0.1917</td>  <td>0.3930</td> \n",
       "</tr>\n",
       "<tr>\n",
       "  <th>ILLNESS:SEX[T.m]</th> <td>0.2017</td>   <td>0.0820</td>   <td>2.4614</td>  <td>0.0138</td> <td>0.0411</td>  <td>0.3624</td> \n",
       "</tr>\n",
       "<tr>\n",
       "  <th>ACTDAYS</th>          <td>0.2435</td>   <td>0.0240</td>   <td>10.1627</td> <td>0.0000</td> <td>0.1966</td>  <td>0.2905</td> \n",
       "</tr>\n",
       "<tr>\n",
       "  <th>INCOME</th>           <td>-0.3608</td>  <td>0.1754</td>   <td>-2.0571</td> <td>0.0397</td> <td>-0.7046</td> <td>-0.0170</td>\n",
       "</tr>\n",
       "<tr>\n",
       "  <th>ILLNESS:ACTDAYS</th>  <td>-0.0321</td>  <td>0.0096</td>   <td>-3.3376</td> <td>0.0008</td> <td>-0.0509</td> <td>-0.0132</td>\n",
       "</tr>\n",
       "</table>"
      ],
      "text/plain": [
       "<class 'statsmodels.iolib.summary2.Summary'>\n",
       "\"\"\"\n",
       "                Results: Generalized linear model\n",
       "=================================================================\n",
       "Model:                GLM              AIC:            1765.9476 \n",
       "Link Function:        log              BIC:            -9605.0451\n",
       "Dependent Variable:   DVISITS          Log-Likelihood: -875.97   \n",
       "Date:                 2019-03-31 15:29 LL-Null:        -1037.6   \n",
       "No. Observations:     1441             Deviance:       824.57    \n",
       "Df Model:             6                Pearson chi2:   1.42e+03  \n",
       "Df Residuals:         1434             Scale:          1.0000    \n",
       "Method:               IRLS                                       \n",
       "-----------------------------------------------------------------\n",
       "                  Coef.  Std.Err.    z     P>|z|   [0.025  0.975]\n",
       "-----------------------------------------------------------------\n",
       "Intercept        -1.6985   0.1619 -10.4909 0.0000 -2.0158 -1.3812\n",
       "SEX[T.m]         -0.7610   0.2148  -3.5431 0.0004 -1.1820 -0.3400\n",
       "ILLNESS           0.2923   0.0514   5.6906 0.0000  0.1917  0.3930\n",
       "ILLNESS:SEX[T.m]  0.2017   0.0820   2.4614 0.0138  0.0411  0.3624\n",
       "ACTDAYS           0.2435   0.0240  10.1627 0.0000  0.1966  0.2905\n",
       "INCOME           -0.3608   0.1754  -2.0571 0.0397 -0.7046 -0.0170\n",
       "ILLNESS:ACTDAYS  -0.0321   0.0096  -3.3376 0.0008 -0.0509 -0.0132\n",
       "=================================================================\n",
       "\n",
       "\"\"\""
      ]
     },
     "execution_count": 61,
     "metadata": {},
     "output_type": "execute_result"
    }
   ],
   "source": [
    "import statsmodels.api as sm\n",
    "model = sm.GLM.from_formula('DVISITS~SEX+ILLNESS+ACTDAYS+INCOME+ILLNESS:ACTDAYS+ILLNESS:SEX', data=data2, family=sm.families.NegativeBinomial()).fit()\n",
    "model.summary2()"
   ]
  },
  {
   "cell_type": "markdown",
   "metadata": {},
   "source": [
    "Итоговая модель"
   ]
  },
  {
   "cell_type": "code",
   "execution_count": 75,
   "metadata": {},
   "outputs": [
    {
     "data": {
      "text/plain": [
       "KendalltauResult(correlation=0.30733279863104856, pvalue=9.199047228135223e-48)"
      ]
     },
     "execution_count": 75,
     "metadata": {},
     "output_type": "execute_result"
    },
    {
     "data": {
      "image/png": "[encoded data removed]",
      "text/plain": [
       "<Figure size 432x288 with 1 Axes>"
      ]
     },
     "metadata": {
      "needs_background": "light"
     },
     "output_type": "display_data"
    }
   ],
   "source": [
    "plt.scatter(data2['DVISITS'], model.predict(data2))\n",
    "plt.ylabel('Predicted')\n",
    "st.kendalltau(data2['DVISITS'], model.predict(data2))"
   ]
  },
  {
   "cell_type": "markdown",
   "metadata": {},
   "source": [
    "Для сравнения — обычная линейная модель, не учитывающая счётную природу отклика:"
   ]
  },
  {
   "cell_type": "code",
   "execution_count": 62,
   "metadata": {},
   "outputs": [
    {
     "data": {
      "text/html": [
       "<table class=\"simpletable\">\n",
       "<tr>\n",
       "        <td>Model:</td>               <td>OLS</td>         <td>Adj. R-squared:</td>     <td>0.242</td>  \n",
       "</tr>\n",
       "<tr>\n",
       "  <td>Dependent Variable:</td>      <td>DVISITS</td>            <td>AIC:</td>         <td>3190.1662</td>\n",
       "</tr>\n",
       "<tr>\n",
       "         <td>Date:</td>        <td>2019-03-31 15:29</td>        <td>BIC:</td>         <td>3227.0779</td>\n",
       "</tr>\n",
       "<tr>\n",
       "   <td>No. Observations:</td>        <td>1441</td>         <td>Log-Likelihood:</td>    <td>-1588.1</td> \n",
       "</tr>\n",
       "<tr>\n",
       "       <td>Df Model:</td>              <td>6</td>           <td>F-statistic:</td>       <td>77.79</td>  \n",
       "</tr>\n",
       "<tr>\n",
       "     <td>Df Residuals:</td>          <td>1434</td>       <td>Prob (F-statistic):</td> <td>2.83e-84</td> \n",
       "</tr>\n",
       "<tr>\n",
       "      <td>R-squared:</td>            <td>0.246</td>            <td>Scale:</td>         <td>0.53320</td> \n",
       "</tr>\n",
       "</table>\n",
       "<table class=\"simpletable\">\n",
       "<tr>\n",
       "          <td></td>          <th>Coef.</th>  <th>Std.Err.</th>    <th>t</th>     <th>P>|t|</th> <th>[0.025</th>  <th>0.975]</th>\n",
       "</tr>\n",
       "<tr>\n",
       "  <th>Intercept</th>        <td>0.1939</td>   <td>0.0499</td>  <td>3.8845</td>  <td>0.0001</td> <td>0.0960</td>  <td>0.2919</td>\n",
       "</tr>\n",
       "<tr>\n",
       "  <th>SEX[T.m]</th>         <td>-0.0999</td>  <td>0.0573</td>  <td>-1.7422</td> <td>0.0817</td> <td>-0.2123</td> <td>0.0126</td>\n",
       "</tr>\n",
       "<tr>\n",
       "  <th>ILLNESS</th>          <td>0.0835</td>   <td>0.0192</td>  <td>4.3541</td>  <td>0.0000</td> <td>0.0459</td>  <td>0.1211</td>\n",
       "</tr>\n",
       "<tr>\n",
       "  <th>ILLNESS:SEX[T.m]</th> <td>0.0047</td>   <td>0.0285</td>  <td>0.1645</td>  <td>0.8694</td> <td>-0.0512</td> <td>0.0605</td>\n",
       "</tr>\n",
       "<tr>\n",
       "  <th>ACTDAYS</th>          <td>0.1376</td>   <td>0.0137</td>  <td>10.0479</td> <td>0.0000</td> <td>0.1108</td>  <td>0.1645</td>\n",
       "</tr>\n",
       "<tr>\n",
       "  <th>INCOME</th>           <td>-0.1015</td>  <td>0.0534</td>  <td>-1.9007</td> <td>0.0575</td> <td>-0.2063</td> <td>0.0033</td>\n",
       "</tr>\n",
       "<tr>\n",
       "  <th>ILLNESS:ACTDAYS</th>  <td>-0.0002</td>  <td>0.0055</td>  <td>-0.0351</td> <td>0.9720</td> <td>-0.0110</td> <td>0.0107</td>\n",
       "</tr>\n",
       "</table>\n",
       "<table class=\"simpletable\">\n",
       "<tr>\n",
       "     <td>Omnibus:</td>    <td>1102.829</td>  <td>Durbin-Watson:</td>     <td>2.009</td>  \n",
       "</tr>\n",
       "<tr>\n",
       "  <td>Prob(Omnibus):</td>   <td>0.000</td>  <td>Jarque-Bera (JB):</td> <td>30709.545</td>\n",
       "</tr>\n",
       "<tr>\n",
       "       <td>Skew:</td>       <td>3.303</td>      <td>Prob(JB):</td>       <td>0.000</td>  \n",
       "</tr>\n",
       "<tr>\n",
       "     <td>Kurtosis:</td>    <td>24.630</td>   <td>Condition No.:</td>      <td>27</td>    \n",
       "</tr>\n",
       "</table>"
      ],
      "text/plain": [
       "<class 'statsmodels.iolib.summary2.Summary'>\n",
       "\"\"\"\n",
       "                 Results: Ordinary least squares\n",
       "==================================================================\n",
       "Model:              OLS              Adj. R-squared:     0.242    \n",
       "Dependent Variable: DVISITS          AIC:                3190.1662\n",
       "Date:               2019-03-31 15:29 BIC:                3227.0779\n",
       "No. Observations:   1441             Log-Likelihood:     -1588.1  \n",
       "Df Model:           6                F-statistic:        77.79    \n",
       "Df Residuals:       1434             Prob (F-statistic): 2.83e-84 \n",
       "R-squared:          0.246            Scale:              0.53320  \n",
       "------------------------------------------------------------------\n",
       "                     Coef.  Std.Err.    t    P>|t|   [0.025 0.975]\n",
       "------------------------------------------------------------------\n",
       "Intercept            0.1939   0.0499  3.8845 0.0001  0.0960 0.2919\n",
       "SEX[T.m]            -0.0999   0.0573 -1.7422 0.0817 -0.2123 0.0126\n",
       "ILLNESS              0.0835   0.0192  4.3541 0.0000  0.0459 0.1211\n",
       "ILLNESS:SEX[T.m]     0.0047   0.0285  0.1645 0.8694 -0.0512 0.0605\n",
       "ACTDAYS              0.1376   0.0137 10.0479 0.0000  0.1108 0.1645\n",
       "INCOME              -0.1015   0.0534 -1.9007 0.0575 -0.2063 0.0033\n",
       "ILLNESS:ACTDAYS     -0.0002   0.0055 -0.0351 0.9720 -0.0110 0.0107\n",
       "------------------------------------------------------------------\n",
       "Omnibus:            1102.829      Durbin-Watson:         2.009    \n",
       "Prob(Omnibus):      0.000         Jarque-Bera (JB):      30709.545\n",
       "Skew:               3.303         Prob(JB):              0.000    \n",
       "Kurtosis:           24.630        Condition No.:         27       \n",
       "==================================================================\n",
       "\n",
       "\"\"\""
      ]
     },
     "execution_count": 62,
     "metadata": {},
     "output_type": "execute_result"
    }
   ],
   "source": [
    "import statsmodels.api as sm\n",
    "model2 = sm.OLS.from_formula('DVISITS~SEX+ILLNESS+ACTDAYS+INCOME+ILLNESS:ACTDAYS+ILLNESS:SEX', data=data2).fit()\n",
    "model2.summary2()"
   ]
  },
  {
   "cell_type": "code",
   "execution_count": 74,
   "metadata": {},
   "outputs": [
    {
     "data": {
      "text/plain": [
       "KendalltauResult(correlation=0.30733279863104856, pvalue=9.199047228135223e-48)"
      ]
     },
     "execution_count": 74,
     "metadata": {},
     "output_type": "execute_result"
    },
    {
     "data": {
      "image/png": "[encoded data removed]",
      "text/plain": [
       "<Figure size 432x288 with 1 Axes>"
      ]
     },
     "metadata": {
      "needs_background": "light"
     },
     "output_type": "display_data"
    }
   ],
   "source": [
    "plt.scatter(data2['DVISITS'], model.predict(data2))\n",
    "plt.ylabel('Predicted')\n",
    "st.kendalltau(data2['DVISITS'], model.predict(data2))"
   ]
  },
  {
   "cell_type": "markdown",
   "metadata": {},
   "source": [
    "Модель позволяет сделать следующие выводы:\n",
    "\n",
    "* При прочих равных женщины обращаются к врачу в 2.14 раза чаще (1.42, 3.28).\n",
    "* Каждый день сниженной активности без болезни увеличивает число посещений врача в 1.27 раза (1.21, 1.34).\n",
    "* Каждая болезнь без снижения активности увеличивает число посещений врача в 1.34 раза у женщин (1.21, 1.48) и 1.64 у мужчин (1.26, 2.13).\n",
    "* При росте на единицу одновременно числа дней сниженной активности и числа заболеваний число визитов к доктору растёт в 1.03 медленнее, чем если бы эти признаки действовали независимо (1.01, 1.05).\n",
    "* Увеличение годового дохода на 10 тыс. долл. снижает среднее число визитов к врачу в 1.4295 раз (1.01834, 2.01927).\n",
    "* Все приведённые доверительные интервалы построены на уровне доверия 95%.\n",
    "\n"
   ]
  },
  {
   "cell_type": "markdown",
   "metadata": {},
   "source": [
    "**Cameron C. A., Trivedi P. K. Regression Analysis of Count Data. Cambridge University Press, 2013.**"
   ]
  }
 ],
 "metadata": {
  "kernelspec": {
   "display_name": "Python 3",
   "language": "python",
   "name": "python3"
  },
  "language_info": {
   "codemirror_mode": {
    "name": "ipython",
    "version": 3
   },
   "file_extension": ".py",
   "mimetype": "text/x-python",
   "name": "python",
   "nbconvert_exporter": "python",
   "pygments_lexer": "ipython3",
   "version": "3.5.2"
  }
 },
 "nbformat": 4,
 "nbformat_minor": 2
}
