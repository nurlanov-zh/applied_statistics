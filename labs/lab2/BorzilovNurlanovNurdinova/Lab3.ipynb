{
 "cells": [
  {
   "cell_type": "markdown",
   "metadata": {},
   "source": [
    "# Проверить мощность и консервативность критериев Вальда и Фишера для линейной модели (в wald_test поставить флаг use_f=False).\n"
   ]
  },
  {
   "cell_type": "code",
   "execution_count": 133,
   "metadata": {},
   "outputs": [],
   "source": [
    "import numpy as np\n",
    "import random\n",
    "import statsmodels.api as sm\n",
    "import scipy.stats as st\n",
    "import matplotlib.pyplot as plt\n",
    "import ipywidgets as widg\n",
    "import seaborn as sns\n",
    "from tqdm import tqdm_notebook as tqdm"
   ]
  },
  {
   "cell_type": "markdown",
   "metadata": {},
   "source": [
    "\n",
    "Проверить мощность и консервативность критериев Вальда и Фишера для линейной модели.\n",
    "\n",
    "Пусть имеется k выборок с $n$ элементами. Линейная модель"
   ]
  },
  {
   "cell_type": "code",
   "execution_count": 294,
   "metadata": {},
   "outputs": [],
   "source": [
    "sigma = 1\n",
    "def gen_X(k, n):\n",
    "    X = np.random.randn(k, n)\n",
    "    return X\n",
    "\n",
    "#set to zero weights listed in null\n",
    "def gen_y(X, null=[]):\n",
    "    k, n = X.shape\n",
    "    w = np.random.randn(n)\n",
    "    w[null] = 0\n",
    "    y = (np.random.randn(k)*sigma + X.dot(w))\n",
    "    return y"
   ]
  },
  {
   "cell_type": "markdown",
   "metadata": {},
   "source": [
    "При генерирации данных, будем случайно выбирать кол-во объектов(200-1000) и признаков(2-100).\n",
    "\n",
    "Для измерения мощности сгенерируем данные, у которых все признаки значимы(соответсвует альтернативе) и найдем долю результатов теста Вальда и Фишера, когда принимается альтернатива(H1) - это и будет искомая мощность.\n",
    " \n",
    "Для измерения консервативности сгенерируем данные, у которых некое подмножество признаков не значимы(соотвестствующие веса обнулены). После чего найдем ошибку первого рода и проверим консервативность"
   ]
  },
  {
   "cell_type": "code",
   "execution_count": 286,
   "metadata": {},
   "outputs": [],
   "source": [
    "max = 1000\n",
    "alpha = 0.05"
   ]
  },
  {
   "cell_type": "code",
   "execution_count": 295,
   "metadata": {},
   "outputs": [
    {
     "data": {
      "application/vnd.jupyter.widget-view+json": {
       "model_id": "b2e83bbd89b448998910c069448c2045",
       "version_major": 2,
       "version_minor": 0
      },
      "text/plain": [
       "HBox(children=(IntProgress(value=0, max=1000), HTML(value='')))"
      ]
     },
     "metadata": {},
     "output_type": "display_data"
    }
   ],
   "source": [
    "h1W = 0\n",
    "h1F = 0\n",
    "for i in tqdm(range(max)):\n",
    "    X = gen_X(random.randint(200, 1000),random.randint(2,100))\n",
    "    res = sm.OLS(gen_y(X), X).fit()\n",
    "    numOfParams = len(res.params)\n",
    "    choice = np.random.choice(numOfParams, np.random.randint(1, numOfParams), replace=False)\n",
    "    R = np.eye(numOfParams)[choice, :]\n",
    "    if (res.f_test(R).pvalue < alpha):\n",
    "        h1F += 1\n",
    "    if (res.wald_test(R, use_f=False).pvalue < alpha):\n",
    "        h1W += 1         "
   ]
  },
  {
   "cell_type": "code",
   "execution_count": 296,
   "metadata": {},
   "outputs": [
    {
     "name": "stdout",
     "output_type": "stream",
     "text": [
      "Мощность теста Вальда: 0.997\n",
      "Мощность теста Фишера: 0.997\n"
     ]
    }
   ],
   "source": [
    "print(\"Мощность теста Вальда: {}\".format(h1W/max))\n",
    "print(\"Мощность теста Фишера: {}\".format(h1F/max))"
   ]
  },
  {
   "cell_type": "markdown",
   "metadata": {},
   "source": [
    "Довольно мощно!"
   ]
  },
  {
   "cell_type": "code",
   "execution_count": 297,
   "metadata": {},
   "outputs": [
    {
     "data": {
      "application/vnd.jupyter.widget-view+json": {
       "model_id": "72321f7c88124aa8904910619c154446",
       "version_major": 2,
       "version_minor": 0
      },
      "text/plain": [
       "HBox(children=(IntProgress(value=0, max=1000), HTML(value='')))"
      ]
     },
     "metadata": {},
     "output_type": "display_data"
    }
   ],
   "source": [
    "h0W = 0\n",
    "h0F = 0\n",
    "for i in tqdm(range(max)):\n",
    "    numOfParams = random.randint(2,100)\n",
    "    X = gen_X(random.randint(200, 1000), numOfParams)\n",
    "    choice = np.random.choice(numOfParams, np.random.randint(1, numOfParams), replace=False)\n",
    "    res = sm.OLS(gen_y(X, choice), X).fit()\n",
    "    R = np.eye(numOfParams)[choice, :]\n",
    "    if (res.f_test(R).pvalue < alpha):\n",
    "        h0F += 1\n",
    "    if (res.wald_test(R, use_f=False).pvalue < alpha):\n",
    "        h0W += 1         "
   ]
  },
  {
   "cell_type": "code",
   "execution_count": 298,
   "metadata": {},
   "outputs": [
    {
     "name": "stdout",
     "output_type": "stream",
     "text": [
      "Ошибка первого рода теста Вальда: 0.049\n",
      "Ошибка первого рода теста Фишера: 0.043\n"
     ]
    }
   ],
   "source": [
    "print(\"Ошибка первого рода теста Вальда: {}\".format(h0W/max))\n",
    "print(\"Ошибка первого рода теста Фишера: {}\".format(h0F/max))"
   ]
  },
  {
   "cell_type": "markdown",
   "metadata": {},
   "source": [
    "A test is conservative if, when constructed for a given nominal significance level, the true probability of incorrectly rejecting the null hypothesis is never greater than the nominal level."
   ]
  },
  {
   "cell_type": "markdown",
   "metadata": {},
   "source": [
    "Таким образом, методы на границе консервативности"
   ]
  }
 ],
 "metadata": {
  "kernelspec": {
   "display_name": "Python 3",
   "language": "python",
   "name": "python3"
  },
  "language_info": {
   "codemirror_mode": {
    "name": "ipython",
    "version": 3
   },
   "file_extension": ".py",
   "mimetype": "text/x-python",
   "name": "python",
   "nbconvert_exporter": "python",
   "pygments_lexer": "ipython3",
   "version": "3.6.5"
  }
 },
 "nbformat": 4,
 "nbformat_minor": 2
}
