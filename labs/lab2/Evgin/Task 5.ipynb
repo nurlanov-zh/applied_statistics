{
 "cells": [
  {
   "cell_type": "code",
   "execution_count": 11,
   "metadata": {},
   "outputs": [],
   "source": [
    "import pandas as pd\n",
    "import numpy as np"
   ]
  },
  {
   "cell_type": "code",
   "execution_count": 17,
   "metadata": {},
   "outputs": [
    {
     "data": {
      "text/plain": [
       "((286, 604, 35), (286, 604), (420, 620, 35))"
      ]
     },
     "execution_count": 17,
     "metadata": {},
     "output_type": "execute_result"
    }
   ],
   "source": [
    "x_train = np.load('./regression_x_train.npy')\n",
    "y_train = np.load('./regression_y_train.npy')\n",
    "x_test = np.load('./regression_x_test.npy')\n",
    "x_train.shape, y_train.shape, x_test.shape"
   ]
  },
  {
   "cell_type": "code",
   "execution_count": 24,
   "metadata": {},
   "outputs": [
    {
     "data": {
      "text/plain": [
       "(array([ 4.96714153e-01, -1.38264301e-01,  1.64768854e+00,  2.28854900e+00,\n",
       "         8.59431137e-01, -7.02410871e-02,  4.73763845e-01,  1.23023042e+00,\n",
       "         6.24676826e-01,  1.25635252e+00,  5.44733522e+00,  1.48588349e+01,\n",
       "         2.88740540e+01,  9.62871886e+02,  3.61391494e+01,  1.71745956e+01,\n",
       "         9.17664425e+01,  8.74765711e+01,  2.88478687e+01,  1.67077128e+02,\n",
       "         4.91997263e+02,  2.08234417e+02,  6.46764108e+00,  1.34644964e+02,\n",
       "         9.77187279e+01,  1.38643103e+02,  4.56076232e+01,  3.87500303e+01,\n",
       "         1.47605407e+02,  2.52427767e+02, -6.01706612e-01,  1.85227818e+00,\n",
       "        -1.34972247e-02, -1.05771093e+00,  8.22544912e-01]), 0.658740552536554)"
      ]
     },
     "execution_count": 24,
     "metadata": {},
     "output_type": "execute_result"
    }
   ],
   "source": [
    "i = 0\n",
    "j = 0\n",
    "x_train[i][j], y_train[i][j]"
   ]
  }
 ],
 "metadata": {
  "kernelspec": {
   "display_name": "Python 3",
   "language": "python",
   "name": "python3"
  },
  "language_info": {
   "codemirror_mode": {
    "name": "ipython",
    "version": 3
   },
   "file_extension": ".py",
   "mimetype": "text/x-python",
   "name": "python",
   "nbconvert_exporter": "python",
   "pygments_lexer": "ipython3",
   "version": "3.7.3"
  }
 },
 "nbformat": 4,
 "nbformat_minor": 2
}
