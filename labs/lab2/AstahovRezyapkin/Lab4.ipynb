{
  "nbformat": 4,
  "nbformat_minor": 0,
  "metadata": {
    "colab": {
      "name": "Lab4.ipynb",
      "version": "0.3.2",
      "provenance": [],
      "collapsed_sections": []
    },
    "kernelspec": {
      "name": "python3",
      "display_name": "Python 3"
    }
  },
  "cells": [
    {
      "metadata": {
        "id": "500TABC7im9r",
        "colab_type": "text"
      },
      "cell_type": "markdown",
      "source": [
        "## Задание"
      ]
    },
    {
      "metadata": {
        "id": "5A-BIcuShqPV",
        "colab_type": "text"
      },
      "cell_type": "markdown",
      "source": [
        "Изучить поведение модели пуассоновской регрессии для overdispersed-выборок."
      ]
    },
    {
      "metadata": {
        "id": "umbLPup1ilfb",
        "colab_type": "code",
        "colab": {}
      },
      "cell_type": "code",
      "source": [
        "import numpy as np\n",
        "import matplotlib.pyplot as plt\n",
        "import pandas as pd"
      ],
      "execution_count": 0,
      "outputs": []
    },
    {
      "metadata": {
        "id": "5dy1cjz2jDzp",
        "colab_type": "text"
      },
      "cell_type": "markdown",
      "source": [
        "### Данные"
      ]
    },
    {
      "metadata": {
        "id": "GBqSw0cjjjP8",
        "colab_type": "code",
        "colab": {}
      },
      "cell_type": "code",
      "source": [
        "df = pd.DataFrame(data=[], columns=['x', 'y'])"
      ],
      "execution_count": 0,
      "outputs": []
    },
    {
      "metadata": {
        "id": "5YbCaQDIjJoY",
        "colab_type": "code",
        "colab": {}
      },
      "cell_type": "code",
      "source": [
        "s = np.random.negative_binomial(1, 0.1, 100000)\n",
        "for i in range(1, 31):\n",
        "  probability = sum(s < i) / 100000.\n",
        "  df = df.append({'x' : i, 'y' : probability}, ignore_index=True)"
      ],
      "execution_count": 0,
      "outputs": []
    },
    {
      "metadata": {
        "id": "AzaWX2hqlmoC",
        "colab_type": "code",
        "outputId": "d0fb7d31-3bcd-4bc1-8cff-db947b22fffa",
        "colab": {
          "base_uri": "https://localhost:8080/",
          "height": 362
        }
      },
      "cell_type": "code",
      "source": [
        "plt.style.use('seaborn')\n",
        "plt.title('Кол-во неудач перед первым успехом')\n",
        "plt.hist(s)\n",
        "plt.show()"
      ],
      "execution_count": 0,
      "outputs": [
        {
          "output_type": "display_data",
          "data": {
            "image/png": "[encoded data removed]",
            "text/plain": [
              "<Figure size 576x396 with 1 Axes>"
            ]
          },
          "metadata": {
            "tags": []
          }
        }
      ]
    },
    {
      "metadata": {
        "id": "s4RWitegkF3o",
        "colab_type": "code",
        "outputId": "541a28fa-2e05-43e4-f0a6-b45df6974fed",
        "colab": {
          "base_uri": "https://localhost:8080/",
          "height": 197
        }
      },
      "cell_type": "code",
      "source": [
        "df.head()"
      ],
      "execution_count": 0,
      "outputs": [
        {
          "output_type": "execute_result",
          "data": {
            "text/html": [
              "<div>\n",
              "<style scoped>\n",
              "    .dataframe tbody tr th:only-of-type {\n",
              "        vertical-align: middle;\n",
              "    }\n",
              "\n",
              "    .dataframe tbody tr th {\n",
              "        vertical-align: top;\n",
              "    }\n",
              "\n",
              "    .dataframe thead th {\n",
              "        text-align: right;\n",
              "    }\n",
              "</style>\n",
              "<table border=\"1\" class=\"dataframe\">\n",
              "  <thead>\n",
              "    <tr style=\"text-align: right;\">\n",
              "      <th></th>\n",
              "      <th>x</th>\n",
              "      <th>y</th>\n",
              "    </tr>\n",
              "  </thead>\n",
              "  <tbody>\n",
              "    <tr>\n",
              "      <th>0</th>\n",
              "      <td>1.0</td>\n",
              "      <td>0.10068</td>\n",
              "    </tr>\n",
              "    <tr>\n",
              "      <th>1</th>\n",
              "      <td>2.0</td>\n",
              "      <td>0.19109</td>\n",
              "    </tr>\n",
              "    <tr>\n",
              "      <th>2</th>\n",
              "      <td>3.0</td>\n",
              "      <td>0.27319</td>\n",
              "    </tr>\n",
              "    <tr>\n",
              "      <th>3</th>\n",
              "      <td>4.0</td>\n",
              "      <td>0.34594</td>\n",
              "    </tr>\n",
              "    <tr>\n",
              "      <th>4</th>\n",
              "      <td>5.0</td>\n",
              "      <td>0.41082</td>\n",
              "    </tr>\n",
              "  </tbody>\n",
              "</table>\n",
              "</div>"
            ],
            "text/plain": [
              "     x        y\n",
              "0  1.0  0.10068\n",
              "1  2.0  0.19109\n",
              "2  3.0  0.27319\n",
              "3  4.0  0.34594\n",
              "4  5.0  0.41082"
            ]
          },
          "metadata": {
            "tags": []
          },
          "execution_count": 10
        }
      ]
    },
    {
      "metadata": {
        "id": "Ok4cD_whk9d9",
        "colab_type": "code",
        "outputId": "86037961-a80f-4d93-d49f-e258f31a1d35",
        "colab": {
          "base_uri": "https://localhost:8080/",
          "height": 351
        }
      },
      "cell_type": "code",
      "source": [
        "plt.style.use('seaborn')\n",
        "plt.plot(df['x'], df['y'], '-o')\n",
        "plt.show()"
      ],
      "execution_count": 0,
      "outputs": [
        {
          "output_type": "display_data",
          "data": {
            "image/png": "[encoded data removed]",
            "text/plain": [
              "<Figure size 576x396 with 1 Axes>"
            ]
          },
          "metadata": {
            "tags": []
          }
        }
      ]
    },
    {
      "metadata": {
        "id": "NPwMrnoykOIr",
        "colab_type": "code",
        "outputId": "7453600d-8afa-44c7-d12b-90677cea6c22",
        "colab": {
          "base_uri": "https://localhost:8080/",
          "height": 214
        }
      },
      "cell_type": "code",
      "source": [
        "import statsmodels.api as sm\n",
        "model = sm.GLM.from_formula('y~x',\n",
        "                            data=df, family=sm.families.NegativeBinomial()).fit()\n",
        "model.summary2()"
      ],
      "execution_count": 0,
      "outputs": [
        {
          "output_type": "execute_result",
          "data": {
            "text/html": [
              "<table class=\"simpletable\">\n",
              "<tr>\n",
              "        <td>Model:</td>               <td>GLM</td>            <td>AIC:</td>        <td>72.4093</td>\n",
              "</tr>\n",
              "<tr>\n",
              "    <td>Link Function:</td>           <td>log</td>            <td>BIC:</td>       <td>-94.6327</td>\n",
              "</tr>\n",
              "<tr>\n",
              "  <td>Dependent Variable:</td>         <td>y</td>        <td>Log-Likelihood:</td>  <td>-34.205</td>\n",
              "</tr>\n",
              "<tr>\n",
              "         <td>Date:</td>        <td>2019-04-27 16:12</td>    <td>LL-Null:</td>      <td>-34.881</td>\n",
              "</tr>\n",
              "<tr>\n",
              "   <td>No. Observations:</td>         <td>30</td>           <td>Deviance:</td>     <td>0.60081</td>\n",
              "</tr>\n",
              "<tr>\n",
              "       <td>Df Model:</td>              <td>1</td>         <td>Pearson chi2:</td>    <td>0.497</td> \n",
              "</tr>\n",
              "<tr>\n",
              "     <td>Df Residuals:</td>           <td>28</td>            <td>Scale:</td>       <td>1.0000</td> \n",
              "</tr>\n",
              "<tr>\n",
              "        <td>Method:</td>             <td>IRLS</td>              <td></td>             <td></td>    \n",
              "</tr>\n",
              "</table>\n",
              "<table class=\"simpletable\">\n",
              "<tr>\n",
              "      <td></td>       <th>Coef.</th>  <th>Std.Err.</th>    <th>z</th>     <th>P>|z|</th> <th>[0.025</th>  <th>0.975]</th>\n",
              "</tr>\n",
              "<tr>\n",
              "  <th>Intercept</th> <td>-1.0124</td>  <td>0.6486</td>  <td>-1.5611</td> <td>0.1185</td> <td>-2.2836</td> <td>0.2587</td>\n",
              "</tr>\n",
              "<tr>\n",
              "  <th>x</th>         <td>0.0399</td>   <td>0.0337</td>  <td>1.1822</td>  <td>0.2371</td> <td>-0.0262</td> <td>0.1060</td>\n",
              "</tr>\n",
              "</table>"
            ],
            "text/plain": [
              "<class 'statsmodels.iolib.summary2.Summary'>\n",
              "\"\"\"\n",
              "              Results: Generalized linear model\n",
              "=============================================================\n",
              "Model:              GLM              AIC:            72.4093 \n",
              "Link Function:      log              BIC:            -94.6327\n",
              "Dependent Variable: y                Log-Likelihood: -34.205 \n",
              "Date:               2019-04-27 16:12 LL-Null:        -34.881 \n",
              "No. Observations:   30               Deviance:       0.60081 \n",
              "Df Model:           1                Pearson chi2:   0.497   \n",
              "Df Residuals:       28               Scale:          1.0000  \n",
              "Method:             IRLS                                     \n",
              "--------------------------------------------------------------\n",
              "            Coef.   Std.Err.     z     P>|z|    [0.025  0.975]\n",
              "--------------------------------------------------------------\n",
              "Intercept  -1.0124    0.6486  -1.5611  0.1185  -2.2836  0.2587\n",
              "x           0.0399    0.0337   1.1822  0.2371  -0.0262  0.1060\n",
              "=============================================================\n",
              "\n",
              "\"\"\""
            ]
          },
          "metadata": {
            "tags": []
          },
          "execution_count": 11
        }
      ]
    },
    {
      "metadata": {
        "id": "J-sj0EMNm8W1",
        "colab_type": "code",
        "outputId": "52009180-07b6-4368-c261-c3bf15e61e74",
        "colab": {
          "base_uri": "https://localhost:8080/",
          "height": 34
        }
      },
      "cell_type": "code",
      "source": [
        "model.bic"
      ],
      "execution_count": 0,
      "outputs": [
        {
          "output_type": "execute_result",
          "data": {
            "text/plain": [
              "-94.63272042388395"
            ]
          },
          "metadata": {
            "tags": []
          },
          "execution_count": 16
        }
      ]
    },
    {
      "metadata": {
        "id": "sAaVHebZlUk5",
        "colab_type": "text"
      },
      "cell_type": "markdown",
      "source": [
        "Показатель overdispersion/underdispersion:  chi2 / Df Residuals"
      ]
    },
    {
      "metadata": {
        "id": "n2QpFfgRnWpo",
        "colab_type": "code",
        "outputId": "54915262-cf4f-4b3e-c54a-799215489acc",
        "colab": {
          "base_uri": "https://localhost:8080/",
          "height": 364
        }
      },
      "cell_type": "code",
      "source": [
        "plt.scatter(df['y'], model.predict(df['x']))\n",
        "plt.ylabel('Predicted')\n",
        "import scipy.stats as st\n",
        "st.kendalltau(df['y'], model.predict(df['x']))"
      ],
      "execution_count": 0,
      "outputs": [
        {
          "output_type": "execute_result",
          "data": {
            "text/plain": [
              "KendalltauResult(correlation=1.0, pvalue=7.539975257631811e-33)"
            ]
          },
          "metadata": {
            "tags": []
          },
          "execution_count": 18
        },
        {
          "output_type": "display_data",
          "data": {
            "image/png": "[encoded data removed]",
            "text/plain": [
              "<Figure size 576x396 with 1 Axes>"
            ]
          },
          "metadata": {
            "tags": []
          }
        }
      ]
    }
  ]
}