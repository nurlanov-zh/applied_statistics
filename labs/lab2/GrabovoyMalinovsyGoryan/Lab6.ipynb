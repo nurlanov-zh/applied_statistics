{
 "cells": [
  {
   "cell_type": "code",
   "execution_count": 1,
   "metadata": {},
   "outputs": [],
   "source": [
    "from statsmodels.stats.multitest import multipletests\n",
    "from statsmodels.formula.api import ols\n",
    "from tqdm import tqdm_notebook as tqdm\n",
    "\n",
    "import matplotlib.pylab as plt\n",
    "import statsmodels.api as sm\n",
    "import scipy.stats as st\n",
    "import seaborn as sns\n",
    "import pandas as pd\n",
    "import numpy as np\n",
    "import librosa\n",
    "import os"
   ]
  },
  {
   "cell_type": "markdown",
   "metadata": {},
   "source": [
    "считываем таблицу:"
   ]
  },
  {
   "cell_type": "code",
   "execution_count": 2,
   "metadata": {},
   "outputs": [],
   "source": [
    "dataframe = pd.read_csv(\"speakers_all.csv\")"
   ]
  },
  {
   "cell_type": "markdown",
   "metadata": {},
   "source": [
    "выводим и смотрим на данные:"
   ]
  },
  {
   "cell_type": "code",
   "execution_count": 3,
   "metadata": {},
   "outputs": [
    {
     "data": {
      "text/html": [
       "<div>\n",
       "<style scoped>\n",
       "    .dataframe tbody tr th:only-of-type {\n",
       "        vertical-align: middle;\n",
       "    }\n",
       "\n",
       "    .dataframe tbody tr th {\n",
       "        vertical-align: top;\n",
       "    }\n",
       "\n",
       "    .dataframe thead th {\n",
       "        text-align: right;\n",
       "    }\n",
       "</style>\n",
       "<table border=\"1\" class=\"dataframe\">\n",
       "  <thead>\n",
       "    <tr style=\"text-align: right;\">\n",
       "      <th></th>\n",
       "      <th>age</th>\n",
       "      <th>age_onset</th>\n",
       "      <th>birthplace</th>\n",
       "      <th>filename</th>\n",
       "      <th>native_language</th>\n",
       "      <th>sex</th>\n",
       "      <th>speakerid</th>\n",
       "      <th>country</th>\n",
       "      <th>file_missing?</th>\n",
       "      <th>Unnamed: 9</th>\n",
       "      <th>Unnamed: 10</th>\n",
       "      <th>Unnamed: 11</th>\n",
       "    </tr>\n",
       "  </thead>\n",
       "  <tbody>\n",
       "    <tr>\n",
       "      <th>0</th>\n",
       "      <td>24.0</td>\n",
       "      <td>12.0</td>\n",
       "      <td>koussi, senegal</td>\n",
       "      <td>balanta</td>\n",
       "      <td>balanta</td>\n",
       "      <td>male</td>\n",
       "      <td>788</td>\n",
       "      <td>senegal</td>\n",
       "      <td>True</td>\n",
       "      <td>NaN</td>\n",
       "      <td>NaN</td>\n",
       "      <td>NaN</td>\n",
       "    </tr>\n",
       "    <tr>\n",
       "      <th>1</th>\n",
       "      <td>18.0</td>\n",
       "      <td>10.0</td>\n",
       "      <td>buea, cameroon</td>\n",
       "      <td>cameroon</td>\n",
       "      <td>cameroon</td>\n",
       "      <td>male</td>\n",
       "      <td>1953</td>\n",
       "      <td>cameroon</td>\n",
       "      <td>True</td>\n",
       "      <td>NaN</td>\n",
       "      <td>NaN</td>\n",
       "      <td>NaN</td>\n",
       "    </tr>\n",
       "    <tr>\n",
       "      <th>2</th>\n",
       "      <td>48.0</td>\n",
       "      <td>8.0</td>\n",
       "      <td>hong, adamawa, nigeria</td>\n",
       "      <td>fulfulde</td>\n",
       "      <td>fulfulde</td>\n",
       "      <td>male</td>\n",
       "      <td>1037</td>\n",
       "      <td>nigeria</td>\n",
       "      <td>True</td>\n",
       "      <td>NaN</td>\n",
       "      <td>NaN</td>\n",
       "      <td>NaN</td>\n",
       "    </tr>\n",
       "    <tr>\n",
       "      <th>3</th>\n",
       "      <td>42.0</td>\n",
       "      <td>42.0</td>\n",
       "      <td>port-au-prince, haiti</td>\n",
       "      <td>haitian</td>\n",
       "      <td>haitian</td>\n",
       "      <td>male</td>\n",
       "      <td>1165</td>\n",
       "      <td>haiti</td>\n",
       "      <td>True</td>\n",
       "      <td>NaN</td>\n",
       "      <td>NaN</td>\n",
       "      <td>NaN</td>\n",
       "    </tr>\n",
       "    <tr>\n",
       "      <th>4</th>\n",
       "      <td>40.0</td>\n",
       "      <td>35.0</td>\n",
       "      <td>port-au-prince, haiti</td>\n",
       "      <td>haitian</td>\n",
       "      <td>haitian</td>\n",
       "      <td>male</td>\n",
       "      <td>1166</td>\n",
       "      <td>haiti</td>\n",
       "      <td>True</td>\n",
       "      <td>NaN</td>\n",
       "      <td>NaN</td>\n",
       "      <td>NaN</td>\n",
       "    </tr>\n",
       "  </tbody>\n",
       "</table>\n",
       "</div>"
      ],
      "text/plain": [
       "    age  age_onset              birthplace  filename native_language   sex  \\\n",
       "0  24.0       12.0         koussi, senegal   balanta         balanta  male   \n",
       "1  18.0       10.0          buea, cameroon  cameroon        cameroon  male   \n",
       "2  48.0        8.0  hong, adamawa, nigeria  fulfulde        fulfulde  male   \n",
       "3  42.0       42.0   port-au-prince, haiti   haitian         haitian  male   \n",
       "4  40.0       35.0   port-au-prince, haiti   haitian         haitian  male   \n",
       "\n",
       "   speakerid   country  file_missing?  Unnamed: 9  Unnamed: 10 Unnamed: 11  \n",
       "0        788   senegal           True         NaN          NaN         NaN  \n",
       "1       1953  cameroon           True         NaN          NaN         NaN  \n",
       "2       1037   nigeria           True         NaN          NaN         NaN  \n",
       "3       1165     haiti           True         NaN          NaN         NaN  \n",
       "4       1166     haiti           True         NaN          NaN         NaN  "
      ]
     },
     "execution_count": 3,
     "metadata": {},
     "output_type": "execute_result"
    }
   ],
   "source": [
    "dataframe.head()"
   ]
  },
  {
   "cell_type": "markdown",
   "metadata": {},
   "source": [
    "### Отобрать записи, соответствующие странам с минимум 30 респонеднтами в выборке\n",
    "\n",
    "Сделаем это следующим образом: сначала отбросим тех, у кого нет файла"
   ]
  },
  {
   "cell_type": "code",
   "execution_count": 4,
   "metadata": {},
   "outputs": [],
   "source": [
    "dataframe = dataframe[dataframe['file_missing?'] == False]"
   ]
  },
  {
   "cell_type": "markdown",
   "metadata": {},
   "source": [
    "теперь сгруппируем по странам и выведем с минимум 30 респонеднтами в выборке"
   ]
  },
  {
   "cell_type": "code",
   "execution_count": 5,
   "metadata": {},
   "outputs": [],
   "source": [
    "counts = dataframe.groupby('country').agg(['count'])\n",
    "index_countries = counts[counts['speakerid']['count']>30].index\n",
    "agg_dataframe = dataframe[dataframe.country.isin(index_countries)]\n"
   ]
  },
  {
   "cell_type": "markdown",
   "metadata": {},
   "source": [
    "Выводим таблицу"
   ]
  },
  {
   "cell_type": "code",
   "execution_count": 6,
   "metadata": {},
   "outputs": [
    {
     "data": {
      "text/html": [
       "<div>\n",
       "<style scoped>\n",
       "    .dataframe tbody tr th:only-of-type {\n",
       "        vertical-align: middle;\n",
       "    }\n",
       "\n",
       "    .dataframe tbody tr th {\n",
       "        vertical-align: top;\n",
       "    }\n",
       "\n",
       "    .dataframe thead th {\n",
       "        text-align: right;\n",
       "    }\n",
       "</style>\n",
       "<table border=\"1\" class=\"dataframe\">\n",
       "  <thead>\n",
       "    <tr style=\"text-align: right;\">\n",
       "      <th></th>\n",
       "      <th>age</th>\n",
       "      <th>age_onset</th>\n",
       "      <th>birthplace</th>\n",
       "      <th>filename</th>\n",
       "      <th>native_language</th>\n",
       "      <th>sex</th>\n",
       "      <th>speakerid</th>\n",
       "      <th>country</th>\n",
       "      <th>file_missing?</th>\n",
       "      <th>Unnamed: 9</th>\n",
       "      <th>Unnamed: 10</th>\n",
       "      <th>Unnamed: 11</th>\n",
       "    </tr>\n",
       "  </thead>\n",
       "  <tbody>\n",
       "    <tr>\n",
       "      <th>50</th>\n",
       "      <td>20.0</td>\n",
       "      <td>5.0</td>\n",
       "      <td>addis ababa, ethiopia</td>\n",
       "      <td>amharic1</td>\n",
       "      <td>amharic</td>\n",
       "      <td>female</td>\n",
       "      <td>6</td>\n",
       "      <td>ethiopia</td>\n",
       "      <td>False</td>\n",
       "      <td>NaN</td>\n",
       "      <td>NaN</td>\n",
       "      <td>NaN</td>\n",
       "    </tr>\n",
       "    <tr>\n",
       "      <th>51</th>\n",
       "      <td>29.0</td>\n",
       "      <td>19.0</td>\n",
       "      <td>gonder, ethiopia</td>\n",
       "      <td>amharic10</td>\n",
       "      <td>amharic</td>\n",
       "      <td>female</td>\n",
       "      <td>998</td>\n",
       "      <td>ethiopia</td>\n",
       "      <td>False</td>\n",
       "      <td>NaN</td>\n",
       "      <td>NaN</td>\n",
       "      <td>NaN</td>\n",
       "    </tr>\n",
       "    <tr>\n",
       "      <th>52</th>\n",
       "      <td>24.0</td>\n",
       "      <td>17.0</td>\n",
       "      <td>addis ababa, ethiopia</td>\n",
       "      <td>amharic11</td>\n",
       "      <td>amharic</td>\n",
       "      <td>female</td>\n",
       "      <td>1129</td>\n",
       "      <td>ethiopia</td>\n",
       "      <td>False</td>\n",
       "      <td>NaN</td>\n",
       "      <td>NaN</td>\n",
       "      <td>NaN</td>\n",
       "    </tr>\n",
       "    <tr>\n",
       "      <th>53</th>\n",
       "      <td>26.0</td>\n",
       "      <td>15.0</td>\n",
       "      <td>addis ababa, ethiopia</td>\n",
       "      <td>amharic12</td>\n",
       "      <td>amharic</td>\n",
       "      <td>female</td>\n",
       "      <td>1130</td>\n",
       "      <td>ethiopia</td>\n",
       "      <td>False</td>\n",
       "      <td>NaN</td>\n",
       "      <td>NaN</td>\n",
       "      <td>NaN</td>\n",
       "    </tr>\n",
       "    <tr>\n",
       "      <th>54</th>\n",
       "      <td>28.0</td>\n",
       "      <td>6.0</td>\n",
       "      <td>addis ababa, ethiopia</td>\n",
       "      <td>amharic13</td>\n",
       "      <td>amharic</td>\n",
       "      <td>female</td>\n",
       "      <td>1131</td>\n",
       "      <td>ethiopia</td>\n",
       "      <td>False</td>\n",
       "      <td>NaN</td>\n",
       "      <td>NaN</td>\n",
       "      <td>NaN</td>\n",
       "    </tr>\n",
       "  </tbody>\n",
       "</table>\n",
       "</div>"
      ],
      "text/plain": [
       "     age  age_onset             birthplace   filename native_language     sex  \\\n",
       "50  20.0        5.0  addis ababa, ethiopia   amharic1         amharic  female   \n",
       "51  29.0       19.0       gonder, ethiopia  amharic10         amharic  female   \n",
       "52  24.0       17.0  addis ababa, ethiopia  amharic11         amharic  female   \n",
       "53  26.0       15.0  addis ababa, ethiopia  amharic12         amharic  female   \n",
       "54  28.0        6.0  addis ababa, ethiopia  amharic13         amharic  female   \n",
       "\n",
       "    speakerid   country  file_missing?  Unnamed: 9  Unnamed: 10 Unnamed: 11  \n",
       "50          6  ethiopia          False         NaN          NaN         NaN  \n",
       "51        998  ethiopia          False         NaN          NaN         NaN  \n",
       "52       1129  ethiopia          False         NaN          NaN         NaN  \n",
       "53       1130  ethiopia          False         NaN          NaN         NaN  \n",
       "54       1131  ethiopia          False         NaN          NaN         NaN  "
      ]
     },
     "execution_count": 6,
     "metadata": {},
     "output_type": "execute_result"
    }
   ],
   "source": [
    "agg_dataframe.head()"
   ]
  },
  {
   "cell_type": "markdown",
   "metadata": {},
   "source": [
    "Добавим поле для zrc и удалим лишнии поля"
   ]
  },
  {
   "cell_type": "code",
   "execution_count": 7,
   "metadata": {},
   "outputs": [
    {
     "name": "stderr",
     "output_type": "stream",
     "text": [
      "/Library/Frameworks/Python.framework/Versions/3.6/lib/python3.6/site-packages/ipykernel_launcher.py:1: SettingWithCopyWarning: \n",
      "A value is trying to be set on a copy of a slice from a DataFrame.\n",
      "Try using .loc[row_indexer,col_indexer] = value instead\n",
      "\n",
      "See the caveats in the documentation: http://pandas.pydata.org/pandas-docs/stable/indexing.html#indexing-view-versus-copy\n",
      "  \"\"\"Entry point for launching an IPython kernel.\n"
     ]
    },
    {
     "data": {
      "text/html": [
       "<div>\n",
       "<style scoped>\n",
       "    .dataframe tbody tr th:only-of-type {\n",
       "        vertical-align: middle;\n",
       "    }\n",
       "\n",
       "    .dataframe tbody tr th {\n",
       "        vertical-align: top;\n",
       "    }\n",
       "\n",
       "    .dataframe thead th {\n",
       "        text-align: right;\n",
       "    }\n",
       "</style>\n",
       "<table border=\"1\" class=\"dataframe\">\n",
       "  <thead>\n",
       "    <tr style=\"text-align: right;\">\n",
       "      <th></th>\n",
       "      <th>age</th>\n",
       "      <th>filename</th>\n",
       "      <th>native_language</th>\n",
       "      <th>sex</th>\n",
       "      <th>zcr</th>\n",
       "    </tr>\n",
       "  </thead>\n",
       "  <tbody>\n",
       "    <tr>\n",
       "      <th>50</th>\n",
       "      <td>20.0</td>\n",
       "      <td>amharic1</td>\n",
       "      <td>amharic</td>\n",
       "      <td>female</td>\n",
       "      <td>0</td>\n",
       "    </tr>\n",
       "    <tr>\n",
       "      <th>51</th>\n",
       "      <td>29.0</td>\n",
       "      <td>amharic10</td>\n",
       "      <td>amharic</td>\n",
       "      <td>female</td>\n",
       "      <td>0</td>\n",
       "    </tr>\n",
       "    <tr>\n",
       "      <th>52</th>\n",
       "      <td>24.0</td>\n",
       "      <td>amharic11</td>\n",
       "      <td>amharic</td>\n",
       "      <td>female</td>\n",
       "      <td>0</td>\n",
       "    </tr>\n",
       "    <tr>\n",
       "      <th>53</th>\n",
       "      <td>26.0</td>\n",
       "      <td>amharic12</td>\n",
       "      <td>amharic</td>\n",
       "      <td>female</td>\n",
       "      <td>0</td>\n",
       "    </tr>\n",
       "    <tr>\n",
       "      <th>54</th>\n",
       "      <td>28.0</td>\n",
       "      <td>amharic13</td>\n",
       "      <td>amharic</td>\n",
       "      <td>female</td>\n",
       "      <td>0</td>\n",
       "    </tr>\n",
       "  </tbody>\n",
       "</table>\n",
       "</div>"
      ],
      "text/plain": [
       "     age   filename native_language     sex  zcr\n",
       "50  20.0   amharic1         amharic  female    0\n",
       "51  29.0  amharic10         amharic  female    0\n",
       "52  24.0  amharic11         amharic  female    0\n",
       "53  26.0  amharic12         amharic  female    0\n",
       "54  28.0  amharic13         amharic  female    0"
      ]
     },
     "execution_count": 7,
     "metadata": {},
     "output_type": "execute_result"
    }
   ],
   "source": [
    "agg_dataframe['zcr'] = 0\n",
    "\n",
    "del agg_dataframe['file_missing?']\n",
    "del agg_dataframe['Unnamed: 9']\n",
    "del agg_dataframe['Unnamed: 10']\n",
    "del agg_dataframe['Unnamed: 11']\n",
    "del agg_dataframe['speakerid']\n",
    "del agg_dataframe['age_onset']\n",
    "del agg_dataframe['country']\n",
    "del agg_dataframe['birthplace']\n",
    "\n",
    "agg_dataframe.head()"
   ]
  },
  {
   "cell_type": "markdown",
   "metadata": {},
   "source": [
    "### Считаем zrc"
   ]
  },
  {
   "cell_type": "code",
   "execution_count": 8,
   "metadata": {},
   "outputs": [],
   "source": [
    "# values = agg_dataframe.values\n",
    "\n",
    "# for obj in tqdm(values):\n",
    "#     a , sr = librosa.load('recordings/'+obj[1]+'.mp3')\n",
    "#     zero_crossings = librosa.zero_crossings(a, pad=False)\n",
    "#     obj[-1] = sum(zero_crossings)\n",
    "# agg_dataframe = pd.DataFrame(values, columns=agg_dataframe.columns)\n",
    "# del agg_dataframe['filename']\n",
    "# agg_dataframe.to_csv('full_data.csv', index=False)"
   ]
  },
  {
   "cell_type": "markdown",
   "metadata": {},
   "source": [
    "Закомментируем эту часть, так как она занимает много времени и будет открывать уже сохраненную таблицу"
   ]
  },
  {
   "cell_type": "markdown",
   "metadata": {},
   "source": [
    "### ANOVA анализ"
   ]
  },
  {
   "cell_type": "code",
   "execution_count": 9,
   "metadata": {},
   "outputs": [],
   "source": [
    "dataframe = pd.read_csv('full_data.csv')"
   ]
  },
  {
   "cell_type": "code",
   "execution_count": 10,
   "metadata": {},
   "outputs": [
    {
     "data": {
      "text/html": [
       "<div>\n",
       "<style scoped>\n",
       "    .dataframe tbody tr th:only-of-type {\n",
       "        vertical-align: middle;\n",
       "    }\n",
       "\n",
       "    .dataframe tbody tr th {\n",
       "        vertical-align: top;\n",
       "    }\n",
       "\n",
       "    .dataframe thead th {\n",
       "        text-align: right;\n",
       "    }\n",
       "</style>\n",
       "<table border=\"1\" class=\"dataframe\">\n",
       "  <thead>\n",
       "    <tr style=\"text-align: right;\">\n",
       "      <th></th>\n",
       "      <th>age</th>\n",
       "      <th>nl</th>\n",
       "      <th>sex</th>\n",
       "      <th>zcr</th>\n",
       "    </tr>\n",
       "  </thead>\n",
       "  <tbody>\n",
       "    <tr>\n",
       "      <th>0</th>\n",
       "      <td>20.0</td>\n",
       "      <td>amharic</td>\n",
       "      <td>female</td>\n",
       "      <td>67648</td>\n",
       "    </tr>\n",
       "    <tr>\n",
       "      <th>1</th>\n",
       "      <td>29.0</td>\n",
       "      <td>amharic</td>\n",
       "      <td>female</td>\n",
       "      <td>73605</td>\n",
       "    </tr>\n",
       "    <tr>\n",
       "      <th>2</th>\n",
       "      <td>24.0</td>\n",
       "      <td>amharic</td>\n",
       "      <td>female</td>\n",
       "      <td>80432</td>\n",
       "    </tr>\n",
       "    <tr>\n",
       "      <th>3</th>\n",
       "      <td>26.0</td>\n",
       "      <td>amharic</td>\n",
       "      <td>female</td>\n",
       "      <td>64450</td>\n",
       "    </tr>\n",
       "    <tr>\n",
       "      <th>4</th>\n",
       "      <td>28.0</td>\n",
       "      <td>amharic</td>\n",
       "      <td>female</td>\n",
       "      <td>103724</td>\n",
       "    </tr>\n",
       "  </tbody>\n",
       "</table>\n",
       "</div>"
      ],
      "text/plain": [
       "    age       nl     sex     zcr\n",
       "0  20.0  amharic  female   67648\n",
       "1  29.0  amharic  female   73605\n",
       "2  24.0  amharic  female   80432\n",
       "3  26.0  amharic  female   64450\n",
       "4  28.0  amharic  female  103724"
      ]
     },
     "execution_count": 10,
     "metadata": {},
     "output_type": "execute_result"
    }
   ],
   "source": [
    "dataframe.head()"
   ]
  },
  {
   "cell_type": "markdown",
   "metadata": {},
   "source": [
    "Так как количество уникальных пар (язык, возраст) больше количества объектов в выборке, то если мы оставим в таком виде, то задача будет не корректной.\n",
    "\n",
    "Введем возрастные группы, а именно разобъем все объекты по возрасту с шагом в 11 лет\n",
    "\n",
    "Такой прием дает нам возможность использовать ANOVA анализ"
   ]
  },
  {
   "cell_type": "code",
   "execution_count": 11,
   "metadata": {},
   "outputs": [],
   "source": [
    "X = dataframe.values\n",
    "new_age = np.arange(np.min(X[:, 0]), np.max(X[:, 0]), 11)\n",
    "res = (X[:, 0] - new_age.reshape([-1,1])).T\n",
    "\n",
    "new_index = np.argmin(np.abs(res), axis = -1)\n",
    "\n",
    "dataframe['age'] = new_age[new_index]"
   ]
  },
  {
   "cell_type": "code",
   "execution_count": 12,
   "metadata": {},
   "outputs": [
    {
     "data": {
      "text/html": [
       "<div>\n",
       "<style scoped>\n",
       "    .dataframe tbody tr th:only-of-type {\n",
       "        vertical-align: middle;\n",
       "    }\n",
       "\n",
       "    .dataframe tbody tr th {\n",
       "        vertical-align: top;\n",
       "    }\n",
       "\n",
       "    .dataframe thead th {\n",
       "        text-align: right;\n",
       "    }\n",
       "</style>\n",
       "<table border=\"1\" class=\"dataframe\">\n",
       "  <thead>\n",
       "    <tr style=\"text-align: right;\">\n",
       "      <th></th>\n",
       "      <th>age</th>\n",
       "      <th>nl</th>\n",
       "      <th>sex</th>\n",
       "      <th>zcr</th>\n",
       "    </tr>\n",
       "  </thead>\n",
       "  <tbody>\n",
       "    <tr>\n",
       "      <th>0</th>\n",
       "      <td>17.0</td>\n",
       "      <td>amharic</td>\n",
       "      <td>female</td>\n",
       "      <td>67648</td>\n",
       "    </tr>\n",
       "    <tr>\n",
       "      <th>1</th>\n",
       "      <td>28.0</td>\n",
       "      <td>amharic</td>\n",
       "      <td>female</td>\n",
       "      <td>73605</td>\n",
       "    </tr>\n",
       "    <tr>\n",
       "      <th>2</th>\n",
       "      <td>28.0</td>\n",
       "      <td>amharic</td>\n",
       "      <td>female</td>\n",
       "      <td>80432</td>\n",
       "    </tr>\n",
       "    <tr>\n",
       "      <th>3</th>\n",
       "      <td>28.0</td>\n",
       "      <td>amharic</td>\n",
       "      <td>female</td>\n",
       "      <td>64450</td>\n",
       "    </tr>\n",
       "    <tr>\n",
       "      <th>4</th>\n",
       "      <td>28.0</td>\n",
       "      <td>amharic</td>\n",
       "      <td>female</td>\n",
       "      <td>103724</td>\n",
       "    </tr>\n",
       "  </tbody>\n",
       "</table>\n",
       "</div>"
      ],
      "text/plain": [
       "    age       nl     sex     zcr\n",
       "0  17.0  amharic  female   67648\n",
       "1  28.0  amharic  female   73605\n",
       "2  28.0  amharic  female   80432\n",
       "3  28.0  amharic  female   64450\n",
       "4  28.0  amharic  female  103724"
      ]
     },
     "execution_count": 12,
     "metadata": {},
     "output_type": "execute_result"
    }
   ],
   "source": [
    "dataframe.head()"
   ]
  },
  {
   "cell_type": "markdown",
   "metadata": {},
   "source": [
    "### Теперь перейдем непосредственно к ANOVA"
   ]
  },
  {
   "cell_type": "code",
   "execution_count": 16,
   "metadata": {},
   "outputs": [
    {
     "data": {
      "text/html": [
       "<div>\n",
       "<style scoped>\n",
       "    .dataframe tbody tr th:only-of-type {\n",
       "        vertical-align: middle;\n",
       "    }\n",
       "\n",
       "    .dataframe tbody tr th {\n",
       "        vertical-align: top;\n",
       "    }\n",
       "\n",
       "    .dataframe thead th {\n",
       "        text-align: right;\n",
       "    }\n",
       "</style>\n",
       "<table border=\"1\" class=\"dataframe\">\n",
       "  <thead>\n",
       "    <tr style=\"text-align: right;\">\n",
       "      <th></th>\n",
       "      <th>df</th>\n",
       "      <th>sum_sq</th>\n",
       "      <th>mean_sq</th>\n",
       "      <th>F</th>\n",
       "      <th>PR(&gt;F)</th>\n",
       "    </tr>\n",
       "  </thead>\n",
       "  <tbody>\n",
       "    <tr>\n",
       "      <th>C(sex)</th>\n",
       "      <td>1.0</td>\n",
       "      <td>1.777982e+10</td>\n",
       "      <td>1.777982e+10</td>\n",
       "      <td>26.627208</td>\n",
       "      <td>3.074567e-07</td>\n",
       "    </tr>\n",
       "    <tr>\n",
       "      <th>C(age)</th>\n",
       "      <td>8.0</td>\n",
       "      <td>1.554634e+10</td>\n",
       "      <td>1.943293e+09</td>\n",
       "      <td>2.910292</td>\n",
       "      <td>3.301338e-03</td>\n",
       "    </tr>\n",
       "    <tr>\n",
       "      <th>C(nl)</th>\n",
       "      <td>55.0</td>\n",
       "      <td>2.644670e+11</td>\n",
       "      <td>4.808490e+09</td>\n",
       "      <td>7.201236</td>\n",
       "      <td>9.699259e-42</td>\n",
       "    </tr>\n",
       "    <tr>\n",
       "      <th>C(sex):C(age)</th>\n",
       "      <td>8.0</td>\n",
       "      <td>3.822639e+09</td>\n",
       "      <td>4.778298e+08</td>\n",
       "      <td>0.715602</td>\n",
       "      <td>6.779228e-01</td>\n",
       "    </tr>\n",
       "    <tr>\n",
       "      <th>C(sex):C(nl)</th>\n",
       "      <td>55.0</td>\n",
       "      <td>4.680000e+10</td>\n",
       "      <td>8.509090e+08</td>\n",
       "      <td>1.274329</td>\n",
       "      <td>9.130925e-02</td>\n",
       "    </tr>\n",
       "    <tr>\n",
       "      <th>C(age):C(nl)</th>\n",
       "      <td>440.0</td>\n",
       "      <td>3.089407e+11</td>\n",
       "      <td>7.021381e+08</td>\n",
       "      <td>1.051528</td>\n",
       "      <td>2.693417e-01</td>\n",
       "    </tr>\n",
       "    <tr>\n",
       "      <th>C(sex):C(age):C(nl)</th>\n",
       "      <td>440.0</td>\n",
       "      <td>3.113391e+11</td>\n",
       "      <td>7.075889e+08</td>\n",
       "      <td>1.059691</td>\n",
       "      <td>2.393622e-01</td>\n",
       "    </tr>\n",
       "    <tr>\n",
       "      <th>Residual</th>\n",
       "      <td>848.0</td>\n",
       "      <td>5.662361e+11</td>\n",
       "      <td>6.677312e+08</td>\n",
       "      <td>NaN</td>\n",
       "      <td>NaN</td>\n",
       "    </tr>\n",
       "  </tbody>\n",
       "</table>\n",
       "</div>"
      ],
      "text/plain": [
       "                        df        sum_sq       mean_sq          F  \\\n",
       "C(sex)                 1.0  1.777982e+10  1.777982e+10  26.627208   \n",
       "C(age)                 8.0  1.554634e+10  1.943293e+09   2.910292   \n",
       "C(nl)                 55.0  2.644670e+11  4.808490e+09   7.201236   \n",
       "C(sex):C(age)          8.0  3.822639e+09  4.778298e+08   0.715602   \n",
       "C(sex):C(nl)          55.0  4.680000e+10  8.509090e+08   1.274329   \n",
       "C(age):C(nl)         440.0  3.089407e+11  7.021381e+08   1.051528   \n",
       "C(sex):C(age):C(nl)  440.0  3.113391e+11  7.075889e+08   1.059691   \n",
       "Residual             848.0  5.662361e+11  6.677312e+08        NaN   \n",
       "\n",
       "                           PR(>F)  \n",
       "C(sex)               3.074567e-07  \n",
       "C(age)               3.301338e-03  \n",
       "C(nl)                9.699259e-42  \n",
       "C(sex):C(age)        6.779228e-01  \n",
       "C(sex):C(nl)         9.130925e-02  \n",
       "C(age):C(nl)         2.693417e-01  \n",
       "C(sex):C(age):C(nl)  2.393622e-01  \n",
       "Residual                      NaN  "
      ]
     },
     "execution_count": 16,
     "metadata": {},
     "output_type": "execute_result"
    }
   ],
   "source": [
    "lm = ols('zcr ~ C(sex)*C(age)*C(nl)', data = dataframe).fit()\n",
    "table = sm.stats.anova_lm(lm, typ=1)\n",
    "table"
   ]
  },
  {
   "cell_type": "code",
   "execution_count": 34,
   "metadata": {},
   "outputs": [
    {
     "data": {
      "text/plain": [
       "array([ True,  True,  True,  True])"
      ]
     },
     "execution_count": 34,
     "metadata": {},
     "output_type": "execute_result"
    }
   ],
   "source": [
    "multipletests(table.values[:, -1][:-1], alpha=0.15, method='holm')[0]"
   ]
  },
  {
   "cell_type": "markdown",
   "metadata": {},
   "source": [
    "Межфакторное взаемодействие всех трех незначимо, поэтому используем только попарные."
   ]
  },
  {
   "cell_type": "code",
   "execution_count": 30,
   "metadata": {},
   "outputs": [
    {
     "data": {
      "text/html": [
       "<div>\n",
       "<style scoped>\n",
       "    .dataframe tbody tr th:only-of-type {\n",
       "        vertical-align: middle;\n",
       "    }\n",
       "\n",
       "    .dataframe tbody tr th {\n",
       "        vertical-align: top;\n",
       "    }\n",
       "\n",
       "    .dataframe thead th {\n",
       "        text-align: right;\n",
       "    }\n",
       "</style>\n",
       "<table border=\"1\" class=\"dataframe\">\n",
       "  <thead>\n",
       "    <tr style=\"text-align: right;\">\n",
       "      <th></th>\n",
       "      <th>df</th>\n",
       "      <th>sum_sq</th>\n",
       "      <th>mean_sq</th>\n",
       "      <th>F</th>\n",
       "      <th>PR(&gt;F)</th>\n",
       "    </tr>\n",
       "  </thead>\n",
       "  <tbody>\n",
       "    <tr>\n",
       "      <th>C(sex)</th>\n",
       "      <td>1.0</td>\n",
       "      <td>1.777982e+10</td>\n",
       "      <td>1.777982e+10</td>\n",
       "      <td>26.017268</td>\n",
       "      <td>4.147958e-07</td>\n",
       "    </tr>\n",
       "    <tr>\n",
       "      <th>C(nl)</th>\n",
       "      <td>55.0</td>\n",
       "      <td>2.567531e+11</td>\n",
       "      <td>4.668237e+09</td>\n",
       "      <td>6.831047</td>\n",
       "      <td>2.242574e-39</td>\n",
       "    </tr>\n",
       "    <tr>\n",
       "      <th>C(age)</th>\n",
       "      <td>8.0</td>\n",
       "      <td>2.326026e+10</td>\n",
       "      <td>2.907532e+09</td>\n",
       "      <td>4.254602</td>\n",
       "      <td>4.989679e-05</td>\n",
       "    </tr>\n",
       "    <tr>\n",
       "      <th>C(sex):C(nl)</th>\n",
       "      <td>55.0</td>\n",
       "      <td>8.501600e+10</td>\n",
       "      <td>1.545745e+09</td>\n",
       "      <td>2.261894</td>\n",
       "      <td>1.031580e-06</td>\n",
       "    </tr>\n",
       "    <tr>\n",
       "      <th>C(age):C(nl)</th>\n",
       "      <td>440.0</td>\n",
       "      <td>2.847537e+11</td>\n",
       "      <td>6.471676e+08</td>\n",
       "      <td>0.947003</td>\n",
       "      <td>7.414013e-01</td>\n",
       "    </tr>\n",
       "    <tr>\n",
       "      <th>C(age):C(sex)</th>\n",
       "      <td>8.0</td>\n",
       "      <td>3.858149e+09</td>\n",
       "      <td>4.822686e+08</td>\n",
       "      <td>0.705705</td>\n",
       "      <td>6.867305e-01</td>\n",
       "    </tr>\n",
       "    <tr>\n",
       "      <th>Residual</th>\n",
       "      <td>877.0</td>\n",
       "      <td>5.993289e+11</td>\n",
       "      <td>6.833853e+08</td>\n",
       "      <td>NaN</td>\n",
       "      <td>NaN</td>\n",
       "    </tr>\n",
       "  </tbody>\n",
       "</table>\n",
       "</div>"
      ],
      "text/plain": [
       "                  df        sum_sq       mean_sq          F        PR(>F)\n",
       "C(sex)           1.0  1.777982e+10  1.777982e+10  26.017268  4.147958e-07\n",
       "C(nl)           55.0  2.567531e+11  4.668237e+09   6.831047  2.242574e-39\n",
       "C(age)           8.0  2.326026e+10  2.907532e+09   4.254602  4.989679e-05\n",
       "C(sex):C(nl)    55.0  8.501600e+10  1.545745e+09   2.261894  1.031580e-06\n",
       "C(age):C(nl)   440.0  2.847537e+11  6.471676e+08   0.947003  7.414013e-01\n",
       "C(age):C(sex)    8.0  3.858149e+09  4.822686e+08   0.705705  6.867305e-01\n",
       "Residual       877.0  5.993289e+11  6.833853e+08        NaN           NaN"
      ]
     },
     "execution_count": 30,
     "metadata": {},
     "output_type": "execute_result"
    }
   ],
   "source": [
    "lm = ols('zcr ~ C(sex)*C(nl)+C(age)*C(nl)+C(age)*C(sex)', data = dataframe).fit()\n",
    "table = sm.stats.anova_lm(lm, typ=1)\n",
    "table"
   ]
  },
  {
   "cell_type": "code",
   "execution_count": 32,
   "metadata": {},
   "outputs": [
    {
     "data": {
      "text/plain": [
       "array([ True,  True,  True,  True, False, False])"
      ]
     },
     "execution_count": 32,
     "metadata": {},
     "output_type": "execute_result"
    }
   ],
   "source": [
    "multipletests(table.values[:, -1][:-1], alpha=0.15, method='holm')[0]"
   ]
  },
  {
   "cell_type": "markdown",
   "metadata": {},
   "source": [
    "Межфакторныя взаемодействия между парами (age, nl) и (age, sex) не значимы. "
   ]
  },
  {
   "cell_type": "code",
   "execution_count": 33,
   "metadata": {},
   "outputs": [
    {
     "data": {
      "text/html": [
       "<div>\n",
       "<style scoped>\n",
       "    .dataframe tbody tr th:only-of-type {\n",
       "        vertical-align: middle;\n",
       "    }\n",
       "\n",
       "    .dataframe tbody tr th {\n",
       "        vertical-align: top;\n",
       "    }\n",
       "\n",
       "    .dataframe thead th {\n",
       "        text-align: right;\n",
       "    }\n",
       "</style>\n",
       "<table border=\"1\" class=\"dataframe\">\n",
       "  <thead>\n",
       "    <tr style=\"text-align: right;\">\n",
       "      <th></th>\n",
       "      <th>df</th>\n",
       "      <th>sum_sq</th>\n",
       "      <th>mean_sq</th>\n",
       "      <th>F</th>\n",
       "      <th>PR(&gt;F)</th>\n",
       "    </tr>\n",
       "  </thead>\n",
       "  <tbody>\n",
       "    <tr>\n",
       "      <th>C(sex)</th>\n",
       "      <td>1.0</td>\n",
       "      <td>1.777982e+10</td>\n",
       "      <td>1.777982e+10</td>\n",
       "      <td>24.418176</td>\n",
       "      <td>9.152531e-07</td>\n",
       "    </tr>\n",
       "    <tr>\n",
       "      <th>C(nl)</th>\n",
       "      <td>55.0</td>\n",
       "      <td>2.567531e+11</td>\n",
       "      <td>4.668237e+09</td>\n",
       "      <td>6.411193</td>\n",
       "      <td>6.576839e-37</td>\n",
       "    </tr>\n",
       "    <tr>\n",
       "      <th>C(age)</th>\n",
       "      <td>8.0</td>\n",
       "      <td>2.326026e+10</td>\n",
       "      <td>2.907532e+09</td>\n",
       "      <td>3.993102</td>\n",
       "      <td>1.134734e-04</td>\n",
       "    </tr>\n",
       "    <tr>\n",
       "      <th>C(sex):C(nl)</th>\n",
       "      <td>55.0</td>\n",
       "      <td>1.091337e+11</td>\n",
       "      <td>1.984249e+09</td>\n",
       "      <td>2.725098</td>\n",
       "      <td>9.141371e-10</td>\n",
       "    </tr>\n",
       "    <tr>\n",
       "      <th>Residual</th>\n",
       "      <td>955.0</td>\n",
       "      <td>6.953725e+11</td>\n",
       "      <td>7.281387e+08</td>\n",
       "      <td>NaN</td>\n",
       "      <td>NaN</td>\n",
       "    </tr>\n",
       "  </tbody>\n",
       "</table>\n",
       "</div>"
      ],
      "text/plain": [
       "                 df        sum_sq       mean_sq          F        PR(>F)\n",
       "C(sex)          1.0  1.777982e+10  1.777982e+10  24.418176  9.152531e-07\n",
       "C(nl)          55.0  2.567531e+11  4.668237e+09   6.411193  6.576839e-37\n",
       "C(age)          8.0  2.326026e+10  2.907532e+09   3.993102  1.134734e-04\n",
       "C(sex):C(nl)   55.0  1.091337e+11  1.984249e+09   2.725098  9.141371e-10\n",
       "Residual      955.0  6.953725e+11  7.281387e+08        NaN           NaN"
      ]
     },
     "execution_count": 33,
     "metadata": {},
     "output_type": "execute_result"
    }
   ],
   "source": [
    "lm = ols('zcr ~ C(sex)*C(nl)+C(age)', data = dataframe).fit()\n",
    "table = sm.stats.anova_lm(lm, typ=1)\n",
    "table"
   ]
  },
  {
   "cell_type": "markdown",
   "metadata": {},
   "source": [
    "Межфакторное взаемодействие между sex и nl значимо, поэтому поделим по sex"
   ]
  },
  {
   "cell_type": "code",
   "execution_count": 36,
   "metadata": {},
   "outputs": [
    {
     "data": {
      "text/html": [
       "<div>\n",
       "<style scoped>\n",
       "    .dataframe tbody tr th:only-of-type {\n",
       "        vertical-align: middle;\n",
       "    }\n",
       "\n",
       "    .dataframe tbody tr th {\n",
       "        vertical-align: top;\n",
       "    }\n",
       "\n",
       "    .dataframe thead th {\n",
       "        text-align: right;\n",
       "    }\n",
       "</style>\n",
       "<table border=\"1\" class=\"dataframe\">\n",
       "  <thead>\n",
       "    <tr style=\"text-align: right;\">\n",
       "      <th></th>\n",
       "      <th>df</th>\n",
       "      <th>sum_sq</th>\n",
       "      <th>mean_sq</th>\n",
       "      <th>F</th>\n",
       "      <th>PR(&gt;F)</th>\n",
       "    </tr>\n",
       "  </thead>\n",
       "  <tbody>\n",
       "    <tr>\n",
       "      <th>C(nl)</th>\n",
       "      <td>42.0</td>\n",
       "      <td>1.998651e+11</td>\n",
       "      <td>4.758693e+09</td>\n",
       "      <td>6.753753</td>\n",
       "      <td>1.089172e-27</td>\n",
       "    </tr>\n",
       "    <tr>\n",
       "      <th>C(age)</th>\n",
       "      <td>7.0</td>\n",
       "      <td>1.328823e+10</td>\n",
       "      <td>1.898319e+09</td>\n",
       "      <td>2.694181</td>\n",
       "      <td>9.612484e-03</td>\n",
       "    </tr>\n",
       "    <tr>\n",
       "      <th>Residual</th>\n",
       "      <td>454.0</td>\n",
       "      <td>3.198883e+11</td>\n",
       "      <td>7.045997e+08</td>\n",
       "      <td>NaN</td>\n",
       "      <td>NaN</td>\n",
       "    </tr>\n",
       "  </tbody>\n",
       "</table>\n",
       "</div>"
      ],
      "text/plain": [
       "             df        sum_sq       mean_sq         F        PR(>F)\n",
       "C(nl)      42.0  1.998651e+11  4.758693e+09  6.753753  1.089172e-27\n",
       "C(age)      7.0  1.328823e+10  1.898319e+09  2.694181  9.612484e-03\n",
       "Residual  454.0  3.198883e+11  7.045997e+08       NaN           NaN"
      ]
     },
     "execution_count": 36,
     "metadata": {},
     "output_type": "execute_result"
    }
   ],
   "source": [
    "lm = ols('zcr ~ C(nl)+C(age)', data = dataframe.loc[dataframe['sex'] == 'female']).fit()\n",
    "table = sm.stats.anova_lm(lm, typ=1)\n",
    "table"
   ]
  },
  {
   "cell_type": "code",
   "execution_count": 38,
   "metadata": {},
   "outputs": [
    {
     "data": {
      "text/plain": [
       "array([ True,  True])"
      ]
     },
     "execution_count": 38,
     "metadata": {},
     "output_type": "execute_result"
    }
   ],
   "source": [
    "multipletests(table.values[:, -1][:-1], alpha=0.15, method='holm')[0]"
   ]
  },
  {
   "cell_type": "code",
   "execution_count": 37,
   "metadata": {},
   "outputs": [
    {
     "data": {
      "text/html": [
       "<div>\n",
       "<style scoped>\n",
       "    .dataframe tbody tr th:only-of-type {\n",
       "        vertical-align: middle;\n",
       "    }\n",
       "\n",
       "    .dataframe tbody tr th {\n",
       "        vertical-align: top;\n",
       "    }\n",
       "\n",
       "    .dataframe thead th {\n",
       "        text-align: right;\n",
       "    }\n",
       "</style>\n",
       "<table border=\"1\" class=\"dataframe\">\n",
       "  <thead>\n",
       "    <tr style=\"text-align: right;\">\n",
       "      <th></th>\n",
       "      <th>df</th>\n",
       "      <th>sum_sq</th>\n",
       "      <th>mean_sq</th>\n",
       "      <th>F</th>\n",
       "      <th>PR(&gt;F)</th>\n",
       "    </tr>\n",
       "  </thead>\n",
       "  <tbody>\n",
       "    <tr>\n",
       "      <th>C(nl)</th>\n",
       "      <td>38.0</td>\n",
       "      <td>6.978083e+10</td>\n",
       "      <td>1.836338e+09</td>\n",
       "      <td>2.433295</td>\n",
       "      <td>0.000008</td>\n",
       "    </tr>\n",
       "    <tr>\n",
       "      <th>C(age)</th>\n",
       "      <td>8.0</td>\n",
       "      <td>1.346716e+10</td>\n",
       "      <td>1.683395e+09</td>\n",
       "      <td>2.230634</td>\n",
       "      <td>0.024125</td>\n",
       "    </tr>\n",
       "    <tr>\n",
       "      <th>Residual</th>\n",
       "      <td>494.0</td>\n",
       "      <td>3.728076e+11</td>\n",
       "      <td>7.546712e+08</td>\n",
       "      <td>NaN</td>\n",
       "      <td>NaN</td>\n",
       "    </tr>\n",
       "  </tbody>\n",
       "</table>\n",
       "</div>"
      ],
      "text/plain": [
       "             df        sum_sq       mean_sq         F    PR(>F)\n",
       "C(nl)      38.0  6.978083e+10  1.836338e+09  2.433295  0.000008\n",
       "C(age)      8.0  1.346716e+10  1.683395e+09  2.230634  0.024125\n",
       "Residual  494.0  3.728076e+11  7.546712e+08       NaN       NaN"
      ]
     },
     "execution_count": 37,
     "metadata": {},
     "output_type": "execute_result"
    }
   ],
   "source": [
    "lm = ols('zcr ~ C(nl)+C(age)', data = dataframe.loc[dataframe['sex'] == 'male']).fit()\n",
    "table = sm.stats.anova_lm(lm, typ=1)\n",
    "table"
   ]
  },
  {
   "cell_type": "code",
   "execution_count": 39,
   "metadata": {},
   "outputs": [
    {
     "data": {
      "text/plain": [
       "array([ True,  True])"
      ]
     },
     "execution_count": 39,
     "metadata": {},
     "output_type": "execute_result"
    }
   ],
   "source": [
    "multipletests(table.values[:, -1][:-1], alpha=0.15, method='holm')[0]"
   ]
  },
  {
   "cell_type": "markdown",
   "metadata": {},
   "source": [
    "### Вывод\n",
    "Полученные результаты показывают, что межфакторное взаемодействие в данной задаче важно только между полом и возрастом испытумых. Также было получено, что трехфакторное взаемодействие не нужно."
   ]
  }
 ],
 "metadata": {
  "kernelspec": {
   "display_name": "Python 3",
   "language": "python",
   "name": "python3"
  },
  "language_info": {
   "codemirror_mode": {
    "name": "ipython",
    "version": 3
   },
   "file_extension": ".py",
   "mimetype": "text/x-python",
   "name": "python",
   "nbconvert_exporter": "python",
   "pygments_lexer": "ipython3",
   "version": "3.6.2"
  }
 },
 "nbformat": 4,
 "nbformat_minor": 2
}
