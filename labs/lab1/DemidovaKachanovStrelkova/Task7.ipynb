{
 "cells": [
  {
   "cell_type": "markdown",
   "metadata": {},
   "source": [
    "# Задача №7\n",
    "\n",
    "1. Сравнить распределение длин слов на русском, французском и английском языке на примере романа \"Анна Каренина\". Полагать, что длины слов распределены по распределению Пуассона.\n",
    "\n",
    "2. Сравнить распределение длин слов на русском языке для разных жанров. В качестве второго жанра взять новости."
   ]
  },
  {
   "cell_type": "code",
   "execution_count": 1,
   "metadata": {},
   "outputs": [],
   "source": [
    "import numpy as np\n",
    "import matplotlib.pylab as plt\n",
    "%matplotlib inline\n",
    "import scipy.stats as st\n",
    "import pandas as pd\n",
    "import re\n",
    "from collections import Counter\n",
    "import os\n",
    "import codecs"
   ]
  },
  {
   "cell_type": "markdown",
   "metadata": {},
   "source": [
    "## Часть 1"
   ]
  },
  {
   "cell_type": "markdown",
   "metadata": {},
   "source": [
    "Введём функции чтения текста, подсчёта количество слов по длинам, создания списка слов для построения гистограммы, графика распределения длин слов, и что-то ещё."
   ]
  },
  {
   "cell_type": "code",
   "execution_count": 2,
   "metadata": {},
   "outputs": [],
   "source": [
    "def get_text(path):\n",
    "    text = open(path, 'r').read().lower()\n",
    "    wordList = re.sub(\"[^\\w'’]\", \" \",  text).split()\n",
    "    print(\"{} length - {} words\".format(os.path.split(path)[-1],len(wordList)))\n",
    "    return wordList"
   ]
  },
  {
   "cell_type": "code",
   "execution_count": 3,
   "metadata": {},
   "outputs": [],
   "source": [
    "def count_length(wordList):\n",
    "    cnt_length = Counter()\n",
    "    for word in wordList:\n",
    "        cnt_length[len(word)] += 1\n",
    "    print(cnt_length)\n",
    "    return cnt_length"
   ]
  },
  {
   "cell_type": "code",
   "execution_count": 4,
   "metadata": {},
   "outputs": [],
   "source": [
    "def arr_for_hist(wordList):\n",
    "    length = []\n",
    "    for word in wordList:\n",
    "        length.append(len(word))\n",
    "    return length"
   ]
  },
  {
   "cell_type": "code",
   "execution_count": 5,
   "metadata": {},
   "outputs": [],
   "source": [
    "def arr_for_plot(counter):\n",
    "    arr = np.zeros(25)\n",
    "    for i,val in counter.items():\n",
    "        arr[i] = val\n",
    "    return arr"
   ]
  },
  {
   "cell_type": "code",
   "execution_count": 6,
   "metadata": {},
   "outputs": [],
   "source": [
    "def corr_to_DataFrame(func, arrays, idx=''):\n",
    "    N = len(arrays)\n",
    "    if idx == '':\n",
    "        idx = np.arange(N)\n",
    "    _data = np.zeros((N,N))\n",
    "    for i in range(N):\n",
    "        for j in range(N):\n",
    "            if i != j:\n",
    "                _data[i,j] = func(arrays[i], arrays[j])[1]\n",
    "    return pd.DataFrame(_data, index=idx, columns=idx)"
   ]
  },
  {
   "cell_type": "markdown",
   "metadata": {},
   "source": [
    "Работа с текстами на русском, английском и французском."
   ]
  },
  {
   "cell_type": "code",
   "execution_count": 8,
   "metadata": {},
   "outputs": [
    {
     "name": "stdout",
     "output_type": "stream",
     "text": [
      "Anna_ru.txt length - 271237 words\n",
      "Counter({3: 37939, 2: 35844, 5: 31355, 1: 31091, 6: 30608, 4: 26711, 7: 24668, 8: 18930, 9: 12850, 10: 8960, 11: 5338, 12: 3122, 13: 2311, 14: 857, 15: 342, 16: 173, 17: 66, 18: 46, 19: 13, 20: 5, 21: 4, 22: 3, 23: 1})\n"
     ]
    }
   ],
   "source": [
    "text_ru = get_text('./Anna_ru.txt')\n",
    "length_ru = count_length(text_ru)\n",
    "length_plot_ru = arr_for_plot(length_ru)\n",
    "length_hist_ru = arr_for_hist(text_ru)"
   ]
  },
  {
   "cell_type": "code",
   "execution_count": 9,
   "metadata": {},
   "outputs": [
    {
     "name": "stdout",
     "output_type": "stream",
     "text": [
      "Anna_en.txt length - 352267 words\n",
      "Counter({3: 92048, 4: 63986, 2: 59389, 5: 38316, 6: 26048, 7: 24744, 8: 15252, 1: 10131, 9: 9118, 10: 6419, 11: 2543, 12: 2436, 14: 850, 13: 755, 15: 145, 16: 78, 17: 7, 19: 2})\n"
     ]
    }
   ],
   "source": [
    "text_en = get_text('./Anna_en.txt')\n",
    "length_en = count_length(text_en)\n",
    "length_plot_en = arr_for_plot(length_en)\n",
    "length_hist_en = arr_for_hist(text_en)"
   ]
  },
  {
   "cell_type": "code",
   "execution_count": 10,
   "metadata": {},
   "outputs": [
    {
     "name": "stdout",
     "output_type": "stream",
     "text": [
      "Anna_fr.txt length - 126908 words\n",
      "Counter({2: 30487, 4: 18624, 3: 17187, 5: 14321, 7: 11334, 6: 11177, 8: 7738, 9: 5027, 1: 3526, 10: 3387, 11: 1769, 12: 1219, 13: 523, 14: 420, 16: 76, 15: 75, 17: 14, 18: 4})\n"
     ]
    }
   ],
   "source": [
    "text_fr = get_text('./Anna_fr.txt')\n",
    "length_fr = count_length(text_fr)\n",
    "length_plot_fr = arr_for_plot(length_fr)\n",
    "length_hist_fr = arr_for_hist(text_fr)"
   ]
  },
  {
   "cell_type": "code",
   "execution_count": 11,
   "metadata": {},
   "outputs": [
    {
     "data": {
      "image/png": "[encoded data removed]",
      "text/plain": [
       "<Figure size 432x288 with 1 Axes>"
      ]
     },
     "metadata": {},
     "output_type": "display_data"
    }
   ],
   "source": [
    "_ = plt.hist(length_hist_ru, bins = 24, color = 'r', alpha = 0.5, density = True, label = 'русский')\n",
    "_ = plt.hist(length_hist_en, bins = 24, color = 'b', alpha = 0.5, density = True, label = 'английский')\n",
    "_ = plt.hist(length_hist_fr, bins = 24, color = 'g', alpha = 0.5, density = True, label = 'французский')\n",
    "_ = plt.legend(loc = 'best')"
   ]
  },
  {
   "cell_type": "markdown",
   "metadata": {},
   "source": [
    "Из гистограммы видно, что распределения всех трёх выборок похоже на пуассоновское."
   ]
  },
  {
   "cell_type": "code",
   "execution_count": 12,
   "metadata": {},
   "outputs": [
    {
     "data": {
      "image/png": "[encoded data removed]",
      "text/plain": [
       "<Figure size 432x288 with 1 Axes>"
      ]
     },
     "metadata": {},
     "output_type": "display_data"
    }
   ],
   "source": [
    "plt.plot(length_plot_ru, color='r', label='russian')\n",
    "plt.plot(length_plot_en, color='b', label='english')\n",
    "plt.plot(length_plot_fr, color='g', label='french')\n",
    "_=plt.legend(loc='best')"
   ]
  },
  {
   "cell_type": "markdown",
   "metadata": {},
   "source": [
    "Так как количество слов сильно отличаются в данных текстах, отнормируем данные и снова построим график."
   ]
  },
  {
   "cell_type": "code",
   "execution_count": 13,
   "metadata": {},
   "outputs": [
    {
     "data": {
      "image/png": "[encoded data removed]",
      "text/plain": [
       "<Figure size 432x288 with 1 Axes>"
      ]
     },
     "metadata": {},
     "output_type": "display_data"
    }
   ],
   "source": [
    "arr_ru_norm = length_plot_ru/np.sum(length_plot_ru)\n",
    "arr_en_norm = length_plot_en/np.sum(length_plot_en)\n",
    "arr_fr_norm = length_plot_fr/np.sum(length_plot_fr)\n",
    "plt.plot(arr_ru_norm, color='r', label='russian')\n",
    "plt.plot(arr_en_norm, color='b', label='english')\n",
    "plt.plot(arr_fr_norm, color='g', label='french')\n",
    "_=plt.legend(loc='best')"
   ]
  },
  {
   "cell_type": "markdown",
   "metadata": {},
   "source": [
    "Рассмотрим, есть ли статистическая взаимосвязь между данными (одна таблица при коэффициенте корреляции Пирсона, Кендалла, Спирмена). Выведем в таблицу значения p-value."
   ]
  },
  {
   "cell_type": "code",
   "execution_count": 14,
   "metadata": {},
   "outputs": [
    {
     "data": {
      "text/html": [
       "<div>\n",
       "<style scoped>\n",
       "    .dataframe tbody tr th:only-of-type {\n",
       "        vertical-align: middle;\n",
       "    }\n",
       "\n",
       "    .dataframe tbody tr th {\n",
       "        vertical-align: top;\n",
       "    }\n",
       "\n",
       "    .dataframe thead th {\n",
       "        text-align: right;\n",
       "    }\n",
       "</style>\n",
       "<table border=\"1\" class=\"dataframe\">\n",
       "  <thead>\n",
       "    <tr style=\"text-align: right;\">\n",
       "      <th></th>\n",
       "      <th>en</th>\n",
       "      <th>ru</th>\n",
       "      <th>fr</th>\n",
       "    </tr>\n",
       "  </thead>\n",
       "  <tbody>\n",
       "    <tr>\n",
       "      <th>en</th>\n",
       "      <td>0.000000e+00</td>\n",
       "      <td>8.853615e-08</td>\n",
       "      <td>1.894121e-09</td>\n",
       "    </tr>\n",
       "    <tr>\n",
       "      <th>ru</th>\n",
       "      <td>8.853615e-08</td>\n",
       "      <td>0.000000e+00</td>\n",
       "      <td>1.282010e-08</td>\n",
       "    </tr>\n",
       "    <tr>\n",
       "      <th>fr</th>\n",
       "      <td>1.894121e-09</td>\n",
       "      <td>1.282010e-08</td>\n",
       "      <td>0.000000e+00</td>\n",
       "    </tr>\n",
       "  </tbody>\n",
       "</table>\n",
       "</div>"
      ],
      "text/plain": [
       "              en            ru            fr\n",
       "en  0.000000e+00  8.853615e-08  1.894121e-09\n",
       "ru  8.853615e-08  0.000000e+00  1.282010e-08\n",
       "fr  1.894121e-09  1.282010e-08  0.000000e+00"
      ]
     },
     "execution_count": 14,
     "metadata": {},
     "output_type": "execute_result"
    }
   ],
   "source": [
    "corr_to_DataFrame(st.pearsonr, (arr_en_norm, arr_ru_norm, arr_fr_norm), ('en','ru','fr'))"
   ]
  },
  {
   "cell_type": "code",
   "execution_count": 15,
   "metadata": {},
   "outputs": [
    {
     "data": {
      "text/html": [
       "<div>\n",
       "<style scoped>\n",
       "    .dataframe tbody tr th:only-of-type {\n",
       "        vertical-align: middle;\n",
       "    }\n",
       "\n",
       "    .dataframe tbody tr th {\n",
       "        vertical-align: top;\n",
       "    }\n",
       "\n",
       "    .dataframe thead th {\n",
       "        text-align: right;\n",
       "    }\n",
       "</style>\n",
       "<table border=\"1\" class=\"dataframe\">\n",
       "  <thead>\n",
       "    <tr style=\"text-align: right;\">\n",
       "      <th></th>\n",
       "      <th>en</th>\n",
       "      <th>ru</th>\n",
       "      <th>fr</th>\n",
       "    </tr>\n",
       "  </thead>\n",
       "  <tbody>\n",
       "    <tr>\n",
       "      <th>en</th>\n",
       "      <td>0.000000e+00</td>\n",
       "      <td>6.729624e-10</td>\n",
       "      <td>7.765788e-10</td>\n",
       "    </tr>\n",
       "    <tr>\n",
       "      <th>ru</th>\n",
       "      <td>6.729624e-10</td>\n",
       "      <td>0.000000e+00</td>\n",
       "      <td>1.219015e-09</td>\n",
       "    </tr>\n",
       "    <tr>\n",
       "      <th>fr</th>\n",
       "      <td>7.765788e-10</td>\n",
       "      <td>1.219015e-09</td>\n",
       "      <td>0.000000e+00</td>\n",
       "    </tr>\n",
       "  </tbody>\n",
       "</table>\n",
       "</div>"
      ],
      "text/plain": [
       "              en            ru            fr\n",
       "en  0.000000e+00  6.729624e-10  7.765788e-10\n",
       "ru  6.729624e-10  0.000000e+00  1.219015e-09\n",
       "fr  7.765788e-10  1.219015e-09  0.000000e+00"
      ]
     },
     "execution_count": 15,
     "metadata": {},
     "output_type": "execute_result"
    }
   ],
   "source": [
    "corr_to_DataFrame(st.kendalltau, (arr_en_norm, arr_ru_norm, arr_fr_norm), ('en','ru','fr'))"
   ]
  },
  {
   "cell_type": "code",
   "execution_count": 16,
   "metadata": {},
   "outputs": [
    {
     "data": {
      "text/html": [
       "<div>\n",
       "<style scoped>\n",
       "    .dataframe tbody tr th:only-of-type {\n",
       "        vertical-align: middle;\n",
       "    }\n",
       "\n",
       "    .dataframe tbody tr th {\n",
       "        vertical-align: top;\n",
       "    }\n",
       "\n",
       "    .dataframe thead th {\n",
       "        text-align: right;\n",
       "    }\n",
       "</style>\n",
       "<table border=\"1\" class=\"dataframe\">\n",
       "  <thead>\n",
       "    <tr style=\"text-align: right;\">\n",
       "      <th></th>\n",
       "      <th>en</th>\n",
       "      <th>ru</th>\n",
       "      <th>fr</th>\n",
       "    </tr>\n",
       "  </thead>\n",
       "  <tbody>\n",
       "    <tr>\n",
       "      <th>en</th>\n",
       "      <td>0.000000e+00</td>\n",
       "      <td>7.135659e-16</td>\n",
       "      <td>6.445985e-18</td>\n",
       "    </tr>\n",
       "    <tr>\n",
       "      <th>ru</th>\n",
       "      <td>7.135659e-16</td>\n",
       "      <td>0.000000e+00</td>\n",
       "      <td>3.044085e-15</td>\n",
       "    </tr>\n",
       "    <tr>\n",
       "      <th>fr</th>\n",
       "      <td>6.445985e-18</td>\n",
       "      <td>3.044085e-15</td>\n",
       "      <td>0.000000e+00</td>\n",
       "    </tr>\n",
       "  </tbody>\n",
       "</table>\n",
       "</div>"
      ],
      "text/plain": [
       "              en            ru            fr\n",
       "en  0.000000e+00  7.135659e-16  6.445985e-18\n",
       "ru  7.135659e-16  0.000000e+00  3.044085e-15\n",
       "fr  6.445985e-18  3.044085e-15  0.000000e+00"
      ]
     },
     "execution_count": 16,
     "metadata": {},
     "output_type": "execute_result"
    }
   ],
   "source": [
    "corr_to_DataFrame(st.spearmanr, (arr_en_norm, arr_ru_norm, arr_fr_norm), ('en','ru','fr'))"
   ]
  },
  {
   "cell_type": "markdown",
   "metadata": {},
   "source": [
    "Все значения p-value меньше $10^{-8}$, значит мы отвергаем гипотезу, что выборки не коррелируют.\n",
    "\n",
    "Проверим критерием Колмогорова-Смирнова гипотезу о равенстве распределений."
   ]
  },
  {
   "cell_type": "code",
   "execution_count": 17,
   "metadata": {},
   "outputs": [
    {
     "data": {
      "text/html": [
       "<div>\n",
       "<style scoped>\n",
       "    .dataframe tbody tr th:only-of-type {\n",
       "        vertical-align: middle;\n",
       "    }\n",
       "\n",
       "    .dataframe tbody tr th {\n",
       "        vertical-align: top;\n",
       "    }\n",
       "\n",
       "    .dataframe thead th {\n",
       "        text-align: right;\n",
       "    }\n",
       "</style>\n",
       "<table border=\"1\" class=\"dataframe\">\n",
       "  <thead>\n",
       "    <tr style=\"text-align: right;\">\n",
       "      <th></th>\n",
       "      <th>en</th>\n",
       "      <th>ru</th>\n",
       "      <th>fr</th>\n",
       "    </tr>\n",
       "  </thead>\n",
       "  <tbody>\n",
       "    <tr>\n",
       "      <th>en</th>\n",
       "      <td>0.000000</td>\n",
       "      <td>0.648524</td>\n",
       "      <td>0.999994</td>\n",
       "    </tr>\n",
       "    <tr>\n",
       "      <th>ru</th>\n",
       "      <td>0.648524</td>\n",
       "      <td>0.000000</td>\n",
       "      <td>0.648524</td>\n",
       "    </tr>\n",
       "    <tr>\n",
       "      <th>fr</th>\n",
       "      <td>0.999994</td>\n",
       "      <td>0.648524</td>\n",
       "      <td>0.000000</td>\n",
       "    </tr>\n",
       "  </tbody>\n",
       "</table>\n",
       "</div>"
      ],
      "text/plain": [
       "          en        ru        fr\n",
       "en  0.000000  0.648524  0.999994\n",
       "ru  0.648524  0.000000  0.648524\n",
       "fr  0.999994  0.648524  0.000000"
      ]
     },
     "execution_count": 17,
     "metadata": {},
     "output_type": "execute_result"
    }
   ],
   "source": [
    "corr_to_DataFrame(st.ks_2samp, (arr_en_norm, arr_ru_norm, arr_fr_norm), ('en','ru','fr'))"
   ]
  },
  {
   "cell_type": "markdown",
   "metadata": {},
   "source": [
    "Исходя из значений p-value, гипотезу о равенстве распределений отвергнуть не можем."
   ]
  },
  {
   "cell_type": "markdown",
   "metadata": {},
   "source": [
    "## Часть 2"
   ]
  },
  {
   "cell_type": "markdown",
   "metadata": {},
   "source": [
    "Считаем текст с новостями."
   ]
  },
  {
   "cell_type": "code",
   "execution_count": 18,
   "metadata": {},
   "outputs": [
    {
     "name": "stdout",
     "output_type": "stream",
     "text": [
      "news.txt length - 588238 words\n",
      "Counter({6: 66698, 7: 63376, 5: 60228, 1: 59966, 2: 54728, 8: 52011, 3: 47693, 9: 42726, 4: 40385, 10: 33918, 11: 24843, 12: 16766, 13: 11630, 14: 6655, 15: 3302, 16: 1522, 17: 851, 18: 524, 19: 185, 20: 143, 21: 70, 22: 14, 23: 2, 24: 2})\n"
     ]
    }
   ],
   "source": [
    "text_news = get_text('./news.txt')\n",
    "length_news = count_length(text_news)\n",
    "length_plot_news = arr_for_plot(length_news)\n",
    "length_hist_news = arr_for_hist(text_news)"
   ]
  },
  {
   "cell_type": "markdown",
   "metadata": {},
   "source": [
    "Построим гистограмму и график распределения длин слов ненормированный и нормированный."
   ]
  },
  {
   "cell_type": "code",
   "execution_count": 20,
   "metadata": {},
   "outputs": [
    {
     "data": {
      "image/png": "[encoded data removed]",
      "text/plain": [
       "<Figure size 432x288 with 1 Axes>"
      ]
     },
     "metadata": {},
     "output_type": "display_data"
    }
   ],
   "source": [
    "_ = plt.hist(length_hist_ru, bins = 24, color = 'r', alpha = 0.5, density = True, label = 'Novel')\n",
    "_ = plt.hist(length_hist_news, bins = 24, color = 'b', alpha = 0.5, density = True, label = 'News')\n",
    "_ = plt.legend(loc = 'best')"
   ]
  },
  {
   "cell_type": "code",
   "execution_count": 21,
   "metadata": {},
   "outputs": [
    {
     "data": {
      "image/png": "[encoded data removed]",
      "text/plain": [
       "<Figure size 432x288 with 1 Axes>"
      ]
     },
     "metadata": {},
     "output_type": "display_data"
    }
   ],
   "source": [
    "plt.plot(length_plot_ru, color='r', label='novel')\n",
    "plt.plot(length_plot_news, color='b', label='news')\n",
    "_=plt.legend(loc='best')"
   ]
  },
  {
   "cell_type": "code",
   "execution_count": 22,
   "metadata": {},
   "outputs": [
    {
     "data": {
      "image/png": "[encoded data removed]",
      "text/plain": [
       "<Figure size 432x288 with 1 Axes>"
      ]
     },
     "metadata": {},
     "output_type": "display_data"
    }
   ],
   "source": [
    "arr_news_norm = length_plot_news/np.sum(length_plot_news)\n",
    "plt.plot(arr_ru_norm, color='r', label='novel')\n",
    "plt.plot(arr_news_norm, color='b', label='news')\n",
    "_=plt.legend(loc='best')"
   ]
  },
  {
   "cell_type": "markdown",
   "metadata": {},
   "source": [
    "По графику видно, что распределения схожи. Проверим гипотезы о корреляции выборок(Пирсон, Кендалл, Спирмен), а также гипотезу о равенстве распределений."
   ]
  },
  {
   "cell_type": "code",
   "execution_count": 23,
   "metadata": {},
   "outputs": [
    {
     "name": "stdout",
     "output_type": "stream",
     "text": [
      "r = 2.088195079542186e-11\n",
      "p = 6.869199230573021e-10\n",
      "tau = 2.509985707021042e-14\n",
      "ks_norm = 0.8774132527980119\n"
     ]
    }
   ],
   "source": [
    "pearson = st.pearsonr(arr_ru_norm, arr_news_norm)\n",
    "kendall = st.kendalltau(arr_ru_norm, arr_news_norm)\n",
    "spearman = st.spearmanr(arr_ru_norm, arr_news_norm)\n",
    "ks_norm = st.ks_2samp(arr_ru_norm, arr_news_norm)\n",
    "print('r = {}\\np = {}\\ntau = {}\\nks_norm = {}'.format(pearson[1], kendall[1],spearman[1],ks_norm[1]))"
   ]
  },
  {
   "cell_type": "markdown",
   "metadata": {},
   "source": [
    "Гипотезу об отсутствии корреляции отвернули(p-value меньше $10^{-9}$).\n",
    "\n",
    "Гипотезу о равенстве распределений отвергнуть не можем."
   ]
  },
  {
   "cell_type": "code",
   "execution_count": null,
   "metadata": {},
   "outputs": [],
   "source": []
  }
 ],
 "metadata": {
  "kernelspec": {
   "display_name": "Python 3",
   "language": "python",
   "name": "python3"
  },
  "language_info": {
   "codemirror_mode": {
    "name": "ipython",
    "version": 3
   },
   "file_extension": ".py",
   "mimetype": "text/x-python",
   "name": "python",
   "nbconvert_exporter": "python",
   "pygments_lexer": "ipython3",
   "version": "3.6.5"
  }
 },
 "nbformat": 4,
 "nbformat_minor": 2
}
