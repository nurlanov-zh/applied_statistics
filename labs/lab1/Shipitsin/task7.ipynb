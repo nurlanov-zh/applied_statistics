{
 "cells": [
  {
   "cell_type": "markdown",
   "metadata": {},
   "source": [
    "Импорт библиотек"
   ]
  },
  {
   "cell_type": "code",
   "execution_count": 12,
   "metadata": {},
   "outputs": [],
   "source": [
    "import numpy as np\n",
    "import matplotlib.pylab as plt\n",
    "import pandas as pd\n",
    "import scipy.stats as st\n",
    "import seaborn as sns\n",
    "\n",
    "import re\n",
    "import codecs\n",
    "\n",
    "from permute.core import two_sample\n",
    "from arch.bootstrap import IIDBootstrap\n",
    "\n",
    "%matplotlib inline\n",
    "plt.rcParams['figure.figsize'] = (12, 8)"
   ]
  },
  {
   "cell_type": "markdown",
   "metadata": {},
   "source": [
    "# Анна Каренина на разных языках"
   ]
  },
  {
   "cell_type": "markdown",
   "metadata": {},
   "source": [
    "Создадим списки слов романа для каждого языка"
   ]
  },
  {
   "cell_type": "code",
   "execution_count": 25,
   "metadata": {},
   "outputs": [],
   "source": [
    "def words(pathToFile):\n",
    "    text = open(pathToFile, 'r', encoding=\"utf-8\").read().lower()\n",
    "    \n",
    "    words = re.sub(\"[^\\w'’]\", \" \",  text).split()\n",
    "    \n",
    "    return words"
   ]
  },
  {
   "cell_type": "code",
   "execution_count": 29,
   "metadata": {},
   "outputs": [],
   "source": [
    "words_ru = words('./ak_ru.txt')\n",
    "words_en = words('./ak_en.txt')\n",
    "words_fr = words('./ak_fr.txt')"
   ]
  },
  {
   "cell_type": "markdown",
   "metadata": {},
   "source": [
    "Посчитаем количество слов по длинам для каждого языка"
   ]
  },
  {
   "cell_type": "code",
   "execution_count": 31,
   "metadata": {},
   "outputs": [],
   "source": [
    "def counts(words):\n",
    "    counts = {}\n",
    "    for word in words:\n",
    "        if (counts.get(len(word)) == None):\n",
    "            counts[len(word)] = 1\n",
    "        else:\n",
    "            counts[len(word)] += 1\n",
    "            \n",
    "    return counts"
   ]
  },
  {
   "cell_type": "code",
   "execution_count": 35,
   "metadata": {},
   "outputs": [],
   "source": [
    "counts_ru = counts(words_ru)\n",
    "counts_en = counts(words_en)\n",
    "counts_fr = counts(words_fr)"
   ]
  },
  {
   "cell_type": "markdown",
   "metadata": {},
   "source": [
    "Посмотрим на распределение количества слов по длинам"
   ]
  },
  {
   "cell_type": "code",
   "execution_count": 60,
   "metadata": {},
   "outputs": [],
   "source": [
    "def lengths(counts):\n",
    "    lengths = []\n",
    "    for key, value in counts.items():\n",
    "        for i in range(0, value):\n",
    "            lengths.append(key)\n",
    "    \n",
    "    return lengths"
   ]
  },
  {
   "cell_type": "code",
   "execution_count": 65,
   "metadata": {},
   "outputs": [],
   "source": [
    "lengths_ru = lengths(counts_ru)\n",
    "lengths_en = lengths(counts_en)\n",
    "lengths_fr = lengths(counts_fr)"
   ]
  },
  {
   "cell_type": "markdown",
   "metadata": {},
   "source": [
    "Так как количество слов на разных языках разное, то следует отнормировать данные"
   ]
  },
  {
   "cell_type": "code",
   "execution_count": 71,
   "metadata": {},
   "outputs": [],
   "source": [
    "lengths_ru = lengths_ru / np.sum(lengths_ru)\n",
    "lengths_en = lengths_en / np.sum(lengths_en)\n",
    "lengths_fr = lengths_fr / np.sum(lengths_fr)"
   ]
  },
  {
   "cell_type": "code",
   "execution_count": 72,
   "metadata": {},
   "outputs": [
    {
     "data": {
      "image/png": "[encoded data removed]",
      "text/plain": [
       "<Figure size 864x576 with 1 Axes>"
      ]
     },
     "metadata": {
      "needs_background": "light"
     },
     "output_type": "display_data"
    }
   ],
   "source": [
    "_ = plt.hist(lengths_ru, bins = 20, color = 'r', alpha = 0.5, density = True, label = 'ru')\n",
    "_ = plt.hist(lengths_en, bins = 20, color = 'g', alpha = 0.5, density = True, label = 'en')\n",
    "_ = plt.hist(lengths_fr, bins = 20, color = 'b', alpha = 0.5, density = True, label = 'fr')\n",
    "_ = plt.legend(loc = 'best')"
   ]
  }
 ],
 "metadata": {
  "kernelspec": {
   "display_name": "Python 3",
   "language": "python",
   "name": "python3"
  },
  "language_info": {
   "codemirror_mode": {
    "name": "ipython",
    "version": 3
   },
   "file_extension": ".py",
   "mimetype": "text/x-python",
   "name": "python",
   "nbconvert_exporter": "python",
   "pygments_lexer": "ipython3",
   "version": "3.7.2"
  }
 },
 "nbformat": 4,
 "nbformat_minor": 2
}
