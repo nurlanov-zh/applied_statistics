{
 "cells": [
  {
   "cell_type": "markdown",
   "metadata": {},
   "source": [
    "# Задание 6\n",
    "\n",
    "Изучить поведение FDR для эксперимента из лекции. Рассмотреть случаи, когда количество объектов $m$ варьируется от 200 от 100000. Калибруемые параметры: $m$, $m_0$, $\\alpha$."
   ]
  },
  {
   "cell_type": "markdown",
   "metadata": {},
   "source": [
    "# Импорт основных библиотек"
   ]
  },
  {
   "cell_type": "code",
   "execution_count": 1,
   "metadata": {},
   "outputs": [],
   "source": [
    "import numpy as np\n",
    "import math as m\n",
    "import matplotlib.pylab as plt\n",
    "import pandas as pd\n",
    "import scipy.stats as st\n",
    "from statsmodels.stats.weightstats import ttest_ind\n",
    "from statsmodels.stats.multitest import multipletests\n",
    "import itertools\n",
    "import math\n",
    "%matplotlib inline\n",
    "plt.rcParams['figure.figsize'] = (10, 8)"
   ]
  },
  {
   "cell_type": "markdown",
   "metadata": {},
   "source": [
    "# По следам модельного эксперимента\n",
    "\n",
    "\n",
    "$\\mathbf{X}_i \\sim \\mathcal{N}(0, 1), \\quad i=1,\\dots,m_0;$\n",
    "\n",
    "$\\mathbf{X}_i \\sim \\mathcal{N}(1, 1), \\quad i=m_0+1,\\dots,m;$\n",
    "\n",
    "$\\mathbf{X}_i \\in \\mathbb{R}^n.$\n",
    "\n",
    "**Гипотезы:**\n",
    "\n",
    "$H^i_0: \\mathsf{E}\\mathbf{X}_i = 0$;\n",
    "\n",
    "$H^i_1: \\mathsf{E}\\mathbf{X}_i \\neq 0$;"
   ]
  },
  {
   "cell_type": "markdown",
   "metadata": {},
   "source": [
    "# Сгенерируем данные, пользуясь кодом из лекций. Пока зафиксируем значения $m = 200, m_0 = 150, \\alpha = 0.05$, как и в лекционном коде."
   ]
  },
  {
   "cell_type": "code",
   "execution_count": 2,
   "metadata": {},
   "outputs": [],
   "source": [
    "m = 200\n",
    "m0 = 150\n",
    "n = 20\n",
    "alpha = 0.05\n",
    "rs = np.random.RandomState(42)\n",
    "\n",
    "X = rs.randn(m,n)\n",
    "X[m0:]+=1"
   ]
  },
  {
   "cell_type": "markdown",
   "metadata": {},
   "source": [
    "Строим гистограммы"
   ]
  },
  {
   "cell_type": "code",
   "execution_count": 3,
   "metadata": {},
   "outputs": [
    {
     "data": {
      "text/plain": [
       "(array([0.01620078, 0.07290352, 0.1636279 , 0.28513376, 0.3564172 ,\n",
       "        0.36775774, 0.22357079, 0.09720469, 0.03240156, 0.00486023]),\n",
       " array([-1.92944869, -1.31219452, -0.69494036, -0.07768619,  0.53956797,\n",
       "         1.15682214,  1.77407631,  2.39133047,  3.00858464,  3.6258388 ,\n",
       "         4.24309297]),\n",
       " <a list of 10 Patch objects>)"
      ]
     },
     "execution_count": 3,
     "metadata": {},
     "output_type": "execute_result"
    },
    {
     "data": {
      "image/png": "[encoded data removed]",
      "text/plain": [
       "<matplotlib.figure.Figure at 0x7faf14722c88>"
      ]
     },
     "metadata": {
      "needs_background": "light"
     },
     "output_type": "display_data"
    }
   ],
   "source": [
    "plt.hist(X[:m0].flatten(), color='r', density=True)\n",
    "plt.hist(X[m0:].flatten(), color='g', alpha=0.5, density=True)"
   ]
  },
  {
   "cell_type": "markdown",
   "metadata": {},
   "source": [
    "# Подсчёт $FDR$ на конкретной реализации выборки"
   ]
  },
  {
   "cell_type": "markdown",
   "metadata": {},
   "source": [
    "Для проверки используем одновыборочный критерий Стьюдента. Посчитаем величины $V$ и $R$ в определении $FDR = \\mathbb{E}\\Bigl(\\frac{V}{\\max(R,1)}\\Bigr)$, где $V$ - количество верных и отвергнутых $H_i, i \\in \\overline{1, m}$, а $R$ - количество отвергнутых гипотез. Нулевыми гипотезами для наших данных будем считать $H^i_0: \\mathsf{E}\\mathbf{X}_i = 0$. Если обозначить за $rejected_0$ количество отвергнутых гипотез $H^i_0$ для $i = 1, \\dotso, m_0$ (когда они верны) и за $rejected_1$ количество отвергнутых гипотез $H^i_0$ для $i = m_0 + 1, \\dotso, m$ (когда они неверны), то в наших условиях $V = rejected_0$, $T = m - m_0 - rejected_1$ (здесь $T$ - количество принятых и неверных гипотез, то есть ошибка второго рода), а $R = rejected_0 + rejected_1$, поэтому $FDR = \\mathbb{E}\\Bigl(\\frac{rejected_0}{\\max(rejected_0 + rejected_1,1)}\\Bigr)$. Обозначим за $FDR_{\\text{experiment}}$ отношение $\\frac{rejected_0}{\\max(rejected_0 + rejected_1,1)}$ для конкретной реализации выборки $X$. С учётом специфики задачи будем пользоваться восходящими методами множественной проверки гипотезы - Бенджамини-Хохберга и Бенджамини-Иекутиели, которые обеспечивают контроль над $FDR$ при определённых условиях.  \n",
    "\n",
    "(для одной выборки --- ```st.ttest_1samp```)"
   ]
  },
  {
   "cell_type": "markdown",
   "metadata": {},
   "source": [
    "# Часть 1. Метод Бенджамини-Хохберга."
   ]
  },
  {
   "cell_type": "code",
   "execution_count": 6,
   "metadata": {},
   "outputs": [
    {
     "name": "stdout",
     "output_type": "stream",
     "text": [
      "True: H0; H0 not rejected 148\n",
      "True: H0; H0 rejected: 2\n",
      "True: H1;  H0 not rejected: 7\n",
      "True: H1;  H0 rejected: 43\n",
      "V_experiment = 2\n",
      "T_experiment = 7\n",
      "FDR_experiment = 0.044444444444444446\n"
     ]
    }
   ],
   "source": [
    "# zero mean\n",
    "p_values = []\n",
    "for x in X:\n",
    "    p_values.append(st.ttest_1samp(x, 0)[1])\n",
    "rejections = multipletests(p_values, method='fdr_bh')[0]\n",
    "\n",
    "print ('True: H0; H0 not rejected', m0 - rejections[:m0].sum())\n",
    "print ('True: H0; H0 rejected:',  rejections[:m0].sum())\n",
    "\n",
    "# non-zero mean\n",
    "print ('True: H1;  H0 not rejected:', m-m0 - rejections[m0:].sum())\n",
    "print ('True: H1;  H0 rejected:',  rejections[m0:].sum())\n",
    "\n",
    "FDR = rejections[:m0].sum()/max(rejections.sum(), 1)\n",
    "V = rejections[:m0].sum()\n",
    "T = m - m0 - rejections[m0:].sum()\n",
    "print(\"V_experiment = {0}\".format(V))\n",
    "print(\"T_experiment = {0}\".format(T))\n",
    "print(\"FDR_experiment = {0}\".format(FDR))"
   ]
  },
  {
   "cell_type": "markdown",
   "metadata": {},
   "source": [
    "Воспользуемся кодом из лекций, который строит графики достигаемых уровней значимостей для метода Бенджамини-Хохберга."
   ]
  },
  {
   "cell_type": "code",
   "execution_count": 7,
   "metadata": {},
   "outputs": [
    {
     "data": {
      "image/png": "[encoded data removed]",
      "text/plain": [
       "<matplotlib.figure.Figure at 0x7faf118e1a90>"
      ]
     },
     "metadata": {
      "needs_background": "light"
     },
     "output_type": "display_data"
    }
   ],
   "source": [
    "p_values = []\n",
    "for x in X:\n",
    "     p_values.append(st.ttest_1samp(x, 0)[1])\n",
    "p_values = multipletests(p_values, method='fdr_bh')[1]\n",
    "argsorted_p = np.argsort(p_values)\n",
    "false = []\n",
    "true = []\n",
    "for i, id in enumerate(argsorted_p):   \n",
    "    if id>m0:\n",
    "        false.append((i, p_values[id]))\n",
    "    else:\n",
    "        true.append((i, p_values[id]))\n",
    "plt.scatter(*zip(*true), label='True hypothesis', c='b')\n",
    "plt.scatter(*zip(*false), label='False hypothesis', c='r')\n",
    "plt.xlabel('sorted i')\n",
    "plt.ylabel('p(i)')\n",
    "plt.title('Benjamini-Hochberg')\n",
    "plt.grid(True)\n",
    "_=plt.legend(loc='best')"
   ]
  },
  {
   "cell_type": "markdown",
   "metadata": {},
   "source": [
    "# Подсчёт $FDR$ на большом числе выборок"
   ]
  },
  {
   "cell_type": "markdown",
   "metadata": {},
   "source": [
    "Итак, мы умеем экспериментально по каждой реализации выборки $X$ считать величину под знаком матожидания. Попробуем посмотреть на величину $\\frac{\\sum\\limits_{i = 1}^{\\text{experiments}} FDR_{\\text{experiment}}^i}{\\text{experiments}}$, то есть среднее число $FDR_{\\text{experiments}}$ после реализации выборки $X = (X_1, \\dotso, X_m), X_i \\in \\mathbb{R}^n, i \\in \\overline{1, m}$ experiments-раз. Закон больших чисел утверждает сходимость по вероятности этой случайной величины к значению $FDR$ при $\\text{experiments} \\to \\infty$. Возьмём experiments = $100$. Пока что зафиксируем счётчик случайности ($42$)."
   ]
  },
  {
   "cell_type": "code",
   "execution_count": 9,
   "metadata": {},
   "outputs": [],
   "source": [
    "experiments = 100\n",
    "rs = np.random.RandomState(42)\n",
    "arr_FDR = []\n",
    "arr_V = []\n",
    "arr_T = []\n",
    "for i in range(experiments):\n",
    "    X = rs.randn(m,n)\n",
    "    X[m0:]+=1\n",
    "    p_values = []\n",
    "    for x in X:\n",
    "        p_values.append(st.ttest_1samp(x, 0)[1])\n",
    "    rejections = multipletests(p_values, alpha=alpha, method='fdr_bh')[0]\n",
    "    FDR = rejections[:m0].sum()/max(rejections.sum(), 1)\n",
    "    V = rejections[:m0].sum()\n",
    "    T = m - m0 - rejections[m0:].sum()\n",
    "    arr_FDR.append(FDR)\n",
    "    arr_V.append(V)\n",
    "    arr_T.append(T)"
   ]
  },
  {
   "cell_type": "code",
   "execution_count": 10,
   "metadata": {},
   "outputs": [
    {
     "name": "stdout",
     "output_type": "stream",
     "text": [
      "FDR_experiment_mean = 0.04334352128114074\n"
     ]
    }
   ],
   "source": [
    "FDR_mean = np.mean(np.array(arr_FDR))\n",
    "print(\"FDR_experiment_mean = {0}\".format(FDR_mean))"
   ]
  },
  {
   "cell_type": "markdown",
   "metadata": {},
   "source": [
    "Работает достаточно долго, посмотрим количество экспериментов и сравним результаты для разного числа экспериментов. Код в следующей строчке работает ОЧЕНЬ ДОЛГО."
   ]
  },
  {
   "cell_type": "code",
   "execution_count": 17,
   "metadata": {},
   "outputs": [
    {
     "name": "stdout",
     "output_type": "stream",
     "text": [
      "experiments = 10\n",
      "experiments = 20\n",
      "experiments = 30\n",
      "experiments = 40\n",
      "experiments = 50\n",
      "experiments = 60\n",
      "experiments = 70\n",
      "experiments = 80\n",
      "experiments = 90\n",
      "experiments = 100\n",
      "experiments = 110\n",
      "experiments = 120\n",
      "experiments = 130\n",
      "experiments = 140\n",
      "experiments = 150\n",
      "experiments = 160\n",
      "experiments = 170\n",
      "experiments = 180\n",
      "experiments = 190\n",
      "experiments = 200\n",
      "experiments = 210\n",
      "experiments = 220\n",
      "experiments = 230\n",
      "experiments = 240\n",
      "experiments = 250\n",
      "experiments = 260\n",
      "experiments = 270\n",
      "experiments = 280\n",
      "experiments = 290\n",
      "experiments = 300\n",
      "experiments = 310\n",
      "experiments = 320\n",
      "experiments = 330\n",
      "experiments = 340\n",
      "experiments = 350\n",
      "experiments = 360\n",
      "experiments = 370\n",
      "experiments = 380\n",
      "experiments = 390\n",
      "experiments = 400\n",
      "experiments = 410\n",
      "experiments = 420\n",
      "experiments = 430\n",
      "experiments = 440\n",
      "experiments = 450\n",
      "experiments = 460\n",
      "experiments = 470\n",
      "experiments = 480\n",
      "experiments = 490\n",
      "experiments = 500\n"
     ]
    }
   ],
   "source": [
    "experiments = np.array([10*(i + 1) for i in range(50)])\n",
    "rs = np.random.RandomState(42)\n",
    "arr_FDR = []\n",
    "for exp in experiments:\n",
    "    arr_FDR_exp = []\n",
    "    for i in range(int(exp)):\n",
    "        X = rs.randn(m,n)\n",
    "        X[m0:]+=1\n",
    "        p_values = []\n",
    "        for x in X:\n",
    "            p_values.append(st.ttest_1samp(x, 0)[1])\n",
    "        rejections = multipletests(p_values, alpha=alpha, method='fdr_bh')[0]\n",
    "        FDR = rejections[:m0].sum()/max(rejections.sum(), 1)\n",
    "        arr_FDR_exp.append(FDR)\n",
    "    arr_FDR.append(np.mean(np.array(arr_FDR_exp)))\n",
    "    print(\"experiments = {0}\".format(exp))"
   ]
  },
  {
   "cell_type": "code",
   "execution_count": 18,
   "metadata": {},
   "outputs": [
    {
     "data": {
      "image/png": "[encoded data removed]",
      "text/plain": [
       "<matplotlib.figure.Figure at 0x7faf11d84f60>"
      ]
     },
     "metadata": {
      "needs_background": "light"
     },
     "output_type": "display_data"
    }
   ],
   "source": [
    "plt.scatter(experiments, arr_FDR, c='b', label='Benjamini/Hochberg')\n",
    "plt.xlabel('experiments')\n",
    "plt.ylabel('FDR_mean')\n",
    "plt.ylim(0.8*np.min(arr_FDR), 1.2*np.max(arr_FDR)) \n",
    "plt.grid(True)\n",
    "plt.legend()\n",
    "plt.title('m = {0}, m0 = {1}, alpha = {2}'.format(m, m0, alpha))\n",
    "plt.show()"
   ]
  },
  {
   "cell_type": "code",
   "execution_count": 19,
   "metadata": {},
   "outputs": [
    {
     "data": {
      "text/plain": [
       "array([ 10,  20,  30,  40,  50,  60,  70,  80,  90, 100, 110, 120, 130,\n",
       "       140, 150, 160, 170, 180, 190, 200, 210, 220, 230, 240, 250, 260,\n",
       "       270, 280, 290, 300, 310, 320, 330, 340, 350, 360, 370, 380, 390,\n",
       "       400, 410, 420, 430, 440, 450, 460, 470, 480, 490, 500])"
      ]
     },
     "execution_count": 19,
     "metadata": {},
     "output_type": "execute_result"
    }
   ],
   "source": [
    "experiments"
   ]
  },
  {
   "cell_type": "markdown",
   "metadata": {},
   "source": [
    "# Вывод 1: кажется, что среднее число для $FDR$ с ростом числа экспериментов действительно сходится, а его дисперсия уменьшается, хотя и очень медленно. В любом случае, последний график строился не меньше 10 минут, поэтому для экономии времени в дальнейшем будем исследовать для $experiments = 50$."
   ]
  },
  {
   "cell_type": "markdown",
   "metadata": {},
   "source": [
    "Сначала посмотрим на зависимость среднего числа для $FDR$ при фиксированном значении $\\alpha = 0.05$ при переменном значении $m$, однако, как и в первом эксперименте, оставим соотношение между $m_0$ и $m$ таким же, то есть будем брать $m_0 = \\frac{3}{4}m$. По условию, нужно посмотреть на случаи, когда $m$ варьируется от $200$ от $100000$. Разделим этот интервал на $3$ участка, в каждом из которых будет по $8-10$ тестовых точек: от $200$ до $1000$, от $1000$ до $10000$, а также от $10000$ до $100000$. "
   ]
  },
  {
   "cell_type": "code",
   "execution_count": 13,
   "metadata": {},
   "outputs": [
    {
     "name": "stdout",
     "output_type": "stream",
     "text": [
      "m = 200\n",
      "m = 300\n",
      "m = 400\n",
      "m = 500\n",
      "m = 600\n",
      "m = 700\n",
      "m = 800\n",
      "m = 900\n",
      "m = 1000\n"
     ]
    }
   ],
   "source": [
    "arr_m = np.array([100*(i + 1) for i in range(1, 10)])\n",
    "arr_m0 = np.array([75*(i + 1) for i in range(1, 10)])\n",
    "alpha = 0.05\n",
    "experiments = 50\n",
    "rs = np.random.RandomState(42)\n",
    "arr_FDR = []\n",
    "for j in range(arr_m.shape[0]):\n",
    "    arr_FDR_m = []\n",
    "    for i in range(experiments):\n",
    "        X = rs.randn(arr_m[j],n)\n",
    "        X[arr_m0[j]:]+=1\n",
    "        p_values = []\n",
    "        for x in X:\n",
    "            p_values.append(st.ttest_1samp(x, 0)[1])\n",
    "        rejections = multipletests(p_values, alpha=alpha, method='fdr_bh')[0]\n",
    "        FDR = rejections[:arr_m0[j]].sum()/max(rejections.sum(), 1)\n",
    "        arr_FDR_m.append(FDR)\n",
    "    arr_FDR.append(np.mean(np.array(arr_FDR_m)))\n",
    "    print('m = {0}'.format(arr_m[j]))"
   ]
  },
  {
   "cell_type": "code",
   "execution_count": 16,
   "metadata": {},
   "outputs": [
    {
     "data": {
      "image/png": "[encoded data removed]",
      "text/plain": [
       "<matplotlib.figure.Figure at 0x7faf11d77710>"
      ]
     },
     "metadata": {
      "needs_background": "light"
     },
     "output_type": "display_data"
    }
   ],
   "source": [
    "plt.scatter(arr_m, arr_FDR, c='b', label='Benjamini/Hochberg')\n",
    "plt.xlabel('m')\n",
    "plt.ylabel('FDR_mean')\n",
    "plt.ylim(0.8*np.min(arr_FDR), 1.2*np.max(arr_FDR)) \n",
    "plt.grid(True)\n",
    "plt.title('m0 = 3/4*m, alpha = {0}, experiments = {1}'.format(alpha, experiments))\n",
    "plt.legend()\n",
    "plt.show()"
   ]
  },
  {
   "cell_type": "markdown",
   "metadata": {},
   "source": [
    "Кажется, что никакой явной зависимости нет. Смотрим для интервала от $1000$ до $10000$. Важно: следующая клетка отработала ОЧЕНЬ МЕДЛЕННО, придётся уменьшить количество экспериментов для усреднений до $experiments = 10$, чтобы посмотреть на графики для $m$ от $10000$ до $100000$"
   ]
  },
  {
   "cell_type": "code",
   "execution_count": 20,
   "metadata": {},
   "outputs": [
    {
     "name": "stdout",
     "output_type": "stream",
     "text": [
      "m = 1000\n",
      "m = 2000\n",
      "m = 3000\n",
      "m = 4000\n",
      "m = 5000\n",
      "m = 6000\n",
      "m = 7000\n",
      "m = 8000\n",
      "m = 9000\n",
      "m = 10000\n"
     ]
    }
   ],
   "source": [
    "arr_m = np.array([1000*(i + 1) for i in range(10)])\n",
    "arr_m0 = np.array([750*(i + 1) for i in range(10)])\n",
    "alpha = 0.05\n",
    "experiments = 50\n",
    "rs = np.random.RandomState(42)\n",
    "arr_FDR = []\n",
    "for j in range(arr_m.shape[0]):\n",
    "    arr_FDR_m = []\n",
    "    for i in range(experiments):\n",
    "        X = rs.randn(arr_m[j],n)\n",
    "        X[arr_m0[j]:]+=1\n",
    "        p_values = []\n",
    "        for x in X:\n",
    "            p_values.append(st.ttest_1samp(x, 0)[1])\n",
    "        rejections = multipletests(p_values, alpha=alpha, method='fdr_bh')[0]\n",
    "        FDR = rejections[:arr_m0[j]].sum()/max(rejections.sum(), 1)\n",
    "        arr_FDR_m.append(FDR)\n",
    "    arr_FDR.append(np.mean(np.array(arr_FDR_m)))\n",
    "    print('m = {0}'.format(arr_m[j]))"
   ]
  },
  {
   "cell_type": "code",
   "execution_count": 21,
   "metadata": {},
   "outputs": [
    {
     "data": {
      "image/png": "[encoded data removed]",
      "text/plain": [
       "<matplotlib.figure.Figure at 0x7faf11f068d0>"
      ]
     },
     "metadata": {
      "needs_background": "light"
     },
     "output_type": "display_data"
    }
   ],
   "source": [
    "plt.scatter(arr_m, arr_FDR, c='b', label='Benjamini/Hochberg')\n",
    "plt.xlabel('m')\n",
    "plt.ylabel('FDR_mean')\n",
    "plt.ylim(0.8*np.min(arr_FDR), 1.2*np.max(arr_FDR)) \n",
    "plt.grid(True)\n",
    "plt.legend()\n",
    "plt.title('m0 = 3/4*m, alpha = {0}, experiments = {1}'.format(alpha, experiments))\n",
    "plt.show()"
   ]
  },
  {
   "cell_type": "markdown",
   "metadata": {},
   "source": [
    "Опять непонятно, ситуация не прояснилась, поэтому продолжаем. Следующая клетка тоже работает очень долго."
   ]
  },
  {
   "cell_type": "code",
   "execution_count": 22,
   "metadata": {},
   "outputs": [
    {
     "name": "stdout",
     "output_type": "stream",
     "text": [
      "m = 10000\n",
      "m = 20000\n",
      "m = 30000\n",
      "m = 40000\n",
      "m = 50000\n",
      "m = 60000\n",
      "m = 70000\n",
      "m = 80000\n",
      "m = 90000\n",
      "m = 100000\n"
     ]
    }
   ],
   "source": [
    "arr_m = np.array([10000*(i + 1) for i in range(10)])\n",
    "arr_m0 = np.array([7500*(i + 1) for i in range(10)])\n",
    "alpha = 0.05\n",
    "experiments = 10\n",
    "rs = np.random.RandomState(42)\n",
    "arr_FDR = []\n",
    "for j in range(arr_m.shape[0]):\n",
    "    arr_FDR_m = []\n",
    "    for i in range(experiments):\n",
    "        X = rs.randn(arr_m[j],n)\n",
    "        X[arr_m0[j]:]+=1\n",
    "        p_values = []\n",
    "        for x in X:\n",
    "            p_values.append(st.ttest_1samp(x, 0)[1])\n",
    "        rejections = multipletests(p_values, alpha=alpha, method='fdr_bh')[0]\n",
    "        FDR = rejections[:arr_m0[j]].sum()/max(rejections.sum(), 1)\n",
    "        arr_FDR_m.append(FDR)\n",
    "    arr_FDR.append(np.mean(np.array(arr_FDR_m)))\n",
    "    print('m = {0}'.format(arr_m[j]))"
   ]
  },
  {
   "cell_type": "code",
   "execution_count": 23,
   "metadata": {},
   "outputs": [
    {
     "data": {
      "image/png": "[encoded data removed]",
      "text/plain": [
       "<matplotlib.figure.Figure at 0x7faf11b6bba8>"
      ]
     },
     "metadata": {
      "needs_background": "light"
     },
     "output_type": "display_data"
    }
   ],
   "source": [
    "plt.scatter(arr_m, arr_FDR, c='b', label='Benjamini/Hochberg')\n",
    "plt.legend()\n",
    "plt.xlabel('m')\n",
    "plt.ylabel('FDR_mean')\n",
    "plt.ylim(0.8*np.min(arr_FDR), 1.2*np.max(arr_FDR)) \n",
    "plt.grid(True)\n",
    "plt.title('m0 = 3/4*m, alpha = {0}, experiments = {1}'.format(alpha, experiments))\n",
    "plt.show()"
   ]
  },
  {
   "cell_type": "markdown",
   "metadata": {},
   "source": [
    "# Вывод 2: мы считаем, что в совокупности эти графики не демонстрируют какой-либо явной зависимости среднего $FDR$ от $m$ при выборе $m_0 = \\frac{3}{4}m$ (хотя на последнем графике кажется, что точки концентрируются около прямой $FDR_{\\text{mean}} = 0.0375$). \n",
    "Поэтому перейдём к исследованию зависимости от $m_0$ при фиксированных $m = 1000, experiment = 50, \\alpha = 0.05$. Интервал изменений $m_0$ возьмём от $100$ до $900$ с шагом $100$. В дальнейшем посмотрим как будет вести себя метод Бенджамини-Иекутиели для этого случая."
   ]
  },
  {
   "cell_type": "code",
   "execution_count": 73,
   "metadata": {},
   "outputs": [
    {
     "name": "stdout",
     "output_type": "stream",
     "text": [
      "m0 = 100\n",
      "m0 = 200\n",
      "m0 = 300\n",
      "m0 = 400\n",
      "m0 = 500\n",
      "m0 = 600\n",
      "m0 = 700\n",
      "m0 = 800\n",
      "m0 = 900\n"
     ]
    }
   ],
   "source": [
    "m = 1000\n",
    "arr_m0 = np.array([100*(i + 1) for i in range(9)])\n",
    "alpha = 0.05\n",
    "experiments = 50\n",
    "rs = np.random.RandomState(42)\n",
    "arr_FDR = []\n",
    "for j in range(arr_m0.shape[0]):\n",
    "    arr_FDR_m0 = []\n",
    "    for i in range(experiments):\n",
    "        X = rs.randn(m,n)\n",
    "        X[arr_m0[j]:]+=1\n",
    "        p_values = []\n",
    "        for x in X:\n",
    "            p_values.append(st.ttest_1samp(x, 0)[1])\n",
    "        rejections = multipletests(p_values, alpha=alpha, method='fdr_bh')[0]\n",
    "        FDR = rejections[:arr_m0[j]].sum()/(max(rejections.sum(), 1))\n",
    "        arr_FDR_m0.append(FDR)\n",
    "    arr_FDR.append(np.mean(arr_FDR_m0))\n",
    "    print('m0 = {0}'.format(arr_m0[j]))"
   ]
  },
  {
   "cell_type": "code",
   "execution_count": 74,
   "metadata": {},
   "outputs": [
    {
     "data": {
      "image/png": "[encoded data removed]",
      "text/plain": [
       "<matplotlib.figure.Figure at 0x7faf115d0978>"
      ]
     },
     "metadata": {
      "needs_background": "light"
     },
     "output_type": "display_data"
    }
   ],
   "source": [
    "plt.scatter(arr_m0, arr_FDR, c='b', label='Benjamini/Hochberg')\n",
    "plt.legend()\n",
    "plt.xlabel('m0')\n",
    "plt.ylabel('FDR_mean')\n",
    "plt.ylim(0.8*np.min(arr_FDR), 1.2*np.max(arr_FDR)) \n",
    "plt.grid(True)\n",
    "plt.title('m = {0}, alpha = {1}, experiments = {2}'.format(m, alpha, experiments))\n",
    "plt.show()"
   ]
  },
  {
   "cell_type": "markdown",
   "metadata": {},
   "source": [
    "# Вывод 3: хорошо видна линейная зависимость при фиксированных параметрах $\\alpha, m$ величины $FDR_{\\text{mean}}$ от $m_0$. \n",
    "Переходим к исследованию зависимости этой же величины от $\\alpha$ при фиксированных $m$ и $m_0$. Для этого возьмём $\\alpha$ в интервале от $0.01$ до $0.1$ при $m = 1000, m_0 = 750$."
   ]
  },
  {
   "cell_type": "code",
   "execution_count": 76,
   "metadata": {},
   "outputs": [
    {
     "name": "stdout",
     "output_type": "stream",
     "text": [
      "alpha = 0.01\n",
      "alpha = 0.02\n",
      "alpha = 0.03\n",
      "alpha = 0.04\n",
      "alpha = 0.05\n",
      "alpha = 0.06\n",
      "alpha = 0.07\n",
      "alpha = 0.08\n",
      "alpha = 0.09\n",
      "alpha = 0.1\n"
     ]
    }
   ],
   "source": [
    "m = 1000\n",
    "m0 = 750\n",
    "arr_alpha = np.array([i*0.01 for i in range(1, 11)])\n",
    "experiments = 50\n",
    "rs = np.random.RandomState(42)\n",
    "arr_FDR = []\n",
    "for j in range(arr_alpha.shape[0]):\n",
    "    arr_FDR_alpha = []\n",
    "    for i in range(experiments):\n",
    "        X = rs.randn(m,n)\n",
    "        X[m0:]+=1\n",
    "        p_values = []\n",
    "        for x in X:\n",
    "            p_values.append(st.ttest_1samp(x, 0)[1])\n",
    "        rejections = multipletests(p_values, alpha=arr_alpha[j], method='fdr_bh')[0]\n",
    "        FDR = rejections[:m0].sum()/(max(rejections.sum(), 1))\n",
    "        arr_FDR_alpha.append(FDR)\n",
    "    arr_FDR.append(np.mean(arr_FDR_alpha))\n",
    "    print('alpha = {0}'.format(arr_alpha[j]))"
   ]
  },
  {
   "cell_type": "code",
   "execution_count": 77,
   "metadata": {},
   "outputs": [
    {
     "data": {
      "image/png": "[encoded data removed]",
      "text/plain": [
       "<matplotlib.figure.Figure at 0x7faf115e2ef0>"
      ]
     },
     "metadata": {
      "needs_background": "light"
     },
     "output_type": "display_data"
    }
   ],
   "source": [
    "plt.scatter(arr_alpha, arr_FDR, c='b', label='Benjamini/Hochberg')\n",
    "plt.legend()\n",
    "plt.xlabel('alpha')\n",
    "plt.ylabel('FDR_mean')\n",
    "plt.ylim(0.8*np.min(arr_FDR), 1.2*np.max(arr_FDR)) \n",
    "plt.grid(True)\n",
    "plt.title('m = {0}, m0 = {1}, experiments = {2}'.format(m, m0, experiments))\n",
    "plt.show()"
   ]
  },
  {
   "cell_type": "markdown",
   "metadata": {},
   "source": [
    "# Вывод 4: тоже хорошо видна линейная зависимость при фиксированных параметрах $m_0, m$ величины $FDR_{\\text{mean}}$ от $\\alpha$. \n",
    "Завершим случай исследования метода Бенджамини-Хохберга, зафиксировав значения $\\alpha, m_0$ и будем менять $m$ (до этого вместе с $m$ величина $m_0$ тоже менялась, как $m_0 = \\frac{3}{4}m$). В качестве параметров возьмём $\\alpha = 0.05, m_0 = 100$. Для $m$, как и ранее, построим графики для 3 интервалов - от 200 до 1000, затем от 1000 до 10000, затем от 10000 до 100000. Для первых двух графиков выставим $experiments = 50$, в последнем графике для экономии времени ограничимся $experiments = 10$."
   ]
  },
  {
   "cell_type": "code",
   "execution_count": 80,
   "metadata": {},
   "outputs": [
    {
     "name": "stdout",
     "output_type": "stream",
     "text": [
      "m = 200\n",
      "m = 300\n",
      "m = 400\n",
      "m = 500\n",
      "m = 600\n",
      "m = 700\n",
      "m = 800\n",
      "m = 900\n",
      "m = 1000\n"
     ]
    }
   ],
   "source": [
    "arr_m = np.array([100*(i + 1) for i in range(1, 10)])\n",
    "m0 = 100\n",
    "alpha = 0.05\n",
    "experiments = 50\n",
    "rs = np.random.RandomState(42)\n",
    "arr_FDR = []\n",
    "for j in range(arr_m.shape[0]):\n",
    "    arr_FDR_m = []\n",
    "    for i in range(experiments):\n",
    "        X = rs.randn(arr_m[j],n)\n",
    "        X[m0:]+=1\n",
    "        p_values = []\n",
    "        for x in X:\n",
    "            p_values.append(st.ttest_1samp(x, 0)[1])\n",
    "        rejections = multipletests(p_values, alpha=alpha, method='fdr_bh')[0]\n",
    "        FDR = rejections[:m0].sum()/max(rejections.sum(), 1)\n",
    "        arr_FDR_m.append(FDR)\n",
    "    arr_FDR.append(np.mean(np.array(arr_FDR_m)))\n",
    "    print('m = {0}'.format(arr_m[j]))"
   ]
  },
  {
   "cell_type": "code",
   "execution_count": 81,
   "metadata": {},
   "outputs": [
    {
     "data": {
      "image/png": "[encoded data removed]",
      "text/plain": [
       "<matplotlib.figure.Figure at 0x7faf115e2f28>"
      ]
     },
     "metadata": {
      "needs_background": "light"
     },
     "output_type": "display_data"
    }
   ],
   "source": [
    "plt.scatter(arr_m, arr_FDR, c='b', label='Benjamini/Hochberg')\n",
    "plt.xlabel('m')\n",
    "plt.ylabel('FDR_mean')\n",
    "plt.ylim(0.8*np.min(arr_FDR), 1.2*np.max(arr_FDR)) \n",
    "plt.grid(True)\n",
    "plt.legend()\n",
    "plt.title('m0 = {2}, alpha = {0}, experiments = {1}'.format(alpha, experiments, m0))\n",
    "plt.show()"
   ]
  },
  {
   "cell_type": "markdown",
   "metadata": {},
   "source": [
    " Видно, что с ростом $m$ величина $FDR_{\\text{mean}}$ при фиксированных $\\alpha, m_0$ убывает. Посмотрим на интервал для $m$ от $1000$ до $10000$."
   ]
  },
  {
   "cell_type": "code",
   "execution_count": 82,
   "metadata": {},
   "outputs": [
    {
     "name": "stdout",
     "output_type": "stream",
     "text": [
      "m = 1000\n",
      "m = 2000\n",
      "m = 3000\n",
      "m = 4000\n",
      "m = 5000\n",
      "m = 6000\n",
      "m = 7000\n",
      "m = 8000\n",
      "m = 9000\n",
      "m = 10000\n"
     ]
    }
   ],
   "source": [
    "arr_m = np.array([1000*(i + 1) for i in range(10)])\n",
    "m0 = 100\n",
    "alpha = 0.05\n",
    "experiments = 50\n",
    "rs = np.random.RandomState(42)\n",
    "arr_FDR = []\n",
    "for j in range(arr_m.shape[0]):\n",
    "    arr_FDR_m = []\n",
    "    for i in range(experiments):\n",
    "        X = rs.randn(arr_m[j],n)\n",
    "        X[m0:]+=1\n",
    "        p_values = []\n",
    "        for x in X:\n",
    "            p_values.append(st.ttest_1samp(x, 0)[1])\n",
    "        rejections = multipletests(p_values, alpha=alpha, method='fdr_bh')[0]\n",
    "        FDR = rejections[:m0].sum()/max(rejections.sum(), 1)\n",
    "        arr_FDR_m.append(FDR)\n",
    "    arr_FDR.append(np.mean(np.array(arr_FDR_m)))\n",
    "    print('m = {0}'.format(arr_m[j]))"
   ]
  },
  {
   "cell_type": "code",
   "execution_count": 83,
   "metadata": {},
   "outputs": [
    {
     "data": {
      "image/png": "[encoded data removed]",
      "text/plain": [
       "<matplotlib.figure.Figure at 0x7faf115428d0>"
      ]
     },
     "metadata": {
      "needs_background": "light"
     },
     "output_type": "display_data"
    }
   ],
   "source": [
    "plt.scatter(arr_m, arr_FDR, c='b', label='Benjamini/Hochberg')\n",
    "plt.xlabel('m')\n",
    "plt.ylabel('FDR_mean')\n",
    "plt.ylim(0.8*np.min(arr_FDR), 1.2*np.max(arr_FDR)) \n",
    "plt.grid(True)\n",
    "plt.legend()\n",
    "plt.title('m0 = {2}, alpha = {0}, experiments = {1}'.format(alpha, experiments, m0))\n",
    "plt.show()"
   ]
  },
  {
   "cell_type": "markdown",
   "metadata": {},
   "source": [
    "Аналогичная закономерность. Переходим к финальному интервалу для $m$ от $10000$ до $100000$, однако уменьшим число экспериментов в усреднении до $experiments = 10$ для экономии времени."
   ]
  },
  {
   "cell_type": "code",
   "execution_count": 84,
   "metadata": {},
   "outputs": [
    {
     "name": "stdout",
     "output_type": "stream",
     "text": [
      "m = 10000\n",
      "m = 20000\n",
      "m = 30000\n",
      "m = 40000\n",
      "m = 50000\n",
      "m = 60000\n",
      "m = 70000\n",
      "m = 80000\n",
      "m = 90000\n",
      "m = 100000\n"
     ]
    }
   ],
   "source": [
    "arr_m = np.array([10000*(i + 1) for i in range(10)])\n",
    "m0 = 100\n",
    "alpha = 0.05\n",
    "experiments = 10\n",
    "rs = np.random.RandomState(42)\n",
    "arr_FDR = []\n",
    "for j in range(arr_m.shape[0]):\n",
    "    arr_FDR_m = []\n",
    "    for i in range(experiments):\n",
    "        X = rs.randn(arr_m[j],n)\n",
    "        X[m0:]+=1\n",
    "        p_values = []\n",
    "        for x in X:\n",
    "            p_values.append(st.ttest_1samp(x, 0)[1])\n",
    "        rejections = multipletests(p_values, alpha=alpha, method='fdr_bh')[0]\n",
    "        FDR = rejections[:m0].sum()/max(rejections.sum(), 1)\n",
    "        arr_FDR_m.append(FDR)\n",
    "    arr_FDR.append(np.mean(np.array(arr_FDR_m)))\n",
    "    print('m = {0}'.format(arr_m[j]))"
   ]
  },
  {
   "cell_type": "code",
   "execution_count": 85,
   "metadata": {},
   "outputs": [
    {
     "data": {
      "image/png": "[encoded data removed]",
      "text/plain": [
       "<matplotlib.figure.Figure at 0x7faf125757f0>"
      ]
     },
     "metadata": {
      "needs_background": "light"
     },
     "output_type": "display_data"
    }
   ],
   "source": [
    "plt.scatter(arr_m, arr_FDR, c='b', label='Benjamini/Hochberg')\n",
    "plt.xlabel('m')\n",
    "plt.ylabel('FDR_mean')\n",
    "plt.ylim(0.8*np.min(arr_FDR), 1.2*np.max(arr_FDR)) \n",
    "plt.grid(True)\n",
    "plt.legend()\n",
    "plt.title('m0 = {2}, alpha = {0}, experiments = {1}'.format(alpha, experiments, m0))\n",
    "plt.show()"
   ]
  },
  {
   "cell_type": "markdown",
   "metadata": {},
   "source": [
    "# Вывод 5: при фиксированных параметрах $m_0, \\alpha$ значение в целом $FDR_{\\text{mean}}$ быстро падает с ростом $m$. \n",
    "Это может объясняться  тем, что в формуле  $FDR = \\mathbb{E}\\Bigl(\\frac{rejected_0}{\\max(rejected_0 + m - m_0 - T,1)}\\Bigr)$ величина $m$ стоит в знаменателе. Величина $rejected_0$ при этом ограничена сверху постоянным числом $m_0$."
   ]
  },
  {
   "cell_type": "markdown",
   "metadata": {},
   "source": [
    "# Часть 2. Метод Бенджамини-Иекутиели."
   ]
  },
  {
   "cell_type": "markdown",
   "metadata": {},
   "source": [
    "Так получилось, что код писался последовательно и имеющийся ноутбук очень вырос по размерам, хотя многие клетки получены из предыдущих заменой нескольких строк кода. К этому моменту было принято решение написать одну функцию, которая будет принимать в качестве параметров метод для функции multitests, тройку массивов для $\\alpha, m, m_0$, по которым будет строить график зависимости усреднённого $FDR$ по результатам экспериментов в количестве $experiments$ и в качестве оси $Ox$ будет выбирать один из массивов $\\alpha/m/m_0$ (за это отвечает параметр $arr_x$), а также счётчик случайности $random\\_state$. Эта функция позволит сократить длину вызовов и не порождать много однотипных клеток. К сожалению, код первой части не переделывали, потому что он писался не один день и все предыдущие клетки работали достаточно долго. Авторы приносят извинения за это."
   ]
  },
  {
   "cell_type": "code",
   "execution_count": 7,
   "metadata": {},
   "outputs": [],
   "source": [
    "def plot_graph(n, alpha, m, m0, experiments, method, arr_x, random_state):\n",
    "    rs = np.random.RandomState(random_state)\n",
    "    arr_FDR = []\n",
    "    for j in range(m.shape[0]):\n",
    "        arr_FDR_exp = []\n",
    "        for i in range(experiments):\n",
    "            X = rs.randn(m[j],n)\n",
    "            X[m0[j]:]+=1\n",
    "            p_values = []\n",
    "            for x in X:\n",
    "                p_values.append(st.ttest_1samp(x, 0)[1])\n",
    "            rejections = multipletests(p_values, alpha=alpha[j], method=method)[0]\n",
    "            FDR = rejections[:m0[j]].sum()/max(rejections.sum(), 1)\n",
    "            arr_FDR_exp.append(FDR)\n",
    "        arr_FDR.append(np.mean(np.array(arr_FDR_exp)))\n",
    "        if (arr_x == 'alpha'): \n",
    "            print('alpha = {0}'.format(alpha[j]))\n",
    "        elif (arr_x == 'm'):\n",
    "            print('m = {0}'.format(m[j]))\n",
    "        else:\n",
    "            print('m0 = {0}'.format(m0[j]))\n",
    "    if (arr_x == 'alpha'): \n",
    "        plt.scatter(alpha, arr_FDR, c='b', label=method)\n",
    "        plt.title('m0 = {0}, m = {1}, experiments = {2}'.format(m0[0], m[0], experiments))\n",
    "    elif (arr_x == 'm'):\n",
    "        plt.scatter(m, arr_FDR, c='b', label=method)\n",
    "        plt.title('m0 = {0}, alpha = {1}, experiments = {2}'.format(m0[0], alpha[0], experiments))\n",
    "    else:\n",
    "        plt.scatter(m0, arr_FDR, c='b', label=method)\n",
    "        plt.title('m = {0}, alpha = {1}, experiments = {2}'.format(m[0], alpha[0], experiments))\n",
    "    plt.xlabel(arr_x)\n",
    "    plt.ylabel('FDR_mean')\n",
    "    plt.ylim(0.8*np.min(arr_FDR), 1.2*np.max(arr_FDR)) \n",
    "    plt.grid(True)\n",
    "    plt.legend()\n",
    "    plt.show()"
   ]
  },
  {
   "cell_type": "code",
   "execution_count": 8,
   "metadata": {},
   "outputs": [
    {
     "name": "stdout",
     "output_type": "stream",
     "text": [
      "alpha = 0.01\n",
      "alpha = 0.02\n",
      "alpha = 0.03\n",
      "alpha = 0.04\n",
      "alpha = 0.05\n",
      "alpha = 0.06\n",
      "alpha = 0.07\n",
      "alpha = 0.08\n",
      "alpha = 0.09\n",
      "alpha = 0.1\n"
     ]
    },
    {
     "data": {
      "image/png": "[encoded data removed]",
      "text/plain": [
       "<matplotlib.figure.Figure at 0x7fc65d59d320>"
      ]
     },
     "metadata": {
      "needs_background": "light"
     },
     "output_type": "display_data"
    }
   ],
   "source": [
    "n = 20\n",
    "m = np.array([1000 for i in range(1, 11)])\n",
    "m0 = np.array([750 for i in range(1, 11)])\n",
    "alpha = np.array([i*0.01 for i in range(1, 11)])\n",
    "experiments = 50\n",
    "method = 'fdr_by'\n",
    "random_state = 42\n",
    "arr_x = 'alpha'\n",
    "plot_graph(n, alpha, m, m0, experiments, method, arr_x, random_state)"
   ]
  },
  {
   "cell_type": "markdown",
   "metadata": {},
   "source": [
    "# Вывод 6: здесь также видна линейная зависимость $FDR_{\\text{mean}}$ от параметра $\\alpha$, хотя  в этом случае она значительно зашумлена по сравнению с методом Бенджамини-Хохберга. "
   ]
  },
  {
   "cell_type": "code",
   "execution_count": 9,
   "metadata": {},
   "outputs": [
    {
     "name": "stdout",
     "output_type": "stream",
     "text": [
      "m0 = 100\n",
      "m0 = 200\n",
      "m0 = 300\n",
      "m0 = 400\n",
      "m0 = 500\n",
      "m0 = 600\n",
      "m0 = 700\n",
      "m0 = 800\n",
      "m0 = 900\n"
     ]
    },
    {
     "data": {
      "image/png": "[encoded data removed]",
      "text/plain": [
       "<matplotlib.figure.Figure at 0x7fc65d4ea550>"
      ]
     },
     "metadata": {
      "needs_background": "light"
     },
     "output_type": "display_data"
    }
   ],
   "source": [
    "n = 20\n",
    "m = np.array([1000 for i in range(9)])\n",
    "m0 = np.array([100*(i + 1) for i in range(9)])\n",
    "alpha = np.array([0.05 for i in range(9)])\n",
    "experiments = 50\n",
    "method = 'fdr_by'\n",
    "random_state = 42\n",
    "arr_x = 'm0'\n",
    "plot_graph(n, alpha, m, m0, experiments, method, arr_x, random_state)"
   ]
  },
  {
   "cell_type": "markdown",
   "metadata": {},
   "source": [
    "# Вывод 7: здесь тоже если линейная зависимость для $FDR_{\\text{mean}}$ от $m_0$ при фиксированных $m, \\alpha$ если и есть, то она сильно зашумлена."
   ]
  },
  {
   "cell_type": "code",
   "execution_count": 11,
   "metadata": {},
   "outputs": [
    {
     "name": "stdout",
     "output_type": "stream",
     "text": [
      "m = 200\n",
      "m = 300\n",
      "m = 400\n",
      "m = 500\n",
      "m = 600\n",
      "m = 700\n",
      "m = 800\n",
      "m = 900\n",
      "m = 1000\n"
     ]
    },
    {
     "data": {
      "image/png": "[encoded data removed]",
      "text/plain": [
       "<matplotlib.figure.Figure at 0x7fc65d4e1be0>"
      ]
     },
     "metadata": {
      "needs_background": "light"
     },
     "output_type": "display_data"
    }
   ],
   "source": [
    "n = 20\n",
    "m = np.array([100*(i + 1) for i in range(1, 10)])\n",
    "m0 = np.array([100 for i in range(1, 10)])\n",
    "alpha = np.array([0.05 for i in range(9)])\n",
    "experiments = 50\n",
    "method = 'fdr_by'\n",
    "random_state = 42\n",
    "arr_x = 'm'\n",
    "plot_graph(n, alpha, m, m0, experiments, method, arr_x, random_state)"
   ]
  },
  {
   "cell_type": "code",
   "execution_count": 12,
   "metadata": {},
   "outputs": [
    {
     "name": "stdout",
     "output_type": "stream",
     "text": [
      "m = 1000\n",
      "m = 2000\n",
      "m = 3000\n",
      "m = 4000\n",
      "m = 5000\n",
      "m = 6000\n",
      "m = 7000\n",
      "m = 8000\n",
      "m = 9000\n",
      "m = 10000\n"
     ]
    },
    {
     "data": {
      "image/png": "[encoded data removed]",
      "text/plain": [
       "<matplotlib.figure.Figure at 0x7fc65d4f3eb8>"
      ]
     },
     "metadata": {
      "needs_background": "light"
     },
     "output_type": "display_data"
    }
   ],
   "source": [
    "n = 20\n",
    "m = np.array([1000*(i + 1) for i in range(10)])\n",
    "m0 = np.array([100 for i in range(10)])\n",
    "alpha = np.array([0.05 for i in range(10)])\n",
    "experiments = 50\n",
    "method = 'fdr_by'\n",
    "random_state = 42\n",
    "arr_x = 'm'\n",
    "plot_graph(n, alpha, m, m0, experiments, method, arr_x, random_state)"
   ]
  },
  {
   "cell_type": "markdown",
   "metadata": {},
   "source": [
    "# Вывод 8: этот график, как и предыдущий, подтверждает убывающую зависимость $FDR_{\\text{mean}}$ от $m$ при фиксированных $m_0, \\alpha$. Более того, как и ранее, зависимость кажется гиперболической.\n",
    "Не будем строить график для $m$ в интервале от $10000$ до $100000$, а лучше попробуем посмотреть, как изменится график для зависимости от $\\alpha$, если использовать не один счётчик случайных чисел, а целый набор. Для этого при фиксированных параметрах $m, m_0, \\alpha$ возьмём $num\\_random\\_states$ разных счётчиков случайных чисел, для каждого из них, как и ранее, получим массив $FDR_{\\text{mean}}$ усреднением по количеству экспериментов числом $experiments$, а затем усредним соответствующие $num\\_random\\_states$ чисел, так что на графике будем отображать полученные числа после этих двух последовательных этапов усреднения данных в зависимости от параметра. Это замедлит код в $num\\_random\\_states$ раз (поэтому на практике возьмём это число не очень большим, скажем, $10$), но позволит учесть \"неслучайность\" конкретного счётчика данных. Для того, чтобы ждать пришлось не слишком долго, уменьшим число $experiments$ с $50$ до $10$."
   ]
  },
  {
   "cell_type": "code",
   "execution_count": 31,
   "metadata": {},
   "outputs": [],
   "source": [
    "def plot_graph_many_random(n, alpha, m, m0, num_random_states, experiments, method, arr_x):\n",
    "    arr_FDR = []\n",
    "    for j in range(m.shape[0]):\n",
    "        arr_FDR_one_random = []\n",
    "        for k in range(num_random_states):\n",
    "            arr_FDR_exp = []\n",
    "            rs = np.random.RandomState(k + 42)\n",
    "            for i in range(experiments):\n",
    "                X = rs.randn(m[j],n)\n",
    "                X[m0[j]:]+=1\n",
    "                p_values = []\n",
    "                for x in X:\n",
    "                    p_values.append(st.ttest_1samp(x, 0)[1])\n",
    "                rejections = multipletests(p_values, alpha=alpha[j], method=method)[0]\n",
    "                FDR = rejections[:m0[j]].sum()/max(rejections.sum(), 1)\n",
    "                arr_FDR_exp.append(FDR)\n",
    "            arr_FDR_one_random.append(np.mean(np.array(arr_FDR_exp)))\n",
    "        arr_FDR.append(np.mean(np.array(arr_FDR_one_random)))\n",
    "        if (arr_x == 'alpha'): \n",
    "            print('alpha = {0}'.format(alpha[j]))\n",
    "        elif (arr_x == 'm'):\n",
    "            print('m = {0}'.format(m[j]))\n",
    "        else:\n",
    "            print('m0 = {0}'.format(m0[j]))\n",
    "    if (arr_x == 'alpha'): \n",
    "        plt.scatter(alpha, arr_FDR, c='b', label=method, color='')\n",
    "        plt.title('m0 = {0}, m = {1}, experiments = {2}, num_random_states = {3}'.format(m0[0], m[0], experiments,\n",
    "                                                                                       num_random_states))\n",
    "    elif (arr_x == 'm'):\n",
    "        plt.scatter(m, arr_FDR, c='b', label=method)\n",
    "        plt.title('m0 = {0}, alpha = {1}, experiments = {2}, num_random_states = {3}'.format(m0[0], alpha[0], \n",
    "                                                                                    experiments, num_random_states))\n",
    "    else:\n",
    "        plt.scatter(m0, arr_FDR, c='b', label=method)\n",
    "        plt.title('m = {0}, alpha = {1}, experiments = {2}, num_random_states = {3}'.format(m[0], alpha[0], \n",
    "                                                                                    experiments, num_random_states))\n",
    "    plt.xlabel(arr_x)\n",
    "    plt.ylabel('FDR_mean')\n",
    "    plt.ylim(0.8*np.min(arr_FDR), 1.2*np.max(arr_FDR)) \n",
    "    plt.grid(True)\n",
    "    plt.legend()\n",
    "    plt.show()"
   ]
  },
  {
   "cell_type": "code",
   "execution_count": 34,
   "metadata": {},
   "outputs": [
    {
     "name": "stdout",
     "output_type": "stream",
     "text": [
      "alpha = 0.01\n",
      "alpha = 0.02\n",
      "alpha = 0.03\n",
      "alpha = 0.04\n",
      "alpha = 0.05\n",
      "alpha = 0.06\n",
      "alpha = 0.07\n",
      "alpha = 0.08\n",
      "alpha = 0.09\n",
      "alpha = 0.1\n"
     ]
    },
    {
     "data": {
      "image/png": "[encoded data removed]",
      "text/plain": [
       "<matplotlib.figure.Figure at 0x7fc65b23ce10>"
      ]
     },
     "metadata": {
      "needs_background": "light"
     },
     "output_type": "display_data"
    }
   ],
   "source": [
    "n = 20\n",
    "m = np.array([1000 for i in range(1, 11)])\n",
    "m0 = np.array([750 for i in range(1, 11)])\n",
    "alpha = np.array([i*0.01 for i in range(1, 11)])\n",
    "experiments = 10\n",
    "num_random_states = 10\n",
    "method = 'fdr_by'\n",
    "arr_x = 'alpha'\n",
    "plot_graph_many_random(n, alpha, m, m0, num_random_states, experiments, method, arr_x)"
   ]
  },
  {
   "cell_type": "markdown",
   "metadata": {},
   "source": [
    "# Вывод 9: если сравнить последний график с тем, когда использовали $experiments = 50$, но с одним и тем же счётчиком случайных чисел, то можно заметить, что последняя зависимость с использованием многих счётчиков случайных чисел и меньшим числом $experiments = 10$ куда менее зашумлена от линейной. Это подтверждает наше предположение о том как можно устранить \"неслучайность\", связанную с конкретным генератором случайных чисел.\n",
    "Проверим последний вывод при изменении параметра $m_0$ и фиксированных $\\alpha, m$."
   ]
  },
  {
   "cell_type": "code",
   "execution_count": 36,
   "metadata": {},
   "outputs": [
    {
     "name": "stdout",
     "output_type": "stream",
     "text": [
      "m0 = 100\n",
      "m0 = 200\n",
      "m0 = 300\n",
      "m0 = 400\n",
      "m0 = 500\n",
      "m0 = 600\n",
      "m0 = 700\n",
      "m0 = 800\n",
      "m0 = 900\n"
     ]
    },
    {
     "data": {
      "image/png": "[encoded data removed]",
      "text/plain": [
       "<matplotlib.figure.Figure at 0x7fc65b42e898>"
      ]
     },
     "metadata": {
      "needs_background": "light"
     },
     "output_type": "display_data"
    }
   ],
   "source": [
    "n = 20\n",
    "m = np.array([1000 for i in range(9)])\n",
    "m0 = np.array([100*(i + 1) for i in range(9)])\n",
    "alpha = np.array([0.05 for i in range(9)])\n",
    "experiments = 10\n",
    "method = 'fdr_by'\n",
    "num_random_states = 10\n",
    "arr_x = 'm0'\n",
    "plot_graph_many_random(n, alpha, m, m0, num_random_states, experiments, method, arr_x)"
   ]
  },
  {
   "cell_type": "markdown",
   "metadata": {},
   "source": [
    "# Вывод 10: снова наблюдаем закономерность снятия зашумлённости увеличением количества счётчиков случайных чисел и линейную зависимость $FDR_{\\text{mean}}$ от $m_0$ при фиксированных параметрах $m, \\alpha$.\n",
    "В качестве завершения исследования сравним как ведут себя зависимости $FDR_{\\text{mean}}$ от $\\alpha$ и $m_0$ при фиксированных остальных параметров для двух методов (Бенджамини-Хохберга и Бенджамини-Иекутиели) на одном графике с использованием метода усреднения по нескольким счётчикам случайных чисел. Для обоих методов будем использовать $num\\_random\\_states = 10$ и $experiments = 10$."
   ]
  },
  {
   "cell_type": "markdown",
   "metadata": {},
   "source": [
    "# Часть 3. Сравнение методов Бенджамини-Хохберга и Бенджамини-Иекутиели"
   ]
  },
  {
   "cell_type": "code",
   "execution_count": 17,
   "metadata": {},
   "outputs": [],
   "source": [
    "def plot_graph_2_methods(n, alpha, m, m0, num_random_states, experiments, method1, method2, arr_x):\n",
    "    methods = [method1, method2]\n",
    "    ans = []\n",
    "    for l in range(2):\n",
    "        arr_FDR = []\n",
    "        for j in range(m.shape[0]):\n",
    "            arr_FDR_one_random = []\n",
    "            for k in range(num_random_states):\n",
    "                arr_FDR_exp = []\n",
    "                rs = np.random.RandomState(k + 42)\n",
    "                for i in range(experiments):\n",
    "                    X = rs.randn(m[j],n)\n",
    "                    X[m0[j]:]+=1\n",
    "                    p_values = []\n",
    "                    for x in X:\n",
    "                        p_values.append(st.ttest_1samp(x, 0)[1])\n",
    "                    rejections = multipletests(p_values, alpha=alpha[j], method=methods[l])[0]\n",
    "                    FDR = rejections[:m0[j]].sum()/max(rejections.sum(), 1)\n",
    "                    arr_FDR_exp.append(FDR)\n",
    "                arr_FDR_one_random.append(np.mean(np.array(arr_FDR_exp)))\n",
    "            arr_FDR.append(np.mean(np.array(arr_FDR_one_random)))\n",
    "            if (arr_x == 'alpha'): \n",
    "                print('method = {0}, alpha = {1}'.format(methods[l], alpha[j]))\n",
    "            elif (arr_x == 'm0'):\n",
    "                print('method = {0}, m0 = {1}'.format(methods[l], m0[j]))\n",
    "        ans.append(arr_FDR)\n",
    "        if (arr_x == 'alpha'):\n",
    "            if (l == 0):\n",
    "                plt.scatter(alpha, arr_FDR, c='b', label=methods[l])\n",
    "            if (l == 1):\n",
    "                plt.scatter(alpha, arr_FDR, c='r', label=methods[l])\n",
    "            plt.title('m0 = {0}, m = {1}, experiments = {2}, num_random_states = {3}'.format(m0[0], m[0], experiments,\n",
    "                                                                                       num_random_states))\n",
    "        elif (arr_x == 'm0'):\n",
    "            if (l == 0):\n",
    "                plt.scatter(m0, arr_FDR, c='b', label=methods[l])\n",
    "            if (l == 1):\n",
    "                plt.scatter(m0, arr_FDR, c='r', label=methods[l])\n",
    "            plt.title('m = {0}, alpha = {1}, experiments = {2}, num_random_states = {3}'.format(m[0], alpha[0], \n",
    "                                                                                    experiments, num_random_states))\n",
    "    plt.xlabel(arr_x)\n",
    "    plt.ylabel('FDR_mean') \n",
    "    plt.grid(True)\n",
    "    plt.legend()\n",
    "    plt.show()\n",
    "    return ans[0], ans[1]"
   ]
  },
  {
   "cell_type": "code",
   "execution_count": 18,
   "metadata": {},
   "outputs": [
    {
     "name": "stdout",
     "output_type": "stream",
     "text": [
      "method = fdr_bh, alpha = 0.01\n",
      "method = fdr_bh, alpha = 0.02\n",
      "method = fdr_bh, alpha = 0.03\n",
      "method = fdr_bh, alpha = 0.04\n",
      "method = fdr_bh, alpha = 0.05\n",
      "method = fdr_bh, alpha = 0.06\n",
      "method = fdr_bh, alpha = 0.07\n",
      "method = fdr_bh, alpha = 0.08\n",
      "method = fdr_bh, alpha = 0.09\n",
      "method = fdr_bh, alpha = 0.1\n",
      "method = fdr_by, alpha = 0.01\n",
      "method = fdr_by, alpha = 0.02\n",
      "method = fdr_by, alpha = 0.03\n",
      "method = fdr_by, alpha = 0.04\n",
      "method = fdr_by, alpha = 0.05\n",
      "method = fdr_by, alpha = 0.06\n",
      "method = fdr_by, alpha = 0.07\n",
      "method = fdr_by, alpha = 0.08\n",
      "method = fdr_by, alpha = 0.09\n",
      "method = fdr_by, alpha = 0.1\n"
     ]
    },
    {
     "data": {
      "image/png": "[encoded data removed]",
      "text/plain": [
       "<matplotlib.figure.Figure at 0x7f856aebe780>"
      ]
     },
     "metadata": {
      "needs_background": "light"
     },
     "output_type": "display_data"
    }
   ],
   "source": [
    "n = 20\n",
    "m = np.array([1000 for i in range(1, 11)])\n",
    "m0 = np.array([750 for i in range(1, 11)])\n",
    "alpha = np.array([i*0.01 for i in range(1, 11)])\n",
    "experiments = 10\n",
    "num_random_states = 10\n",
    "method1 = 'fdr_bh'\n",
    "method2 = 'fdr_by'\n",
    "arr_x = 'alpha'\n",
    "bh, by = plot_graph_2_methods(n, alpha, m, m0, num_random_states, experiments, method1, method2, arr_x)"
   ]
  },
  {
   "cell_type": "code",
   "execution_count": 19,
   "metadata": {},
   "outputs": [
    {
     "name": "stdout",
     "output_type": "stream",
     "text": [
      "method = fdr_bh, m0 = 100\n",
      "method = fdr_bh, m0 = 200\n",
      "method = fdr_bh, m0 = 300\n",
      "method = fdr_bh, m0 = 400\n",
      "method = fdr_bh, m0 = 500\n",
      "method = fdr_bh, m0 = 600\n",
      "method = fdr_bh, m0 = 700\n",
      "method = fdr_bh, m0 = 800\n",
      "method = fdr_bh, m0 = 900\n",
      "method = fdr_by, m0 = 100\n",
      "method = fdr_by, m0 = 200\n",
      "method = fdr_by, m0 = 300\n",
      "method = fdr_by, m0 = 400\n",
      "method = fdr_by, m0 = 500\n",
      "method = fdr_by, m0 = 600\n",
      "method = fdr_by, m0 = 700\n",
      "method = fdr_by, m0 = 800\n",
      "method = fdr_by, m0 = 900\n"
     ]
    },
    {
     "data": {
      "image/png": "[encoded data removed]",
      "text/plain": [
       "<matplotlib.figure.Figure at 0x7f856b063ef0>"
      ]
     },
     "metadata": {
      "needs_background": "light"
     },
     "output_type": "display_data"
    }
   ],
   "source": [
    "n = 20\n",
    "m = np.array([1000 for i in range(9)])\n",
    "m0 = np.array([100*(i + 1) for i in range(9)])\n",
    "alpha = np.array([0.05 for i in range(9)])\n",
    "experiments = 10\n",
    "num_random_states = 10\n",
    "method1 = 'fdr_bh'\n",
    "method2 = 'fdr_by'\n",
    "arr_x = 'm0'\n",
    "bh, by = plot_graph_2_methods(n, alpha, m, m0, num_random_states, experiments, method1, method2, arr_x)"
   ]
  },
  {
   "cell_type": "markdown",
   "metadata": {},
   "source": [
    "# Вывод 11: на том же уровне значимости $\\alpha$ метод Бенджамини-Иекутиели даёт намного меньшее значение для среднего значения $FDR$, чем метод Бенджамини-Хохберга. "
   ]
  }
 ],
 "metadata": {
  "kernelspec": {
   "display_name": "Python 3",
   "language": "python",
   "name": "python3"
  },
  "language_info": {
   "codemirror_mode": {
    "name": "ipython",
    "version": 3
   },
   "file_extension": ".py",
   "mimetype": "text/x-python",
   "name": "python",
   "nbconvert_exporter": "python",
   "pygments_lexer": "ipython3",
   "version": "3.6.7"
  }
 },
 "nbformat": 4,
 "nbformat_minor": 2
}
