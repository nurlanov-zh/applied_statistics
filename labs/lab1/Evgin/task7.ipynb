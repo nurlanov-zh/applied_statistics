{
 "cells": [
  {
   "cell_type": "markdown",
   "metadata": {},
   "source": [
    "# Задача 7"
   ]
  },
  {
   "cell_type": "code",
   "execution_count": 1,
   "metadata": {},
   "outputs": [],
   "source": [
    "import numpy as np\n",
    "import matplotlib.pylab as plt\n",
    "import scipy.stats as st\n",
    "import seaborn as sns\n",
    "from nltk.tokenize import RegexpTokenizer\n",
    "from collections import Counter\n",
    "\n",
    "%matplotlib inline\n",
    "plt.rcParams['figure.figsize'] = (8, 6)\n",
    "plt.rcParams['font.size'] = 13"
   ]
  },
  {
   "cell_type": "markdown",
   "metadata": {},
   "source": [
    "## Загрузка"
   ]
  },
  {
   "cell_type": "code",
   "execution_count": 2,
   "metadata": {},
   "outputs": [
    {
     "name": "stdout",
     "output_type": "stream",
     "text": [
      "--2019-03-19 03:06:49--  http://www.gutenberg.org/files/1399/1399-0.txt\n",
      "Resolving www.gutenberg.org (www.gutenberg.org)... 152.19.134.47, 2610:28:3090:3000:0:bad:cafe:47\n",
      "Connecting to www.gutenberg.org (www.gutenberg.org)|152.19.134.47|:80... connected.\n",
      "HTTP request sent, awaiting response... 200 OK\n",
      "Length: 2068089 (2,0M) [text/plain]\n",
      "Saving to: ‘ak_en.txt’\n",
      "\n",
      "ak_en.txt           100%[===================>]   1,97M   998KB/s    in 2,0s    \n",
      "\n",
      "2019-03-19 03:06:52 (998 KB/s) - ‘ak_en.txt’ saved [2068089/2068089]\n",
      "\n"
     ]
    }
   ],
   "source": [
    "!wget -O ak_en.txt http://www.gutenberg.org/files/1399/1399-0.txt"
   ]
  },
  {
   "cell_type": "code",
   "execution_count": 29,
   "metadata": {},
   "outputs": [
    {
     "name": "stdout",
     "output_type": "stream",
     "text": [
      "--2019-03-19 03:19:23--  http://www.gutenberg.org/ebooks/17552.txt.utf-8\n",
      "Resolving www.gutenberg.org (www.gutenberg.org)... 152.19.134.47, 2610:28:3090:3000:0:bad:cafe:47\n",
      "Connecting to www.gutenberg.org (www.gutenberg.org)|152.19.134.47|:80... connected.\n",
      "HTTP request sent, awaiting response... 302 Found\n",
      "Location: http://www.gutenberg.org/cache/epub/17552/pg17552.txt [following]\n",
      "--2019-03-19 03:19:24--  http://www.gutenberg.org/cache/epub/17552/pg17552.txt\n",
      "Reusing existing connection to www.gutenberg.org:80.\n",
      "HTTP request sent, awaiting response... 200 OK\n",
      "Length: 812405 (793K) [text/plain]\n",
      "Saving to: ‘ak_fr.txt’\n",
      "\n",
      "ak_fr.txt           100%[===================>] 793,36K   438KB/s    in 1,8s    \n",
      "\n",
      "2019-03-19 03:19:26 (438 KB/s) - ‘ak_fr.txt’ saved [812405/812405]\n",
      "\n"
     ]
    }
   ],
   "source": [
    "!wget -O ak_fr.txt http://www.gutenberg.org/ebooks/17552.txt.utf-8"
   ]
  },
  {
   "cell_type": "code",
   "execution_count": 2,
   "metadata": {},
   "outputs": [],
   "source": [
    "def words_from_file(path):\n",
    "    fd = open(path)\n",
    "    text = fd.read()\n",
    "    fd.close()\n",
    "    tokenizer = RegexpTokenizer(r'\\w+')\n",
    "    words = tokenizer.tokenize(text)\n",
    "    return words"
   ]
  },
  {
   "cell_type": "markdown",
   "metadata": {},
   "source": [
    "## Сравнение языков"
   ]
  },
  {
   "cell_type": "code",
   "execution_count": 148,
   "metadata": {},
   "outputs": [
    {
     "name": "stdout",
     "output_type": "stream",
     "text": [
      "Mode = 3\n",
      "Median = 4\n",
      "Mean = 4.260693572942311\n"
     ]
    }
   ],
   "source": [
    "en_words = words_from_file('ak_en.txt')\n",
    "en_lens = np.array([len(word) for word in en_words], dtype=np.int)\n",
    "print('Mode = {}\\nMedian = {}\\nMean = {}'.format(st.mode(en_lens).mode[0],\n",
    "                                                 int(np.median(en_lens)),\n",
    "                                                 np.mean(en_lens)))"
   ]
  },
  {
   "cell_type": "markdown",
   "metadata": {},
   "source": [
    "Наиболее \"интересное\" среднее - мода, т.е. самая распространенная длина слова."
   ]
  },
  {
   "cell_type": "code",
   "execution_count": 149,
   "metadata": {},
   "outputs": [
    {
     "name": "stdout",
     "output_type": "stream",
     "text": [
      "Mode = 2\n",
      "Median = 4\n",
      "Mean = 4.3762383381556065\n"
     ]
    }
   ],
   "source": [
    "fr_words = words_from_file('ak_fr.txt')\n",
    "fr_lens = np.array([len(word) for word in fr_words], dtype=np.int)\n",
    "print('Mode = {}\\nMedian = {}\\nMean = {}'.format(st.mode(fr_lens).mode[0],\n",
    "                                                 int(np.median(fr_lens)),\n",
    "                                                 np.mean(fr_lens)))"
   ]
  },
  {
   "cell_type": "code",
   "execution_count": 150,
   "metadata": {},
   "outputs": [
    {
     "name": "stdout",
     "output_type": "stream",
     "text": [
      "Mode = 3\n",
      "Median = 5\n",
      "Mean = 4.945011699246458\n"
     ]
    }
   ],
   "source": [
    "ru_words = words_from_file('ak_ru.txt')\n",
    "ru_lens = np.array([len(word) for word in ru_words], dtype=np.int)\n",
    "print('Mode = {}\\nMedian = {}\\nMean = {}'.format(st.mode(ru_lens).mode[0],\n",
    "                                                 int(np.median(ru_lens)),\n",
    "                                                 np.mean(ru_lens)))"
   ]
  },
  {
   "cell_type": "markdown",
   "metadata": {},
   "source": [
    "### Замечание:\n",
    "Медианы и средние почти одинаковые, а вот моды отличаются: во французском преобладают слова из двух букв, в русском и английском - из трех. Средняя длина слова в русском языке наибольшая."
   ]
  },
  {
   "cell_type": "code",
   "execution_count": 156,
   "metadata": {},
   "outputs": [
    {
     "data": {
      "image/png": "[encoded data removed]",
      "text/plain": [
       "<Figure size 1080x288 with 3 Axes>"
      ]
     },
     "metadata": {
      "needs_background": "light"
     },
     "output_type": "display_data"
    }
   ],
   "source": [
    "plt.rcParams['figure.figsize'] = (15, 4)\n",
    "ax1, ax2, ax3 = plt.subplots(1, 3)[1]\n",
    "ax1.set_title('EN'), ax2.set_title('FR'), ax3.set_title('RU')\n",
    "ax1.hist(en_lens, density=True)\n",
    "ax2.hist(fr_lens, density=True)\n",
    "ax3.hist(ru_lens, density=True)\n",
    "_ = plt.show()"
   ]
  },
  {
   "cell_type": "markdown",
   "metadata": {},
   "source": [
    "Будем исходить из того, что распределение - пуассоновское (так дано свыше в условии задачи).\n",
    "\n",
    "Тогда оценим параметр распределения.\n",
    "\n",
    "### Оценка параметра\n",
    "\n",
    "В качестве оценки возьмем оценку максимального правдоподобия. Для пуассоновского распределения:\n",
    "\n",
    "$$\n",
    "\\xi \\sim Poiss(\\lambda), \\quad \\lambda_{MLE} = \\bar{X}\n",
    "$$"
   ]
  },
  {
   "cell_type": "code",
   "execution_count": 159,
   "metadata": {},
   "outputs": [],
   "source": [
    "en_mle, fr_mle, ru_mle = np.mean(en_lens), np.mean(fr_lens), np.mean(ru_lens)"
   ]
  },
  {
   "cell_type": "markdown",
   "metadata": {},
   "source": [
    "Будем проверять гипотезу о том, что $\\lambda = \\lambda_0$. В качестве $\\lambda_0$ будем брать ОМП для других языков. Таким образом наша гипотеза эквивалентна тому, что длины слов распределены одинаково.\n",
    "\n",
    "Будем использовать хи-квадрат тест."
   ]
  },
  {
   "cell_type": "code",
   "execution_count": 205,
   "metadata": {},
   "outputs": [],
   "source": [
    "def prepare(_lens):\n",
    "    c = Counter(_lens)\n",
    "    items = sorted(c.items())\n",
    "    max_len = items[-1][0]\n",
    "    for i in range(max_len):\n",
    "        if i + 1 not in c:\n",
    "            c[i + 1] = 0\n",
    "    items = sorted(c.items())\n",
    "    values = [v for i, v in items]\n",
    "    return np.array(values)"
   ]
  },
  {
   "cell_type": "code",
   "execution_count": 206,
   "metadata": {},
   "outputs": [],
   "source": [
    "EN, FR, RU = prepare(en_lens), prepare(fr_lens), prepare(ru_lens)"
   ]
  },
  {
   "cell_type": "code",
   "execution_count": 189,
   "metadata": {},
   "outputs": [],
   "source": [
    "en_rv = st.poisson(en_mle)\n",
    "fr_rv = st.poisson(fr_mle)\n",
    "ru_rv = st.poisson(ru_mle)"
   ]
  },
  {
   "cell_type": "code",
   "execution_count": 215,
   "metadata": {},
   "outputs": [],
   "source": [
    "size = max(len(EN) + 1, len(FR) + 1, len(RU) + 1)\n",
    "en_probs = np.array([en_rv.pmf(i) for i in range(0, size)])\n",
    "fr_probs = np.array([fr_rv.pmf(i) for i in range(0, size)])\n",
    "ru_probs = np.array([ru_rv.pmf(i) for i in range(0, size)])"
   ]
  },
  {
   "cell_type": "markdown",
   "metadata": {},
   "source": [
    "Тестируем EN на совпадение с остальными:"
   ]
  },
  {
   "cell_type": "code",
   "execution_count": 260,
   "metadata": {},
   "outputs": [
    {
     "data": {
      "text/plain": [
       "[True, True]"
      ]
     },
     "execution_count": 260,
     "metadata": {},
     "output_type": "execute_result"
    }
   ],
   "source": [
    "rejects = []\n",
    "for probs in (fr_probs, ru_probs):\n",
    "    pval = st.chisquare(EN, probs[:len(EN)] * len(EN), ddof=len(EN) - 2).pvalue\n",
    "    rejects.append(pval <= 0.05)\n",
    "rejects"
   ]
  },
  {
   "cell_type": "markdown",
   "metadata": {},
   "source": [
    "Таким образом, отклонить гипотезы о том, что распределение одинаковое, нужно в обоих случаях.\n",
    "\n",
    "Для остальных проделаем такую же процедуру."
   ]
  },
  {
   "cell_type": "code",
   "execution_count": 259,
   "metadata": {},
   "outputs": [
    {
     "data": {
      "text/plain": [
       "[True, True]"
      ]
     },
     "execution_count": 259,
     "metadata": {},
     "output_type": "execute_result"
    }
   ],
   "source": [
    "rejects = []\n",
    "for probs in (en_probs, ru_probs):\n",
    "    pval = st.chisquare(FR, probs[:len(FR)] * len(FR), ddof=len(FR) - 2).pvalue\n",
    "    rejects.append(pval <= 0.05)\n",
    "rejects"
   ]
  },
  {
   "cell_type": "code",
   "execution_count": 258,
   "metadata": {},
   "outputs": [
    {
     "data": {
      "text/plain": [
       "[True, True]"
      ]
     },
     "execution_count": 258,
     "metadata": {},
     "output_type": "execute_result"
    }
   ],
   "source": [
    "rejects = []\n",
    "for probs in (en_probs, fr_probs):\n",
    "    pval = st.chisquare(RU, probs[:len(RU)] * len(RU), ddof=len(RU) - 2).pvalue\n",
    "    rejects.append(pval <= 0.05)\n",
    "rejects"
   ]
  },
  {
   "cell_type": "markdown",
   "metadata": {},
   "source": [
    "Итак, гипотезы об одинаковости распределений отклонены во всех случаях. В разных языках **распределение не одинаковое**."
   ]
  },
  {
   "cell_type": "markdown",
   "metadata": {},
   "source": [
    "## Сравнение жанров"
   ]
  },
  {
   "cell_type": "code",
   "execution_count": 266,
   "metadata": {},
   "outputs": [],
   "source": [
    "news_words = words_from_file('news.2008.ru.shuffled')\n",
    "news_lens = np.array([len(word) for word in news_words], dtype=np.int)"
   ]
  },
  {
   "cell_type": "code",
   "execution_count": 269,
   "metadata": {},
   "outputs": [
    {
     "data": {
      "image/png": "[encoded data removed]",
      "text/plain": [
       "<Figure size 720x288 with 2 Axes>"
      ]
     },
     "metadata": {
      "needs_background": "light"
     },
     "output_type": "display_data"
    }
   ],
   "source": [
    "plt.rcParams['figure.figsize'] = (10, 4)\n",
    "ax1, ax2 = plt.subplots(1, 2)[1]\n",
    "ax1.set_title('Novel'), ax2.set_title('News')\n",
    "ax1.hist(ru_lens, density=True)\n",
    "ax2.hist(news_lens, density=True)\n",
    "_ = plt.show()"
   ]
  },
  {
   "cell_type": "markdown",
   "metadata": {},
   "source": [
    "Будем использовать тест Колмогорова-Смирнова для двух выборок:"
   ]
  },
  {
   "cell_type": "code",
   "execution_count": 270,
   "metadata": {},
   "outputs": [
    {
     "data": {
      "text/plain": [
       "Ks_2sampResult(statistic=0.15384035344693664, pvalue=0.0)"
      ]
     },
     "execution_count": 270,
     "metadata": {},
     "output_type": "execute_result"
    }
   ],
   "source": [
    "st.ks_2samp(news_lens, ru_lens)"
   ]
  },
  {
   "cell_type": "markdown",
   "metadata": {},
   "source": [
    "Таким образом, гипотеза об одинаковости распределения **отвергается**."
   ]
  }
 ],
 "metadata": {
  "kernelspec": {
   "display_name": "Python 3",
   "language": "python",
   "name": "python3"
  },
  "language_info": {
   "codemirror_mode": {
    "name": "ipython",
    "version": 3
   },
   "file_extension": ".py",
   "mimetype": "text/x-python",
   "name": "python",
   "nbconvert_exporter": "python",
   "pygments_lexer": "ipython3",
   "version": "3.7.1"
  }
 },
 "nbformat": 4,
 "nbformat_minor": 2
}
