{
 "cells": [
  {
   "cell_type": "code",
   "execution_count": 1,
   "metadata": {},
   "outputs": [],
   "source": [
    "import numpy as np\n",
    "import pandas as pd\n",
    "import statistics\n",
    "import seaborn\n",
    "\n",
    "from matplotlib import pyplot as plt\n",
    "from scipy import stats as st\n",
    "from statsmodels.stats.proportion import proportions_ztest\n",
    "from statsmodels.stats.multitest import multipletests"
   ]
  },
  {
   "cell_type": "code",
   "execution_count": 2,
   "metadata": {},
   "outputs": [
    {
     "data": {
      "text/html": [
       "<div>\n",
       "<style scoped>\n",
       "    .dataframe tbody tr th:only-of-type {\n",
       "        vertical-align: middle;\n",
       "    }\n",
       "\n",
       "    .dataframe tbody tr th {\n",
       "        vertical-align: top;\n",
       "    }\n",
       "\n",
       "    .dataframe thead th {\n",
       "        text-align: right;\n",
       "    }\n",
       "</style>\n",
       "<table border=\"1\" class=\"dataframe\">\n",
       "  <thead>\n",
       "    <tr style=\"text-align: right;\">\n",
       "      <th></th>\n",
       "      <th>player</th>\n",
       "      <th>team</th>\n",
       "      <th>atm_away</th>\n",
       "      <th>atm_home</th>\n",
       "      <th>score_away</th>\n",
       "      <th>score_home</th>\n",
       "      <th>atm_total</th>\n",
       "      <th>score_total</th>\n",
       "    </tr>\n",
       "  </thead>\n",
       "  <tbody>\n",
       "    <tr>\n",
       "      <th>7</th>\n",
       "      <td>A. Johnson</td>\n",
       "      <td>ATL</td>\n",
       "      <td>30</td>\n",
       "      <td>34</td>\n",
       "      <td>24</td>\n",
       "      <td>28</td>\n",
       "      <td>64</td>\n",
       "      <td>52</td>\n",
       "    </tr>\n",
       "    <tr>\n",
       "      <th>10</th>\n",
       "      <td>A. Johnson</td>\n",
       "      <td>TOR</td>\n",
       "      <td>63</td>\n",
       "      <td>57</td>\n",
       "      <td>44</td>\n",
       "      <td>38</td>\n",
       "      <td>120</td>\n",
       "      <td>82</td>\n",
       "    </tr>\n",
       "    <tr>\n",
       "      <th>15</th>\n",
       "      <td>Abdur-Rahim</td>\n",
       "      <td>SAC</td>\n",
       "      <td>114</td>\n",
       "      <td>124</td>\n",
       "      <td>84</td>\n",
       "      <td>90</td>\n",
       "      <td>238</td>\n",
       "      <td>174</td>\n",
       "    </tr>\n",
       "    <tr>\n",
       "      <th>22</th>\n",
       "      <td>Afflalo</td>\n",
       "      <td>DEN</td>\n",
       "      <td>236</td>\n",
       "      <td>284</td>\n",
       "      <td>189</td>\n",
       "      <td>227</td>\n",
       "      <td>520</td>\n",
       "      <td>416</td>\n",
       "    </tr>\n",
       "    <tr>\n",
       "      <th>23</th>\n",
       "      <td>Afflalo</td>\n",
       "      <td>DET</td>\n",
       "      <td>75</td>\n",
       "      <td>88</td>\n",
       "      <td>62</td>\n",
       "      <td>67</td>\n",
       "      <td>163</td>\n",
       "      <td>129</td>\n",
       "    </tr>\n",
       "  </tbody>\n",
       "</table>\n",
       "</div>"
      ],
      "text/plain": [
       "         player team  atm_away  atm_home  score_away  score_home  atm_total  \\\n",
       "7    A. Johnson  ATL        30        34          24          28         64   \n",
       "10   A. Johnson  TOR        63        57          44          38        120   \n",
       "15  Abdur-Rahim  SAC       114       124          84          90        238   \n",
       "22      Afflalo  DEN       236       284         189         227        520   \n",
       "23      Afflalo  DET        75        88          62          67        163   \n",
       "\n",
       "    score_total  \n",
       "7            52  \n",
       "10           82  \n",
       "15          174  \n",
       "22          416  \n",
       "23          129  "
      ]
     },
     "execution_count": 2,
     "metadata": {},
     "output_type": "execute_result"
    }
   ],
   "source": [
    "data = pd.read_csv(\"../lab1_data/nba.csv\", index_col=0)\n",
    "data.head()"
   ]
  },
  {
   "cell_type": "markdown",
   "metadata": {},
   "source": [
    "$H_0$ \\- успех в домашних и гостевых одинаков   \n",
    "$H_1$ \\- есть разница в успехе\n",
    "\n",
    "Для каждого игрока $i$ в отдельности рассматриваем вероятность успешного броска \n",
    "как бернуллевскую случайную величину с веротностью успеха $p_i$.  \n",
    "\n",
    "Тогда:  \n",
    "${H_0}_i$: ${p_i}_{home} = {p_i}_{away}$  \n",
    "${H_1}_i$: ${p_i}_{home} \\neq {p_i}_{away}$\n",
    "\n",
    "=> Множественная проверка гипотез."
   ]
  },
  {
   "cell_type": "markdown",
   "metadata": {},
   "source": [
    "1. Посчитаем $p_{value}$ для каждых ${p_i}_{home}$, ${p_i}_{away}$ c помощью Z-критерий для разности двух долей"
   ]
  },
  {
   "cell_type": "code",
   "execution_count": 3,
   "metadata": {},
   "outputs": [],
   "source": [
    "successes = data[[\"score_home\", \"score_away\"]].values\n",
    "attempts = data[[\"atm_home\", \"atm_away\"]].values\n",
    "\n",
    "p_values = np.array(\n",
    "    [proportions_ztest(succ, attempt)[1] for succ, attempt in zip(successes, attempts)])"
   ]
  },
  {
   "cell_type": "markdown",
   "metadata": {},
   "source": [
    "2. Так как множественная проверка гипотез, используем поправку Бонферрони"
   ]
  },
  {
   "cell_type": "code",
   "execution_count": 6,
   "metadata": {},
   "outputs": [
    {
     "name": "stdout",
     "output_type": "stream",
     "text": [
      "Поправка Бонферрони\n",
      "rejected: 0\n"
     ]
    }
   ],
   "source": [
    "print(\"Поправка Бонферрони\")\n",
    "print(\"rejected: {0}\".format(sum(multipletests(p_values, method=\"bonferroni\")[0])))"
   ]
  },
  {
   "cell_type": "markdown",
   "metadata": {},
   "source": [
    "3. Следовательно, нулевая гипотеза не отвергается ни для одного из игроков.\n",
    "4. => Можно считать, что одинаковая результативность\n",
    "\n",
    "Посмотрим на другие поправки"
   ]
  },
  {
   "cell_type": "code",
   "execution_count": 5,
   "metadata": {},
   "outputs": [
    {
     "name": "stdout",
     "output_type": "stream",
     "text": [
      "Поправка Холма\n",
      "rejected: 0\n",
      "Поправка Шидака\n",
      "rejected: 0\n",
      "Метод Бенджамини-Хохберга\n",
      "rejected: 0\n"
     ]
    }
   ],
   "source": [
    "print(\"Поправка Холма\")\n",
    "print(\"rejected: {0}\".format(sum(multipletests(p_values, method=\"holm\")[0])))\n",
    "print(\"Поправка Шидака\")\n",
    "print(\"rejected: {0}\".format(sum(multipletests(p_values, method=\"sidak\")[0])))\n",
    "print(\"Метод Бенджамини-Хохберга\")\n",
    "print(\"rejected: {0}\".format(sum(multipletests(p_values, method=\"fdr_bh\")[0])))"
   ]
  },
  {
   "cell_type": "markdown",
   "metadata": {},
   "source": [
    "## Вывод\n",
    "\n",
    "Данные не противоречат гипотезе $H_0$.  \n",
    "Можно сделать вывод, что результативность игроков одинаковая"
   ]
  }
 ],
 "metadata": {
  "kernelspec": {
   "display_name": "Python 3",
   "language": "python",
   "name": "python3"
  },
  "language_info": {
   "codemirror_mode": {
    "name": "ipython",
    "version": 3
   },
   "file_extension": ".py",
   "mimetype": "text/x-python",
   "name": "python",
   "nbconvert_exporter": "python",
   "pygments_lexer": "ipython3",
   "version": "3.7.2"
  }
 },
 "nbformat": 4,
 "nbformat_minor": 2
}
