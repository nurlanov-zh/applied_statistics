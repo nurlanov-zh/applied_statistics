{
 "cells": [
  {
   "cell_type": "markdown",
   "metadata": {},
   "source": [
    "Даны результаты работы трех машинных переводчиков (N,P,Z) на небольших выборках переводов с английского на немецкий, с английского на русский и с казахского на русский. Стандартная оценка качества перевода производится с использованием специальной метрики BLEU.\n",
    "\n",
    "Требуется определить для каких пар языков можно выделить какого-либо лидера среди переводчиков. Для BLEU учитывать только слова, регистр не учитывать."
   ]
  },
  {
   "cell_type": "markdown",
   "metadata": {},
   "source": [
    "# Все должно работать, если в директорию, где лежит ноутбук поместить папку $data$ со всеми $.txt-$файлами"
   ]
  },
  {
   "cell_type": "code",
   "execution_count": 7,
   "metadata": {},
   "outputs": [],
   "source": [
    "import numpy as np\n",
    "import os\n",
    "from nltk.tokenize import RegexpTokenizer"
   ]
  },
  {
   "cell_type": "code",
   "execution_count": 8,
   "metadata": {},
   "outputs": [
    {
     "data": {
      "text/plain": [
       "'/home/nullkatar/Документы/psad_homework/lab1'"
      ]
     },
     "execution_count": 8,
     "metadata": {},
     "output_type": "execute_result"
    }
   ],
   "source": [
    "os.getcwd()"
   ]
  },
  {
   "cell_type": "code",
   "execution_count": 18,
   "metadata": {},
   "outputs": [
    {
     "data": {
      "text/plain": [
       "['en_de_gold.txt',\n",
       " 'en_de_n.txt',\n",
       " 'en_de_orig.txt',\n",
       " 'en_de_p.txt',\n",
       " 'en_de_z.txt',\n",
       " 'en_ru_gold.txt',\n",
       " 'en_ru_n.txt',\n",
       " 'en_ru_orig.txt',\n",
       " 'en_ru_p.txt',\n",
       " 'en_ru_z.txt',\n",
       " 'kk_ru_gold.txt',\n",
       " 'kk_ru_n.txt',\n",
       " 'kk_ru_orig.txt',\n",
       " 'kk_ru_p.txt',\n",
       " 'kk_ru_z.txt']"
      ]
     },
     "execution_count": 18,
     "metadata": {},
     "output_type": "execute_result"
    }
   ],
   "source": [
    "names = sorted(os.listdir(os.getcwd()))\n",
    "names.remove('.ipynb_checkpoints')\n",
    "names.remove('README.md')\n",
    "names.remove('lab1_5.ipynb')\n",
    "names.remove('lab1_8.ipynb')\n",
    "names.remove('lab1_3-Copy1.ipynb')\n",
    "names.remove('laba.ipynb')\n",
    "names"
   ]
  },
  {
   "cell_type": "code",
   "execution_count": 19,
   "metadata": {},
   "outputs": [],
   "source": [
    "tokenizer = RegexpTokenizer(r'\\w+')"
   ]
  },
  {
   "cell_type": "code",
   "execution_count": 20,
   "metadata": {},
   "outputs": [],
   "source": [
    "tok = []\n",
    "\n",
    "for name in names[0:5]:\n",
    "    f = open(name, 'r')\n",
    "    l = [line.lower().strip() for line in f]\n",
    "    tok.append([tokenizer.tokenize(g) for g in l])\n",
    "    f.close()"
   ]
  },
  {
   "cell_type": "code",
   "execution_count": 21,
   "metadata": {},
   "outputs": [],
   "source": [
    "import nltk.translate.bleu_score as score\n",
    "import pandas as pd"
   ]
  },
  {
   "cell_type": "code",
   "execution_count": 22,
   "metadata": {},
   "outputs": [
    {
     "name": "stdout",
     "output_type": "stream",
     "text": [
      "English to Deutsche:\n"
     ]
    },
    {
     "data": {
      "text/html": [
       "<div>\n",
       "<style scoped>\n",
       "    .dataframe tbody tr th:only-of-type {\n",
       "        vertical-align: middle;\n",
       "    }\n",
       "\n",
       "    .dataframe tbody tr th {\n",
       "        vertical-align: top;\n",
       "    }\n",
       "\n",
       "    .dataframe thead th {\n",
       "        text-align: right;\n",
       "    }\n",
       "</style>\n",
       "<table border=\"1\" class=\"dataframe\">\n",
       "  <thead>\n",
       "    <tr style=\"text-align: right;\">\n",
       "      <th></th>\n",
       "      <th>N</th>\n",
       "      <th>P</th>\n",
       "      <th>Z</th>\n",
       "    </tr>\n",
       "  </thead>\n",
       "  <tbody>\n",
       "    <tr>\n",
       "      <th>0</th>\n",
       "      <td>0.000000</td>\n",
       "      <td>0.000000</td>\n",
       "      <td>0.000000</td>\n",
       "    </tr>\n",
       "    <tr>\n",
       "      <th>1</th>\n",
       "      <td>0.000000</td>\n",
       "      <td>0.000000</td>\n",
       "      <td>0.000000</td>\n",
       "    </tr>\n",
       "    <tr>\n",
       "      <th>2</th>\n",
       "      <td>0.000000</td>\n",
       "      <td>0.000000</td>\n",
       "      <td>0.000000</td>\n",
       "    </tr>\n",
       "    <tr>\n",
       "      <th>3</th>\n",
       "      <td>0.072239</td>\n",
       "      <td>0.072239</td>\n",
       "      <td>0.068113</td>\n",
       "    </tr>\n",
       "    <tr>\n",
       "      <th>4</th>\n",
       "      <td>0.000000</td>\n",
       "      <td>0.000000</td>\n",
       "      <td>0.000000</td>\n",
       "    </tr>\n",
       "    <tr>\n",
       "      <th>5</th>\n",
       "      <td>0.000000</td>\n",
       "      <td>0.000000</td>\n",
       "      <td>0.000000</td>\n",
       "    </tr>\n",
       "    <tr>\n",
       "      <th>6</th>\n",
       "      <td>0.000000</td>\n",
       "      <td>0.000000</td>\n",
       "      <td>0.000000</td>\n",
       "    </tr>\n",
       "    <tr>\n",
       "      <th>7</th>\n",
       "      <td>0.000000</td>\n",
       "      <td>0.000000</td>\n",
       "      <td>0.000000</td>\n",
       "    </tr>\n",
       "    <tr>\n",
       "      <th>8</th>\n",
       "      <td>0.000000</td>\n",
       "      <td>0.000000</td>\n",
       "      <td>0.000000</td>\n",
       "    </tr>\n",
       "    <tr>\n",
       "      <th>9</th>\n",
       "      <td>0.000000</td>\n",
       "      <td>0.000000</td>\n",
       "      <td>0.000000</td>\n",
       "    </tr>\n",
       "  </tbody>\n",
       "</table>\n",
       "</div>"
      ],
      "text/plain": [
       "          N         P         Z\n",
       "0  0.000000  0.000000  0.000000\n",
       "1  0.000000  0.000000  0.000000\n",
       "2  0.000000  0.000000  0.000000\n",
       "3  0.072239  0.072239  0.068113\n",
       "4  0.000000  0.000000  0.000000\n",
       "5  0.000000  0.000000  0.000000\n",
       "6  0.000000  0.000000  0.000000\n",
       "7  0.000000  0.000000  0.000000\n",
       "8  0.000000  0.000000  0.000000\n",
       "9  0.000000  0.000000  0.000000"
      ]
     },
     "execution_count": 22,
     "metadata": {},
     "output_type": "execute_result"
    }
   ],
   "source": [
    "en_de = np.zeros((10, 3))\n",
    "\n",
    "for i in range(10):\n",
    "    k = 0\n",
    "    for j in (1,3,4):\n",
    "        #en_de[i,k] = score.modified_precision(tok[j][i], tok[0][i], n = 1)\n",
    "        en_de[i,k] = score.sentence_bleu(tok[j][i], tok[0][i], smoothing_function = score.SmoothingFunction().method2)\n",
    "        k += 1\n",
    "\n",
    "print('English to Deutsche:')\n",
    "pd.DataFrame(data = en_de, columns = ['N', 'P', 'Z'])"
   ]
  },
  {
   "cell_type": "code",
   "execution_count": 23,
   "metadata": {},
   "outputs": [],
   "source": [
    "tok = []\n",
    "\n",
    "for name in names[5:10]:\n",
    "    f = open(name, 'r')\n",
    "    l = [line.lower().strip() for line in f]\n",
    "    tok.append([tokenizer.tokenize(g) for g in l])\n",
    "    f.close()"
   ]
  },
  {
   "cell_type": "code",
   "execution_count": 24,
   "metadata": {},
   "outputs": [
    {
     "name": "stdout",
     "output_type": "stream",
     "text": [
      "English to Russian:\n"
     ]
    },
    {
     "data": {
      "text/html": [
       "<div>\n",
       "<style scoped>\n",
       "    .dataframe tbody tr th:only-of-type {\n",
       "        vertical-align: middle;\n",
       "    }\n",
       "\n",
       "    .dataframe tbody tr th {\n",
       "        vertical-align: top;\n",
       "    }\n",
       "\n",
       "    .dataframe thead th {\n",
       "        text-align: right;\n",
       "    }\n",
       "</style>\n",
       "<table border=\"1\" class=\"dataframe\">\n",
       "  <thead>\n",
       "    <tr style=\"text-align: right;\">\n",
       "      <th></th>\n",
       "      <th>N</th>\n",
       "      <th>P</th>\n",
       "      <th>Z</th>\n",
       "    </tr>\n",
       "  </thead>\n",
       "  <tbody>\n",
       "    <tr>\n",
       "      <th>0</th>\n",
       "      <td>0.043861</td>\n",
       "      <td>0.047673</td>\n",
       "      <td>0.043861</td>\n",
       "    </tr>\n",
       "    <tr>\n",
       "      <th>1</th>\n",
       "      <td>0.023870</td>\n",
       "      <td>0.023870</td>\n",
       "      <td>0.023870</td>\n",
       "    </tr>\n",
       "    <tr>\n",
       "      <th>2</th>\n",
       "      <td>0.030861</td>\n",
       "      <td>0.030861</td>\n",
       "      <td>0.030861</td>\n",
       "    </tr>\n",
       "    <tr>\n",
       "      <th>3</th>\n",
       "      <td>0.014712</td>\n",
       "      <td>0.014712</td>\n",
       "      <td>0.014712</td>\n",
       "    </tr>\n",
       "    <tr>\n",
       "      <th>4</th>\n",
       "      <td>0.017541</td>\n",
       "      <td>0.017541</td>\n",
       "      <td>0.012403</td>\n",
       "    </tr>\n",
       "    <tr>\n",
       "      <th>5</th>\n",
       "      <td>0.027524</td>\n",
       "      <td>0.027524</td>\n",
       "      <td>0.027524</td>\n",
       "    </tr>\n",
       "    <tr>\n",
       "      <th>6</th>\n",
       "      <td>0.030151</td>\n",
       "      <td>0.030151</td>\n",
       "      <td>0.027531</td>\n",
       "    </tr>\n",
       "    <tr>\n",
       "      <th>7</th>\n",
       "      <td>0.035806</td>\n",
       "      <td>0.035806</td>\n",
       "      <td>0.035806</td>\n",
       "    </tr>\n",
       "    <tr>\n",
       "      <th>8</th>\n",
       "      <td>0.021822</td>\n",
       "      <td>0.021822</td>\n",
       "      <td>0.021822</td>\n",
       "    </tr>\n",
       "    <tr>\n",
       "      <th>9</th>\n",
       "      <td>0.030861</td>\n",
       "      <td>0.030861</td>\n",
       "      <td>0.037796</td>\n",
       "    </tr>\n",
       "  </tbody>\n",
       "</table>\n",
       "</div>"
      ],
      "text/plain": [
       "          N         P         Z\n",
       "0  0.043861  0.047673  0.043861\n",
       "1  0.023870  0.023870  0.023870\n",
       "2  0.030861  0.030861  0.030861\n",
       "3  0.014712  0.014712  0.014712\n",
       "4  0.017541  0.017541  0.012403\n",
       "5  0.027524  0.027524  0.027524\n",
       "6  0.030151  0.030151  0.027531\n",
       "7  0.035806  0.035806  0.035806\n",
       "8  0.021822  0.021822  0.021822\n",
       "9  0.030861  0.030861  0.037796"
      ]
     },
     "execution_count": 24,
     "metadata": {},
     "output_type": "execute_result"
    }
   ],
   "source": [
    "en_ru = np.zeros((10, 3))\n",
    "\n",
    "for i in range(10):\n",
    "    k = 0\n",
    "    for j in (1,3,4):\n",
    "        #en_ru[i,k] = score.modified_precision(tok[j][i], tok[0][i], n = 1)\n",
    "        en_ru[i,k] = score.sentence_bleu(tok[j][i], tok[0][i], smoothing_function = score.SmoothingFunction().method1, weights=(1/2, 1/2, 0 , 0))\n",
    "        k += 1\n",
    "\n",
    "print('English to Russian:')\n",
    "pd.DataFrame(data = en_ru, columns = ['N', 'P', 'Z'])"
   ]
  },
  {
   "cell_type": "code",
   "execution_count": 25,
   "metadata": {},
   "outputs": [],
   "source": [
    "tok = []\n",
    "\n",
    "for name in names[10:]:\n",
    "    f = open(name, 'r')\n",
    "    l = [line.lower().strip() for line in f]\n",
    "    tok.append([tokenizer.tokenize(g) for g in l])\n",
    "    f.close()"
   ]
  },
  {
   "cell_type": "code",
   "execution_count": 26,
   "metadata": {},
   "outputs": [
    {
     "name": "stdout",
     "output_type": "stream",
     "text": [
      "Kazakh to Russian:\n"
     ]
    },
    {
     "data": {
      "text/html": [
       "<div>\n",
       "<style scoped>\n",
       "    .dataframe tbody tr th:only-of-type {\n",
       "        vertical-align: middle;\n",
       "    }\n",
       "\n",
       "    .dataframe tbody tr th {\n",
       "        vertical-align: top;\n",
       "    }\n",
       "\n",
       "    .dataframe thead th {\n",
       "        text-align: right;\n",
       "    }\n",
       "</style>\n",
       "<table border=\"1\" class=\"dataframe\">\n",
       "  <thead>\n",
       "    <tr style=\"text-align: right;\">\n",
       "      <th></th>\n",
       "      <th>N</th>\n",
       "      <th>P</th>\n",
       "      <th>Z</th>\n",
       "    </tr>\n",
       "  </thead>\n",
       "  <tbody>\n",
       "    <tr>\n",
       "      <th>0</th>\n",
       "      <td>0.083333</td>\n",
       "      <td>0.066728</td>\n",
       "      <td>0.000000</td>\n",
       "    </tr>\n",
       "    <tr>\n",
       "      <th>1</th>\n",
       "      <td>0.094491</td>\n",
       "      <td>0.083388</td>\n",
       "      <td>0.094491</td>\n",
       "    </tr>\n",
       "    <tr>\n",
       "      <th>2</th>\n",
       "      <td>0.000000</td>\n",
       "      <td>0.000000</td>\n",
       "      <td>0.000000</td>\n",
       "    </tr>\n",
       "    <tr>\n",
       "      <th>3</th>\n",
       "      <td>0.094491</td>\n",
       "      <td>0.094491</td>\n",
       "      <td>0.094491</td>\n",
       "    </tr>\n",
       "    <tr>\n",
       "      <th>4</th>\n",
       "      <td>0.000000</td>\n",
       "      <td>0.000000</td>\n",
       "      <td>0.000000</td>\n",
       "    </tr>\n",
       "    <tr>\n",
       "      <th>5</th>\n",
       "      <td>0.057166</td>\n",
       "      <td>0.057166</td>\n",
       "      <td>0.057166</td>\n",
       "    </tr>\n",
       "    <tr>\n",
       "      <th>6</th>\n",
       "      <td>0.129099</td>\n",
       "      <td>0.109280</td>\n",
       "      <td>0.109280</td>\n",
       "    </tr>\n",
       "    <tr>\n",
       "      <th>7</th>\n",
       "      <td>0.048795</td>\n",
       "      <td>0.048795</td>\n",
       "      <td>0.048795</td>\n",
       "    </tr>\n",
       "    <tr>\n",
       "      <th>8</th>\n",
       "      <td>0.048795</td>\n",
       "      <td>0.048795</td>\n",
       "      <td>0.048795</td>\n",
       "    </tr>\n",
       "    <tr>\n",
       "      <th>9</th>\n",
       "      <td>0.066227</td>\n",
       "      <td>0.066227</td>\n",
       "      <td>0.066227</td>\n",
       "    </tr>\n",
       "  </tbody>\n",
       "</table>\n",
       "</div>"
      ],
      "text/plain": [
       "          N         P         Z\n",
       "0  0.083333  0.066728  0.000000\n",
       "1  0.094491  0.083388  0.094491\n",
       "2  0.000000  0.000000  0.000000\n",
       "3  0.094491  0.094491  0.094491\n",
       "4  0.000000  0.000000  0.000000\n",
       "5  0.057166  0.057166  0.057166\n",
       "6  0.129099  0.109280  0.109280\n",
       "7  0.048795  0.048795  0.048795\n",
       "8  0.048795  0.048795  0.048795\n",
       "9  0.066227  0.066227  0.066227"
      ]
     },
     "execution_count": 26,
     "metadata": {},
     "output_type": "execute_result"
    }
   ],
   "source": [
    "kk_ru = np.zeros((10, 3))\n",
    "\n",
    "for i in range(10):\n",
    "    k = 0\n",
    "    for j in (1,3,4):\n",
    "        #kk_ru[i,k] = score.modified_precision(tok[j][i], tok[0][i], n = 1)\n",
    "        kk_ru[i,k] = score.sentence_bleu(tok[j][i], tok[0][i], smoothing_function = score.SmoothingFunction().method3, weights=(1/2, 1/2, 0 , 0))\n",
    "        k += 1\n",
    "\n",
    "print('Kazakh to Russian:')\n",
    "pd.DataFrame(data = kk_ru, columns = ['N', 'P', 'Z'])"
   ]
  },
  {
   "cell_type": "markdown",
   "metadata": {},
   "source": [
    "# Теперь оценки точности перевода посчитаны для трех пар языков и трех переводчиков. Проведем статистическое сравнение: "
   ]
  },
  {
   "cell_type": "markdown",
   "metadata": {},
   "source": [
    "Т.к в целом нет никаких предпосылок к знанию исходного распределения выборок, попробуем воспользоваться критерием знаков для двух связанных выборок (они, очевидно, связаны, т.к являются оценками точностей переводов одних предложений)"
   ]
  },
  {
   "cell_type": "code",
   "execution_count": 27,
   "metadata": {},
   "outputs": [],
   "source": [
    "from statsmodels.stats.descriptivestats import sign_test # sign-test"
   ]
  },
  {
   "cell_type": "code",
   "execution_count": 28,
   "metadata": {},
   "outputs": [
    {
     "name": "stdout",
     "output_type": "stream",
     "text": [
      "pvalue for hyp that translators are equal in en-to-de =  [1.0, 1.0, 1.0]\n"
     ]
    }
   ],
   "source": [
    "p = []\n",
    "\n",
    "for i in range(3):\n",
    "    for j in range(i+1, 3):\n",
    "        p.append(sign_test(en_de[:, i] - en_de[:, j])[1])\n",
    "        \n",
    "print('pvalue for hyp that translators are equal in en-to-de = ', p)"
   ]
  },
  {
   "cell_type": "code",
   "execution_count": 29,
   "metadata": {},
   "outputs": [
    {
     "name": "stdout",
     "output_type": "stream",
     "text": [
      "pvalue for hyp that translators are equal in en-to-ru =  [1.0, 1.0, 0.625]\n"
     ]
    }
   ],
   "source": [
    "p = []\n",
    "\n",
    "for i in range(3):\n",
    "    for j in range(i+1, 3):\n",
    "        p.append(sign_test(en_ru[:, i] - en_ru[:, j])[1])\n",
    "        \n",
    "print('pvalue for hyp that translators are equal in en-to-ru = ', p)"
   ]
  },
  {
   "cell_type": "code",
   "execution_count": 30,
   "metadata": {},
   "outputs": [
    {
     "name": "stdout",
     "output_type": "stream",
     "text": [
      "pvalue for hyp that translators are equal in kk-to-ru =  [0.25, 0.5, 1.0]\n"
     ]
    }
   ],
   "source": [
    "p = []\n",
    "\n",
    "for i in range(3):\n",
    "    for j in range(i+1, 3):\n",
    "        p.append(sign_test(kk_ru[:, i] - kk_ru[:, j])[1])\n",
    "        \n",
    "print('pvalue for hyp that translators are equal in kk-to-ru = ', p)"
   ]
  },
  {
   "cell_type": "markdown",
   "metadata": {},
   "source": [
    "Как мы видим, нельзя выделить особых лидеров среди переводчиков. Но все же некая неоднородность в переводах с английского на русский и с казахского на русский есть. Чтобы понять, как именно распределены точности перевода между переводчиками, следаем следующее:"
   ]
  },
  {
   "cell_type": "markdown",
   "metadata": {},
   "source": [
    "Попробуем с помощью бутстрепа построить доверительный интервал для средней разницы в точности перевода."
   ]
  },
  {
   "cell_type": "code",
   "execution_count": 31,
   "metadata": {},
   "outputs": [
    {
     "name": "stdout",
     "output_type": "stream",
     "text": [
      "[[-0.001443, 0.0], [-0.001819, 0.001621], [-0.001287, 0.002309]]\n"
     ]
    }
   ],
   "source": [
    "from arch.bootstrap import IIDBootstrap\n",
    "interv = []\n",
    "\n",
    "for i in range(3):\n",
    "    for j in range(i+1, 3):\n",
    "        bs = IIDBootstrap(en_ru[:,i] - en_ru[:,j]).conf_int(np.mean, 100, method = 'bca')\n",
    "        interv.append([round(bs[0][0], 6), round(bs[1][0], 6)])\n",
    "\n",
    "print(interv)"
   ]
  },
  {
   "cell_type": "code",
   "execution_count": 32,
   "metadata": {},
   "outputs": [
    {
     "name": "stdout",
     "output_type": "stream",
     "text": [
      "[[0.0, 0.008646], [0.0, 0.022835], [-0.003331, 0.013346]]\n"
     ]
    }
   ],
   "source": [
    "from arch.bootstrap import IIDBootstrap\n",
    "interv = []\n",
    "\n",
    "for i in range(3):\n",
    "    for j in range(i+1, 3):\n",
    "        bs = IIDBootstrap(kk_ru[:,i] - kk_ru[:,j]).conf_int(np.mean, 100, method = 'bca')\n",
    "        interv.append([round(bs[0][0], 6), round(bs[1][0], 6)])\n",
    "\n",
    "print(interv)"
   ]
  },
  {
   "cell_type": "markdown",
   "metadata": {},
   "source": [
    "По сгенерированным выборкам получаем следующий порядок точности перевода:"
   ]
  },
  {
   "cell_type": "markdown",
   "metadata": {},
   "source": [
    "$en$_$ru$:  $Acc_p > Acc_z \\cong Acc_n$"
   ]
  },
  {
   "cell_type": "markdown",
   "metadata": {},
   "source": [
    "$kk$_$ru$: $Acc_n \\ge Acc_p > Acc_z$"
   ]
  },
  {
   "cell_type": "markdown",
   "metadata": {},
   "source": [
    "В целом же, пока что не удалось подобрать гиперпараметры и метрику из $nltk.translate.bleu$_$score$, чтобы отделить данные переводчики друг от друга более явно. Поэтому стоит весьма осторожно относиться к данным выше оценкам."
   ]
  },
  {
   "cell_type": "code",
   "execution_count": null,
   "metadata": {},
   "outputs": [],
   "source": []
  }
 ],
 "metadata": {
  "kernelspec": {
   "display_name": "Python 3",
   "language": "python",
   "name": "python3"
  },
  "language_info": {
   "codemirror_mode": {
    "name": "ipython",
    "version": 3
   },
   "file_extension": ".py",
   "mimetype": "text/x-python",
   "name": "python",
   "nbconvert_exporter": "python",
   "pygments_lexer": "ipython3",
   "version": "3.7.1"
  }
 },
 "nbformat": 4,
 "nbformat_minor": 2
}
