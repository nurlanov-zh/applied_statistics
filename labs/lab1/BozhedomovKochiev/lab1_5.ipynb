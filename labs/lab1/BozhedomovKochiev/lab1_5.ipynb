{
 "cells": [
  {
   "cell_type": "markdown",
   "metadata": {},
   "source": [
    "Проверить мощность и консервативность критериев для проверки нормальности Лиллиефорса, Харке-Бера, Шапиро-Улика для выборок из следующих распределний:\n",
    "\n",
    "Нормальное\n",
    "Лапласа\n",
    "Стьюдента\n",
    "Усеченное нормальное распределение (модуль каждого элемента выборки не превосходит 2)"
   ]
  },
  {
   "cell_type": "code",
   "execution_count": 32,
   "metadata": {},
   "outputs": [],
   "source": [
    "import numpy as np\n",
    "import scipy.stats as st\n",
    "import matplotlib.pylab as plt\n",
    "from statsmodels.stats.diagnostic import kstest_normal\n",
    "from statsmodels.stats.multitest import multipletests\n",
    "import warnings\n",
    "warnings.filterwarnings(\"ignore\")"
   ]
  },
  {
   "cell_type": "code",
   "execution_count": 2,
   "metadata": {},
   "outputs": [],
   "source": [
    "samples_n = 100 #number of samples\n",
    "volume_n = 350 #sample's volume"
   ]
  },
  {
   "cell_type": "markdown",
   "metadata": {},
   "source": [
    "Случайная генерация выборок:"
   ]
  },
  {
   "cell_type": "code",
   "execution_count": 3,
   "metadata": {},
   "outputs": [],
   "source": [
    "def gen_distr(a):\n",
    "    if a == 1:\n",
    "        return st.distributions.norm(0, 1).rvs(size=volume_n)\n",
    "    if a == 2:\n",
    "        return st.distributions.laplace.rvs(loc = 0, scale = 1, size=volume_n)\n",
    "    if a == 3:\n",
    "        return st.distributions.t.rvs(df = 2, size=volume_n)\n",
    "    if a == 4:\n",
    "        return st.distributions.truncnorm.rvs(a = -2, b = 2, size=volume_n)"
   ]
  },
  {
   "cell_type": "code",
   "execution_count": 4,
   "metadata": {},
   "outputs": [],
   "source": [
    "d = np.zeros(samples_n)\n",
    "\n",
    "mass = np.zeros((volume_n , samples_n))\n",
    "\n",
    "for k in range(samples_n):\n",
    "    d[k] = np.random.randint(1, 5)\n",
    "    mass[:, k]  = gen_distr(d[k])"
   ]
  },
  {
   "cell_type": "markdown",
   "metadata": {},
   "source": [
    "Распределение по классам сгенерированных выборок:"
   ]
  },
  {
   "cell_type": "code",
   "execution_count": 12,
   "metadata": {
    "scrolled": true
   },
   "outputs": [
    {
     "data": {
      "text/plain": [
       "(array([25.,  0.,  0., 24.,  0.,  0., 29.,  0.,  0., 22.]),\n",
       " array([1. , 1.3, 1.6, 1.9, 2.2, 2.5, 2.8, 3.1, 3.4, 3.7, 4. ]),\n",
       " <a list of 10 Patch objects>)"
      ]
     },
     "execution_count": 12,
     "metadata": {},
     "output_type": "execute_result"
    },
    {
     "data": {
      "image/png": "[encoded data removed]",
      "text/plain": [
       "<Figure size 432x288 with 1 Axes>"
      ]
     },
     "metadata": {
      "needs_background": "light"
     },
     "output_type": "display_data"
    }
   ],
   "source": [
    "#1 - norm, 2 - laplace, 3 - student, 4 - truncnorm\n",
    "plt.hist(d)"
   ]
  },
  {
   "cell_type": "markdown",
   "metadata": {},
   "source": [
    "Проверим критерии на консервативность. Также оценим мощность критериев"
   ]
  },
  {
   "cell_type": "code",
   "execution_count": 13,
   "metadata": {},
   "outputs": [],
   "source": [
    "predict = np.zeros((3, np.shape(mass)[1]))\n",
    "\n",
    "for k in range(np.shape(mass)[1]):\n",
    "    predict[2, k] = st.shapiro(mass[:, k])[1]\n",
    "    predict[1, k] = st.jarque_bera(mass[:, k])[1]\n",
    "    predict[0, k] = kstest_normal(mass[:, k], dist='norm', pvalmethod='approx')[1]"
   ]
  },
  {
   "cell_type": "code",
   "execution_count": 14,
   "metadata": {},
   "outputs": [],
   "source": [
    "rejected_l = d[multipletests(predict[0, :], alpha = 0.05, method='fdr_bh')[0]]\n",
    "rejected_j = d[multipletests(predict[1, :], alpha = 0.05, method='fdr_bh')[0]]\n",
    "rejected_s = d[multipletests(predict[2, :], alpha = 0.05, method='fdr_bh')[0]]"
   ]
  },
  {
   "cell_type": "code",
   "execution_count": 15,
   "metadata": {
    "scrolled": true
   },
   "outputs": [
    {
     "name": "stdout",
     "output_type": "stream",
     "text": [
      "[3. 2. 3. 3. 3. 3. 2. 3. 3. 3. 2. 3. 2. 3. 2. 2. 3. 4. 2. 3. 2. 3. 4. 3.\n",
      " 2. 3. 2. 2. 2. 3. 2. 1. 2. 2. 3. 2. 3. 2. 3. 2. 3. 3. 2. 2. 2. 3. 2. 3.\n",
      " 3. 3. 3. 2. 2. 3. 3. 3.]\n",
      "[4. 3. 2. 3. 3. 3. 3. 2. 3. 3. 3. 2. 3. 2. 3. 2. 2. 3. 2. 3. 2. 3. 4. 3.\n",
      " 2. 3. 2. 2. 2. 3. 2. 2. 2. 3. 2. 3. 2. 3. 2. 3. 3. 2. 2. 2. 3. 2. 3. 3.\n",
      " 3. 3. 2. 2. 3. 3. 3.]\n",
      "[4. 4. 3. 2. 4. 4. 3. 3. 3. 3. 2. 3. 3. 4. 3. 2. 3. 2. 4. 4. 3. 2. 2. 3.\n",
      " 4. 4. 2. 3. 2. 4. 4. 3. 4. 3. 2. 3. 2. 2. 2. 3. 2. 1. 2. 2. 3. 2. 4. 3.\n",
      " 2. 4. 4. 3. 2. 3. 3. 2. 2. 2. 3. 4. 2. 3. 3. 4. 4. 3. 3. 2. 4. 2. 3. 4.\n",
      " 3. 3.]\n"
     ]
    }
   ],
   "source": [
    "print(rejected_l)\n",
    "print(rejected_j)\n",
    "print(rejected_s)"
   ]
  },
  {
   "cell_type": "code",
   "execution_count": 16,
   "metadata": {},
   "outputs": [],
   "source": [
    "w_l = np.sum([rejected_l != 1])/np.sum([d != 1])\n",
    "w_j = np.sum([rejected_j != 1])/np.sum([d != 1])\n",
    "w_s = np.sum([rejected_s != 1])/np.sum([d != 1])\n",
    "\n",
    "alpha_l = np.sum([rejected_l == 1])/np.sum([d == 1])\n",
    "alpha_j = np.sum([rejected_j == 1])/np.sum([d == 1])\n",
    "alpha_s = np.sum([rejected_s == 1])/np.sum([d == 1])"
   ]
  },
  {
   "cell_type": "code",
   "execution_count": 17,
   "metadata": {
    "scrolled": true
   },
   "outputs": [
    {
     "name": "stdout",
     "output_type": "stream",
     "text": [
      "Оценка мощности критериев:\n",
      "Лиллиефорс:  0.7333333333333333\n",
      "Харке-Бера:  0.7333333333333333\n",
      "Шапиро-Уилка:  0.9733333333333334\n",
      "\n",
      "\n",
      "Оценка вероятности отвергнуть гипотезу H_0 при ее истинности:\n",
      "Лиллиефорс:  0.04\n",
      "Харке-Бера:  0.0\n",
      "Шапиро-Уилка:  0.04\n"
     ]
    }
   ],
   "source": [
    "print('Оценка мощности критериев:')\n",
    "print('Лиллиефорс: ', w_l)\n",
    "print('Харке-Бера: ', w_j)\n",
    "print('Шапиро-Уилка: ', w_s)\n",
    "print('\\n')\n",
    "print('Оценка вероятности отвергнуть гипотезу H_0 при ее истинности:')\n",
    "print('Лиллиефорс: ', alpha_l)\n",
    "print('Харке-Бера: ', alpha_j)\n",
    "print('Шапиро-Уилка: ', alpha_s)"
   ]
  },
  {
   "cell_type": "markdown",
   "metadata": {},
   "source": [
    "Подойдем к результатам как к случайной величине с распределением $Ber(p)$. С помощью биномиального теста проверим, не превышает ли значение $p$ пороговое значение $\\alpha$ ($H_0$), или же можно говорить об отсутствии консервативности критериев?"
   ]
  },
  {
   "cell_type": "code",
   "execution_count": 18,
   "metadata": {},
   "outputs": [
    {
     "name": "stdout",
     "output_type": "stream",
     "text": [
      "Лиллиефорс:  0.7226104268781662\n",
      "Харке-Бера:  1.0\n",
      "Шапиро-Уилка:  0.7226104268781662\n"
     ]
    }
   ],
   "source": [
    "print('Лиллиефорс: ', st.binom_test(np.sum([rejected_l == 1]), np.sum([d == 1]), p = 0.05, alternative = 'greater'))\n",
    "print('Харке-Бера: ', st.binom_test(np.sum([rejected_j == 1]), np.sum([d == 1]), p = 0.05, alternative = 'greater'))\n",
    "print('Шапиро-Уилка: ', st.binom_test(np.sum([rejected_s == 1]), np.sum([d == 1]), p = 0.05, alternative = 'greater'))"
   ]
  },
  {
   "cell_type": "markdown",
   "metadata": {},
   "source": [
    "Как мы видим, биномиальный тест показывает достаточно высокое значение $pvalue$, поэтому об отвержении гипотезы о консервативности говорить не приходится (хотя Лиллиефорс не особо далек от границы). Можно продолжить изучение, проделав большее количество итераций (генераций)."
   ]
  },
  {
   "cell_type": "code",
   "execution_count": 34,
   "metadata": {},
   "outputs": [
    {
     "name": "stdout",
     "output_type": "stream",
     "text": [
      "\n",
      "\n",
      "Усредненная оценка вероятности отвергнуть гипотезу H_0 при ее верности:\n",
      "Лиллиефорс:  0.025751513614335905\n",
      "Харке-Бера:  0.03586410552627783\n",
      "Шапиро-Уилка:  0.0339948017024182\n",
      "\n",
      "\n",
      "Максимальная достигаемая ошибка 1 рода:\n",
      "Лиллиефорс:  0.11538461538461539\n",
      "Харке-Бера:  0.15789473684210525\n",
      "Шапиро-Уилка:  0.15789473684210525\n"
     ]
    },
    {
     "data": {
      "image/png": "[encoded data removed]",
      "text/plain": [
       "<Figure size 1080x1080 with 3 Axes>"
      ]
     },
     "metadata": {
      "needs_background": "light"
     },
     "output_type": "display_data"
    }
   ],
   "source": [
    "#Запускать, только если есть время/ желание\n",
    "iters = 200\n",
    "\n",
    "alpha_l_max = 0.0\n",
    "alpha_j_max = 0.0\n",
    "alpha_s_max = 0.0\n",
    "\n",
    "alpha_l = 0.0\n",
    "alpha_j = 0.0\n",
    "alpha_s = 0.0\n",
    "\n",
    "p_l = np.zeros(iters)\n",
    "p_j = np.zeros(iters)\n",
    "p_s = np.zeros(iters)\n",
    "\n",
    "for j in range(iters):\n",
    "    d = np.zeros(samples_n)\n",
    "    mass = np.zeros((volume_n , samples_n))\n",
    "\n",
    "    for k in range(samples_n):\n",
    "        d[k] = np.random.randint(1, 5)\n",
    "        mass[:, k]  = gen_distr(d[k])\n",
    "        \n",
    "    predict = np.zeros((3, np.shape(mass)[1]))\n",
    "\n",
    "    for k in range(np.shape(mass)[1]):\n",
    "        predict[2, k] = st.shapiro(mass[:, k])[1]\n",
    "        predict[1, k] = st.jarque_bera(mass[:, k])[1]\n",
    "        predict[0, k] = kstest_normal(mass[:, k], dist='norm', pvalmethod='approx')[1]\n",
    "        \n",
    "    rejected_l = d[multipletests(predict[0, :], alpha = 0.05, method='fdr_bh')[0]]\n",
    "    rejected_j = d[multipletests(predict[1, :], alpha = 0.05, method='fdr_bh')[0]]\n",
    "    rejected_s = d[multipletests(predict[2, :], alpha = 0.05, method='fdr_bh')[0]]\n",
    "    \n",
    "    p_l[j] = st.binom_test(np.sum([rejected_l == 1]), np.sum([d == 1]), p = 0.05, alternative = 'greater')\n",
    "    p_j[j] = st.binom_test(np.sum([rejected_j == 1]), np.sum([d == 1]), p = 0.05, alternative = 'greater')\n",
    "    p_s[j] = st.binom_test(np.sum([rejected_s == 1]), np.sum([d == 1]), p = 0.05, alternative = 'greater')\n",
    "    \n",
    "    alpha_l_current = np.sum([rejected_l == 1])/np.sum(d[d == 1])\n",
    "    alpha_j_current = np.sum([rejected_j == 1])/np.sum(d[d == 1])\n",
    "    alpha_s_current = np.sum([rejected_s == 1])/np.sum(d[d == 1])\n",
    "    \n",
    "    alpha_l_max = max(alpha_l_max, alpha_l_current)\n",
    "    alpha_j_max = max(alpha_j_max, alpha_j_current)\n",
    "    alpha_s_max = max(alpha_s_max, alpha_s_current)\n",
    "    \n",
    "    alpha_l += alpha_l_current\n",
    "    alpha_j += alpha_j_current\n",
    "    alpha_s += alpha_s_current\n",
    "    \n",
    "\n",
    "\n",
    "fig, axs = plt.subplots(3, 1, sharey=True, tight_layout=True, figsize=(15,15))\n",
    "axs[0].hist(p_l, bins = 20, label = 'Лиллиефорс', normed = True)\n",
    "axs[1].hist(p_j, bins = 20, label = 'Харке-Бера', normed = True)\n",
    "axs[2].hist(p_s, bins = 20, label = 'Шапиро-Уилка', normed = True)\n",
    "\n",
    "print('\\n')\n",
    "\n",
    "print('Усредненная оценка вероятности отвергнуть гипотезу H_0 при ее верности:')\n",
    "print('Лиллиефорс: ', alpha_l/iters)\n",
    "print('Харке-Бера: ', alpha_j/iters)\n",
    "print('Шапиро-Уилка: ', alpha_s/iters)\n",
    "\n",
    "print('\\n')\n",
    "\n",
    "print('Максимальная достигаемая ошибка 1 рода:')\n",
    "print('Лиллиефорс: ', alpha_l_max)\n",
    "print('Харке-Бера: ', alpha_j_max)\n",
    "print('Шапиро-Уилка: ', alpha_s_max)"
   ]
  },
  {
   "cell_type": "markdown",
   "metadata": {},
   "source": [
    "Как мы видим, большая часть результатов расположена правее $p-value = 0.4$. Несмотря на то, что есть единичные случаи, когда $p-value$ опускается ниже малого уровня значимости (напр, 0.05) , можно утверждать о консервативности данных критериев. Малость выпадения таких случаев хорошо показывает эмперическая функция распределения."
   ]
  },
  {
   "cell_type": "code",
   "execution_count": 33,
   "metadata": {},
   "outputs": [
    {
     "data": {
      "text/plain": [
       "(array([0.01 , 0.02 , 0.055, 0.09 , 0.105, 0.145, 0.19 , 0.22 , 0.25 ,\n",
       "        0.265, 0.275, 0.295, 0.335, 0.435, 0.555, 0.655, 0.665, 0.665,\n",
       "        0.665, 1.   ]),\n",
       " array([0.01590153, 0.06510645, 0.11431137, 0.1635163 , 0.21272122,\n",
       "        0.26192614, 0.31113107, 0.36033599, 0.40954092, 0.45874584,\n",
       "        0.50795076, 0.55715569, 0.60636061, 0.65556553, 0.70477046,\n",
       "        0.75397538, 0.80318031, 0.85238523, 0.90159015, 0.95079508,\n",
       "        1.        ]),\n",
       " <a list of 20 Patch objects>)"
      ]
     },
     "execution_count": 33,
     "metadata": {},
     "output_type": "execute_result"
    },
    {
     "data": {
      "image/png": "[encoded data removed]",
      "text/plain": [
       "<Figure size 1080x1080 with 3 Axes>"
      ]
     },
     "metadata": {
      "needs_background": "light"
     },
     "output_type": "display_data"
    }
   ],
   "source": [
    "fig, axs = plt.subplots(3, 1, sharey=True, tight_layout=True, figsize=(15,15))\n",
    "axs[0].hist(p_l, bins = 20, label = 'Лиллиефорс', normed = True, cumulative = True)\n",
    "axs[1].hist(p_j, bins = 20, label = 'Харке-Бера', normed = True, cumulative = True)\n",
    "axs[2].hist(p_s, bins = 20, label = 'Шапиро-Уилка', normed = True, cumulative = True)"
   ]
  },
  {
   "cell_type": "markdown",
   "metadata": {},
   "source": [
    "Хотя, если говорить строго, то в малом количестве случаев все же консервативность критериев отвергается биномиальным тестом (другое дело, что лишь наша догадка использовать биномиальный тест в данном контексте)."
   ]
  },
  {
   "cell_type": "code",
   "execution_count": null,
   "metadata": {},
   "outputs": [],
   "source": []
  }
 ],
 "metadata": {
  "kernelspec": {
   "display_name": "Python 3",
   "language": "python",
   "name": "python3"
  },
  "language_info": {
   "codemirror_mode": {
    "name": "ipython",
    "version": 3
   },
   "file_extension": ".py",
   "mimetype": "text/x-python",
   "name": "python",
   "nbconvert_exporter": "python",
   "pygments_lexer": "ipython3",
   "version": "3.7.1"
  }
 },
 "nbformat": 4,
 "nbformat_minor": 2
}
