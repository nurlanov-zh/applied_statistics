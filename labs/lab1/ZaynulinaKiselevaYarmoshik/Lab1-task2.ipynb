{
 "cells": [
  {
   "cell_type": "code",
   "execution_count": 1,
   "metadata": {},
   "outputs": [],
   "source": [
    "import numpy as np\n",
    "import matplotlib.pylab as plt\n",
    "import pandas as pd\n",
    "import scipy.stats as st\n",
    "from statsmodels.stats.multitest import multipletests\n",
    "from arch.bootstrap import IIDBootstrap\n",
    "import seaborn as sns\n",
    "from sklearn import datasets\n",
    "%matplotlib inline\n",
    "plt.rcParams['figure.figsize'] = (20, 4)"
   ]
  },
  {
   "cell_type": "markdown",
   "metadata": {},
   "source": [
    "Загрузим данные:"
   ]
  },
  {
   "cell_type": "code",
   "execution_count": 2,
   "metadata": {},
   "outputs": [],
   "source": [
    "irises = datasets.load_iris()"
   ]
  },
  {
   "cell_type": "code",
   "execution_count": 3,
   "metadata": {},
   "outputs": [],
   "source": [
    "data = irises.data\n",
    "target = irises.target"
   ]
  },
  {
   "cell_type": "markdown",
   "metadata": {},
   "source": [
    "Создадим подвыборки, соответсвующие одному классу:"
   ]
  },
  {
   "cell_type": "code",
   "execution_count": 5,
   "metadata": {},
   "outputs": [],
   "source": [
    "setosa = data[target==0]\n",
    "versicolor = data[target==1]\n",
    "virginica = data[target==2]"
   ]
  },
  {
   "cell_type": "markdown",
   "metadata": {},
   "source": [
    "Для кажого признака создадим массивы. Колонке массива соответствуют данные одного класса."
   ]
  },
  {
   "cell_type": "code",
   "execution_count": 6,
   "metadata": {},
   "outputs": [
    {
     "data": {
      "text/plain": [
       "['sepal length (cm)',\n",
       " 'sepal width (cm)',\n",
       " 'petal length (cm)',\n",
       " 'petal width (cm)']"
      ]
     },
     "execution_count": 6,
     "metadata": {},
     "output_type": "execute_result"
    }
   ],
   "source": [
    "irises.feature_names"
   ]
  },
  {
   "cell_type": "code",
   "execution_count": 7,
   "metadata": {},
   "outputs": [],
   "source": [
    "s_l = np.vstack((setosa[:, 0], versicolor[:, 0], virginica[:, 0]))\n",
    "s_w = np.vstack((setosa[:, 1], versicolor[:, 1], virginica[:, 1]))\n",
    "p_l = np.vstack((setosa[:, 2], versicolor[:, 2], virginica[:, 2]))\n",
    "p_w = np.vstack((setosa[:, 3], versicolor[:, 3], virginica[:, 3]))"
   ]
  },
  {
   "cell_type": "markdown",
   "metadata": {},
   "source": [
    "Проверим, совпадают ли характеристики в среднем:\n",
    "$$H^i_0: E(X^i_1)=E(X^i_2)$$\n",
    "\n",
    "Будем использовать поправку Холма."
   ]
  },
  {
   "cell_type": "code",
   "execution_count": 8,
   "metadata": {},
   "outputs": [],
   "source": [
    "p_values= []\n",
    "for feat in [s_l, s_w, p_l, p_w]:\n",
    "    p_v_f = []\n",
    "    for i in range(3):\n",
    "        for j in range(i+1, 3):\n",
    "            test_result = st.ttest_ind(feat[i], feat[j])\n",
    "            p_v_f += [test_result[1]] \n",
    "    p_values.append(p_v_f)"
   ]
  },
  {
   "cell_type": "code",
   "execution_count": 9,
   "metadata": {},
   "outputs": [
    {
     "name": "stdout",
     "output_type": "stream",
     "text": [
      "H0 rejected for feature sepal length (cm)\n",
      "H0 rejected for feature sepal width (cm)\n",
      "H0 rejected for feature petal length (cm)\n",
      "H0 rejected for feature petal width (cm)\n"
     ]
    }
   ],
   "source": [
    "for i in range(4):\n",
    "    rejections = multipletests(p_values[i], method='holm')[0].sum()\n",
    "    if rejections > 0:\n",
    "        print('H0 rejected for feature', irises.feature_names[i])"
   ]
  },
  {
   "cell_type": "markdown",
   "metadata": {},
   "source": [
    "Таким образом, характеристики в среднем не совпадают."
   ]
  },
  {
   "cell_type": "markdown",
   "metadata": {},
   "source": [
    "Построим доверительные интервалы. Предполагаем, что данные разных цветков независимые."
   ]
  },
  {
   "cell_type": "code",
   "execution_count": 10,
   "metadata": {},
   "outputs": [
    {
     "name": "stdout",
     "output_type": "stream",
     "text": [
      "Feature - sepal length (cm) :\n",
      "Conf_int for mean setosa-versicolor : [[-1.12447931]\n",
      " [-0.75971516]]\n",
      "Conf_int for mean setosa-virginica : [[-1.786     ]\n",
      " [-1.40197232]]\n",
      "Conf_int for mean versicolor-virginica : [[-0.90523526]\n",
      " [-0.42448137]]\n",
      "----------------------------------------------------\n",
      "Feature - sepal width (cm) :\n",
      "Conf_int for mean setosa-versicolor : [[0.50747943]\n",
      " [0.8       ]]\n",
      "Conf_int for mean setosa-virginica : [[0.318]\n",
      " [0.588]]\n",
      "Conf_int for mean versicolor-virginica : [[-0.33746366]\n",
      " [-0.078     ]]\n",
      "----------------------------------------------------\n",
      "Feature - petal length (cm) :\n",
      "Conf_int for mean setosa-versicolor : [[-2.9306582 ]\n",
      " [-2.63956376]]\n",
      "Conf_int for mean setosa-virginica : [[-4.24863306]\n",
      " [-3.94446376]]\n",
      "Conf_int for mean versicolor-virginica : [[-1.49747791]\n",
      " [-1.09      ]]\n",
      "----------------------------------------------------\n",
      "Feature - petal width (cm) :\n",
      "Conf_int for mean setosa-versicolor : [[-1.146]\n",
      " [-1.018]]\n",
      "Conf_int for mean setosa-virginica : [[-1.85687742]\n",
      " [-1.698     ]]\n",
      "Conf_int for mean versicolor-virginica : [[-0.7920951]\n",
      " [-0.608    ]]\n",
      "----------------------------------------------------\n"
     ]
    }
   ],
   "source": [
    "for k, feat in enumerate([s_l, s_w, p_l, p_w]):\n",
    "    print('Feature -', irises.feature_names[k], ':')\n",
    "    for i in range(3):\n",
    "        for j in range(i+1, 3):\n",
    "            bs = IIDBootstrap(feat[i]-feat[j])\n",
    "            confint = bs.conf_int(np.mean, 1000, method='bca')\n",
    "            print('Conf_int for mean', irises.target_names[i]+'-'+irises.target_names[j], ':', confint) \n",
    "    print('----------------------------------------------------')"
   ]
  },
  {
   "cell_type": "markdown",
   "metadata": {},
   "source": [
    "Как видно из полученных доверительных интервалов:\n",
    "- среднее отличие по признаку sepal length варьируется от $0.5$ до $1.5$\n",
    "- среднее отличие по признаку sepal width варьируется от $0.1$ до $0.7$\n",
    "- среднее отличие по признаку petal length варьируется от $1.1$ до $4.2$\n",
    "- среднее отличие по признаку sepal length варьируется от $0.65$ до $1.8$\n"
   ]
  },
  {
   "cell_type": "code",
   "execution_count": null,
   "metadata": {},
   "outputs": [],
   "source": []
  }
 ],
 "metadata": {
  "kernelspec": {
   "display_name": "Python 3",
   "language": "python",
   "name": "python3"
  },
  "language_info": {
   "codemirror_mode": {
    "name": "ipython",
    "version": 3
   },
   "file_extension": ".py",
   "mimetype": "text/x-python",
   "name": "python",
   "nbconvert_exporter": "python",
   "pygments_lexer": "ipython3",
   "version": "3.6.5"
  }
 },
 "nbformat": 4,
 "nbformat_minor": 2
}
