{
 "cells": [
  {
   "cell_type": "code",
   "execution_count": 1,
   "metadata": {},
   "outputs": [],
   "source": [
    "import numpy as np\n",
    "import matplotlib.pylab as plt\n",
    "import pandas as pd\n",
    "import scipy.stats as st\n",
    "from statsmodels.stats.multitest import multipletests\n",
    "from permute.core import two_sample\n",
    "from sklearn import datasets\n",
    "from sklearn.preprocessing import scale\n",
    "from sklearn.model_selection import train_test_split\n",
    "from sklearn.metrics import accuracy_score, roc_auc_score\n",
    "from sklearn.linear_model import LogisticRegression \n",
    "from sklearn.tree import DecisionTreeClassifier\n",
    "from sklearn.neighbors import KNeighborsClassifier\n",
    "from sklearn.svm import SVC\n",
    "import sklearn\n",
    "%matplotlib inline\n",
    "plt.rcParams['figure.figsize'] = (20, 4)\n",
    "\n",
    "import warnings\n",
    "warnings.filterwarnings(\"ignore\")"
   ]
  },
  {
   "cell_type": "code",
   "execution_count": 2,
   "metadata": {},
   "outputs": [],
   "source": [
    "#функция, обучающая классификатор на заданной выборке и возвращающая accuracy, roc_auc_score\n",
    "def learn(X, y, classifier):\n",
    "    \n",
    "    (X_train, X_test,\n",
    "     y_train, y_test) = train_test_split(X, y, random_state=0, stratify=y, test_size=0.5)\n",
    "    \n",
    "    clf = classifier()\n",
    "    clf.fit(X_train, y_train)\n",
    "    y_pred = clf.predict(X_test)\n",
    "    \n",
    "    return accuracy_score(y_test, y_pred), roc_auc_score(y_test, y_pred)"
   ]
  },
  {
   "cell_type": "code",
   "execution_count": 3,
   "metadata": {},
   "outputs": [],
   "source": [
    "# функция, запустить обучение каждой из моделей двухклассовой классификации \n",
    "# на всех возможных парах классов из определенного датасета\n",
    "# возвращает массивы accuracy, roc_auc_score\n",
    "def process(data):\n",
    "    \n",
    "    clf_dict = {'logisitc':LogisticRegression, 'tree':DecisionTreeClassifier,\n",
    "                'knn':KNeighborsClassifier, 'svc':SVC}\n",
    "    \n",
    "    clf_accuracy = []\n",
    "    clf_roc_auc = []\n",
    "    \n",
    "    X = scale(data.data)\n",
    "    y = data.target\n",
    "    classes = np.unique(y)\n",
    "    for i in range(len(classes)):\n",
    "        for j in range(i+1, len(classes)):\n",
    "            X_sub = X[np.logical_or(y==i, y==j)]\n",
    "            y_sub = y[np.logical_or(y==i, y==j)]\n",
    "            \n",
    "            clf_accuracy.append([])\n",
    "            clf_roc_auc.append([])\n",
    "            for clf in clf_dict.keys():\n",
    "                acc, roc_auc = learn(X_sub, y_sub, clf_dict[clf])\n",
    "                clf_accuracy[-1].append(acc)\n",
    "                clf_roc_auc[-1].append(roc_auc)\n",
    "                       \n",
    "    return clf_accuracy, clf_roc_auc"
   ]
  },
  {
   "cell_type": "markdown",
   "metadata": {},
   "source": [
    "Получим значения accuracy и roc_auc классификаторов для всех пар выборок."
   ]
  },
  {
   "cell_type": "code",
   "execution_count": 4,
   "metadata": {},
   "outputs": [],
   "source": [
    "accuracy = []\n",
    "roc_auc = []\n",
    "for load in [datasets.load_breast_cancer, datasets.load_iris, \n",
    "             datasets.load_wine, datasets.load_digits]:\n",
    "    data = load()\n",
    "    acc, auc = process(data)\n",
    "    accuracy += acc\n",
    "    roc_auc += auc"
   ]
  },
  {
   "cell_type": "code",
   "execution_count": 5,
   "metadata": {},
   "outputs": [],
   "source": [
    "clf_names = ['logistic', 'tree', 'knn', 'svc']\n",
    "accuracy = pd.DataFrame(np.array(accuracy), columns=clf_names)\n",
    "roc_auc = pd.DataFrame(np.array(roc_auc), columns=clf_names)"
   ]
  },
  {
   "cell_type": "code",
   "execution_count": 6,
   "metadata": {},
   "outputs": [
    {
     "data": {
      "text/html": [
       "<div>\n",
       "<style scoped>\n",
       "    .dataframe tbody tr th:only-of-type {\n",
       "        vertical-align: middle;\n",
       "    }\n",
       "\n",
       "    .dataframe tbody tr th {\n",
       "        vertical-align: top;\n",
       "    }\n",
       "\n",
       "    .dataframe thead th {\n",
       "        text-align: right;\n",
       "    }\n",
       "</style>\n",
       "<table border=\"1\" class=\"dataframe\">\n",
       "  <thead>\n",
       "    <tr style=\"text-align: right;\">\n",
       "      <th></th>\n",
       "      <th>logistic</th>\n",
       "      <th>tree</th>\n",
       "      <th>knn</th>\n",
       "      <th>svc</th>\n",
       "    </tr>\n",
       "  </thead>\n",
       "  <tbody>\n",
       "    <tr>\n",
       "      <th>0</th>\n",
       "      <td>0.978947</td>\n",
       "      <td>0.922807</td>\n",
       "      <td>0.961404</td>\n",
       "      <td>0.968421</td>\n",
       "    </tr>\n",
       "    <tr>\n",
       "      <th>1</th>\n",
       "      <td>1.000000</td>\n",
       "      <td>1.000000</td>\n",
       "      <td>1.000000</td>\n",
       "      <td>1.000000</td>\n",
       "    </tr>\n",
       "    <tr>\n",
       "      <th>2</th>\n",
       "      <td>1.000000</td>\n",
       "      <td>1.000000</td>\n",
       "      <td>1.000000</td>\n",
       "      <td>1.000000</td>\n",
       "    </tr>\n",
       "    <tr>\n",
       "      <th>3</th>\n",
       "      <td>0.980000</td>\n",
       "      <td>0.980000</td>\n",
       "      <td>0.960000</td>\n",
       "      <td>0.980000</td>\n",
       "    </tr>\n",
       "    <tr>\n",
       "      <th>4</th>\n",
       "      <td>0.984615</td>\n",
       "      <td>0.923077</td>\n",
       "      <td>0.953846</td>\n",
       "      <td>1.000000</td>\n",
       "    </tr>\n",
       "  </tbody>\n",
       "</table>\n",
       "</div>"
      ],
      "text/plain": [
       "   logistic      tree       knn       svc\n",
       "0  0.978947  0.922807  0.961404  0.968421\n",
       "1  1.000000  1.000000  1.000000  1.000000\n",
       "2  1.000000  1.000000  1.000000  1.000000\n",
       "3  0.980000  0.980000  0.960000  0.980000\n",
       "4  0.984615  0.923077  0.953846  1.000000"
      ]
     },
     "execution_count": 6,
     "metadata": {},
     "output_type": "execute_result"
    }
   ],
   "source": [
    "accuracy.head()"
   ]
  },
  {
   "cell_type": "code",
   "execution_count": 7,
   "metadata": {},
   "outputs": [
    {
     "data": {
      "text/html": [
       "<div>\n",
       "<style scoped>\n",
       "    .dataframe tbody tr th:only-of-type {\n",
       "        vertical-align: middle;\n",
       "    }\n",
       "\n",
       "    .dataframe tbody tr th {\n",
       "        vertical-align: top;\n",
       "    }\n",
       "\n",
       "    .dataframe thead th {\n",
       "        text-align: right;\n",
       "    }\n",
       "</style>\n",
       "<table border=\"1\" class=\"dataframe\">\n",
       "  <thead>\n",
       "    <tr style=\"text-align: right;\">\n",
       "      <th></th>\n",
       "      <th>logistic</th>\n",
       "      <th>tree</th>\n",
       "      <th>knn</th>\n",
       "      <th>svc</th>\n",
       "    </tr>\n",
       "  </thead>\n",
       "  <tbody>\n",
       "    <tr>\n",
       "      <th>0</th>\n",
       "      <td>0.979393</td>\n",
       "      <td>0.917387</td>\n",
       "      <td>0.953884</td>\n",
       "      <td>0.967166</td>\n",
       "    </tr>\n",
       "    <tr>\n",
       "      <th>1</th>\n",
       "      <td>1.000000</td>\n",
       "      <td>1.000000</td>\n",
       "      <td>1.000000</td>\n",
       "      <td>1.000000</td>\n",
       "    </tr>\n",
       "    <tr>\n",
       "      <th>2</th>\n",
       "      <td>1.000000</td>\n",
       "      <td>1.000000</td>\n",
       "      <td>1.000000</td>\n",
       "      <td>1.000000</td>\n",
       "    </tr>\n",
       "    <tr>\n",
       "      <th>3</th>\n",
       "      <td>0.980000</td>\n",
       "      <td>0.980000</td>\n",
       "      <td>0.960000</td>\n",
       "      <td>0.980000</td>\n",
       "    </tr>\n",
       "    <tr>\n",
       "      <th>4</th>\n",
       "      <td>0.985714</td>\n",
       "      <td>0.926190</td>\n",
       "      <td>0.957143</td>\n",
       "      <td>1.000000</td>\n",
       "    </tr>\n",
       "  </tbody>\n",
       "</table>\n",
       "</div>"
      ],
      "text/plain": [
       "   logistic      tree       knn       svc\n",
       "0  0.979393  0.917387  0.953884  0.967166\n",
       "1  1.000000  1.000000  1.000000  1.000000\n",
       "2  1.000000  1.000000  1.000000  1.000000\n",
       "3  0.980000  0.980000  0.960000  0.980000\n",
       "4  0.985714  0.926190  0.957143  1.000000"
      ]
     },
     "execution_count": 7,
     "metadata": {},
     "output_type": "execute_result"
    }
   ],
   "source": [
    "roc_auc.head()"
   ]
  },
  {
   "cell_type": "markdown",
   "metadata": {},
   "source": [
    "Определим, есть ли классификаторы, дающие наилучший ROC-AUC или точность среди остальных. Для этого выдвинем гипотезу:\n",
    "\n",
    "$$H_0 : \\mathbb{E}X_i \\geq \\mathbb{E}X_j, ~i\\neq j$$\n",
    "\n",
    "Если гипотеза не отвергается для определенного $i$ для всех $j$, то будем, считать, что данные не противоречат тому, что классификатор $i$ может быть лучшим, иначе - он не может быть лучшим."
   ]
  },
  {
   "cell_type": "markdown",
   "metadata": {},
   "source": [
    "##### Двухвыборочный перестановочный критерий."
   ]
  },
  {
   "cell_type": "markdown",
   "metadata": {},
   "source": [
    "Построим гистограммы распределений попарных разностей."
   ]
  },
  {
   "cell_type": "markdown",
   "metadata": {},
   "source": [
    "1) Для точности:"
   ]
  },
  {
   "cell_type": "code",
   "execution_count": 8,
   "metadata": {},
   "outputs": [
    {
     "data": {
      "image/png": "[encoded data removed]",
      "text/plain": [
       "<Figure size 720x720 with 12 Axes>"
      ]
     },
     "metadata": {},
     "output_type": "display_data"
    }
   ],
   "source": [
    "fig, axs = plt.subplots(4, 3, figsize=(10,10))\n",
    "for i, c1 in enumerate(clf_names):\n",
    "    \n",
    "    j = 0\n",
    "    for c2 in clf_names:\n",
    "        if c1 != c2:\n",
    "            axs[i][j].hist(accuracy[c1]-accuracy[c2])\n",
    "            j += 1\n",
    "plt.show()"
   ]
  },
  {
   "cell_type": "markdown",
   "metadata": {},
   "source": [
    "1) Для roc-auc-score:"
   ]
  },
  {
   "cell_type": "code",
   "execution_count": 9,
   "metadata": {},
   "outputs": [
    {
     "data": {
      "image/png": "[encoded data removed]",
      "text/plain": [
       "<Figure size 720x720 with 12 Axes>"
      ]
     },
     "metadata": {},
     "output_type": "display_data"
    }
   ],
   "source": [
    "fig, axs = plt.subplots(4, 3, figsize=(10,10))\n",
    "for i, c1 in enumerate(clf_names):\n",
    "    \n",
    "    j = 0\n",
    "    for c2 in clf_names:\n",
    "        if c1 != c2:\n",
    "            axs[i][j].hist(roc_auc[c1]-roc_auc[c2])\n",
    "            j += 1\n",
    "plt.show()"
   ]
  },
  {
   "cell_type": "markdown",
   "metadata": {},
   "source": [
    "Из графиков видно, что распределение разностей связанных выборок несимметрично, поэтому двухвыборочный перестановочный критерий не рекомендуется использовать, но все равно его применим и посмотрим, что  получится."
   ]
  },
  {
   "cell_type": "code",
   "execution_count": 10,
   "metadata": {},
   "outputs": [],
   "source": [
    "p_acc = []\n",
    "p_roc = []\n",
    "for c1 in clf_names:\n",
    "    p_acc.append([])\n",
    "    p_roc.append([])\n",
    "    for c2 in clf_names:\n",
    "        if c1 != c2:\n",
    "            acc_result = two_sample(accuracy[c1], accuracy[c2], alternative='less')\n",
    "            roc_result = two_sample(roc_auc[c1], roc_auc[c2], alternative='less')\n",
    "            p_acc[-1] += [acc_result[0]]  \n",
    "            p_roc[-1] += [roc_result[0]]  "
   ]
  },
  {
   "cell_type": "code",
   "execution_count": 11,
   "metadata": {},
   "outputs": [
    {
     "data": {
      "text/html": [
       "<div>\n",
       "<style scoped>\n",
       "    .dataframe tbody tr th:only-of-type {\n",
       "        vertical-align: middle;\n",
       "    }\n",
       "\n",
       "    .dataframe tbody tr th {\n",
       "        vertical-align: top;\n",
       "    }\n",
       "\n",
       "    .dataframe thead th {\n",
       "        text-align: right;\n",
       "    }\n",
       "</style>\n",
       "<table border=\"1\" class=\"dataframe\">\n",
       "  <thead>\n",
       "    <tr style=\"text-align: right;\">\n",
       "      <th></th>\n",
       "      <th>0</th>\n",
       "      <th>1</th>\n",
       "      <th>2</th>\n",
       "    </tr>\n",
       "  </thead>\n",
       "  <tbody>\n",
       "    <tr>\n",
       "      <th>logistic</th>\n",
       "      <td>1.00000</td>\n",
       "      <td>0.91208</td>\n",
       "      <td>0.79124</td>\n",
       "    </tr>\n",
       "    <tr>\n",
       "      <th>tree</th>\n",
       "      <td>0.00000</td>\n",
       "      <td>0.00000</td>\n",
       "      <td>0.00000</td>\n",
       "    </tr>\n",
       "    <tr>\n",
       "      <th>knn</th>\n",
       "      <td>0.08561</td>\n",
       "      <td>1.00000</td>\n",
       "      <td>0.21479</td>\n",
       "    </tr>\n",
       "    <tr>\n",
       "      <th>svc</th>\n",
       "      <td>0.20673</td>\n",
       "      <td>1.00000</td>\n",
       "      <td>0.78489</td>\n",
       "    </tr>\n",
       "  </tbody>\n",
       "</table>\n",
       "</div>"
      ],
      "text/plain": [
       "                0        1        2\n",
       "logistic  1.00000  0.91208  0.79124\n",
       "tree      0.00000  0.00000  0.00000\n",
       "knn       0.08561  1.00000  0.21479\n",
       "svc       0.20673  1.00000  0.78489"
      ]
     },
     "execution_count": 11,
     "metadata": {},
     "output_type": "execute_result"
    }
   ],
   "source": [
    "pd.DataFrame(np.array(p_acc), clf_names)"
   ]
  },
  {
   "cell_type": "code",
   "execution_count": 12,
   "metadata": {},
   "outputs": [
    {
     "data": {
      "text/html": [
       "<div>\n",
       "<style scoped>\n",
       "    .dataframe tbody tr th:only-of-type {\n",
       "        vertical-align: middle;\n",
       "    }\n",
       "\n",
       "    .dataframe tbody tr th {\n",
       "        vertical-align: top;\n",
       "    }\n",
       "\n",
       "    .dataframe thead th {\n",
       "        text-align: right;\n",
       "    }\n",
       "</style>\n",
       "<table border=\"1\" class=\"dataframe\">\n",
       "  <thead>\n",
       "    <tr style=\"text-align: right;\">\n",
       "      <th></th>\n",
       "      <th>0</th>\n",
       "      <th>1</th>\n",
       "      <th>2</th>\n",
       "    </tr>\n",
       "  </thead>\n",
       "  <tbody>\n",
       "    <tr>\n",
       "      <th>logistic</th>\n",
       "      <td>1.00000</td>\n",
       "      <td>0.9181</td>\n",
       "      <td>0.80467</td>\n",
       "    </tr>\n",
       "    <tr>\n",
       "      <th>tree</th>\n",
       "      <td>0.00000</td>\n",
       "      <td>0.0000</td>\n",
       "      <td>0.00000</td>\n",
       "    </tr>\n",
       "    <tr>\n",
       "      <th>knn</th>\n",
       "      <td>0.08133</td>\n",
       "      <td>1.0000</td>\n",
       "      <td>0.21841</td>\n",
       "    </tr>\n",
       "    <tr>\n",
       "      <th>svc</th>\n",
       "      <td>0.19629</td>\n",
       "      <td>1.0000</td>\n",
       "      <td>0.78127</td>\n",
       "    </tr>\n",
       "  </tbody>\n",
       "</table>\n",
       "</div>"
      ],
      "text/plain": [
       "                0       1        2\n",
       "logistic  1.00000  0.9181  0.80467\n",
       "tree      0.00000  0.0000  0.00000\n",
       "knn       0.08133  1.0000  0.21841\n",
       "svc       0.19629  1.0000  0.78127"
      ]
     },
     "execution_count": 12,
     "metadata": {},
     "output_type": "execute_result"
    }
   ],
   "source": [
    "pd.DataFrame(np.array(p_roc), clf_names)"
   ]
  },
  {
   "cell_type": "code",
   "execution_count": 13,
   "metadata": {},
   "outputs": [
    {
     "name": "stdout",
     "output_type": "stream",
     "text": [
      "H0 is rejected for tree\n"
     ]
    }
   ],
   "source": [
    "for i in range(4):\n",
    "    rejections = multipletests(p_acc[i], method='holm')[0].sum()\n",
    "    if rejections > 0:\n",
    "        print('H0 is rejected for', clf_names[i])"
   ]
  },
  {
   "cell_type": "code",
   "execution_count": 14,
   "metadata": {
    "scrolled": true
   },
   "outputs": [
    {
     "name": "stdout",
     "output_type": "stream",
     "text": [
      "H0 is rejected for tree\n"
     ]
    }
   ],
   "source": [
    "for i in range(4):\n",
    "    rejections = multipletests(p_roc[i], method='holm')[0].sum()\n",
    "    if rejections > 0:\n",
    "        print('H0 is rejected for', clf_names[i])"
   ]
  },
  {
   "cell_type": "markdown",
   "metadata": {},
   "source": [
    "##### Критерий Манна-Уитни-Уилкоксона"
   ]
  },
  {
   "cell_type": "code",
   "execution_count": 15,
   "metadata": {},
   "outputs": [],
   "source": [
    "p_acc = []\n",
    "p_roc = []\n",
    "for c1 in clf_names:\n",
    "    p_acc.append([])\n",
    "    p_roc.append([])\n",
    "    for c2 in clf_names:\n",
    "        if c1 != c2:\n",
    "            acc_result = st.mannwhitneyu(accuracy[c1], accuracy[c2], alternative='less')\n",
    "            roc_result = st.mannwhitneyu(roc_auc[c1], roc_auc[c2], alternative='less')\n",
    "            p_acc[-1] += [acc_result[1]]  \n",
    "            p_roc[-1] += [roc_result[1]]  "
   ]
  },
  {
   "cell_type": "code",
   "execution_count": 16,
   "metadata": {},
   "outputs": [
    {
     "data": {
      "text/html": [
       "<div>\n",
       "<style scoped>\n",
       "    .dataframe tbody tr th:only-of-type {\n",
       "        vertical-align: middle;\n",
       "    }\n",
       "\n",
       "    .dataframe tbody tr th {\n",
       "        vertical-align: top;\n",
       "    }\n",
       "\n",
       "    .dataframe thead th {\n",
       "        text-align: right;\n",
       "    }\n",
       "</style>\n",
       "<table border=\"1\" class=\"dataframe\">\n",
       "  <thead>\n",
       "    <tr style=\"text-align: right;\">\n",
       "      <th></th>\n",
       "      <th>0</th>\n",
       "      <th>1</th>\n",
       "      <th>2</th>\n",
       "    </tr>\n",
       "  </thead>\n",
       "  <tbody>\n",
       "    <tr>\n",
       "      <th>logistic</th>\n",
       "      <td>1.000000e+00</td>\n",
       "      <td>8.461095e-01</td>\n",
       "      <td>9.226180e-01</td>\n",
       "    </tr>\n",
       "    <tr>\n",
       "      <th>tree</th>\n",
       "      <td>7.423870e-13</td>\n",
       "      <td>1.025274e-10</td>\n",
       "      <td>8.427178e-12</td>\n",
       "    </tr>\n",
       "    <tr>\n",
       "      <th>knn</th>\n",
       "      <td>1.556123e-01</td>\n",
       "      <td>1.000000e+00</td>\n",
       "      <td>6.214748e-01</td>\n",
       "    </tr>\n",
       "    <tr>\n",
       "      <th>svc</th>\n",
       "      <td>7.841335e-02</td>\n",
       "      <td>1.000000e+00</td>\n",
       "      <td>3.811718e-01</td>\n",
       "    </tr>\n",
       "  </tbody>\n",
       "</table>\n",
       "</div>"
      ],
      "text/plain": [
       "                     0             1             2\n",
       "logistic  1.000000e+00  8.461095e-01  9.226180e-01\n",
       "tree      7.423870e-13  1.025274e-10  8.427178e-12\n",
       "knn       1.556123e-01  1.000000e+00  6.214748e-01\n",
       "svc       7.841335e-02  1.000000e+00  3.811718e-01"
      ]
     },
     "execution_count": 16,
     "metadata": {},
     "output_type": "execute_result"
    }
   ],
   "source": [
    "pd.DataFrame(np.array(p_acc), clf_names)"
   ]
  },
  {
   "cell_type": "code",
   "execution_count": 17,
   "metadata": {},
   "outputs": [
    {
     "data": {
      "text/html": [
       "<div>\n",
       "<style scoped>\n",
       "    .dataframe tbody tr th:only-of-type {\n",
       "        vertical-align: middle;\n",
       "    }\n",
       "\n",
       "    .dataframe tbody tr th {\n",
       "        vertical-align: top;\n",
       "    }\n",
       "\n",
       "    .dataframe thead th {\n",
       "        text-align: right;\n",
       "    }\n",
       "</style>\n",
       "<table border=\"1\" class=\"dataframe\">\n",
       "  <thead>\n",
       "    <tr style=\"text-align: right;\">\n",
       "      <th></th>\n",
       "      <th>0</th>\n",
       "      <th>1</th>\n",
       "      <th>2</th>\n",
       "    </tr>\n",
       "  </thead>\n",
       "  <tbody>\n",
       "    <tr>\n",
       "      <th>logistic</th>\n",
       "      <td>1.000000e+00</td>\n",
       "      <td>8.274667e-01</td>\n",
       "      <td>9.107444e-01</td>\n",
       "    </tr>\n",
       "    <tr>\n",
       "      <th>tree</th>\n",
       "      <td>4.268193e-13</td>\n",
       "      <td>1.001664e-10</td>\n",
       "      <td>6.867308e-12</td>\n",
       "    </tr>\n",
       "    <tr>\n",
       "      <th>knn</th>\n",
       "      <td>1.743879e-01</td>\n",
       "      <td>1.000000e+00</td>\n",
       "      <td>6.411819e-01</td>\n",
       "    </tr>\n",
       "    <tr>\n",
       "      <th>svc</th>\n",
       "      <td>9.040386e-02</td>\n",
       "      <td>1.000000e+00</td>\n",
       "      <td>3.614201e-01</td>\n",
       "    </tr>\n",
       "  </tbody>\n",
       "</table>\n",
       "</div>"
      ],
      "text/plain": [
       "                     0             1             2\n",
       "logistic  1.000000e+00  8.274667e-01  9.107444e-01\n",
       "tree      4.268193e-13  1.001664e-10  6.867308e-12\n",
       "knn       1.743879e-01  1.000000e+00  6.411819e-01\n",
       "svc       9.040386e-02  1.000000e+00  3.614201e-01"
      ]
     },
     "execution_count": 17,
     "metadata": {},
     "output_type": "execute_result"
    }
   ],
   "source": [
    "pd.DataFrame(np.array(p_roc), clf_names)"
   ]
  },
  {
   "cell_type": "code",
   "execution_count": 18,
   "metadata": {},
   "outputs": [
    {
     "name": "stdout",
     "output_type": "stream",
     "text": [
      "H0 is rejected for tree\n"
     ]
    }
   ],
   "source": [
    "for i in range(4):\n",
    "    rejections = multipletests(p_acc[i], method='holm')[0].sum()\n",
    "    if rejections > 0:\n",
    "        print('H0 is rejected for', clf_names[i])"
   ]
  },
  {
   "cell_type": "code",
   "execution_count": 19,
   "metadata": {
    "scrolled": true
   },
   "outputs": [
    {
     "name": "stdout",
     "output_type": "stream",
     "text": [
      "H0 is rejected for tree\n"
     ]
    }
   ],
   "source": [
    "for i in range(4):\n",
    "    rejections = multipletests(p_roc[i], method='holm')[0].sum()\n",
    "    if rejections > 0:\n",
    "        print('H0 is rejected for', clf_names[i])"
   ]
  },
  {
   "cell_type": "markdown",
   "metadata": {},
   "source": [
    "#### Вывод:\n",
    "\n",
    "По результатам, полученным с помощью двухвыборочного перестановочного критерия и критерия Манна-Уитни-Уилкоксона, получаем, что классификаторы Tree не являются лучшими классификаторами по точности и roc-auc-score.\n",
    "\n",
    "Полученные данные не противоречат тому, что logistic, tree и knn могут быть лучшими классификаторами."
   ]
  },
  {
   "cell_type": "code",
   "execution_count": null,
   "metadata": {},
   "outputs": [],
   "source": []
  }
 ],
 "metadata": {
  "kernelspec": {
   "display_name": "Python 3",
   "language": "python",
   "name": "python3"
  },
  "language_info": {
   "codemirror_mode": {
    "name": "ipython",
    "version": 3
   },
   "file_extension": ".py",
   "mimetype": "text/x-python",
   "name": "python",
   "nbconvert_exporter": "python",
   "pygments_lexer": "ipython3",
   "version": "3.6.5"
  }
 },
 "nbformat": 4,
 "nbformat_minor": 2
}
