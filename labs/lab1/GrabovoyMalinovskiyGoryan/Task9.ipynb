{
 "cells": [
  {
   "cell_type": "code",
   "execution_count": 1,
   "metadata": {},
   "outputs": [],
   "source": [
    "import numpy as np\n",
    "import pandas as pd\n",
    "import scipy.stats as st\n",
    "from tqdm import tqdm_notebook as tqdm\n",
    "\n",
    "import seaborn as sns\n",
    "\n",
    "import matplotlib.pyplot as plt\n",
    "\n",
    "from permute.core import two_sample\n",
    "\n",
    "from arch.bootstrap import IIDBootstrap\n",
    "\n",
    "from statsmodels.stats.diagnostic import kstest_normal\n",
    "\n",
    "from sklearn.datasets import load_breast_cancer\n",
    "from sklearn.datasets import load_digits\n",
    "from sklearn.datasets import load_iris\n",
    "from sklearn.datasets import load_wine\n",
    "\n",
    "from sklearn.model_selection import train_test_split\n",
    "from sklearn.preprocessing import scale\n",
    "\n",
    "from sklearn.linear_model import LogisticRegression\n",
    "from sklearn.tree import DecisionTreeClassifier\n",
    "from sklearn.neighbors import KNeighborsClassifier\n",
    "from sklearn.svm import SVC\n",
    "\n",
    "from sklearn.metrics import roc_auc_score\n",
    "\n",
    "import itertools\n",
    "\n",
    "from statsmodels.stats.multitest import multipletests"
   ]
  },
  {
   "cell_type": "markdown",
   "metadata": {},
   "source": [
    "# Задача 9"
   ]
  },
  {
   "cell_type": "code",
   "execution_count": 2,
   "metadata": {},
   "outputs": [],
   "source": [
    "def get_scores(model, X_train, y_train, X_test, y_test, metric = roc_auc_score):\n",
    "    \n",
    "    a = np.unique(y_train)\n",
    "    pair = list(itertools.combinations(range(a.shape[0]), 2))\n",
    "    \n",
    "    List_of_auc = []\n",
    "    List_of_acc = []\n",
    "    \n",
    "    for i, j in pair:\n",
    "        indexes = np.where((y_train == i) + (y_train == j))[0]\n",
    "        X_train_new = X_train[indexes]\n",
    "        y_train_new = np.array(y_train[indexes])\n",
    "        indexes = np.where((y_test == i) + (y_test == j))[0]\n",
    "        X_test_new = X_test[indexes]\n",
    "        y_test_new = np.array(y_test[indexes])\n",
    "        \n",
    "        y_train_new[np.where(y_train_new == i)] = np.zeros_like(y_train_new[np.where(y_train_new == i)])\n",
    "        y_train_new[np.where(y_train_new == j)] = np.ones_like(y_train_new[np.where(y_train_new == j)])\n",
    "        y_test_new[np.where(y_test_new == i)] = np.zeros_like(y_test_new[np.where(y_test_new == i)])\n",
    "        y_test_new[np.where(y_test_new == j)] = np.ones_like(y_test_new[np.where(y_test_new == j)])\n",
    "        \n",
    "        model.fit(X_train_new, y_train_new)\n",
    "        \n",
    "        y_proba = model.predict_proba(X_test_new)\n",
    "        y_redict = model.predict(X_test_new)\n",
    "        \n",
    "        List_of_auc.append(roc_auc_score(y_test_new, y_proba[:, 1]))\n",
    "        List_of_acc.append((y_redict == y_test_new).sum()/y_test_new.shape[0])\n",
    "    \n",
    "    return List_of_auc, List_of_acc"
   ]
  },
  {
   "cell_type": "code",
   "execution_count": 3,
   "metadata": {},
   "outputs": [],
   "source": [
    "List_of_method = [LogisticRegression, DecisionTreeClassifier, KNeighborsClassifier, SVC]\n",
    "List_of_dataset = [load_wine(), load_digits(), load_breast_cancer(), load_iris()]"
   ]
  },
  {
   "cell_type": "code",
   "execution_count": 4,
   "metadata": {},
   "outputs": [],
   "source": [
    "List_of_data = []\n",
    "\n",
    "for dataset in List_of_dataset:\n",
    "    \n",
    "    X = scale(dataset.data)\n",
    "    y = dataset.target\n",
    "    X_train, X_test, y_train, y_test = train_test_split(X, y, test_size = 0.5)\n",
    "    \n",
    "    List_of_data.append([X_train, y_train, X_test, y_test])"
   ]
  },
  {
   "cell_type": "code",
   "execution_count": 5,
   "metadata": {},
   "outputs": [],
   "source": [
    "AUC = dict()\n",
    "ACC = dict()"
   ]
  },
  {
   "cell_type": "code",
   "execution_count": 6,
   "metadata": {},
   "outputs": [
    {
     "name": "stdout",
     "output_type": "stream",
     "text": [
      "(89, 13) (89,) (89, 13) (89,)\n",
      "(898, 64) (898,) (899, 64) (899,)\n",
      "(284, 30) (284,) (285, 30) (285,)\n",
      "(75, 4) (75,) (75, 4) (75,)\n"
     ]
    }
   ],
   "source": [
    "AUC['SVC'] = []\n",
    "AUC['LogisticRegression'] = []\n",
    "AUC['DecisionTreeClassifier'] = []\n",
    "AUC['KNeighborsClassifier'] = []\n",
    "\n",
    "ACC['SVC'] = []\n",
    "ACC['LogisticRegression'] = []\n",
    "ACC['DecisionTreeClassifier'] = []\n",
    "ACC['KNeighborsClassifier'] = []\n",
    "\n",
    "for X_train, y_train, X_test, y_test in List_of_data:\n",
    "\n",
    "    print(X_train.shape, y_train.shape, X_test.shape, y_test.shape)\n",
    "    \n",
    "    for method in List_of_method:\n",
    "        if method.__name__ == 'SVC':\n",
    "            model = method(probability=True)\n",
    "        else:\n",
    "            model = method()\n",
    "        auc, acc = get_scores(model, X_train, y_train, X_test, y_test, metric = roc_auc_score)\n",
    "        AUC[method.__name__] += auc\n",
    "        ACC[method.__name__] += acc\n",
    "        \n",
    "        \n",
    "        \n",
    "AUC['SVC'] = np.hstack(AUC['SVC'])\n",
    "AUC['LogisticRegression'] = np.hstack(AUC['LogisticRegression'])\n",
    "AUC['DecisionTreeClassifier'] = np.hstack(AUC['DecisionTreeClassifier'])\n",
    "AUC['KNeighborsClassifier'] = np.hstack(AUC['KNeighborsClassifier'])\n",
    "\n",
    "ACC['SVC'] = np.hstack(ACC['SVC'])\n",
    "ACC['LogisticRegression'] = np.hstack(ACC['LogisticRegression'])\n",
    "ACC['DecisionTreeClassifier'] = np.hstack(ACC['DecisionTreeClassifier'])\n",
    "ACC['KNeighborsClassifier'] = np.hstack(ACC['KNeighborsClassifier'])\n",
    "\n",
    "auc = np.vstack([AUC['SVC'], AUC['LogisticRegression'], AUC['DecisionTreeClassifier'], AUC['KNeighborsClassifier']])\n",
    "auc = np.transpose(auc)\n",
    "\n",
    "acc = np.vstack([ACC['SVC'], ACC['LogisticRegression'], ACC['DecisionTreeClassifier'], ACC['KNeighborsClassifier']])\n",
    "acc = np.transpose(acc)\n"
   ]
  },
  {
   "cell_type": "markdown",
   "metadata": {},
   "source": [
    "### Постановка задачи\n",
    "\n",
    "Пусть имеем 4 разных метода бинарной классификации. Для каждой модели проведено 52 эксперимента для разных выборок. Нужно проверить, есть ли явный лидер среди заданых 4 методов.\n",
    "\n",
    "Под лидером будем подрозумевать, что он является лучшим классификатором, чем все остальные.\n",
    "\n",
    "Для каждой модели проверим следующую гипотезу:\n",
    "\n",
    "$$H_0: m_i > m_j~\\forall~j\\not=i.$$\n",
    "\n",
    "В силу того, что у нас 4 модели, воспользуемся множественной поправкой Холма."
   ]
  },
  {
   "cell_type": "markdown",
   "metadata": {},
   "source": [
    "### Решение"
   ]
  },
  {
   "cell_type": "markdown",
   "metadata": {},
   "source": [
    "При помощи перестановочного критери для всех пар $i,j$ проверим гипотезу о том, что $m_i > m_j$ для точности моделей."
   ]
  },
  {
   "cell_type": "code",
   "execution_count": 7,
   "metadata": {},
   "outputs": [
    {
     "data": {
      "application/vnd.jupyter.widget-view+json": {
       "model_id": "cf6bbb8fa9364e27a847e56e556f3bb1",
       "version_major": 2,
       "version_minor": 0
      },
      "text/plain": [
       "HBox(children=(IntProgress(value=0, max=4), HTML(value='')))"
      ]
     },
     "metadata": {},
     "output_type": "display_data"
    },
    {
     "data": {
      "application/vnd.jupyter.widget-view+json": {
       "model_id": "",
       "version_major": 2,
       "version_minor": 0
      },
      "text/plain": [
       "HBox(children=(IntProgress(value=0, max=4), HTML(value='')))"
      ]
     },
     "metadata": {},
     "output_type": "display_data"
    },
    {
     "data": {
      "application/vnd.jupyter.widget-view+json": {
       "model_id": "",
       "version_major": 2,
       "version_minor": 0
      },
      "text/plain": [
       "HBox(children=(IntProgress(value=0, max=4), HTML(value='')))"
      ]
     },
     "metadata": {},
     "output_type": "display_data"
    },
    {
     "data": {
      "application/vnd.jupyter.widget-view+json": {
       "model_id": "",
       "version_major": 2,
       "version_minor": 0
      },
      "text/plain": [
       "HBox(children=(IntProgress(value=0, max=4), HTML(value='')))"
      ]
     },
     "metadata": {},
     "output_type": "display_data"
    },
    {
     "data": {
      "application/vnd.jupyter.widget-view+json": {
       "model_id": "",
       "version_major": 2,
       "version_minor": 0
      },
      "text/plain": [
       "HBox(children=(IntProgress(value=0, max=4), HTML(value='')))"
      ]
     },
     "metadata": {},
     "output_type": "display_data"
    },
    {
     "name": "stdout",
     "output_type": "stream",
     "text": [
      "\n"
     ]
    }
   ],
   "source": [
    "ACC_p_values = np.zeros(shape = [4, 4])\n",
    "for i in tqdm(range(4)):\n",
    "    for j in tqdm(range(4), leave = False):\n",
    "        ACC_p_values[i, j] = two_sample(acc[:, i], acc[:, j],  alternative='less')[0]"
   ]
  },
  {
   "cell_type": "markdown",
   "metadata": {},
   "source": [
    "Получаем следующие $p$-value для перестановочного критерия."
   ]
  },
  {
   "cell_type": "code",
   "execution_count": 8,
   "metadata": {},
   "outputs": [
    {
     "name": "stdout",
     "output_type": "stream",
     "text": [
      "[[0.50111 0.03031 1.      0.3837 ]\n",
      " [0.97067 0.50083 1.      0.83989]\n",
      " [0.      0.      0.49924 0.     ]\n",
      " [0.61067 0.16009 1.      0.49816]]\n"
     ]
    }
   ],
   "source": [
    "print(ACC_p_values)"
   ]
  },
  {
   "cell_type": "markdown",
   "metadata": {},
   "source": [
    "Воспользуемся поправкой Холма на множественное тестирование."
   ]
  },
  {
   "cell_type": "code",
   "execution_count": 9,
   "metadata": {},
   "outputs": [
    {
     "name": "stdout",
     "output_type": "stream",
     "text": [
      "Is best?:\n",
      "[ True  True False  True]\n"
     ]
    }
   ],
   "source": [
    "List_of_answer = []\n",
    "for i in range(4):\n",
    "    List_of_answer.append(multipletests(ACC_p_values[i], method='holm')[0].any())\n",
    "    \n",
    "print('Is best?:')\n",
    "print(np.array(List_of_answer ) == False)"
   ]
  },
  {
   "cell_type": "markdown",
   "metadata": {},
   "source": [
    "Получаем, что все, кроме метода 'DecisionTreeClassifier' могут быть лучшимы."
   ]
  },
  {
   "cell_type": "markdown",
   "metadata": {},
   "source": [
    "При помощи перестановочного критери для всех пар $i,j$ проверим гипотезу о том, что $m_i > m_j$ для AUC моделей."
   ]
  },
  {
   "cell_type": "code",
   "execution_count": 10,
   "metadata": {},
   "outputs": [
    {
     "data": {
      "application/vnd.jupyter.widget-view+json": {
       "model_id": "44ddef1b07014ed0bc081f8cb2692b47",
       "version_major": 2,
       "version_minor": 0
      },
      "text/plain": [
       "HBox(children=(IntProgress(value=0, max=4), HTML(value='')))"
      ]
     },
     "metadata": {},
     "output_type": "display_data"
    },
    {
     "data": {
      "application/vnd.jupyter.widget-view+json": {
       "model_id": "",
       "version_major": 2,
       "version_minor": 0
      },
      "text/plain": [
       "HBox(children=(IntProgress(value=0, max=4), HTML(value='')))"
      ]
     },
     "metadata": {},
     "output_type": "display_data"
    },
    {
     "data": {
      "application/vnd.jupyter.widget-view+json": {
       "model_id": "",
       "version_major": 2,
       "version_minor": 0
      },
      "text/plain": [
       "HBox(children=(IntProgress(value=0, max=4), HTML(value='')))"
      ]
     },
     "metadata": {},
     "output_type": "display_data"
    },
    {
     "data": {
      "application/vnd.jupyter.widget-view+json": {
       "model_id": "",
       "version_major": 2,
       "version_minor": 0
      },
      "text/plain": [
       "HBox(children=(IntProgress(value=0, max=4), HTML(value='')))"
      ]
     },
     "metadata": {},
     "output_type": "display_data"
    },
    {
     "data": {
      "application/vnd.jupyter.widget-view+json": {
       "model_id": "",
       "version_major": 2,
       "version_minor": 0
      },
      "text/plain": [
       "HBox(children=(IntProgress(value=0, max=4), HTML(value='')))"
      ]
     },
     "metadata": {},
     "output_type": "display_data"
    },
    {
     "name": "stdout",
     "output_type": "stream",
     "text": [
      "\n"
     ]
    }
   ],
   "source": [
    "AUC_p_values = np.zeros(shape = [4, 4])\n",
    "for i in tqdm(range(4)):\n",
    "    for j in tqdm(range(4), leave = False):\n",
    "        AUC_p_values[i, j] = two_sample(auc[:, i], auc[:, j],  alternative='less')[0]"
   ]
  },
  {
   "cell_type": "markdown",
   "metadata": {},
   "source": [
    "Получаем следующие $p$-value для перестановочного критерия."
   ]
  },
  {
   "cell_type": "code",
   "execution_count": 11,
   "metadata": {},
   "outputs": [
    {
     "name": "stdout",
     "output_type": "stream",
     "text": [
      "[[0.49937 0.15545 1.      0.9462 ]\n",
      " [0.84364 0.50282 1.      0.98741]\n",
      " [0.      0.      0.5012  0.     ]\n",
      " [0.0531  0.01351 1.      0.50146]]\n"
     ]
    }
   ],
   "source": [
    "print(AUC_p_values)"
   ]
  },
  {
   "cell_type": "markdown",
   "metadata": {},
   "source": [
    "Воспользуемся поправкой Холма на множественное тестирование."
   ]
  },
  {
   "cell_type": "code",
   "execution_count": 12,
   "metadata": {},
   "outputs": [
    {
     "name": "stdout",
     "output_type": "stream",
     "text": [
      "Is best?:\n",
      "[ True  True False  True]\n"
     ]
    }
   ],
   "source": [
    "List_of_answer = []\n",
    "for i in range(4):\n",
    "    List_of_answer.append(multipletests(AUC_p_values[i], method='holm')[0].any())\n",
    "    \n",
    "print('Is best?:')\n",
    "print(np.array(List_of_answer ) == False)"
   ]
  },
  {
   "cell_type": "markdown",
   "metadata": {},
   "source": [
    "Получаем, что все, кроме метода 'DecisionTreeClassifier' могут быть лучшимы."
   ]
  },
  {
   "cell_type": "markdown",
   "metadata": {},
   "source": [
    "### Вывод\n",
    "\n",
    "Как видно из решения, получаем, что явного лидера у нас нету, но зато есть явный аутсайдер, это метод 'DecisionTreeClassifier'."
   ]
  }
 ],
 "metadata": {
  "kernelspec": {
   "display_name": "Python 3",
   "language": "python",
   "name": "python3"
  },
  "language_info": {
   "codemirror_mode": {
    "name": "ipython",
    "version": 3
   },
   "file_extension": ".py",
   "mimetype": "text/x-python",
   "name": "python",
   "nbconvert_exporter": "python",
   "pygments_lexer": "ipython3",
   "version": "3.6.2"
  }
 },
 "nbformat": 4,
 "nbformat_minor": 2
}
