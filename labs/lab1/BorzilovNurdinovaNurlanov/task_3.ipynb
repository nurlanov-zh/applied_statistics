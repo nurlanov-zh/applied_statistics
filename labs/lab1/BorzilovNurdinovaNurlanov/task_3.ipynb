{
 "cells": [
  {
   "cell_type": "markdown",
   "metadata": {},
   "source": [
    "# Задание 3\n",
    "## Статистика бросков игроков НБА. \n",
    "Игрок попадает с вероятностью р - исход броска имеет распределение Бернулли. \n",
    "Распределение числа попаданий в последовательности из n независимых бросков - биномиальное."
   ]
  },
  {
   "cell_type": "code",
   "execution_count": 69,
   "metadata": {},
   "outputs": [],
   "source": [
    "import numpy as np\n",
    "import pandas as pd\n",
    "import matplotlib.pylab as plt\n",
    "%matplotlib inline\n",
    "import scipy.stats as st\n",
    "from statsmodels.stats.proportion import binom_test\n",
    "import seaborn as sns\n",
    "from statsmodels.stats.proportion import proportion_confint"
   ]
  },
  {
   "cell_type": "code",
   "execution_count": 70,
   "metadata": {},
   "outputs": [],
   "source": [
    "data = pd.read_csv(\"nba.csv\", sep = ',')\n",
    "atm = [] \n",
    "score = []\n",
    "atm.append(data.iloc[:,3])\n",
    "atm.append(data.iloc[:,4])\n",
    "atm = pd.concat(atm, axis=1)\n",
    "score.append(data.iloc[:,5])\n",
    "score.append(data.iloc[:,6])\n",
    "score = pd.concat(score, axis=1)\n",
    "atm = np.array(atm)\n",
    "score = np.array(score)"
   ]
  },
  {
   "cell_type": "markdown",
   "metadata": {},
   "source": [
    "Так как нет четкой связи между бросками одного игрока в домашних и гостевых играх, то считаем выборки независимыми.\n",
    "Для каждого игрока используем Z-критерий для разности двух долей, независимые выборки. \n",
    "H_0 : данный игрок забивает одинаково хорошо дома и в гостях.\n",
    "H_1 : игрок попадает в кольцо лучше дома."
   ]
  },
  {
   "cell_type": "code",
   "execution_count": 71,
   "metadata": {},
   "outputs": [],
   "source": [
    "from statsmodels.stats.proportion import proportions_ztest\n",
    "pvals  = []\n",
    "stats = []\n",
    "for i in range (936): \n",
    "    a = score[i,:]\n",
    "    b = atm[i,:]\n",
    "    stat, pval = proportions_ztest(a, b, alternative = 'smaller' )\n",
    "    stats.append(stat)\n",
    "    pvals.append(pval)  "
   ]
  },
  {
   "cell_type": "code",
   "execution_count": 72,
   "metadata": {
    "scrolled": false
   },
   "outputs": [],
   "source": [
    "pvals = np.array(pvals)"
   ]
  },
  {
   "cell_type": "markdown",
   "metadata": {},
   "source": [
    "Теперь сделаем множественную проверку гипотез методами Холма и Шидака-Холма. Заметим, что статистики для каждого игрока независимы."
   ]
  },
  {
   "cell_type": "code",
   "execution_count": 73,
   "metadata": {},
   "outputs": [
    {
     "name": "stdout",
     "output_type": "stream",
     "text": [
      "Ho: true, multiple_test = Holm; Ho not rejected: 936\n",
      "Ho: true, multiple_test = Holm-Sidak; Ho not rejected: 936\n"
     ]
    }
   ],
   "source": [
    "from statsmodels.stats.multitest import multipletests\n",
    "rejects = (multipletests(pvals, alpha = 0.05, method = 'holm')[0])\n",
    "print ('Ho: true, multiple_test = Holm; Ho not rejected:', 936 - rejects[:936].sum())\n",
    "rejects = (multipletests(pvals, alpha = 0.05, method = 'holm-sidak')[0])\n",
    "print ('Ho: true, multiple_test = Holm-Sidak; Ho not rejected:', 936 - rejects[:936].sum())"
   ]
  },
  {
   "cell_type": "markdown",
   "metadata": {},
   "source": [
    "Таким образом, данные не противоречат нулевой гипотезе - \"нет разницы в успехе бросков у игроков в домашних и гостевых игра\"."
   ]
  }
 ],
 "metadata": {
  "kernelspec": {
   "display_name": "Python 3",
   "language": "python",
   "name": "python3"
  },
  "language_info": {
   "codemirror_mode": {
    "name": "ipython",
    "version": 3
   },
   "file_extension": ".py",
   "mimetype": "text/x-python",
   "name": "python",
   "nbconvert_exporter": "python",
   "pygments_lexer": "ipython3",
   "version": "3.7.1"
  }
 },
 "nbformat": 4,
 "nbformat_minor": 2
}
