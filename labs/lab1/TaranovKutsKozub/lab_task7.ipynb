{
 "cells": [
  {
   "cell_type": "code",
   "execution_count": 25,
   "metadata": {},
   "outputs": [],
   "source": [
    "from nltk.tokenize import RegexpTokenizer\n",
    "import matplotlib.pyplot as plt\n",
    "import numpy as np\n",
    "tokenizer = RegexpTokenizer(r'\\w+')"
   ]
  },
  {
   "cell_type": "markdown",
   "metadata": {},
   "source": [
    "открываем тексты, считываем оттуда слова, подсчитываем количество слов разной длинны, в процессе будем выводить интересные факты, такие как кол-во слов и т.д."
   ]
  },
  {
   "cell_type": "code",
   "execution_count": 15,
   "metadata": {},
   "outputs": [
    {
     "name": "stdout",
     "output_type": "stream",
     "text": [
      "in ru text is 271282 words\n",
      "in en text is 358646 words\n",
      "in fr text is 135312 words\n"
     ]
    }
   ],
   "source": [
    "l = ['ru', 'en', 'fr']\n",
    "files = {i: open(i + '.txt') for i in l}\n",
    "texts = {i: files[i].read() for i in l}\n",
    "words = {i: tokenizer.tokenize(texts[i]) for i in l}\n",
    "words_len = {i: [len(w) for w in words[i]] for i in l}\n",
    "for i in words_len:\n",
    "    print('in %s text is %d words' % (i, len(words_len[i])))"
   ]
  },
  {
   "cell_type": "markdown",
   "metadata": {},
   "source": [
    "не знаю как посчитать кол-во слов такой-то длинны в массиве, поэтому напишу вручную, предварительно найдя максимальную длинну, а потом составя словарь со всеми длинами до этой и перебирая все массивы сделаю что-то подобное сортировке подсчётом"
   ]
  },
  {
   "cell_type": "code",
   "execution_count": 22,
   "metadata": {},
   "outputs": [
    {
     "name": "stdout",
     "output_type": "stream",
     "text": [
      "max len of words in ru lenguage is 23\n",
      "max len of words in en lenguage is 19\n",
      "max len of words in fr lenguage is 18\n"
     ]
    }
   ],
   "source": [
    "lenght_count = {i: {n: 0 for n in range(max(words_len[i]) + 1)} for i in l}\n",
    "for i in l:\n",
    "    print('max len of words in %s lenguage is %d' % (i,max(words_len[i])))\n",
    "\n",
    "for i in l:\n",
    "    for a in words_len[i]:\n",
    "        lenght_count[i][a] += 1 "
   ]
  },
  {
   "cell_type": "markdown",
   "metadata": {},
   "source": [
    "посмотрим на распределения сначала просто на словари, потом отобразив их на гистограммы "
   ]
  },
  {
   "cell_type": "code",
   "execution_count": 23,
   "metadata": {},
   "outputs": [
    {
     "name": "stdout",
     "output_type": "stream",
     "text": [
      "{0: 0, 1: 31129, 2: 35857, 3: 37959, 4: 26716, 5: 31337, 6: 30603, 7: 24664, 8: 18929, 9: 12851, 10: 8958, 11: 5336, 12: 3122, 13: 2311, 14: 857, 15: 342, 16: 173, 17: 66, 18: 46, 19: 13, 20: 5, 21: 4, 22: 3, 23: 1}\n",
      "{0: 0, 1: 16301, 2: 61491, 3: 93329, 4: 63733, 5: 37489, 6: 25159, 7: 24195, 8: 15081, 9: 8890, 10: 6342, 11: 2440, 12: 2430, 13: 758, 14: 857, 15: 113, 16: 31, 17: 5, 18: 0, 19: 2}\n",
      "{0: 0, 1: 10599, 2: 33907, 3: 18085, 4: 18393, 5: 13767, 6: 11477, 7: 10380, 8: 7609, 9: 4738, 10: 2979, 11: 1434, 12: 1048, 13: 410, 14: 353, 15: 69, 16: 56, 17: 6, 18: 2}\n"
     ]
    }
   ],
   "source": [
    "for i in l:\n",
    "    print(lenght_count[i])"
   ]
  },
  {
   "cell_type": "markdown",
   "metadata": {},
   "source": [
    "видно что не смотря на то, что самые длинные слова встречаются в русском языке их относительно немного, построим гистограммы отдельно и вместе"
   ]
  },
  {
   "cell_type": "code",
   "execution_count": 30,
   "metadata": {},
   "outputs": [
    {
     "data": {
      "text/plain": [
       "array({0: 0, 1: 31129, 2: 35857, 3: 37959, 4: 26716, 5: 31337, 6: 30603, 7: 24664, 8: 18929, 9: 12851, 10: 8958, 11: 5336, 12: 3122, 13: 2311, 14: 857, 15: 342, 16: 173, 17: 66, 18: 46, 19: 13, 20: 5, 21: 4, 22: 3, 23: 1},\n",
       "      dtype=object)"
      ]
     },
     "execution_count": 30,
     "metadata": {},
     "output_type": "execute_result"
    }
   ],
   "source": [
    "np.array(lenght_count[i])"
   ]
  },
  {
   "cell_type": "code",
   "execution_count": 50,
   "metadata": {},
   "outputs": [
    {
     "name": "stdout",
     "output_type": "stream",
     "text": [
      "ru\n",
      "en\n",
      "fr\n"
     ]
    },
    {
     "data": {
      "image/png": "[encoded data removed]",
      "text/plain": [
       "<Figure size 1296x432 with 3 Axes>"
      ]
     },
     "metadata": {
      "needs_background": "light"
     },
     "output_type": "display_data"
    }
   ],
   "source": [
    "axes = {}\n",
    "fig, (axes['ru'], axes['en'], axes['fr']) = plt.subplots(\n",
    "    nrows=1, ncols=3,\n",
    "    figsize=(18, 6)\n",
    ")\n",
    "for i in l:\n",
    "    axes[i].hist(words_len[i], bins = max(words_len[i]), density=True)\n",
    "    axes[i].set_title(i)\n",
    "    axes[i].set_xlabel('lenght of word')\n",
    "    axes[i].set_ylabel('frequency')\n",
    "plt.show()"
   ]
  },
  {
   "cell_type": "code",
   "execution_count": 67,
   "metadata": {},
   "outputs": [
    {
     "data": {
      "image/png": "[encoded data removed]",
      "text/plain": [
       "<Figure size 864x432 with 2 Axes>"
      ]
     },
     "metadata": {
      "needs_background": "light"
     },
     "output_type": "display_data"
    }
   ],
   "source": [
    "fig, (ax1, ax2) = plt.subplots(\n",
    "    nrows=1, ncols=2,\n",
    "    figsize=(12, 6)\n",
    ")\n",
    "\n",
    "for i in l:\n",
    "    ax1.hist(words_len[i], bins = max(words_len[i]), density=True, label=str(i), histtype='bar')\n",
    "ax1.legend()\n",
    "ax1.set_title('all language')\n",
    "ax1.set_xlabel('lenght of word')\n",
    "ax1.set_ylabel('frequency')\n",
    "\n",
    "for i in l:\n",
    "    ax2.hist(words_len[i], bins = max(words_len[i]), density=True, label=str(i), histtype='step')\n",
    "ax2.legend()\n",
    "ax2.set_title('all language')\n",
    "ax2.set_xlabel('lenght of word')\n",
    "ax2.set_ylabel('frequency')\n",
    "\n",
    "plt.show()"
   ]
  },
  {
   "cell_type": "markdown",
   "metadata": {},
   "source": [
    "видно что  у русского языка более равномерное распределение, без такого выраженного пика как у французского или английского.\n",
    "\n",
    "теперь опробуем моё предположение о возможности использования закона больших чисел, установив с его помощью распределение и, затем проверив это всё с помощью критерия согласия Пирсона.\n",
    "\n",
    "замечу, что так как слова состоят как минимум из 1 буквы, будем считать, что случайная величина - это кол-во букв - 1, то есть сколько букв прибавится к однобуквенному слову."
   ]
  },
  {
   "cell_type": "code",
   "execution_count": 108,
   "metadata": {},
   "outputs": [
    {
     "name": "stdout",
     "output_type": "stream",
     "text": [
      "получили след. предположительные параметры распределений {'ru': 3.946052447268894, 'en': 3.2554775461039576, 'fr': 3.3646683221000355}\n"
     ]
    }
   ],
   "source": [
    "ar_lenghts = {i: np.array(list(lenght_count[i].values())[1:]) for i in l}\n",
    "lambdas = {i: 0 for i in l}\n",
    "for i in l:\n",
    "    s = 0\n",
    "    for fl in range(len(ar_lenghts[i])):\n",
    "        s += fl*ar_lenghts[i][fl]\n",
    "    lambdas[i] = s/len(words[i])\n",
    "print('получили след. предположительные параметры распределений', lambdas)\n",
    "import scipy.stats as st"
   ]
  },
  {
   "cell_type": "code",
   "execution_count": 109,
   "metadata": {},
   "outputs": [
    {
     "data": {
      "text/plain": [
       "{'ru': array([31129, 35857, 37959, 26716, 31337, 30603, 24664, 18929, 12851,\n",
       "         8958,  5336,  3122,  2311,   857,   342,   173,    66,    46,\n",
       "           13,     5,     4,     3,     1]),\n",
       " 'en': array([16301, 61491, 93329, 63733, 37489, 25159, 24195, 15081,  8890,\n",
       "         6342,  2440,  2430,   758,   857,   113,    31,     5,     0,\n",
       "            2]),\n",
       " 'fr': array([10599, 33907, 18085, 18393, 13767, 11477, 10380,  7609,  4738,\n",
       "         2979,  1434,  1048,   410,   353,    69,    56,     6,     2])}"
      ]
     },
     "execution_count": 109,
     "metadata": {},
     "output_type": "execute_result"
    }
   ],
   "source": [
    "ar_lenghts"
   ]
  },
  {
   "cell_type": "code",
   "execution_count": 110,
   "metadata": {},
   "outputs": [
    {
     "name": "stdout",
     "output_type": "stream",
     "text": [
      "Power_divergenceResult(statistic=338897.44596424856, pvalue=0.0)\n",
      "Power_divergenceResult(statistic=187272.09499276057, pvalue=0.0)\n",
      "Power_divergenceResult(statistic=120073.64588596781, pvalue=0.0)\n"
     ]
    }
   ],
   "source": [
    "ar = {i:[] for i in l}\n",
    "p_s = {i: st.poisson(lambdas[i]) for i in l}\n",
    "for i in l:\n",
    "    for n in range(ar_lenghts[i].shape[0]):\n",
    "        ar[i] += [p_s[i].pmf(n)]\n",
    "np_ar = {i:np.array(ar[i]) for i in l}\n",
    "for i in l:\n",
    "    print(st.chisquare(ar_lenghts[i], np_ar[i]*ar_lenghts[i].sum()))"
   ]
  },
  {
   "cell_type": "markdown",
   "metadata": {},
   "source": [
    "по всей видимости закон больших чисел здесь не применим, хотя мне скорее кажется непреминимым критерий пирсона, слишком большие исходные величины, ведь квадрат величины начинает очень сильно влиять, кроме того, попробуем объединить крайние клетки, так как там слишком малые значения."
   ]
  },
  {
   "cell_type": "code",
   "execution_count": 111,
   "metadata": {},
   "outputs": [
    {
     "data": {
      "text/plain": [
       "{'ru': array([31129, 35857, 37959, 26716, 31337, 30603, 24664, 18929, 12851,\n",
       "         8958,  5336,  3122,  2311,   857,   342,   173,    66,    46,\n",
       "           26]),\n",
       " 'en': array([16301, 61491, 93329, 63733, 37489, 25159, 24195, 15081,  8890,\n",
       "         6342,  2440,  2430,   758,   857,   113,    38]),\n",
       " 'fr': array([10599, 33907, 18085, 18393, 13767, 11477, 10380,  7609,  4738,\n",
       "         2979,  1434,  1048,   410,   353,    69,    64])}"
      ]
     },
     "execution_count": 111,
     "metadata": {},
     "output_type": "execute_result"
    }
   ],
   "source": [
    "ar_lenghts['ru'][-5] = np.sum(ar_lenghts['ru'][-5:])\n",
    "ar_lenghts['en'][-4] = np.sum(ar_lenghts['en'][-4:])\n",
    "ar_lenghts['fr'][-3] = np.sum(ar_lenghts['fr'][-3:])\n",
    "ar_lenghts['ru'] = ar_lenghts['ru'][:-4]\n",
    "ar_lenghts['en'] = ar_lenghts['en'][:-3]\n",
    "ar_lenghts['fr'] = ar_lenghts['fr'][:-2]\n",
    "ar_lenghts"
   ]
  },
  {
   "cell_type": "code",
   "execution_count": 112,
   "metadata": {},
   "outputs": [
    {
     "name": "stdout",
     "output_type": "stream",
     "text": [
      "Power_divergenceResult(statistic=295870.04401886417, pvalue=0.0)\n",
      "Power_divergenceResult(statistic=186870.68857343128, pvalue=0.0)\n",
      "Power_divergenceResult(statistic=122488.1135112765, pvalue=0.0)\n"
     ]
    }
   ],
   "source": [
    "ar = {i:[] for i in l}\n",
    "p_s = {i: st.poisson(lambdas[i]) for i in l}\n",
    "for i in l:\n",
    "    for n in range(ar_lenghts[i].shape[0]):\n",
    "        ar[i] += [p_s[i].pmf(n)]\n",
    "np_ar = {i:np.array(ar[i]) for i in l}\n",
    "for i in l:\n",
    "    print(st.chisquare(ar_lenghts[i], np_ar[i]*ar_lenghts[i].sum()))"
   ]
  },
  {
   "cell_type": "markdown",
   "metadata": {},
   "source": [
    "ничего существенно не поменялось, тогда данный способ оказался бесперспективным, попробуем просто бутстреп"
   ]
  },
  {
   "cell_type": "code",
   "execution_count": 135,
   "metadata": {},
   "outputs": [
    {
     "name": "stdout",
     "output_type": "stream",
     "text": [
      "<class 'numpy.ndarray'>\n"
     ]
    },
    {
     "data": {
      "text/plain": [
       "{'ru': array([[3.93684699, 3.93684699],\n",
       "        [3.95764122, 3.95764122]]), 'en': array([[3.24862497, 3.24862497],\n",
       "        [3.26265614, 3.26265614]]), 'fr': array([[3.34975649, 3.34975649],\n",
       "        [3.37647178, 3.37647178]])}"
      ]
     },
     "execution_count": 135,
     "metadata": {},
     "output_type": "execute_result"
    }
   ],
   "source": [
    "from arch.bootstrap import IIDBootstrap\n",
    "\n",
    "print(type(np.array(words['ru'])))\n",
    "a = {}\n",
    "for i in l:\n",
    "    bs = IIDBootstrap(np.array(words_len[i]))\n",
    "    a[i] = bs.conf_int(np.mean, 100, method='basic') - [1,1]\n",
    "a"
   ]
  },
  {
   "cell_type": "markdown",
   "metadata": {},
   "source": [
    "интервалы не пересекаются, видимо распределения различны, если считать, что они пуассоновские."
   ]
  }
 ],
 "metadata": {
  "kernelspec": {
   "display_name": "Python 3",
   "language": "python",
   "name": "python3"
  },
  "language_info": {
   "codemirror_mode": {
    "name": "ipython",
    "version": 3
   },
   "file_extension": ".py",
   "mimetype": "text/x-python",
   "name": "python",
   "nbconvert_exporter": "python",
   "pygments_lexer": "ipython3",
   "version": "3.6.7"
  }
 },
 "nbformat": 4,
 "nbformat_minor": 2
}
