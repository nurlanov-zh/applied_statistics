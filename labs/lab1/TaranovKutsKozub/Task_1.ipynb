{
 "cells": [
  {
   "cell_type": "markdown",
   "metadata": {},
   "source": [
    "# Задание 1"
   ]
  },
  {
   "cell_type": "code",
   "execution_count": 1,
   "metadata": {},
   "outputs": [],
   "source": [
    "import pandas as pd\n",
    "import matplotlib.pylab as plt\n",
    "import numpy as np\n",
    "import scipy.stats as st"
   ]
  },
  {
   "cell_type": "code",
   "execution_count": 3,
   "metadata": {},
   "outputs": [],
   "source": [
    "#Считывание данных в два списка\n",
    "x1,x2=[],[]\n",
    "with open('students.txt') as inf:\n",
    "    head = inf.readline().split()\n",
    "    c = inf.readline().split()\n",
    "    while (c != []):\n",
    "        if (c[0] == 'Before'):\n",
    "            x1.append(int(c[2]))\n",
    "        else:\n",
    "            x2.append(int(c[2]))\n",
    "        c = inf.readline().split()\n"
   ]
  },
  {
   "cell_type": "markdown",
   "metadata": {},
   "source": [
    "Строим график зависимости соответствующих элементов выборки"
   ]
  },
  {
   "cell_type": "code",
   "execution_count": 4,
   "metadata": {},
   "outputs": [
    {
     "data": {
      "text/plain": [
       "[<matplotlib.lines.Line2D at 0x7f66471b0198>]"
      ]
     },
     "execution_count": 4,
     "metadata": {},
     "output_type": "execute_result"
    },
    {
     "data": {
      "image/png": "[encoded data removed]",
      "text/plain": [
       "<Figure size 432x288 with 1 Axes>"
      ]
     },
     "metadata": {},
     "output_type": "display_data"
    }
   ],
   "source": [
    "plt.scatter(x1, x2)\n",
    "x = np.linspace(50,90,50)\n",
    "plt.plot(x, x, 'r')"
   ]
  },
  {
   "cell_type": "markdown",
   "metadata": {},
   "source": [
    "Так как в задаче спрашивается про изменение результатов в среднем, то неплохо бы воспользоваться двухвыборочным перестановочным критерием. Однако для него требуется симметричность распределеняи попарных разностей, проверим это."
   ]
  },
  {
   "cell_type": "code",
   "execution_count": 6,
   "metadata": {},
   "outputs": [
    {
     "name": "stdout",
     "output_type": "stream",
     "text": [
      "[-12, -23, -6, -8, -5, 4, -12, -20, -18, -2]\n"
     ]
    }
   ],
   "source": [
    "y =[]\n",
    "for i in range(10):\n",
    "    y.append(x1[i]-x2[i])\n",
    "print(y)    "
   ]
  },
  {
   "cell_type": "code",
   "execution_count": 8,
   "metadata": {},
   "outputs": [
    {
     "data": {
      "text/plain": [
       "(-4.0, 0.021484374999999997)"
      ]
     },
     "execution_count": 8,
     "metadata": {},
     "output_type": "execute_result"
    }
   ],
   "source": [
    "#Проверяем на уровне значимости 0.95, что медиана выборки - это ноль.\n",
    "from statsmodels.stats.descriptivestats import sign_test\n",
    "sign_test(y)"
   ]
  },
  {
   "cell_type": "code",
   "execution_count": 10,
   "metadata": {},
   "outputs": [
    {
     "data": {
      "text/plain": [
       "0.022254151255959257"
      ]
     },
     "execution_count": 10,
     "metadata": {},
     "output_type": "execute_result"
    }
   ],
   "source": [
    "#Коэффицент ассиметрии\n",
    "st.skew(y)"
   ]
  },
  {
   "cell_type": "markdown",
   "metadata": {},
   "source": [
    "Из критерия знаков получаем, что гипотезу о том, что медиана выборки это ноль, стоит отвергнуть. Коэффицент ассиметричности достаточно мал => попарные разности симметричны.\n",
    "В итоге, все равно проверим равенство матожиданий с помощью двухвыборочного перестановочного критерия"
   ]
  },
  {
   "cell_type": "markdown",
   "metadata": {},
   "source": [
    "### Двухвыборочный перестановочный критерий\n",
    "$H_0$: среднее арифметическое не изменилось  \n",
    "$H_1$: среднее арифметическое увеличилось "
   ]
  },
  {
   "cell_type": "code",
   "execution_count": 12,
   "metadata": {},
   "outputs": [
    {
     "name": "stdout",
     "output_type": "stream",
     "text": [
      "-102.0\n",
      "0.9970703125\n"
     ]
    }
   ],
   "source": [
    "#перестановочный критерий\n",
    "import itertools\n",
    "z = np.ones(10)\n",
    "T = np.dot(y,z)\n",
    "count = 0\n",
    "print(T)\n",
    "for i in list(itertools.product([1, -1], repeat=10)):\n",
    "     if (np.dot(i,y) > T):\n",
    "        count +=1\n",
    "count\n",
    "alpha = count/2**10\n",
    "print(alpha)"
   ]
  },
  {
   "cell_type": "code",
   "execution_count": 14,
   "metadata": {},
   "outputs": [
    {
     "data": {
      "text/plain": [
       "(0.0019400000000000528, -10.2)"
      ]
     },
     "execution_count": 14,
     "metadata": {},
     "output_type": "execute_result"
    }
   ],
   "source": [
    "from permute.core import one_sample\n",
    "one_sample(y, alternative='less')"
   ]
  },
  {
   "cell_type": "markdown",
   "metadata": {},
   "source": [
    "Статистика получилась в $10$ раз меньше. Видимо, в $permute.core$ она реализована с делением на размер выборки.\n",
    "\n",
    "Получаем уровень значимости $\\alpha = 0.997$. Гипотезу на допустимом уровне значимости $0.95$ следует отвергнуть."
   ]
  },
  {
   "cell_type": "markdown",
   "metadata": {},
   "source": [
    "### Критерий знаковых рангов Уилкоксона для связанных выборок"
   ]
  },
  {
   "cell_type": "markdown",
   "metadata": {},
   "source": [
    "$H_0$: $med(X_1-X_2) = 0$\n",
    "\n",
    "$H_1$: $med(X_1-X_2) < 0$"
   ]
  },
  {
   "cell_type": "code",
   "execution_count": 16,
   "metadata": {},
   "outputs": [
    {
     "data": {
      "text/plain": [
       "WilcoxonResult(statistic=2.0, pvalue=0.00929822320829811)"
      ]
     },
     "execution_count": 16,
     "metadata": {},
     "output_type": "execute_result"
    }
   ],
   "source": [
    "import scipy.stats as st\n",
    "st.wilcoxon(x1, x2)"
   ]
  },
  {
   "cell_type": "markdown",
   "metadata": {},
   "source": [
    "Отвергаем гипотезу о неизменности среднего на уровне значимости $0.95$ "
   ]
  },
  {
   "cell_type": "markdown",
   "metadata": {},
   "source": [
    "## Критерии при использовании предложения о нормальности выборок (параметрические критерии)\n"
   ]
  },
  {
   "cell_type": "markdown",
   "metadata": {},
   "source": [
    "Оценим нормальность выборки на qq-графике."
   ]
  },
  {
   "cell_type": "code",
   "execution_count": 18,
   "metadata": {},
   "outputs": [
    {
     "data": {
      "image/png": "[encoded data removed]",
      "text/plain": [
       "<Figure size 432x288 with 1 Axes>"
      ]
     },
     "metadata": {},
     "output_type": "display_data"
    }
   ],
   "source": [
    "_=st.probplot(y, plot=plt)"
   ]
  },
  {
   "cell_type": "code",
   "execution_count": 20,
   "metadata": {},
   "outputs": [
    {
     "data": {
      "text/plain": [
       "(array([1., 2., 0., 0., 2., 1., 2., 1., 0., 1.]),\n",
       " array([-23. , -20.3, -17.6, -14.9, -12.2,  -9.5,  -6.8,  -4.1,  -1.4,\n",
       "          1.3,   4. ]),\n",
       " <a list of 10 Patch objects>)"
      ]
     },
     "execution_count": 20,
     "metadata": {},
     "output_type": "execute_result"
    },
    {
     "data": {
      "image/png": "[encoded data removed]",
      "text/plain": [
       "<Figure size 432x288 with 1 Axes>"
      ]
     },
     "metadata": {},
     "output_type": "display_data"
    }
   ],
   "source": [
    "plt.hist(y)"
   ]
  },
  {
   "cell_type": "markdown",
   "metadata": {},
   "source": [
    "На qq-графике видно, что выборка согласуется с нормальным распределением"
   ]
  },
  {
   "cell_type": "markdown",
   "metadata": {},
   "source": [
    "###### Проверим нормальность критериями Шапиро-Уилка и Харке-Бера.\n",
    "\n",
    "Из них видно, что гипотезу нормальности не отвергаем, т.к. p-value велико в обоих случаях."
   ]
  },
  {
   "cell_type": "code",
   "execution_count": 22,
   "metadata": {},
   "outputs": [
    {
     "data": {
      "text/plain": [
       "(0.9754936099052429, 0.9365940690040588)"
      ]
     },
     "execution_count": 22,
     "metadata": {},
     "output_type": "execute_result"
    }
   ],
   "source": [
    "st.shapiro(y)"
   ]
  },
  {
   "cell_type": "code",
   "execution_count": 24,
   "metadata": {},
   "outputs": [
    {
     "data": {
      "text/plain": [
       "(0.36571563847142596, 0.8328865677677046)"
      ]
     },
     "execution_count": 24,
     "metadata": {},
     "output_type": "execute_result"
    }
   ],
   "source": [
    "st.jarque_bera(y)"
   ]
  },
  {
   "cell_type": "markdown",
   "metadata": {},
   "source": [
    "Выборку считаем нормальной, поэтому применим t-критерий Стьюдента для зависимых выборок (люди, сдававшие эказмен до и после, были одними и теми же)"
   ]
  },
  {
   "cell_type": "markdown",
   "metadata": {},
   "source": [
    "### t-критерий Стьюдента для связанных выборок"
   ]
  },
  {
   "cell_type": "code",
   "execution_count": 26,
   "metadata": {},
   "outputs": [
    {
     "data": {
      "text/plain": [
       "Ttest_relResult(statistic=-3.808374649652914, pvalue=0.004163495155629837)"
      ]
     },
     "execution_count": 26,
     "metadata": {},
     "output_type": "execute_result"
    }
   ],
   "source": [
    "st.ttest_rel(x1, x2)"
   ]
  },
  {
   "cell_type": "markdown",
   "metadata": {},
   "source": [
    "Судя по результатам, гипотезу $H_0$ также следует отклонить"
   ]
  },
  {
   "cell_type": "markdown",
   "metadata": {},
   "source": [
    "### Определим размер эффекта по Cohen's d."
   ]
  },
  {
   "cell_type": "code",
   "execution_count": 27,
   "metadata": {},
   "outputs": [
    {
     "name": "stdout",
     "output_type": "stream",
     "text": [
      "-0.8828678212381178\n"
     ]
    }
   ],
   "source": [
    "n = 10\n",
    "s1 = np.std(x1, ddof=1)\n",
    "s2 = np.std(x2, ddof=1)\n",
    "s = (((n-1)*s1**2 + (n-1)*s2**2)/(2*n-2))**0.5\n",
    "d = (np.mean(x1) - np.mean(x2))/s\n",
    "print(d)"
   ]
  },
  {
   "cell_type": "markdown",
   "metadata": {},
   "source": [
    "Размер эффекта по модулю больше $0.8$, значит размер эффекта назовём Large."
   ]
  },
  {
   "cell_type": "markdown",
   "metadata": {},
   "source": [
    "## Вывод\n",
    "\n",
    "С помощью перестановочного критерия, критерия занковых рангов Уилкоксона для связанных выборок и t-критерия Стьюдента приходим к выводу, что гипотезу о неизменности среднего следует отвергнуть. Результаты после прохождения курса, как и ожидалось, улучшились. Размер эффекта по Cohen's d  оказался Large и равен $0.88$"
   ]
  }
 ],
 "metadata": {
  "kernelspec": {
   "display_name": "Python 3",
   "language": "python",
   "name": "python3"
  },
  "language_info": {
   "codemirror_mode": {
    "name": "ipython",
    "version": 3
   },
   "file_extension": ".py",
   "mimetype": "text/x-python",
   "name": "python",
   "nbconvert_exporter": "python",
   "pygments_lexer": "ipython3",
   "version": "3.6.7"
  }
 },
 "nbformat": 4,
 "nbformat_minor": 2
}
