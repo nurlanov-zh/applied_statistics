{
 "cells": [
  {
   "cell_type": "code",
   "execution_count": 1,
   "metadata": {},
   "outputs": [],
   "source": [
    "import pandas as pd\n",
    "import numpy as np\n",
    "import itertools\n",
    "import scipy.stats as st\n",
    "import matplotlib.pylab as plt\n",
    "%matplotlib inline\n",
    "import tqdm"
   ]
  },
  {
   "cell_type": "code",
   "execution_count": null,
   "metadata": {},
   "outputs": [],
   "source": [
    "# protasov.vp@phystech.edu"
   ]
  },
  {
   "cell_type": "code",
   "execution_count": 7,
   "metadata": {},
   "outputs": [],
   "source": [
    "data = pd.read_csv('IRIS.csv')"
   ]
  },
  {
   "cell_type": "code",
   "execution_count": 36,
   "metadata": {},
   "outputs": [
    {
     "data": {
      "text/html": [
       "<div>\n",
       "<style scoped>\n",
       "    .dataframe tbody tr th:only-of-type {\n",
       "        vertical-align: middle;\n",
       "    }\n",
       "\n",
       "    .dataframe tbody tr th {\n",
       "        vertical-align: top;\n",
       "    }\n",
       "\n",
       "    .dataframe thead th {\n",
       "        text-align: right;\n",
       "    }\n",
       "</style>\n",
       "<table border=\"1\" class=\"dataframe\">\n",
       "  <thead>\n",
       "    <tr style=\"text-align: right;\">\n",
       "      <th></th>\n",
       "      <th>sepal_length</th>\n",
       "      <th>sepal_width</th>\n",
       "      <th>petal_length</th>\n",
       "      <th>petal_width</th>\n",
       "      <th>species</th>\n",
       "    </tr>\n",
       "  </thead>\n",
       "  <tbody>\n",
       "    <tr>\n",
       "      <th>0</th>\n",
       "      <td>5.1</td>\n",
       "      <td>3.5</td>\n",
       "      <td>1.4</td>\n",
       "      <td>0.2</td>\n",
       "      <td>Iris-setosa</td>\n",
       "    </tr>\n",
       "    <tr>\n",
       "      <th>1</th>\n",
       "      <td>4.9</td>\n",
       "      <td>3.0</td>\n",
       "      <td>1.4</td>\n",
       "      <td>0.2</td>\n",
       "      <td>Iris-setosa</td>\n",
       "    </tr>\n",
       "    <tr>\n",
       "      <th>2</th>\n",
       "      <td>4.7</td>\n",
       "      <td>3.2</td>\n",
       "      <td>1.3</td>\n",
       "      <td>0.2</td>\n",
       "      <td>Iris-setosa</td>\n",
       "    </tr>\n",
       "    <tr>\n",
       "      <th>3</th>\n",
       "      <td>4.6</td>\n",
       "      <td>3.1</td>\n",
       "      <td>1.5</td>\n",
       "      <td>0.2</td>\n",
       "      <td>Iris-setosa</td>\n",
       "    </tr>\n",
       "    <tr>\n",
       "      <th>4</th>\n",
       "      <td>5.0</td>\n",
       "      <td>3.6</td>\n",
       "      <td>1.4</td>\n",
       "      <td>0.2</td>\n",
       "      <td>Iris-setosa</td>\n",
       "    </tr>\n",
       "  </tbody>\n",
       "</table>\n",
       "</div>"
      ],
      "text/plain": [
       "   sepal_length  sepal_width  petal_length  petal_width      species\n",
       "0           5.1          3.5           1.4          0.2  Iris-setosa\n",
       "1           4.9          3.0           1.4          0.2  Iris-setosa\n",
       "2           4.7          3.2           1.3          0.2  Iris-setosa\n",
       "3           4.6          3.1           1.5          0.2  Iris-setosa\n",
       "4           5.0          3.6           1.4          0.2  Iris-setosa"
      ]
     },
     "execution_count": 36,
     "metadata": {},
     "output_type": "execute_result"
    }
   ],
   "source": [
    "data.head()"
   ]
  },
  {
   "cell_type": "code",
   "execution_count": 45,
   "metadata": {},
   "outputs": [],
   "source": [
    "h_1 = data['sepal_length']\n",
    "h_2 = data['sepal_width']\n",
    "h_3 = data['petal_length']\n",
    "h_4 = data['petal_width']"
   ]
  },
  {
   "cell_type": "code",
   "execution_count": 39,
   "metadata": {},
   "outputs": [
    {
     "data": {
      "text/plain": [
       "Iris-virginica     50\n",
       "Iris-versicolor    50\n",
       "Iris-setosa        50\n",
       "Name: species, dtype: int64"
      ]
     },
     "execution_count": 39,
     "metadata": {},
     "output_type": "execute_result"
    }
   ],
   "source": [
    "data['species'].value_counts()"
   ]
  },
  {
   "cell_type": "code",
   "execution_count": 40,
   "metadata": {},
   "outputs": [],
   "source": [
    "# Для первого вида ириса:\n",
    "s_l1 = data['sepal_length'][:50]\n",
    "s_w1 = data['sepal_width'][:50]\n",
    "p_l1 = data['petal_length'][:50]\n",
    "p_w1 = data['petal_width'][:50]\n",
    "\n",
    "# Для второго вида ириса:\n",
    "s_l2 = data['sepal_length'][50:100]\n",
    "s_w2 = data['sepal_width'][50:100]\n",
    "p_l2 = data['petal_length'][50:100]\n",
    "p_w2 = data['petal_width'][50:100]\n",
    "\n",
    "# Для третьего вида ириса:\n",
    "s_l3 = data['sepal_length'][100:150]\n",
    "s_w3 = data['sepal_width'][100:150]\n",
    "p_l3 = data['petal_length'][100:150]\n",
    "p_w3 = data['petal_width'][100:150]"
   ]
  },
  {
   "cell_type": "markdown",
   "metadata": {},
   "source": [
    "### Проверим выборки для каждого вида ириса на нормальность критерием Шапиро-Уилка\n",
    "\n",
    "H0 - Распределены нормально\n",
    "\n",
    "H1 - Не нормально"
   ]
  },
  {
   "cell_type": "code",
   "execution_count": 72,
   "metadata": {},
   "outputs": [
    {
     "name": "stdout",
     "output_type": "stream",
     "text": [
      "Значения из критерия шапиро-уилка for each sepal_length: T-0.9776989221572876, p-value 0.4595281183719635\n",
      "Значения из критерия шапиро-уилка for each sepal_length: T-0.9778355956077576, p-value 0.46473264694213867\n",
      "Значения из критерия шапиро-уилка for each sepal_length: T-0.9711798429489136, p-value 0.25832483172416687\n",
      "\n",
      "Значения из критерия шапиро-уилка for each sepal_width: T-0.968691885471344, p-value 0.20465604960918427\n",
      "Значения из критерия шапиро-уилка for each sepal_width: T-0.9741330742835999, p-value 0.33798879384994507\n",
      "Значения из критерия шапиро-уилка for each sepal_width: T-0.9673910140991211, p-value 0.1809043288230896\n",
      "\n",
      "Значения из критерия шапиро-уилка for each petal_length: T-0.9549458622932434, p-value 0.05464918911457062\n",
      "Значения из критерия шапиро-уилка for each petal_length: T-0.9660047888755798, p-value 0.1584833413362503\n",
      "Значения из критерия шапиро-уилка for each petal_length: T-0.9621862769126892, p-value 0.10977369546890259\n",
      "\n",
      "Значения из критерия шапиро-уилка for each petal_width: T-0.8138170838356018, p-value 1.8525804534874624e-06\n",
      "Значения из критерия шапиро-уилка for each petal_width: T-0.947626531124115, p-value 0.027278218418359756\n",
      "Значения из критерия шапиро-уилка for each petal_width: T-0.9597718715667725, p-value 0.08695744723081589\n"
     ]
    }
   ],
   "source": [
    "for i in [s_l1,s_l2,s_l3]:\n",
    "    print('Значения из критерия шапиро-уилка for each sepal_length: T-%s, p-value %s' % (st.shapiro(i)), end = '\\n')\n",
    "print()\n",
    "for i in [s_w1,s_w2,s_w3]:\n",
    "    print('Значения из критерия шапиро-уилка for each sepal_width: T-%s, p-value %s' % (st.shapiro(i)), end = '\\n')\n",
    "print()\n",
    "for i in [p_l1,p_l2,p_l3]:\n",
    "    print('Значения из критерия шапиро-уилка for each petal_length: T-%s, p-value %s' % (st.shapiro(i)), end = '\\n')\n",
    "print()\n",
    "for i in [p_w1,p_w2,p_w3]:\n",
    "    print('Значения из критерия шапиро-уилка for each petal_width: T-%s, p-value %s' % (st.shapiro(i)), end = '\\n')"
   ]
  },
  {
   "cell_type": "markdown",
   "metadata": {},
   "source": [
    "Отсюда можно сделать вывод, что 3 характеристики из 4 можно принять распределенными нормально, а последнюю petal_width, проверим по q-q plot, чтобы понять, если график особо от нормального не отличается, то можно для проверки средних взять критерий Стьюдента, который также работает для выборок, которые не сильно отличаются от нормального."
   ]
  },
  {
   "cell_type": "code",
   "execution_count": 87,
   "metadata": {},
   "outputs": [
    {
     "data": {
      "image/png": "[encoded data removed]",
      "text/plain": [
       "<Figure size 432x288 with 1 Axes>"
      ]
     },
     "metadata": {
      "needs_background": "light"
     },
     "output_type": "display_data"
    }
   ],
   "source": [
    "qq_points, qq_line = st.probplot(p_l1, plot=plt)\n",
    "qq_points, qq_line = st.probplot(p_l2, plot=plt)\n",
    "qq_points, qq_line = st.probplot(p_l3, plot=plt)"
   ]
  },
  {
   "cell_type": "markdown",
   "metadata": {},
   "source": [
    "Ложа руку на сердце, чтобы не ущемлять права последней характеристики, также проверим по критерию Стьюдента."
   ]
  },
  {
   "cell_type": "markdown",
   "metadata": {},
   "source": [
    "### Применим двухвыборочный критерий Стьюдента для независимых выборок: (попарно применим для 3-х видов)"
   ]
  },
  {
   "cell_type": "markdown",
   "metadata": {},
   "source": [
    "H0: в среднем каждая из характеристик не различается между разными видами\n",
    "\n",
    "H1: различается"
   ]
  },
  {
   "cell_type": "code",
   "execution_count": 99,
   "metadata": {},
   "outputs": [
    {
     "name": "stdout",
     "output_type": "stream",
     "text": [
      "For sepal_length:\n"
     ]
    },
    {
     "data": {
      "text/plain": [
       "(Ttest_indResult(statistic=-10.52098626754911, pvalue=3.746742613983842e-17),\n",
       " Ttest_indResult(statistic=-15.386195820079404, pvalue=3.9668672709859296e-25),\n",
       " Ttest_indResult(statistic=5.629165259719801, pvalue=1.8661443873771216e-07))"
      ]
     },
     "execution_count": 99,
     "metadata": {},
     "output_type": "execute_result"
    }
   ],
   "source": [
    "print('For sepal_length:')\n",
    "st.ttest_ind(s_l1,s_l2, equal_var=False), st.ttest_ind(s_l1,s_l3, equal_var=False), st.ttest_ind(s_l3,s_l2, equal_var=False)"
   ]
  },
  {
   "cell_type": "code",
   "execution_count": 95,
   "metadata": {},
   "outputs": [
    {
     "name": "stdout",
     "output_type": "stream",
     "text": [
      "For sepal_width:\n"
     ]
    },
    {
     "data": {
      "text/plain": [
       "(Ttest_indResult(statistic=9.28277255555811, pvalue=5.879601468409086e-15),\n",
       " Ttest_indResult(statistic=6.289384996672061, pvalue=9.58603917037916e-09),\n",
       " Ttest_indResult(statistic=3.2057607502218186, pvalue=0.001819483482104968))"
      ]
     },
     "execution_count": 95,
     "metadata": {},
     "output_type": "execute_result"
    }
   ],
   "source": [
    "print('For sepal_width:')\n",
    "st.ttest_ind(s_w1,s_w2, equal_var=False), st.ttest_ind(s_w1,s_w3, equal_var=False), st.ttest_ind(s_w3,s_w2, equal_var=False)"
   ]
  },
  {
   "cell_type": "code",
   "execution_count": 96,
   "metadata": {},
   "outputs": [
    {
     "name": "stdout",
     "output_type": "stream",
     "text": [
      "For petal_length:\n"
     ]
    },
    {
     "data": {
      "text/plain": [
       "(Ttest_indResult(statistic=-39.46866259397271, pvalue=1.057210030060334e-45),\n",
       " Ttest_indResult(statistic=-49.965703359355636, pvalue=9.713867061697096e-50),\n",
       " Ttest_indResult(statistic=12.603779441384987, pvalue=4.900287527398095e-22))"
      ]
     },
     "execution_count": 96,
     "metadata": {},
     "output_type": "execute_result"
    }
   ],
   "source": [
    "print('For petal_length:')\n",
    "st.ttest_ind(p_l1,p_l2, equal_var=False), st.ttest_ind(p_l1,p_l3, equal_var=False), st.ttest_ind(p_l3,p_l2, equal_var=False)"
   ]
  },
  {
   "cell_type": "code",
   "execution_count": 97,
   "metadata": {},
   "outputs": [
    {
     "name": "stdout",
     "output_type": "stream",
     "text": [
      "For petal_width:\n"
     ]
    },
    {
     "data": {
      "text/plain": [
       "(Ttest_indResult(statistic=-34.01237858829048, pvalue=1.53779680512802e-47),\n",
       " Ttest_indResult(statistic=-42.73822967241116, pvalue=1.4667494246530803e-48),\n",
       " Ttest_indResult(statistic=14.625367047410148, pvalue=2.111534400988573e-25))"
      ]
     },
     "execution_count": 97,
     "metadata": {},
     "output_type": "execute_result"
    }
   ],
   "source": [
    "print('For petal_width:')\n",
    "st.ttest_ind(p_w1,p_w2, equal_var=False), st.ttest_ind(p_w1,p_w3, equal_var=False), st.ttest_ind(p_w3,p_w2, equal_var=False)"
   ]
  },
  {
   "cell_type": "markdown",
   "metadata": {},
   "source": [
    "### Отсюда делаем вывод, что с учётом значений  p-value, все характеристики для каждого вида в среднем различаются!"
   ]
  },
  {
   "cell_type": "markdown",
   "metadata": {},
   "source": [
    "Интервально оценим разность средних для этих выборок:"
   ]
  },
  {
   "cell_type": "code",
   "execution_count": 117,
   "metadata": {},
   "outputs": [],
   "source": [
    "import numpy as np, statsmodels.stats.api as sms\n",
    "cm1 = sms.CompareMeans(sms.DescrStatsW(p_l1), sms.DescrStatsW(p_l2))\n",
    "cm2 = sms.CompareMeans(sms.DescrStatsW(p_l1), sms.DescrStatsW(p_l3))\n",
    "cm3 = sms.CompareMeans(sms.DescrStatsW(p_l2), sms.DescrStatsW(p_l3))\n",
    "\n",
    "cm4 = sms.CompareMeans(sms.DescrStatsW(p_w1), sms.DescrStatsW(p_w2))\n",
    "cm5 = sms.CompareMeans(sms.DescrStatsW(p_w1), sms.DescrStatsW(p_w3))\n",
    "cm6 = sms.CompareMeans(sms.DescrStatsW(p_w2), sms.DescrStatsW(p_w3))\n",
    "\n",
    "cm7 = sms.CompareMeans(sms.DescrStatsW(s_l1), sms.DescrStatsW(s_l2))\n",
    "cm8 = sms.CompareMeans(sms.DescrStatsW(s_l1), sms.DescrStatsW(s_l3))\n",
    "cm9 = sms.CompareMeans(sms.DescrStatsW(s_l2), sms.DescrStatsW(s_l3))\n",
    "\n",
    "cm10 = sms.CompareMeans(sms.DescrStatsW(s_w1), sms.DescrStatsW(s_w2))\n",
    "cm11 = sms.CompareMeans(sms.DescrStatsW(s_w1), sms.DescrStatsW(s_w3))\n",
    "cm12 = sms.CompareMeans(sms.DescrStatsW(s_w2), sms.DescrStatsW(s_w3))"
   ]
  },
  {
   "cell_type": "code",
   "execution_count": 118,
   "metadata": {},
   "outputs": [
    {
     "name": "stdout",
     "output_type": "stream",
     "text": [
      "For petal_length:\n",
      "confidence interval for p_l1 and p_l2: [-2.936582,-2.655418]\n",
      "confidence interval for p_l1 and p_l3: [-4.250361,-3.925639]\n",
      "confidence interval for p_l2 and p_l3: [-1.495426,-1.088574]\n"
     ]
    }
   ],
   "source": [
    "print('For petal_length:')\n",
    "print ('confidence interval for p_l1 and p_l2: [%f,%f]' % cm1.tconfint_diff(alpha = 0.05))\n",
    "print ('confidence interval for p_l1 and p_l3: [%f,%f]' % cm2.tconfint_diff(alpha = 0.05))\n",
    "print ('confidence interval for p_l2 and p_l3: [%f,%f]' % cm3.tconfint_diff(alpha = 0.05))"
   ]
  },
  {
   "cell_type": "code",
   "execution_count": 119,
   "metadata": {},
   "outputs": [
    {
     "name": "stdout",
     "output_type": "stream",
     "text": [
      "For petal_width:\n",
      "confidence interval for p_w1 and p_w2: [-1.145130,-1.018870]\n",
      "confidence interval for p_w1 and p_w3: [-1.864744,-1.699256]\n",
      "confidence interval for p_w2 and p_w3: [-0.794981,-0.605019]\n"
     ]
    }
   ],
   "source": [
    "print('For petal_width:')\n",
    "print ('confidence interval for p_w1 and p_w2: [%f,%f]' % cm4.tconfint_diff(alpha = 0.05))\n",
    "print ('confidence interval for p_w1 and p_w3: [%f,%f]' % cm5.tconfint_diff(alpha = 0.05))\n",
    "print ('confidence interval for p_w2 and p_w3: [%f,%f]' % cm6.tconfint_diff(alpha = 0.05))"
   ]
  },
  {
   "cell_type": "code",
   "execution_count": 120,
   "metadata": {},
   "outputs": [
    {
     "name": "stdout",
     "output_type": "stream",
     "text": [
      "For sepal_length:\n",
      "confidence interval for s_l1 and s_l2: [-1.105417,-0.754583]\n",
      "confidence interval for s_l1 and s_l3: [-1.786042,-1.377958]\n",
      "confidence interval for s_l2 and s_l3: [-0.881852,-0.422148]\n"
     ]
    }
   ],
   "source": [
    "print('For sepal_length:')\n",
    "print ('confidence interval for s_l1 and s_l2: [%f,%f]' % cm7.tconfint_diff(alpha = 0.05))\n",
    "print ('confidence interval for s_l1 and s_l3: [%f,%f]' % cm8.tconfint_diff(alpha = 0.05))\n",
    "print ('confidence interval for s_l2 and s_l3: [%f,%f]' % cm9.tconfint_diff(alpha = 0.05))"
   ]
  },
  {
   "cell_type": "code",
   "execution_count": 121,
   "metadata": {},
   "outputs": [
    {
     "name": "stdout",
     "output_type": "stream",
     "text": [
      "For sepal_width:\n",
      "confidence interval for s_w1 and s_w2: [0.509471,0.786529]\n",
      "confidence interval for s_w1 and s_w3: [0.303906,0.584094]\n",
      "confidence interval for s_w2 and s_w3: [-0.330282,-0.077718]\n"
     ]
    }
   ],
   "source": [
    "print('For sepal_width:')\n",
    "print ('confidence interval for s_w1 and s_w2: [%f,%f]' % cm10.tconfint_diff(alpha = 0.05))\n",
    "print ('confidence interval for s_w1 and s_w3: [%f,%f]' % cm11.tconfint_diff(alpha = 0.05))\n",
    "print ('confidence interval for s_w2 and s_w3: [%f,%f]' % cm12.tconfint_diff(alpha = 0.05))"
   ]
  },
  {
   "cell_type": "markdown",
   "metadata": {},
   "source": [
    "## Вывод: каждая из 4-х характеристик цветка ириса отличается в среднем для 3-х видов цветков и интервал изменения разности средних для каждой характеристики находится выше."
   ]
  }
 ],
 "metadata": {
  "kernelspec": {
   "display_name": "Python 3",
   "language": "python",
   "name": "python3"
  },
  "language_info": {
   "codemirror_mode": {
    "name": "ipython",
    "version": 3
   },
   "file_extension": ".py",
   "mimetype": "text/x-python",
   "name": "python",
   "nbconvert_exporter": "python",
   "pygments_lexer": "ipython3",
   "version": "3.7.1"
  }
 },
 "nbformat": 4,
 "nbformat_minor": 2
}
