{
 "cells": [
  {
   "cell_type": "markdown",
   "metadata": {},
   "source": [
    "## Задание 7"
   ]
  },
  {
   "cell_type": "code",
   "execution_count": 1,
   "metadata": {},
   "outputs": [],
   "source": [
    "import numpy as np\n",
    "import codecs\n",
    "import scipy.stats as st"
   ]
  },
  {
   "cell_type": "code",
   "execution_count": 2,
   "metadata": {},
   "outputs": [],
   "source": [
    "import matplotlib.pylab as plt\n",
    "%matplotlib inline"
   ]
  },
  {
   "cell_type": "markdown",
   "metadata": {},
   "source": [
    "Создадим функцию для считывания файла и создания массива вероятностей каждой длины слова. Сначала из текста удаляются знаки препинания, а потом он делится на слова по пробельным символам. При этом сложные слова с дефисом типа \"генерал-майор\" принимаются за одно слово, как и есть по правилам русского языка."
   ]
  },
  {
   "cell_type": "code",
   "execution_count": 3,
   "metadata": {},
   "outputs": [],
   "source": [
    "def file_to_dist(filename):\n",
    "    if filename in ['./eng.txt', './news.2008.ru.shuffled']:\n",
    "        filep = codecs.open(filename, 'r', 'utf_8_sig')\n",
    "    else:\n",
    "        filep = open(filename)\n",
    "    new_doc = filep.read()\n",
    "    filep.close()\n",
    "    words = new_doc.replace(\"“\",'').replace(\"”\",'').replace(\".\",'').replace(\",\",'').replace(\";\",'').replace(\":\",'').replace(\"\\\"\",'').replace(\"?\",'').replace(\"!\",'').replace(\"0x98\",'').split()\n",
    "    lengths = []\n",
    "    max_len = 0\n",
    "    for word in words:\n",
    "        cur_len = len(word)\n",
    "        lengths.append(cur_len)\n",
    "        if cur_len > max_len:\n",
    "            max_len = cur_len\n",
    "    counts = np.zeros(max_len)\n",
    "    for i in range(0,max_len):\n",
    "        counts[i] = lengths.count(i+1)\n",
    "    return counts, lengths"
   ]
  },
  {
   "cell_type": "markdown",
   "metadata": {},
   "source": [
    "Применим эту функцию к каждому из текстов."
   ]
  },
  {
   "cell_type": "code",
   "execution_count": 4,
   "metadata": {},
   "outputs": [],
   "source": [
    "news, w_news = file_to_dist('./news.2008.ru.shuffled')  \n",
    "rus, w_rus = file_to_dist('./rus.txt')\n",
    "fra, w_fra = file_to_dist('./fra.txt')\n",
    "eng, w_eng = file_to_dist('./eng.txt')"
   ]
  },
  {
   "cell_type": "markdown",
   "metadata": {},
   "source": [
    "### Часть первая\n",
    "Оценим параметры распеределений по методу наибольшего правдоподобия.\n",
    "Для этого определим соответствующую функцию и максимизируем ее с помощью производной.\n",
    "\n",
    "$\\mathrm{log}L(\\lambda)=\\sum\\limits_{i=0}^{\\infty} k_i \\mathrm{log} p_i(\\lambda) = N\\sum\\limits_{i=0}^{\\infty} \\hat{p}_i (-\\lambda +i\\mathrm{log}\\lambda -\\mathrm{log} i!)$\n",
    "\n",
    "Отбросим постоянный множитель $N$ и, продифференцировав, получим условие максимума:\n",
    "\n",
    "$\\sum\\limits_{i=0}^{\\infty} \\hat{p}_i (\\dfrac{i}{\\lambda} - 1) = \\sum\\limits_{i=0}^{\\infty} \\dfrac{i\\hat{p}_i}{\\lambda} - 1 = 0$\n",
    "\n",
    "Откуда $\\lambda = \\sum\\limits_{i=0}^{\\infty} i\\hat{p}_i$"
   ]
  },
  {
   "cell_type": "code",
   "execution_count": 5,
   "metadata": {},
   "outputs": [
    {
     "data": {
      "text/plain": [
       "(6.127607946569107, 4.837898143659642, 4.393594379348224, 5.027213568931914)"
      ]
     },
     "execution_count": 5,
     "metadata": {},
     "output_type": "execute_result"
    }
   ],
   "source": [
    "la_ml_news = np.sum(news*(np.array(range(0,len(news)))+1))/np.sum(news)\n",
    "la_ml_rus = np.sum(rus*(np.array(range(0,len(rus)))+1))/np.sum(rus)\n",
    "la_ml_eng = np.sum(eng*(np.array(range(0,len(eng)))+1))/np.sum(eng)\n",
    "la_ml_fra = np.sum(fra*(np.array(range(0,len(fra)))+1))/np.sum(fra)\n",
    "la_ml_news, la_ml_rus, la_ml_eng, la_ml_fra"
   ]
  },
  {
   "cell_type": "markdown",
   "metadata": {},
   "source": [
    "Возникает предположение: параметр распределения Пуассона (он равен средней длине слова) для новостей больше, чем для художественного текста; в английском языке он меньше, чем в русском и во французском; а вот между русским и французским языками разница незначительна --- возможно, гипотеза о совпадении данных параметров не будет отвергнута."
   ]
  },
  {
   "cell_type": "markdown",
   "metadata": {},
   "source": [
    "### Часть вторая\n",
    "\n",
    "Проверка гипотез \n",
    "\n",
    "$H_0$: $\\lambda_{news} = \\lambda_{rus}$ против односторонней альтернативы $H_1$: $\\lambda_{news} > \\lambda_{rus}$\n",
    "\n",
    "$H_0$: $\\lambda_{fra} = \\lambda_{rus}$ против двусторонней альтернативы $H_1$: $\\lambda_{fra} \\not= \\lambda_{rus}$\n",
    "\n",
    "$H_0$: $\\lambda_{eng} = \\lambda_{rus}$ против двусторонней альтернативы $H_1$: $\\lambda_{eng} \\not= \\lambda_{rus}$\n",
    "\n",
    "Альтернатива в первом случае односторонняя, потому что знак неравенства можно предсказать из общих соображений: в новостях значительно больше составных слов, терминов и т. п..\n",
    "\n",
    "Для проверки будем использовать критерий $\\chi$-квадрат, потому что это стандартный метод проверки соответствия действительного распределения ожидаемому."
   ]
  },
  {
   "cell_type": "markdown",
   "metadata": {},
   "source": [
    "Найдем первый ноль в распределениях; считать будем только до него."
   ]
  },
  {
   "cell_type": "code",
   "execution_count": 6,
   "metadata": {},
   "outputs": [
    {
     "data": {
      "text/plain": [
       "(29, 25, 25, 22)"
      ]
     },
     "execution_count": 6,
     "metadata": {},
     "output_type": "execute_result"
    }
   ],
   "source": [
    "n_news = len(news)\n",
    "for i in range(0,len(news)):\n",
    "    if news[i] == 0:\n",
    "        n_news = i\n",
    "        break\n",
    "n_rus = len(rus)\n",
    "for i in range(0,len(rus)):\n",
    "    if rus[i] == 0:\n",
    "        n_rus = i\n",
    "        break\n",
    "n_eng = len(eng)\n",
    "for i in range(0,len(eng)):\n",
    "    if eng[i] == 0:\n",
    "        n_eng = i\n",
    "        break\n",
    "n_fra = len(fra)\n",
    "for i in range(0,len(fra)):\n",
    "    if fra[i] == 0:\n",
    "        n_fra = i\n",
    "        break\n",
    "n_news, n_rus, n_eng, n_fra"
   ]
  },
  {
   "cell_type": "markdown",
   "metadata": {},
   "source": [
    "Русская \"Анна Каренина\" и новости"
   ]
  },
  {
   "cell_type": "code",
   "execution_count": 7,
   "metadata": {},
   "outputs": [
    {
     "data": {
      "text/plain": [
       "Power_divergenceResult(statistic=41594.53039019087, pvalue=0.0)"
      ]
     },
     "execution_count": 7,
     "metadata": {},
     "output_type": "execute_result"
    }
   ],
   "source": [
    "st.chisquare(rus[:n_rus], news[:n_rus]/np.sum(news[:n_rus])*np.sum(rus[:n_rus]))"
   ]
  },
  {
   "cell_type": "markdown",
   "metadata": {},
   "source": [
    "Русский и французский тексты"
   ]
  },
  {
   "cell_type": "code",
   "execution_count": 8,
   "metadata": {},
   "outputs": [
    {
     "data": {
      "text/plain": [
       "Power_divergenceResult(statistic=26392.32547503147, pvalue=0.0)"
      ]
     },
     "execution_count": 8,
     "metadata": {},
     "output_type": "execute_result"
    }
   ],
   "source": [
    "st.chisquare(fra[:n_fra], rus[:n_fra]/np.sum(rus[:n_fra])*np.sum(fra[:n_fra]))"
   ]
  },
  {
   "cell_type": "markdown",
   "metadata": {},
   "source": [
    "Русский и английский тексты"
   ]
  },
  {
   "cell_type": "code",
   "execution_count": 9,
   "metadata": {},
   "outputs": [
    {
     "data": {
      "text/plain": [
       "Power_divergenceResult(statistic=128808.44710994551, pvalue=0.0)"
      ]
     },
     "execution_count": 9,
     "metadata": {},
     "output_type": "execute_result"
    }
   ],
   "source": [
    "st.chisquare(eng[:n_eng], rus[:n_eng]/np.sum(rus[:n_eng])*np.sum(eng[:n_eng]))"
   ]
  },
  {
   "cell_type": "markdown",
   "metadata": {},
   "source": [
    "Получили, что $\\chi$-квадрат критерий во всех случаях отвергает гипотезу о равенстве распределений. Что неудивительно, учитывая огромное количество слов и относительно малое количество классов: даже малое отклонение вероятности приводит к значительному увеличению статистики. "
   ]
  },
  {
   "cell_type": "markdown",
   "metadata": {},
   "source": [
    "То есть, все гипотезы о равенстве распределений отвергнуты. Но этому результату, по указанной выше причине, доверять нельзя."
   ]
  },
  {
   "cell_type": "markdown",
   "metadata": {},
   "source": [
    "## Часть третья\n",
    "\n",
    "Другой способ: проверка равенства распределений по критерию Колмогорова-Смирнова. Его применение уже не зависит от количества слов, а только от доли слов каждой длины."
   ]
  },
  {
   "cell_type": "markdown",
   "metadata": {},
   "source": [
    "Русская \"Анна Каренина\" и новости"
   ]
  },
  {
   "cell_type": "code",
   "execution_count": 10,
   "metadata": {},
   "outputs": [
    {
     "data": {
      "text/plain": [
       "Ks_2sampResult(statistic=0.2636409994900561, pvalue=0.08005497778507562)"
      ]
     },
     "execution_count": 10,
     "metadata": {},
     "output_type": "execute_result"
    }
   ],
   "source": [
    "st.ks_2samp(rus/rus.sum(), news/news.sum())"
   ]
  },
  {
   "cell_type": "markdown",
   "metadata": {},
   "source": [
    "Русский и английский тексты"
   ]
  },
  {
   "cell_type": "code",
   "execution_count": 11,
   "metadata": {},
   "outputs": [
    {
     "data": {
      "text/plain": [
       "Ks_2sampResult(statistic=0.27135135135135136, pvalue=0.18695226951336133)"
      ]
     },
     "execution_count": 11,
     "metadata": {},
     "output_type": "execute_result"
    }
   ],
   "source": [
    "st.ks_2samp(rus/rus.sum(), eng/eng.sum())"
   ]
  },
  {
   "cell_type": "markdown",
   "metadata": {},
   "source": [
    "Русский и французский тексты"
   ]
  },
  {
   "cell_type": "code",
   "execution_count": 12,
   "metadata": {},
   "outputs": [
    {
     "data": {
      "text/plain": [
       "Ks_2sampResult(statistic=0.24790307548928242, pvalue=0.23331949097837165)"
      ]
     },
     "execution_count": 12,
     "metadata": {},
     "output_type": "execute_result"
    }
   ],
   "source": [
    "st.ks_2samp(rus/rus.sum(), fra/fra.sum())"
   ]
  },
  {
   "cell_type": "markdown",
   "metadata": {},
   "source": [
    "Английский и французский тексты"
   ]
  },
  {
   "cell_type": "code",
   "execution_count": 13,
   "metadata": {},
   "outputs": [
    {
     "data": {
      "text/plain": [
       "Ks_2sampResult(statistic=0.1613793103448276, pvalue=0.8430803096070419)"
      ]
     },
     "execution_count": 13,
     "metadata": {},
     "output_type": "execute_result"
    }
   ],
   "source": [
    "st.ks_2samp(eng/eng.sum(), fra/fra.sum())"
   ]
  },
  {
   "cell_type": "markdown",
   "metadata": {},
   "source": [
    "Таким образом, критерий Колмогорова-Смирнова не позволяет отвергнуть гипотезы о равенстве распределений."
   ]
  },
  {
   "cell_type": "markdown",
   "metadata": {},
   "source": [
    "## Часть четвертая\n",
    "\n",
    "Возникло желание проверить соответствие распределению Пуассона."
   ]
  },
  {
   "cell_type": "markdown",
   "metadata": {},
   "source": [
    "Построим гистограммы для наших распределений и сравним распределение с пуассоновским при помощи критерия Колмогорова-Смирнова."
   ]
  },
  {
   "cell_type": "code",
   "execution_count": 14,
   "metadata": {},
   "outputs": [],
   "source": [
    "from scipy.stats import poisson as P"
   ]
  },
  {
   "cell_type": "markdown",
   "metadata": {},
   "source": [
    "Новости на русском языке"
   ]
  },
  {
   "cell_type": "code",
   "execution_count": 15,
   "metadata": {},
   "outputs": [
    {
     "data": {
      "text/plain": [
       "Ks_2sampResult(statistic=0.39622641509433965, pvalue=0.0003063174696923859)"
      ]
     },
     "execution_count": 15,
     "metadata": {},
     "output_type": "execute_result"
    }
   ],
   "source": [
    "teor = P.pmf(np.array(range(0,len(news))),la_ml_news)\n",
    "st.ks_2samp(news/news.sum(),teor)"
   ]
  },
  {
   "cell_type": "code",
   "execution_count": 16,
   "metadata": {},
   "outputs": [
    {
     "data": {
      "text/plain": [
       "(array([39.,  2.,  1.,  1.,  0.,  1.,  2.,  3.,  0.,  4.]),\n",
       " array([0.        , 0.01120211, 0.02240422, 0.03360633, 0.04480844,\n",
       "        0.05601055, 0.06721266, 0.07841477, 0.08961688, 0.10081899,\n",
       "        0.1120211 ]),\n",
       " <a list of 10 Patch objects>)"
      ]
     },
     "execution_count": 16,
     "metadata": {},
     "output_type": "execute_result"
    },
    {
     "data": {
      "image/png": "[encoded data removed]",
      "text/plain": [
       "<Figure size 432x288 with 1 Axes>"
      ]
     },
     "metadata": {},
     "output_type": "display_data"
    }
   ],
   "source": [
    "plt.hist(news/news.sum())"
   ]
  },
  {
   "cell_type": "markdown",
   "metadata": {},
   "source": [
    "Русский текст \"Анны Карениной\""
   ]
  },
  {
   "cell_type": "code",
   "execution_count": 17,
   "metadata": {},
   "outputs": [
    {
     "data": {
      "text/plain": [
       "Ks_2sampResult(statistic=0.3243243243243243, pvalue=0.031221390390705664)"
      ]
     },
     "execution_count": 17,
     "metadata": {},
     "output_type": "execute_result"
    }
   ],
   "source": [
    "teor = P.pmf(np.array(range(0,len(rus))),la_ml_rus)\n",
    "st.ks_2samp(rus/rus.sum(),teor)"
   ]
  },
  {
   "cell_type": "code",
   "execution_count": 18,
   "metadata": {},
   "outputs": [
    {
     "data": {
      "text/plain": [
       "(array([26.,  1.,  1.,  1.,  1.,  1.,  1.,  2.,  2.,  1.]),\n",
       " array([0.        , 0.01488708, 0.02977416, 0.04466124, 0.05954832,\n",
       "        0.0744354 , 0.08932248, 0.10420956, 0.11909664, 0.13398372,\n",
       "        0.1488708 ]),\n",
       " <a list of 10 Patch objects>)"
      ]
     },
     "execution_count": 18,
     "metadata": {},
     "output_type": "execute_result"
    },
    {
     "data": {
      "image/png": "[encoded data removed]",
      "text/plain": [
       "<Figure size 432x288 with 1 Axes>"
      ]
     },
     "metadata": {},
     "output_type": "display_data"
    }
   ],
   "source": [
    "plt.hist(rus/rus.sum())"
   ]
  },
  {
   "cell_type": "markdown",
   "metadata": {},
   "source": [
    "Французский перевод"
   ]
  },
  {
   "cell_type": "code",
   "execution_count": 19,
   "metadata": {},
   "outputs": [
    {
     "data": {
      "text/plain": [
       "Ks_2sampResult(statistic=0.27586206896551724, pvalue=0.1844295421178442)"
      ]
     },
     "execution_count": 19,
     "metadata": {},
     "output_type": "execute_result"
    }
   ],
   "source": [
    "teor = P.pmf(np.array(range(0,len(fra))),la_ml_fra)\n",
    "st.ks_2samp(fra/fra.sum(),teor)"
   ]
  },
  {
   "cell_type": "code",
   "execution_count": 20,
   "metadata": {},
   "outputs": [
    {
     "data": {
      "text/plain": [
       "(array([19.,  2.,  2.,  1.,  2.,  2.,  0.,  0.,  0.,  1.]),\n",
       " array([0.        , 0.02277999, 0.04555998, 0.06833996, 0.09111995,\n",
       "        0.11389994, 0.13667993, 0.15945992, 0.1822399 , 0.20501989,\n",
       "        0.22779988]),\n",
       " <a list of 10 Patch objects>)"
      ]
     },
     "execution_count": 20,
     "metadata": {},
     "output_type": "execute_result"
    },
    {
     "data": {
      "image/png": "[encoded data removed]",
      "text/plain": [
       "<Figure size 432x288 with 1 Axes>"
      ]
     },
     "metadata": {},
     "output_type": "display_data"
    }
   ],
   "source": [
    "plt.hist(fra/fra.sum())"
   ]
  },
  {
   "cell_type": "markdown",
   "metadata": {},
   "source": [
    "Английский перевод"
   ]
  },
  {
   "cell_type": "code",
   "execution_count": 21,
   "metadata": {},
   "outputs": [
    {
     "data": {
      "text/plain": [
       "Ks_2sampResult(statistic=0.28, pvalue=0.237010099316509)"
      ]
     },
     "execution_count": 21,
     "metadata": {},
     "output_type": "execute_result"
    }
   ],
   "source": [
    "teor = P.pmf(np.array(range(0,len(eng))),la_ml_eng)\n",
    "st.ks_2samp(eng/eng.sum(),teor)"
   ]
  },
  {
   "cell_type": "code",
   "execution_count": 22,
   "metadata": {},
   "outputs": [
    {
     "data": {
      "text/plain": [
       "(array([16.,  3.,  2.,  0.,  1.,  0.,  2.,  0.,  0.,  1.]),\n",
       " array([2.86067375e-06, 2.61216702e-02, 5.22404797e-02, 7.83592892e-02,\n",
       "        1.04478099e-01, 1.30596908e-01, 1.56715718e-01, 1.82834527e-01,\n",
       "        2.08953337e-01, 2.35072146e-01, 2.61190956e-01]),\n",
       " <a list of 10 Patch objects>)"
      ]
     },
     "execution_count": 22,
     "metadata": {},
     "output_type": "execute_result"
    },
    {
     "data": {
      "image/png": "[encoded data removed]",
      "text/plain": [
       "<Figure size 432x288 with 1 Axes>"
      ]
     },
     "metadata": {},
     "output_type": "display_data"
    }
   ],
   "source": [
    "plt.hist(eng/eng.sum())"
   ]
  },
  {
   "cell_type": "markdown",
   "metadata": {},
   "source": [
    "Результаты оказались неожиданными. Гистограммы не очень похожи на распределение Пуассона. \n",
    "\n",
    "Для текстов на английском и французском языках гипотеза принята на уровне значимости 0.05. А вот для обоих текстов на русском языке она отвергнута на уровне значимости 0.05. То есть, длины слов не подчиняются распределению Пуассона с параметром, найденным методом наибольшего правдоподобия!"
   ]
  },
  {
   "cell_type": "markdown",
   "metadata": {},
   "source": [
    "## Часть пятая\n",
    "\n",
    "Найдем интервальные оценки для параметров распределений с помощью бутспрепа."
   ]
  },
  {
   "cell_type": "markdown",
   "metadata": {},
   "source": [
    "Случайно перемешиваем выборки длин и берем лишь относительно небольшое число элементов, достаточное для семплирования, так как при случайном выборе распределение подвыборки (в пределе) соответствует распределению выборки."
   ]
  },
  {
   "cell_type": "code",
   "execution_count": 23,
   "metadata": {},
   "outputs": [],
   "source": [
    "from arch.bootstrap import IIDBootstrap\n",
    "from random import shuffle"
   ]
  },
  {
   "cell_type": "markdown",
   "metadata": {},
   "source": [
    "Поскольку для распределения Пуассона параметр равен математическому ожиданию, будем использовать среднее значение.\n",
    "\n",
    "Доверительные интервалы для русского текста в зависимости от количества взятых слов:"
   ]
  },
  {
   "cell_type": "code",
   "execution_count": 24,
   "metadata": {},
   "outputs": [
    {
     "name": "stdout",
     "output_type": "stream",
     "text": [
      "[[4.80900858]\n",
      " [4.87718619]]\n"
     ]
    },
    {
     "data": {
      "image/png": "[encoded data removed]",
      "text/plain": [
       "<Figure size 432x288 with 1 Axes>"
      ]
     },
     "metadata": {},
     "output_type": "display_data"
    }
   ],
   "source": [
    "for N in [1000, 3000, 5000, 10000, 15000, 20000, 30000]:\n",
    "    shuffle(w_rus)\n",
    "    bs = IIDBootstrap(np.array(w_rus[:N]))\n",
    "    ci = bs.conf_int(np.mean, 5000, size=0.95, method='bca')\n",
    "    plt.plot([N,N], ci, lw=3)\n",
    "print(ci)"
   ]
  },
  {
   "cell_type": "markdown",
   "metadata": {},
   "source": [
    "Полученная ранее точечная оценка $\\lambda_{rus} = 4.84$ попадает во все найденные интервалы."
   ]
  },
  {
   "cell_type": "markdown",
   "metadata": {},
   "source": [
    "Доверительные интервалы для английского текста в зависимости от количества взятых слов:"
   ]
  },
  {
   "cell_type": "code",
   "execution_count": 25,
   "metadata": {},
   "outputs": [
    {
     "name": "stdout",
     "output_type": "stream",
     "text": [
      "[[4.36773333]\n",
      " [4.42234046]]\n"
     ]
    },
    {
     "data": {
      "image/png": "[encoded data removed]",
      "text/plain": [
       "<Figure size 432x288 with 1 Axes>"
      ]
     },
     "metadata": {},
     "output_type": "display_data"
    }
   ],
   "source": [
    "for N in [1000, 3000, 5000, 10000, 15000, 20000, 30000]:\n",
    "    shuffle(w_eng)\n",
    "    bs = IIDBootstrap(np.array(w_eng[:N]))\n",
    "    ci = bs.conf_int(np.mean, 5000, size=0.95, method='bca')\n",
    "    plt.plot([N,N], ci, lw=3)\n",
    "print(ci)"
   ]
  },
  {
   "cell_type": "markdown",
   "metadata": {},
   "source": [
    "Полученная ранее точечная оценка $\\lambda_{eng} = 4.39$ попадает во все найденные интервалы."
   ]
  },
  {
   "cell_type": "markdown",
   "metadata": {},
   "source": [
    "Доверительные интервалы для французского текста в зависимости от количества взятых слов:"
   ]
  },
  {
   "cell_type": "code",
   "execution_count": 26,
   "metadata": {},
   "outputs": [
    {
     "name": "stdout",
     "output_type": "stream",
     "text": [
      "[[4.98930405]\n",
      " [5.05686667]]\n"
     ]
    },
    {
     "data": {
      "image/png": "[encoded data removed]",
      "text/plain": [
       "<Figure size 432x288 with 1 Axes>"
      ]
     },
     "metadata": {},
     "output_type": "display_data"
    }
   ],
   "source": [
    "for N in [1000, 3000, 5000, 10000, 15000, 20000, 30000]:\n",
    "    shuffle(w_fra)\n",
    "    bs = IIDBootstrap(np.array(w_fra[:N]))\n",
    "    ci = bs.conf_int(np.mean, 5000, size=0.95, method='bca')\n",
    "    plt.plot([N,N], ci, lw=3)\n",
    "print(ci)"
   ]
  },
  {
   "cell_type": "markdown",
   "metadata": {},
   "source": [
    "Полученная ранее точечная оценка $\\lambda_{fra} = 5.02$ попадает во все найденные интервалы."
   ]
  },
  {
   "cell_type": "markdown",
   "metadata": {},
   "source": [
    "Доверительные интервалы для новостей в зависимости от количества взятых слов:"
   ]
  },
  {
   "cell_type": "code",
   "execution_count": 27,
   "metadata": {},
   "outputs": [
    {
     "name": "stdout",
     "output_type": "stream",
     "text": [
      "[[6.06868713]\n",
      " [6.14973169]]\n"
     ]
    },
    {
     "data": {
      "image/png": "[encoded data removed]",
      "text/plain": [
       "<Figure size 432x288 with 1 Axes>"
      ]
     },
     "metadata": {},
     "output_type": "display_data"
    }
   ],
   "source": [
    "for N in [1000, 3000, 5000, 10000, 15000, 20000, 30000]:\n",
    "    shuffle(w_news)\n",
    "    bs = IIDBootstrap(np.array(w_news[:N]))\n",
    "    ci = bs.conf_int(np.mean, 5000, size=0.95, method='bca')\n",
    "    plt.plot([N,N], ci, lw=3)\n",
    "print(ci)"
   ]
  },
  {
   "cell_type": "markdown",
   "metadata": {},
   "source": [
    "Полученная ранее точечная оценка $\\lambda_{news} = 6.13$ попадает во все найденные интервалы."
   ]
  },
  {
   "cell_type": "markdown",
   "metadata": {},
   "source": [
    "Несложно заметить, что 95% доверительные интервалы для разных текстов не пересекаются."
   ]
  },
  {
   "cell_type": "markdown",
   "metadata": {},
   "source": [
    "# Выводы\n",
    "\n",
    "1. Выяснено, что критерий хи-квадрат не дает адекватного результата на рассмотренных текстах. С помощью критерия Колмогорова-Смирнова на уровне значимости 0.05 гипотеза одинакового распределения длин не отвергнута как для текстов на разных языках, так и для разных жанров на русском языке.\n",
    "\n",
    "2. Получены точечные оценки методом наибольшего правдоподобия для параметра $\\lambda$ в предположении, что длины слов подчиняются распределению Пуассона: 4.84 для русского художественного текста, 4.39 --- для английского, 5.02 --- для французского и 6.13 для новостей.\n",
    "\n",
    "3. Получены 95% доверительные интервалы для этих оценок: соответственно, [4.81, 4.88], [4.37, 4.42], [4.99, 5.06], [6.07, 6.15] (в том же порядке). Интервалы не пересекаются, поэтому на данном уровне доверия можно утверждать, что параметры различны.\n",
    "\n",
    "4. Таким образом, можно сделать вывод: все полученные распределения отличаются параметром, который равен средней длине слова. В целом, полученные значения согласуются с найденными в теоретических источниках: в русском языке 4.9 символов на слово и 5.9 --- в газетах (5.13 в среднем). В английском языке 4.24 символа на слово, во французском --- 5 символов на слово."
   ]
  }
 ],
 "metadata": {
  "kernelspec": {
   "display_name": "Python 3",
   "language": "python",
   "name": "python3"
  },
  "language_info": {
   "codemirror_mode": {
    "name": "ipython",
    "version": 3
   },
   "file_extension": ".py",
   "mimetype": "text/x-python",
   "name": "python",
   "nbconvert_exporter": "python",
   "pygments_lexer": "ipython3",
   "version": "3.6.5"
  }
 },
 "nbformat": 4,
 "nbformat_minor": 2
}
