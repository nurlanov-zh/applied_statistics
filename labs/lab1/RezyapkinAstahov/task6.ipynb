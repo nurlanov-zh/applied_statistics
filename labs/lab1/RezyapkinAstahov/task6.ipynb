{
 "cells": [
  {
   "cell_type": "markdown",
   "metadata": {},
   "source": [
    "# По следам модельного эксперимента\n",
    "\n",
    "$n=20, \\quad m=200, \\quad m_0=150$,\n",
    "\n",
    "$\\mathbf{X}_i \\sim \\mathcal{N}(0, 1), \\quad i=1,\\dots,m_0;$\n",
    "\n",
    "$\\mathbf{X}_i \\sim \\mathcal{N}(1, 1), \\quad i=m_0+1,\\dots,m;$\n",
    "\n",
    "$\\mathbf{X}_i \\in \\mathbb{R}^n.$\n",
    "\n",
    "**Гипотезы:**\n",
    "\n",
    "$H^i_0: \\mathsf{E}\\mathbf{X}_i = 0$;\n",
    "\n",
    "$H^i_1: \\mathsf{E}\\mathbf{X}_i \\neq 0$;\n",
    "\n",
    "Пусть $R$ - количество отвергнутых гипотез, а $V$ - количество неверно отвергнутых гипотез\n",
    "\n",
    "Тогда $FDR \\approx {{V} \\over {max(R,1)}}$ "
   ]
  },
  {
   "cell_type": "code",
   "execution_count": 1,
   "metadata": {},
   "outputs": [],
   "source": [
    "import numpy as np\n",
    "import matplotlib.pylab as plt\n",
    "%matplotlib inline\n",
    "import scipy.stats as st\n",
    "import seaborn as sns\n",
    "import pandas as pd\n",
    "from statsmodels.stats.weightstats import ttest_ind\n",
    "from statsmodels.stats.multitest import multipletests\n",
    "from numpy.polynomial.polynomial import polyfit\n"
   ]
  },
  {
   "cell_type": "markdown",
   "metadata": {},
   "source": [
    "### Функция, считающая $FDR$"
   ]
  },
  {
   "cell_type": "code",
   "execution_count": 6,
   "metadata": {},
   "outputs": [],
   "source": [
    "m = 200\n",
    "m0 = 150\n",
    "n = 20\n",
    "alpha=0.05\n",
    "\n",
    "# def FDR(TP, FN, FP, TN):\n",
    "#     V = FN\n",
    "#     R = FN + TN\n",
    "#     FDR = V / (max(R, 1))\n",
    "#     return FDR\n",
    "\n",
    "def get_FDR(m=m, m0=m0, n=n, alpha=alpha, method=None):\n",
    "\n",
    "    rs = np.random.RandomState(68)\n",
    "\n",
    "    X = rs.randn(m,n)\n",
    "    X[m0:]+=1\n",
    "    \n",
    "    p_values = [st.ttest_1samp(x, 0)[1] for x in X]\n",
    "    if method:\n",
    "        rejections = multipletests(p_values, method=method, alpha=alpha)[0]\n",
    "    else: \n",
    "        rejections = multipletests(p_values, alpha=alpha)[0]\n",
    "        \n",
    "    FN = sum(rejections[:m0])\n",
    "    TP = m0 - FN\n",
    "    TN = sum(rejections[m0:])\n",
    "    FP = m - m0 - TN\n",
    "    \n",
    "    V = FN\n",
    "    R = FN + TN\n",
    "    FDR = V / (max(R, 1))\n",
    "    \n",
    "    print('{:.2}'.format(FDR), TP, FP, TN, FN)\n",
    "    \n",
    "    return FDR"
   ]
  },
  {
   "cell_type": "markdown",
   "metadata": {},
   "source": [
    "### Зависимость $FDR$ от $m$"
   ]
  },
  {
   "cell_type": "code",
   "execution_count": 7,
   "metadata": {
    "scrolled": false
   },
   "outputs": [
    {
     "name": "stdout",
     "output_type": "stream",
     "text": [
      "FDR TP FP TN FN\n",
      "0.042 148 4 46 2\n",
      "0.028 446 13 137 4\n",
      "0.033 742 18 232 8\n",
      "0.03 2228 47 703 22\n",
      "0.035 3708 78 1172 42\n",
      "0.034 5191 96 1654 59\n",
      "0.038 6667 121 2129 83\n",
      "0.04 8144 179 2571 106\n",
      "0.038 9628 190 3060 122\n",
      "0.04 11101 193 3557 149\n",
      "0.039 12587 224 4026 163\n",
      "0.039 14067 274 4476 183\n",
      "0.039 14810 284 4716 190\n",
      "0.037 29642 555 9445 358\n",
      "0.036 44469 852 14148 531\n",
      "0.036 59290 1120 18880 710\n"
     ]
    },
    {
     "data": {
      "image/png": "[encoded data removed]",
      "text/plain": [
       "<Figure size 432x288 with 1 Axes>"
      ]
     },
     "metadata": {},
     "output_type": "display_data"
    }
   ],
   "source": [
    "ms = list(np.arange(200, 1000, 400)) + list(np.arange(1000, 20000, 2000)) + list(np.arange(20000, 100000, 20000))\n",
    "print('FDR TP FP TN FN')\n",
    "FDRS_m = [get_FDR(m=m, m0 = int(3*m/4), method = 'fdr_bh') for m in ms]\n",
    "\n",
    "plt.plot(ms, [0.05]*len(ms))\n",
    "plt.plot(ms, FDRS_m, 'o-')\n",
    "\n",
    "plt.title('FDR(m), m0 = int(3*m/4), alpha = 0.05')\n",
    "plt.ylabel('FDR')\n",
    "plt.xlabel('m')\n",
    "plt.show()"
   ]
  },
  {
   "cell_type": "code",
   "execution_count": 16,
   "metadata": {},
   "outputs": [
    {
     "data": {
      "text/plain": [
       "0.037388688698843285"
      ]
     },
     "execution_count": 16,
     "metadata": {},
     "output_type": "execute_result"
    }
   ],
   "source": [
    "np.mean(FDRS_m[-5:])"
   ]
  },
  {
   "cell_type": "markdown",
   "metadata": {},
   "source": [
    "*Вывод*: Зависимость $FDR$ от $m$ не наблюдается. Возможно, имеется сходимость к некоторому значению, но это не точно.\n",
    "А именно, к $m_0 / m * \\alpha = 3/4*0.05=0.0375$"
   ]
  },
  {
   "cell_type": "markdown",
   "metadata": {},
   "source": [
    "### Зависимость $FDR$ от $m_0$"
   ]
  },
  {
   "cell_type": "code",
   "execution_count": 8,
   "metadata": {},
   "outputs": [
    {
     "name": "stdout",
     "output_type": "stream",
     "text": [
      "FDR TP FP TN FN\n",
      "0.00051 95 126 9774 5\n",
      "0.0028 595 127 9252 26\n",
      "0.0054 1095 125 8733 47\n",
      "0.0082 1595 128 8209 68\n",
      "0.011 2096 125 7691 88\n",
      "0.014 2603 131 7164 102\n",
      "0.017 3114 134 6640 112\n",
      "0.019 3629 135 6118 118\n",
      "0.021 4148 139 5593 120\n",
      "0.023 4671 143 5068 118\n",
      "0.026 5189 138 4552 121\n",
      "0.028 5717 140 4029 114\n",
      "0.031 6239 145 3503 113\n",
      "0.033 6771 147 2980 102\n",
      "0.039 7294 148 2458 100\n",
      "0.042 7831 148 1937 84\n",
      "0.039 8379 144 1420 57\n",
      "0.04 8919 131 912 38\n",
      "0.051 9455 92 430 23\n",
      "0.0 10000 0 0 0\n"
     ]
    },
    {
     "data": {
      "image/png": "[encoded data removed]",
      "text/plain": [
       "<Figure size 432x288 with 1 Axes>"
      ]
     },
     "metadata": {},
     "output_type": "display_data"
    }
   ],
   "source": [
    "m0s = np.linspace(100, 10000, 20)\n",
    "print('FDR TP FP TN FN')\n",
    "FDRS_m0 = [get_FDR(m=10000, m0=int(m0), method = 'fdr_bh') for m0 in m0s]\n",
    "\n",
    "plt.plot(m0s, [0.05]*len(m0s))\n",
    "plt.plot(m0s, FDRS_m0, '.')\n",
    "\n",
    "# Fit with polyfit\n",
    "b, k = polyfit(m0s[:-1], FDRS_m0[:-1], 1)\n",
    "plt.plot(m0s, b+k * m0s, '-', label='y={:.2f}+{:.2}x'.format(b,k))\n",
    "\n",
    "plt.ylabel('FDR')\n",
    "plt.xlabel('m0')\n",
    "plt.title('FDR(m0), m=10000, alpha = 0.05')\n",
    "plt.legend()\n",
    "plt.show()"
   ]
  },
  {
   "cell_type": "markdown",
   "metadata": {},
   "source": [
    "Последняя точка внизу - случай, когда $m=m0=10000$. То есть нет неверных нулевых гипотез. Все значения $p-{value}$ получаются высокими и ни одна гипотеза не отвергается, поэтому $V=R=0$"
   ]
  },
  {
   "cell_type": "code",
   "execution_count": 9,
   "metadata": {},
   "outputs": [
    {
     "data": {
      "text/plain": [
       "(0.7285067148851128, 0.0002698542674862204)"
      ]
     },
     "execution_count": 9,
     "metadata": {},
     "output_type": "execute_result"
    }
   ],
   "source": [
    "import scipy.stats as st\n",
    "st.pearsonr(m0s, FDRS_m0)"
   ]
  },
  {
   "cell_type": "code",
   "execution_count": 10,
   "metadata": {},
   "outputs": [
    {
     "data": {
      "text/plain": [
       "(0.9920342429629458, 9.725027323548167e-17)"
      ]
     },
     "execution_count": 10,
     "metadata": {},
     "output_type": "execute_result"
    }
   ],
   "source": [
    "st.pearsonr(m0s[:-1], FDRS_m0[:-1]) # без выбросов"
   ]
  },
  {
   "cell_type": "markdown",
   "metadata": {},
   "source": [
    "*Вывод*: Наблюдается линейная зависимость $FDR$ от $m_0$. Гипотеза об отсутствии корреляции уверенно отвергается"
   ]
  },
  {
   "cell_type": "markdown",
   "metadata": {},
   "source": [
    "### Зависимость $FDR$ от $alpha$"
   ]
  },
  {
   "cell_type": "code",
   "execution_count": 11,
   "metadata": {},
   "outputs": [
    {
     "name": "stdout",
     "output_type": "stream",
     "text": [
      "FDR TP FP TN FN\n",
      "0.0011 7499 1551 949 1\n",
      "0.011 7477 475 2025 23\n",
      "0.016 7464 291 2209 36\n",
      "0.024 7444 213 2287 56\n",
      "0.034 7419 169 2331 81\n",
      "0.042 7397 140 2360 103\n",
      "0.048 7380 114 2386 120\n",
      "0.055 7359 96 2404 141\n",
      "0.064 7334 82 2418 166\n",
      "0.074 7307 71 2429 193\n",
      "0.082 7283 60 2440 217\n",
      "0.09 7257 53 2447 243\n",
      "0.1 7226 47 2453 274\n",
      "0.11 7201 38 2462 299\n",
      "0.12 7170 36 2464 330\n",
      "0.12 7151 31 2469 349\n",
      "0.13 7130 28 2472 370\n",
      "0.14 7098 25 2475 402\n",
      "0.15 7057 22 2478 443\n",
      "0.16 7029 19 2481 471\n"
     ]
    },
    {
     "data": {
      "image/png": "[encoded data removed]",
      "text/plain": [
       "<Figure size 432x288 with 1 Axes>"
      ]
     },
     "metadata": {},
     "output_type": "display_data"
    }
   ],
   "source": [
    "alphas = np.linspace(0.001, 0.2, 20)\n",
    "print('FDR TP FP TN FN')\n",
    "FDRS_alpha = [get_FDR(m=10000, m0=7500, method = 'fdr_bh', alpha=alpha) for alpha in alphas]\n",
    "\n",
    "plt.plot(alphas, alphas, label='y=x')\n",
    "plt.plot(alphas, FDRS_alpha, '.')\n",
    "\n",
    "# Fit with polyfit\n",
    "b, k = polyfit(alphas[:-1], FDRS_alpha[:-1], 1)\n",
    "plt.plot(alphas, b+k * alphas, '-', label='y={:.2f}+{:.2}x'.format(b,k))\n",
    "\n",
    "plt.xlabel('aplha')\n",
    "plt.ylabel('FDR')\n",
    "plt.title('FDR(alpha), m=10000, m0=7500')\n",
    "plt.legend()\n",
    "plt.show()"
   ]
  },
  {
   "cell_type": "code",
   "execution_count": 12,
   "metadata": {},
   "outputs": [
    {
     "data": {
      "text/plain": [
       "(0.999434271816521, 5.625106253413389e-28)"
      ]
     },
     "execution_count": 12,
     "metadata": {},
     "output_type": "execute_result"
    }
   ],
   "source": [
    "st.pearsonr(alphas, FDRS_alpha)"
   ]
  },
  {
   "cell_type": "markdown",
   "metadata": {},
   "source": [
    "*Вывод*: Аналогично предыдущему пункту, наблюдается линейная зависимость $FDR$ от $alpha$. Гипотеза об отсутствии корреляции уверенно отвергается. Результаты согласуются с теорией."
   ]
  },
  {
   "cell_type": "code",
   "execution_count": null,
   "metadata": {},
   "outputs": [],
   "source": []
  }
 ],
 "metadata": {
  "kernelspec": {
   "display_name": "Python 3",
   "language": "python",
   "name": "python3"
  },
  "language_info": {
   "codemirror_mode": {
    "name": "ipython",
    "version": 3
   },
   "file_extension": ".py",
   "mimetype": "text/x-python",
   "name": "python",
   "nbconvert_exporter": "python",
   "pygments_lexer": "ipython3",
   "version": "3.6.5"
  }
 },
 "nbformat": 4,
 "nbformat_minor": 2
}
