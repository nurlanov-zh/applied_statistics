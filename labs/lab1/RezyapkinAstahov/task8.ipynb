{
 "cells": [
  {
   "cell_type": "code",
   "execution_count": 1,
   "metadata": {},
   "outputs": [],
   "source": [
    "import os\n",
    "our_names = sorted(os.listdir(os.getcwd()))[6:8]  + sorted(os.listdir(os.getcwd()))[9:11]"
   ]
  },
  {
   "cell_type": "code",
   "execution_count": 2,
   "metadata": {
    "scrolled": true
   },
   "outputs": [
    {
     "data": {
      "text/plain": [
       "['en_ru_gold.txt', 'en_ru_n.txt', 'en_ru_p.txt', 'en_ru_z.txt']"
      ]
     },
     "execution_count": 2,
     "metadata": {},
     "output_type": "execute_result"
    }
   ],
   "source": [
    "our_names"
   ]
  },
  {
   "cell_type": "code",
   "execution_count": 40,
   "metadata": {},
   "outputs": [],
   "source": [
    "from nltk.tokenize import sent_tokenize, word_tokenize\n",
    "import numpy as np\n",
    "import re\n",
    "from nltk.corpus import stopwords\n",
    "\n",
    "stopWords = set(stopwords.words('russian'))\n",
    "\n",
    "f_real = open(our_names[0])\n",
    "real = re.sub('[^a-zа-яё\\n]', ' ', f_real.read().lower()).split('\\n')\n",
    "sents_real = [word_tokenize(sent_real) for sent_real in real]\n",
    "\n",
    "all_tran = []\n",
    "for i in range(1, 4):\n",
    "    f_not_real = open(our_names[i])\n",
    "    not_real = re.sub('[^a-zа-яё\\n]', ' ', f_not_real.read().lower()).split('\\n')\n",
    "    sents_not_real = [word_tokenize(sent_not_real) for sent_not_real in not_real]\n",
    "    all_tran.append(sents_not_real)"
   ]
  },
  {
   "cell_type": "code",
   "execution_count": 41,
   "metadata": {},
   "outputs": [],
   "source": [
    "import nltk.translate.bleu_score as score\n",
    "from nltk.translate.bleu_score import sentence_bleu as bleu\n",
    "all_data = []\n",
    "for i in range(3):\n",
    "    data = []\n",
    "    for j in range(len(sents_real) - 1):\n",
    "        data.append(bleu(sents_real[j], all_tran[i][j], smoothing_function = score.SmoothingFunction().method2))\n",
    "    all_data.append(data)"
   ]
  },
  {
   "cell_type": "code",
   "execution_count": null,
   "metadata": {},
   "outputs": [],
   "source": []
  },
  {
   "cell_type": "code",
   "execution_count": 42,
   "metadata": {},
   "outputs": [
    {
     "data": {
      "text/html": [
       "<div>\n",
       "<style scoped>\n",
       "    .dataframe tbody tr th:only-of-type {\n",
       "        vertical-align: middle;\n",
       "    }\n",
       "\n",
       "    .dataframe tbody tr th {\n",
       "        vertical-align: top;\n",
       "    }\n",
       "\n",
       "    .dataframe thead th {\n",
       "        text-align: right;\n",
       "    }\n",
       "</style>\n",
       "<table border=\"1\" class=\"dataframe\">\n",
       "  <thead>\n",
       "    <tr style=\"text-align: right;\">\n",
       "      <th></th>\n",
       "      <th>N</th>\n",
       "      <th>P</th>\n",
       "      <th>Z</th>\n",
       "    </tr>\n",
       "  </thead>\n",
       "  <tbody>\n",
       "    <tr>\n",
       "      <th>0</th>\n",
       "      <td>0.113908</td>\n",
       "      <td>0.103903</td>\n",
       "      <td>0.103903</td>\n",
       "    </tr>\n",
       "    <tr>\n",
       "      <th>1</th>\n",
       "      <td>0.067924</td>\n",
       "      <td>0.065618</td>\n",
       "      <td>0.067924</td>\n",
       "    </tr>\n",
       "    <tr>\n",
       "      <th>2</th>\n",
       "      <td>0.053414</td>\n",
       "      <td>0.066542</td>\n",
       "      <td>0.056479</td>\n",
       "    </tr>\n",
       "    <tr>\n",
       "      <th>3</th>\n",
       "      <td>0.076584</td>\n",
       "      <td>0.076584</td>\n",
       "      <td>0.069089</td>\n",
       "    </tr>\n",
       "    <tr>\n",
       "      <th>4</th>\n",
       "      <td>0.051660</td>\n",
       "      <td>0.051469</td>\n",
       "      <td>0.047897</td>\n",
       "    </tr>\n",
       "    <tr>\n",
       "      <th>5</th>\n",
       "      <td>0.126060</td>\n",
       "      <td>0.126060</td>\n",
       "      <td>0.000000</td>\n",
       "    </tr>\n",
       "    <tr>\n",
       "      <th>6</th>\n",
       "      <td>0.104009</td>\n",
       "      <td>0.103903</td>\n",
       "      <td>0.103903</td>\n",
       "    </tr>\n",
       "    <tr>\n",
       "      <th>7</th>\n",
       "      <td>0.085130</td>\n",
       "      <td>0.080978</td>\n",
       "      <td>0.080978</td>\n",
       "    </tr>\n",
       "    <tr>\n",
       "      <th>8</th>\n",
       "      <td>0.000000</td>\n",
       "      <td>0.000000</td>\n",
       "      <td>0.000000</td>\n",
       "    </tr>\n",
       "    <tr>\n",
       "      <th>9</th>\n",
       "      <td>0.091035</td>\n",
       "      <td>0.103436</td>\n",
       "      <td>0.090836</td>\n",
       "    </tr>\n",
       "  </tbody>\n",
       "</table>\n",
       "</div>"
      ],
      "text/plain": [
       "          N         P         Z\n",
       "0  0.113908  0.103903  0.103903\n",
       "1  0.067924  0.065618  0.067924\n",
       "2  0.053414  0.066542  0.056479\n",
       "3  0.076584  0.076584  0.069089\n",
       "4  0.051660  0.051469  0.047897\n",
       "5  0.126060  0.126060  0.000000\n",
       "6  0.104009  0.103903  0.103903\n",
       "7  0.085130  0.080978  0.080978\n",
       "8  0.000000  0.000000  0.000000\n",
       "9  0.091035  0.103436  0.090836"
      ]
     },
     "execution_count": 42,
     "metadata": {},
     "output_type": "execute_result"
    }
   ],
   "source": [
    "import pandas as pd\n",
    "res_tran = pd.DataFrame(np.array(all_data).T, columns=['N', 'P', 'Z'])\n",
    "res_tran"
   ]
  },
  {
   "cell_type": "code",
   "execution_count": 43,
   "metadata": {
    "scrolled": false
   },
   "outputs": [
    {
     "data": {
      "text/plain": [
       "N    0.076972\n",
       "P    0.077849\n",
       "Z    0.062101\n",
       "dtype: float64"
      ]
     },
     "execution_count": 43,
     "metadata": {},
     "output_type": "execute_result"
    }
   ],
   "source": [
    "res_tran.mean()"
   ]
  },
  {
   "cell_type": "markdown",
   "metadata": {},
   "source": [
    "Критерий Краскела — Уоллиса для независимых переводов"
   ]
  },
  {
   "cell_type": "code",
   "execution_count": 58,
   "metadata": {
    "scrolled": false
   },
   "outputs": [
    {
     "name": "stdout",
     "output_type": "stream",
     "text": [
      "p-value 0.5883\n"
     ]
    }
   ],
   "source": [
    "import scipy.stats as st\n",
    "print('p-value', round(st.kruskal(res_tran['N'].values, res_tran['P'].values,res_tran['Z'].values)[1], 4))"
   ]
  },
  {
   "cell_type": "code",
   "execution_count": 59,
   "metadata": {},
   "outputs": [
    {
     "name": "stdout",
     "output_type": "stream",
     "text": [
      "p-value 0.8499\n"
     ]
    }
   ],
   "source": [
    "print('p-value', round(st.kruskal(res_tran['N'].values, res_tran['P'].values)[1], 4))"
   ]
  },
  {
   "cell_type": "code",
   "execution_count": 60,
   "metadata": {
    "scrolled": true
   },
   "outputs": [
    {
     "name": "stdout",
     "output_type": "stream",
     "text": [
      "p-value 0.3436\n"
     ]
    }
   ],
   "source": [
    "print('p-value', round(st.kruskal(res_tran['N'].values, res_tran['Z'].values)[1], 4))"
   ]
  },
  {
   "cell_type": "code",
   "execution_count": 61,
   "metadata": {},
   "outputs": [
    {
     "name": "stdout",
     "output_type": "stream",
     "text": [
      "p-value 0.4247\n"
     ]
    }
   ],
   "source": [
    "print('p-value', round(st.kruskal(res_tran['P'].values, res_tran['Z'].values)[1], 4))"
   ]
  },
  {
   "cell_type": "markdown",
   "metadata": {},
   "source": [
    "### Вывод:\n",
    "переводы почти не отличаются(хуже работает $Z$)"
   ]
  },
  {
   "cell_type": "code",
   "execution_count": null,
   "metadata": {},
   "outputs": [],
   "source": []
  }
 ],
 "metadata": {
  "kernelspec": {
   "display_name": "Python 3",
   "language": "python",
   "name": "python3"
  },
  "language_info": {
   "codemirror_mode": {
    "name": "ipython",
    "version": 3
   },
   "file_extension": ".py",
   "mimetype": "text/x-python",
   "name": "python",
   "nbconvert_exporter": "python",
   "pygments_lexer": "ipython3",
   "version": "3.7.0"
  }
 },
 "nbformat": 4,
 "nbformat_minor": 2
}
