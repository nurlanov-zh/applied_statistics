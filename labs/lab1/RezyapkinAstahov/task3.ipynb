{
 "cells": [
  {
   "cell_type": "code",
   "execution_count": 1,
   "metadata": {
    "scrolled": true
   },
   "outputs": [],
   "source": [
    "import pandas as pd\n",
    "import numpy as np\n",
    "df = pd.read_csv('nba.csv')"
   ]
  },
  {
   "cell_type": "markdown",
   "metadata": {},
   "source": [
    "Выборка представляет собой статистику бросков для различных игроков NBA. Для каждого игрока известны:\n",
    "\n",
    "* количество успешных бросков в домашних играх (score_home)\n",
    "* количество бросков в домашних играх (atm_home)\n",
    "* количество успешных бросков в гостевых играх (score_away)\n",
    "* количество бросков в гостевых играх (atm_away)\n",
    "\n",
    "Требуется определить, есть ли разница в успехе бросков у игроков в домашних и гостевых играх.\n"
   ]
  },
  {
   "cell_type": "markdown",
   "metadata": {},
   "source": [
    "Наши данные выгдядят следующим образом:"
   ]
  },
  {
   "cell_type": "code",
   "execution_count": 2,
   "metadata": {
    "scrolled": true
   },
   "outputs": [
    {
     "data": {
      "text/html": [
       "<div>\n",
       "<style scoped>\n",
       "    .dataframe tbody tr th:only-of-type {\n",
       "        vertical-align: middle;\n",
       "    }\n",
       "\n",
       "    .dataframe tbody tr th {\n",
       "        vertical-align: top;\n",
       "    }\n",
       "\n",
       "    .dataframe thead th {\n",
       "        text-align: right;\n",
       "    }\n",
       "</style>\n",
       "<table border=\"1\" class=\"dataframe\">\n",
       "  <thead>\n",
       "    <tr style=\"text-align: right;\">\n",
       "      <th></th>\n",
       "      <th>Unnamed: 0</th>\n",
       "      <th>player</th>\n",
       "      <th>team</th>\n",
       "      <th>atm_away</th>\n",
       "      <th>atm_home</th>\n",
       "      <th>score_away</th>\n",
       "      <th>score_home</th>\n",
       "      <th>atm_total</th>\n",
       "      <th>score_total</th>\n",
       "    </tr>\n",
       "  </thead>\n",
       "  <tbody>\n",
       "    <tr>\n",
       "      <th>0</th>\n",
       "      <td>7</td>\n",
       "      <td>A. Johnson</td>\n",
       "      <td>ATL</td>\n",
       "      <td>30</td>\n",
       "      <td>34</td>\n",
       "      <td>24</td>\n",
       "      <td>28</td>\n",
       "      <td>64</td>\n",
       "      <td>52</td>\n",
       "    </tr>\n",
       "    <tr>\n",
       "      <th>1</th>\n",
       "      <td>10</td>\n",
       "      <td>A. Johnson</td>\n",
       "      <td>TOR</td>\n",
       "      <td>63</td>\n",
       "      <td>57</td>\n",
       "      <td>44</td>\n",
       "      <td>38</td>\n",
       "      <td>120</td>\n",
       "      <td>82</td>\n",
       "    </tr>\n",
       "    <tr>\n",
       "      <th>2</th>\n",
       "      <td>15</td>\n",
       "      <td>Abdur-Rahim</td>\n",
       "      <td>SAC</td>\n",
       "      <td>114</td>\n",
       "      <td>124</td>\n",
       "      <td>84</td>\n",
       "      <td>90</td>\n",
       "      <td>238</td>\n",
       "      <td>174</td>\n",
       "    </tr>\n",
       "    <tr>\n",
       "      <th>3</th>\n",
       "      <td>22</td>\n",
       "      <td>Afflalo</td>\n",
       "      <td>DEN</td>\n",
       "      <td>236</td>\n",
       "      <td>284</td>\n",
       "      <td>189</td>\n",
       "      <td>227</td>\n",
       "      <td>520</td>\n",
       "      <td>416</td>\n",
       "    </tr>\n",
       "    <tr>\n",
       "      <th>4</th>\n",
       "      <td>23</td>\n",
       "      <td>Afflalo</td>\n",
       "      <td>DET</td>\n",
       "      <td>75</td>\n",
       "      <td>88</td>\n",
       "      <td>62</td>\n",
       "      <td>67</td>\n",
       "      <td>163</td>\n",
       "      <td>129</td>\n",
       "    </tr>\n",
       "  </tbody>\n",
       "</table>\n",
       "</div>"
      ],
      "text/plain": [
       "   Unnamed: 0       player team  atm_away  atm_home  score_away  score_home  \\\n",
       "0           7   A. Johnson  ATL        30        34          24          28   \n",
       "1          10   A. Johnson  TOR        63        57          44          38   \n",
       "2          15  Abdur-Rahim  SAC       114       124          84          90   \n",
       "3          22      Afflalo  DEN       236       284         189         227   \n",
       "4          23      Afflalo  DET        75        88          62          67   \n",
       "\n",
       "   atm_total  score_total  \n",
       "0         64           52  \n",
       "1        120           82  \n",
       "2        238          174  \n",
       "3        520          416  \n",
       "4        163          129  "
      ]
     },
     "execution_count": 2,
     "metadata": {},
     "output_type": "execute_result"
    }
   ],
   "source": [
    "df.head()"
   ]
  },
  {
   "cell_type": "code",
   "execution_count": 3,
   "metadata": {
    "scrolled": true
   },
   "outputs": [
    {
     "data": {
      "text/plain": [
       "(936, 9)"
      ]
     },
     "execution_count": 3,
     "metadata": {},
     "output_type": "execute_result"
    }
   ],
   "source": [
    "df.shape"
   ]
  },
  {
   "cell_type": "markdown",
   "metadata": {},
   "source": [
    "Всего команд:"
   ]
  },
  {
   "cell_type": "code",
   "execution_count": 4,
   "metadata": {
    "scrolled": true
   },
   "outputs": [
    {
     "data": {
      "text/plain": [
       "32"
      ]
     },
     "execution_count": 4,
     "metadata": {},
     "output_type": "execute_result"
    }
   ],
   "source": [
    "df['team'].unique().size"
   ]
  },
  {
   "cell_type": "markdown",
   "metadata": {},
   "source": [
    "Кол-во игроков в каждой из команд:"
   ]
  },
  {
   "cell_type": "code",
   "execution_count": 23,
   "metadata": {},
   "outputs": [
    {
     "data": {
      "text/plain": [
       "team\n",
       "ATL    29\n",
       "BOS    29\n",
       "CHA    36\n",
       "CHI    29\n",
       "CLE    31\n",
       "DAL    27\n",
       "DEN    30\n",
       "DET    27\n",
       "GSW    34\n",
       "HOU    28\n",
       "IND    35\n",
       "LAC    38\n",
       "LAL    22\n",
       "MEM    30\n",
       "MIA    29\n",
       "MIL    37\n",
       "MIN    36\n",
       "NJN    39\n",
       "NOH    34\n",
       "NOK    11\n",
       "NYK    33\n",
       "OKC    16\n",
       "ORL    28\n",
       "PHI    21\n",
       "PHX    30\n",
       "POR    30\n",
       "SAC    32\n",
       "SAS    27\n",
       "SEA    13\n",
       "TOR    35\n",
       "UTA    27\n",
       "WAS    33\n",
       "dtype: int64"
      ]
     },
     "execution_count": 23,
     "metadata": {},
     "output_type": "execute_result"
    }
   ],
   "source": [
    "df.groupby(['team']).size()"
   ]
  },
  {
   "cell_type": "markdown",
   "metadata": {},
   "source": [
    "### Обработка данных:"
   ]
  },
  {
   "cell_type": "code",
   "execution_count": 5,
   "metadata": {},
   "outputs": [],
   "source": [
    "compare = pd.DataFrame([])\n",
    "compare['res_away'] = df['score_away'] / df['atm_away']  \n",
    "compare['res_home'] = df['score_home'] / df['atm_home']  "
   ]
  },
  {
   "cell_type": "code",
   "execution_count": 6,
   "metadata": {},
   "outputs": [
    {
     "data": {
      "text/html": [
       "<div>\n",
       "<style scoped>\n",
       "    .dataframe tbody tr th:only-of-type {\n",
       "        vertical-align: middle;\n",
       "    }\n",
       "\n",
       "    .dataframe tbody tr th {\n",
       "        vertical-align: top;\n",
       "    }\n",
       "\n",
       "    .dataframe thead th {\n",
       "        text-align: right;\n",
       "    }\n",
       "</style>\n",
       "<table border=\"1\" class=\"dataframe\">\n",
       "  <thead>\n",
       "    <tr style=\"text-align: right;\">\n",
       "      <th></th>\n",
       "      <th>res_away</th>\n",
       "      <th>res_home</th>\n",
       "    </tr>\n",
       "  </thead>\n",
       "  <tbody>\n",
       "    <tr>\n",
       "      <th>0</th>\n",
       "      <td>0.800000</td>\n",
       "      <td>0.823529</td>\n",
       "    </tr>\n",
       "    <tr>\n",
       "      <th>1</th>\n",
       "      <td>0.698413</td>\n",
       "      <td>0.666667</td>\n",
       "    </tr>\n",
       "    <tr>\n",
       "      <th>2</th>\n",
       "      <td>0.736842</td>\n",
       "      <td>0.725806</td>\n",
       "    </tr>\n",
       "    <tr>\n",
       "      <th>3</th>\n",
       "      <td>0.800847</td>\n",
       "      <td>0.799296</td>\n",
       "    </tr>\n",
       "    <tr>\n",
       "      <th>4</th>\n",
       "      <td>0.826667</td>\n",
       "      <td>0.761364</td>\n",
       "    </tr>\n",
       "  </tbody>\n",
       "</table>\n",
       "</div>"
      ],
      "text/plain": [
       "   res_away  res_home\n",
       "0  0.800000  0.823529\n",
       "1  0.698413  0.666667\n",
       "2  0.736842  0.725806\n",
       "3  0.800847  0.799296\n",
       "4  0.826667  0.761364"
      ]
     },
     "execution_count": 6,
     "metadata": {},
     "output_type": "execute_result"
    }
   ],
   "source": [
    "compare.head()"
   ]
  },
  {
   "cell_type": "markdown",
   "metadata": {},
   "source": [
    "Рассмотрим пока игроков, которые и дома и в гостях бросали больше 150 бросков:"
   ]
  },
  {
   "cell_type": "code",
   "execution_count": 58,
   "metadata": {},
   "outputs": [],
   "source": [
    "index = (df['atm_away'] > 150) & (df['atm_home'] > 150)\n",
    "part_df = df[index] \n",
    "part_compare = pd.DataFrame([])\n",
    "part_compare['res_away'] = part_df['score_away'] / part_df['atm_away']  \n",
    "part_compare['res_home'] = part_df['score_home'] / part_df['atm_home']  "
   ]
  },
  {
   "cell_type": "markdown",
   "metadata": {},
   "source": [
    "Кол-во баскетболистов:"
   ]
  },
  {
   "cell_type": "code",
   "execution_count": 49,
   "metadata": {},
   "outputs": [
    {
     "data": {
      "text/plain": [
       "307"
      ]
     },
     "execution_count": 49,
     "metadata": {},
     "output_type": "execute_result"
    }
   ],
   "source": [
    "index.sum()"
   ]
  },
  {
   "cell_type": "code",
   "execution_count": 50,
   "metadata": {
    "scrolled": false
   },
   "outputs": [
    {
     "data": {
      "image/png": "[encoded data removed]",
      "text/plain": [
       "<Figure size 432x288 with 1 Axes>"
      ]
     },
     "metadata": {
      "needs_background": "light"
     },
     "output_type": "display_data"
    }
   ],
   "source": [
    "import matplotlib.pyplot as plt\n",
    "\n",
    "plt.scatter(compare['res_home'], compare['res_away'], c=1-index, alpha=0.8)\n",
    "#plt.scatter(part_compare['res_home'], part_compare['res_away'])\n",
    "plt.xlabel('res_home', fontsize=15)\n",
    "plt.ylabel('res_away', fontsize=15)\n",
    "plt.plot([min(part_compare['res_home']), max(part_compare['res_home'])], [min(part_compare['res_away']), max(part_compare['res_away'])], 'r')\n",
    "plt.show()"
   ]
  },
  {
   "cell_type": "markdown",
   "metadata": {},
   "source": [
    "### Вывод: \n",
    "дисперсия part_compare меньше"
   ]
  },
  {
   "cell_type": "code",
   "execution_count": 51,
   "metadata": {},
   "outputs": [],
   "source": [
    "diff = (part_compare['res_away'] - part_compare['res_home'])"
   ]
  },
  {
   "cell_type": "markdown",
   "metadata": {},
   "source": [
    "### Сравним разность результатов с нормальным распределением:"
   ]
  },
  {
   "cell_type": "code",
   "execution_count": 52,
   "metadata": {
    "scrolled": false
   },
   "outputs": [
    {
     "name": "stderr",
     "output_type": "stream",
     "text": [
      "/home/anton/anaconda3/lib/python3.7/site-packages/scipy/stats/stats.py:1713: FutureWarning: Using a non-tuple sequence for multidimensional indexing is deprecated; use `arr[tuple(seq)]` instead of `arr[seq]`. In the future this will be interpreted as an array index, `arr[np.array(seq)]`, which will result either in an error or a different result.\n",
      "  return np.add.reduce(sorted[indexer] * weights, axis=axis) / sumval\n"
     ]
    },
    {
     "data": {
      "image/png": "[encoded data removed]",
      "text/plain": [
       "<Figure size 432x288 with 1 Axes>"
      ]
     },
     "metadata": {
      "needs_background": "light"
     },
     "output_type": "display_data"
    }
   ],
   "source": [
    "import seaborn as sns\n",
    "import scipy.stats as st\n",
    "\n",
    "sns.distplot(diff, hist=False, label='Empirical distribution')\n",
    "x = np.arange(diff.min() - 0.01, diff.max() + 0.01, 0.0001)\n",
    "plt.plot(x, st.distributions.norm(diff.mean(), diff.std()).pdf(x), label='Gaussian distributiion')\n",
    "plt.legend()\n",
    "plt.show()"
   ]
  },
  {
   "cell_type": "markdown",
   "metadata": {},
   "source": [
    "Q-Q plot"
   ]
  },
  {
   "cell_type": "code",
   "execution_count": 53,
   "metadata": {
    "scrolled": true
   },
   "outputs": [
    {
     "data": {
      "image/png": "[encoded data removed]",
      "text/plain": [
       "<Figure size 432x288 with 1 Axes>"
      ]
     },
     "metadata": {
      "needs_background": "light"
     },
     "output_type": "display_data"
    }
   ],
   "source": [
    "st.probplot(diff, plot=plt)\n",
    "plt.show()"
   ]
  },
  {
   "cell_type": "markdown",
   "metadata": {},
   "source": [
    "Посмотрим на параметры нашего распределения:"
   ]
  },
  {
   "cell_type": "code",
   "execution_count": 54,
   "metadata": {
    "scrolled": true
   },
   "outputs": [
    {
     "data": {
      "text/plain": [
       "count    307.000000\n",
       "mean       0.000468\n",
       "std        0.035401\n",
       "min       -0.109626\n",
       "25%       -0.021379\n",
       "50%       -0.001364\n",
       "75%        0.022333\n",
       "max        0.101748\n",
       "dtype: float64"
      ]
     },
     "execution_count": 54,
     "metadata": {},
     "output_type": "execute_result"
    }
   ],
   "source": [
    "diff.describe()"
   ]
  },
  {
   "cell_type": "markdown",
   "metadata": {},
   "source": [
    "### Применим критерии"
   ]
  },
  {
   "cell_type": "markdown",
   "metadata": {},
   "source": [
    "Критерий Колмогорова:"
   ]
  },
  {
   "cell_type": "code",
   "execution_count": 55,
   "metadata": {},
   "outputs": [
    {
     "name": "stdout",
     "output_type": "stream",
     "text": [
      "p-value 0.2\n"
     ]
    }
   ],
   "source": [
    "from statsmodels.stats.diagnostic import kstest_normal\n",
    "print('p-value', round(kstest_normal(diff, dist='norm', pvalmethod='approx')[1], 4))"
   ]
  },
  {
   "cell_type": "markdown",
   "metadata": {},
   "source": [
    "Критерий Шапиро-Уилка:"
   ]
  },
  {
   "cell_type": "code",
   "execution_count": 56,
   "metadata": {
    "scrolled": true
   },
   "outputs": [
    {
     "name": "stdout",
     "output_type": "stream",
     "text": [
      "p-value 0.6109\n"
     ]
    }
   ],
   "source": [
    "print('p-value', round(st.shapiro(diff)[1], 4))"
   ]
  },
  {
   "cell_type": "markdown",
   "metadata": {},
   "source": [
    "Критерий Харке-Бера:"
   ]
  },
  {
   "cell_type": "code",
   "execution_count": 57,
   "metadata": {},
   "outputs": [
    {
     "name": "stdout",
     "output_type": "stream",
     "text": [
      "p-value 0.4803\n"
     ]
    }
   ],
   "source": [
    "print('p-value', round(st.jarque_bera(diff)[1], 4))"
   ]
  },
  {
   "cell_type": "markdown",
   "metadata": {},
   "source": [
    "### Вывод:\n",
    "нормальность наблюдается"
   ]
  },
  {
   "cell_type": "markdown",
   "metadata": {},
   "source": [
    "Используем критерий Стьюдента для связанных выборок"
   ]
  },
  {
   "cell_type": "code",
   "execution_count": 61,
   "metadata": {
    "scrolled": true
   },
   "outputs": [
    {
     "name": "stdout",
     "output_type": "stream",
     "text": [
      "p-value 0.8169\n"
     ]
    }
   ],
   "source": [
    "print('p-value', round(st.ttest_rel(part_compare['res_away'], part_compare['res_home'])[1], 4))"
   ]
  },
  {
   "cell_type": "markdown",
   "metadata": {},
   "source": [
    "### Вывод:\n",
    "нулевую гипотезу о равенстве качества бросков дома и в гостях мы не отклоняем"
   ]
  },
  {
   "cell_type": "code",
   "execution_count": null,
   "metadata": {},
   "outputs": [],
   "source": []
  }
 ],
 "metadata": {
  "kernelspec": {
   "display_name": "Python 3",
   "language": "python",
   "name": "python3"
  },
  "language_info": {
   "codemirror_mode": {
    "name": "ipython",
    "version": 3
   },
   "file_extension": ".py",
   "mimetype": "text/x-python",
   "name": "python",
   "nbconvert_exporter": "python",
   "pygments_lexer": "ipython3",
   "version": "3.7.0"
  }
 },
 "nbformat": 4,
 "nbformat_minor": 2
}
